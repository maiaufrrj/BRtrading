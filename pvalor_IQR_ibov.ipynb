{
  "nbformat": 4,
  "nbformat_minor": 0,
  "metadata": {
    "colab": {
      "name": "pvalor_IQR_ibov.ipynb",
      "provenance": [],
      "collapsed_sections": [],
      "authorship_tag": "ABX9TyOFKVKJC7HrJ/d2nkgkDwu5",
      "include_colab_link": true
    },
    "kernelspec": {
      "name": "python3",
      "display_name": "Python 3"
    },
    "language_info": {
      "name": "python"
    }
  },
  "cells": [
    {
      "cell_type": "markdown",
      "metadata": {
        "id": "view-in-github",
        "colab_type": "text"
      },
      "source": [
        "<a href=\"https://colab.research.google.com/github/maiaufrrj/BRtrading/blob/main/pvalor_IQR_ibov.ipynb\" target=\"_parent\"><img src=\"https://colab.research.google.com/assets/colab-badge.svg\" alt=\"Open In Colab\"/></a>"
      ]
    },
    {
      "cell_type": "code",
      "metadata": {
        "id": "j3h8osWgcQFO"
      },
      "source": [
        "#!pip install yfinance\n",
        "#!pip install networkx\n",
        "#!pip install plotly\n",
        "#!pip install pickle5 \n",
        "#!pip install fbprophet"
      ],
      "execution_count": null,
      "outputs": []
    },
    {
      "cell_type": "code",
      "metadata": {
        "id": "z6knZUhbcc8l"
      },
      "source": [
        "import pandas as pd\n",
        "import numpy as np\n",
        "import matplotlib.pyplot as plt\n",
        "import seaborn as sns\n",
        "import networkx as nx\n",
        "import plotly.graph_objs as go\n",
        "from plotly.graph_objs import *\n",
        "from plotly.offline import download_plotlyjs, init_notebook_mode, plot, iplot\n",
        "from IPython.core.display import display, HTML"
      ],
      "execution_count": 3,
      "outputs": []
    },
    {
      "cell_type": "code",
      "metadata": {
        "id": "UKhqMC2tcc5w"
      },
      "source": [
        "lista_ibov = pd.read_csv('https://raw.githubusercontent.com/maiaufrrj/BRtrading/main/lista_ibov.csv')['lista_ibov']\n",
        "\n",
        "lista_acoes=[]\n",
        "for i in range(len(lista_ibov)):\n",
        "  lista_acoes.append(lista_ibov[i]+'.SA')\n",
        "lista_ibov = list(lista_acoes)\n",
        "del lista_acoes"
      ],
      "execution_count": 5,
      "outputs": []
    },
    {
      "cell_type": "code",
      "metadata": {
        "id": "VBwctSeDcc_9"
      },
      "source": [
        "import pickle5 as pickle\n",
        "\n",
        "with open('df_teste.pkl', 'rb') as f:\n",
        "  df = pickle.load(f)\n",
        "\n",
        "#df = df_teste.dropna(axis='columns', thresh=200)"
      ],
      "execution_count": 45,
      "outputs": []
    },
    {
      "cell_type": "code",
      "metadata": {
        "colab": {
          "base_uri": "https://localhost:8080/"
        },
        "id": "HZWVAPa-hfJx",
        "outputId": "3a3b14d7-6630-44a1-f01f-362feb02bf3a"
      },
      "source": [
        "len(lista_ibov)"
      ],
      "execution_count": 55,
      "outputs": [
        {
          "output_type": "execute_result",
          "data": {
            "text/plain": [
              "91"
            ]
          },
          "metadata": {},
          "execution_count": 55
        }
      ]
    },
    {
      "cell_type": "code",
      "metadata": {
        "id": "Drpp_PaMcdB_"
      },
      "source": [
        "lista_pvalor=[]\n",
        "#Teste de Dickey Fuller Aumentado - Verificando Estacionariedade\n",
        "from statsmodels.tsa.stattools import adfuller\n",
        "for acao in lista_ibov:\n",
        "  try:\n",
        "    X = df[acao].values\n",
        "    result = adfuller(X)[1]\n",
        "    #print(f'{acao} p-value: %f' % result)\n",
        "    lista_pvalor.append(result)\n",
        "  except:  \n",
        "    pass #ignorando erros e seguindo no loop"
      ],
      "execution_count": 129,
      "outputs": []
    },
    {
      "cell_type": "code",
      "metadata": {
        "id": "_QbSG4T7d9lV"
      },
      "source": [
        "lista_iqr=[]\n",
        "\n",
        "from scipy.stats import iqr\n",
        "from fbprophet.diagnostics import cross_validation, performance_metrics\n",
        "from fbprophet import Prophet\n",
        "\n",
        "#Dividindo dataset\n",
        "for acao in lista_ibov:\n",
        "  try:\n",
        "    ativo=pd.DataFrame(df[acao]).reset_index()\n",
        "    half_rows=ativo.shape[0]/2\n",
        "    ativo.dropna(thresh=half_rows)\n",
        "    train_size = int(0.90 * len(ativo))\n",
        "    test_size = len(ativo) - train_size\n",
        "\n",
        "    univariate_df = ativo[['Date', acao]].copy()\n",
        "    univariate_df.columns = ['ds', 'y']\n",
        "\n",
        "    train = univariate_df.iloc[:train_size, :]\n",
        "\n",
        "    x_train, y_train = pd.DataFrame(univariate_df.iloc[:train_size, 0]), pd.DataFrame(univariate_df.iloc[:train_size, 1])\n",
        "    x_valid, y_valid = pd.DataFrame(univariate_df.iloc[train_size:, 0]), pd.DataFrame(univariate_df.iloc[train_size:, 1])\n",
        "\n",
        "    #instanciando e treinando modelo\n",
        "    model = Prophet(changepoint_prior_scale= 0.01, seasonality_prior_scale= 1.0, weekly_seasonality=True) #hiperparâmetros ajustados\n",
        "    model.fit(train)\n",
        "    future = model.make_future_dataframe(periods=360, freq='d')\n",
        "\n",
        "    # Conjunto de Previsão\n",
        "    y_pred = model.predict(future)\n",
        "    initial=str(int(ativo.shape[0]*0.7)) + ' days'\n",
        "    period=str((ativo.shape[0]*0.8)//4) + ' days'\n",
        "    horizon=str((ativo.shape[0]*0.8)//12) + ' days'\n",
        "    df_cv = cross_validation(model, initial=initial, period=period, horizon = horizon)\n",
        "    relatorio_cv = performance_metrics(df_cv)\n",
        "    \n",
        "    intervalo_interquartil = iqr(relatorio_cv['mape'])\n",
        "    lista_iqr.append([acao, intervalo_interquartil])\n",
        "  except:\n",
        "    pass"
      ],
      "execution_count": null,
      "outputs": []
    },
    {
      "cell_type": "code",
      "metadata": {
        "id": "eA8Xwordd9si"
      },
      "source": [
        "#lista_iqr"
      ],
      "execution_count": null,
      "outputs": []
    },
    {
      "cell_type": "code",
      "metadata": {
        "id": "b8LD_1U4d9u1"
      },
      "source": [
        "lista_acao_iqr=[]\n",
        "for i in range(len(lista_iqr)):\n",
        "   lista_acao_iqr.append(lista_iqr[i][0])"
      ],
      "execution_count": 95,
      "outputs": []
    },
    {
      "cell_type": "code",
      "metadata": {
        "id": "r_7o8a6kuGW-"
      },
      "source": [
        "lista_valores_iqr=[]\n",
        "for i in range(len(lista_iqr)):\n",
        "   lista_valores_iqr.append(lista_iqr[i][1])"
      ],
      "execution_count": 97,
      "outputs": []
    },
    {
      "cell_type": "code",
      "metadata": {
        "id": "YFNgpn6Zd9xA"
      },
      "source": [
        "lista1=[]\n",
        "for i in range(len(lista_pvalor)):\n",
        "   lista1.append(list([lista_ibov[i], lista_pvalor[i]]))"
      ],
      "execution_count": 143,
      "outputs": []
    },
    {
      "cell_type": "code",
      "metadata": {
        "colab": {
          "base_uri": "https://localhost:8080/",
          "height": 235
        },
        "id": "O8OqmkESvTtX",
        "outputId": "e5e6c6da-0301-44de-d315-e40a3d7d62bc"
      },
      "source": [
        "df_pvalor = pd.DataFrame(lista1)\n",
        "df_pvalor['Ação']=df_pvalor[0]\n",
        "df_pvalor['p-valor']=df_pvalor[1]\n",
        "df_pvalor.drop(columns=[0, 1], inplace=True)\n",
        "df_pvalor.set_index(keys='Ação', inplace=True)\n",
        "df_pvalor.head()"
      ],
      "execution_count": 179,
      "outputs": [
        {
          "output_type": "execute_result",
          "data": {
            "text/html": [
              "<div>\n",
              "<style scoped>\n",
              "    .dataframe tbody tr th:only-of-type {\n",
              "        vertical-align: middle;\n",
              "    }\n",
              "\n",
              "    .dataframe tbody tr th {\n",
              "        vertical-align: top;\n",
              "    }\n",
              "\n",
              "    .dataframe thead th {\n",
              "        text-align: right;\n",
              "    }\n",
              "</style>\n",
              "<table border=\"1\" class=\"dataframe\">\n",
              "  <thead>\n",
              "    <tr style=\"text-align: right;\">\n",
              "      <th></th>\n",
              "      <th>p-valor</th>\n",
              "    </tr>\n",
              "    <tr>\n",
              "      <th>Ação</th>\n",
              "      <th></th>\n",
              "    </tr>\n",
              "  </thead>\n",
              "  <tbody>\n",
              "    <tr>\n",
              "      <th>ALPA4.SA</th>\n",
              "      <td>0.666042</td>\n",
              "    </tr>\n",
              "    <tr>\n",
              "      <th>ABEV3.SA</th>\n",
              "      <td>0.268614</td>\n",
              "    </tr>\n",
              "    <tr>\n",
              "      <th>AMER3.SA</th>\n",
              "      <td>0.766190</td>\n",
              "    </tr>\n",
              "    <tr>\n",
              "      <th>ASAI3.SA</th>\n",
              "      <td>0.069981</td>\n",
              "    </tr>\n",
              "    <tr>\n",
              "      <th>AZUL4.SA</th>\n",
              "      <td>0.965578</td>\n",
              "    </tr>\n",
              "  </tbody>\n",
              "</table>\n",
              "</div>"
            ],
            "text/plain": [
              "           p-valor\n",
              "Ação              \n",
              "ALPA4.SA  0.666042\n",
              "ABEV3.SA  0.268614\n",
              "AMER3.SA  0.766190\n",
              "ASAI3.SA  0.069981\n",
              "AZUL4.SA  0.965578"
            ]
          },
          "metadata": {},
          "execution_count": 179
        }
      ]
    },
    {
      "cell_type": "code",
      "metadata": {
        "colab": {
          "base_uri": "https://localhost:8080/",
          "height": 235
        },
        "id": "HLPOwECgtx9B",
        "outputId": "f99c5566-20ae-4ed8-93ba-b3f476e5cd3f"
      },
      "source": [
        "df_iqr = pd.DataFrame(lista_iqr)\n",
        "df_iqr['Ação']=df_iqr[0]\n",
        "df_iqr['IQR_metrica']=df_iqr[1]\n",
        "df_iqr.drop(columns=[0, 1], inplace=True)\n",
        "df_iqr.set_index(keys='Ação', inplace=True)\n",
        "df_iqr.head()"
      ],
      "execution_count": 180,
      "outputs": [
        {
          "output_type": "execute_result",
          "data": {
            "text/html": [
              "<div>\n",
              "<style scoped>\n",
              "    .dataframe tbody tr th:only-of-type {\n",
              "        vertical-align: middle;\n",
              "    }\n",
              "\n",
              "    .dataframe tbody tr th {\n",
              "        vertical-align: top;\n",
              "    }\n",
              "\n",
              "    .dataframe thead th {\n",
              "        text-align: right;\n",
              "    }\n",
              "</style>\n",
              "<table border=\"1\" class=\"dataframe\">\n",
              "  <thead>\n",
              "    <tr style=\"text-align: right;\">\n",
              "      <th></th>\n",
              "      <th>IQR_metrica</th>\n",
              "    </tr>\n",
              "    <tr>\n",
              "      <th>Ação</th>\n",
              "      <th></th>\n",
              "    </tr>\n",
              "  </thead>\n",
              "  <tbody>\n",
              "    <tr>\n",
              "      <th>ALPA4.SA</th>\n",
              "      <td>0.023624</td>\n",
              "    </tr>\n",
              "    <tr>\n",
              "      <th>ABEV3.SA</th>\n",
              "      <td>0.011517</td>\n",
              "    </tr>\n",
              "    <tr>\n",
              "      <th>AMER3.SA</th>\n",
              "      <td>0.055376</td>\n",
              "    </tr>\n",
              "    <tr>\n",
              "      <th>AZUL4.SA</th>\n",
              "      <td>0.039463</td>\n",
              "    </tr>\n",
              "    <tr>\n",
              "      <th>B3SA3.SA</th>\n",
              "      <td>0.020558</td>\n",
              "    </tr>\n",
              "  </tbody>\n",
              "</table>\n",
              "</div>"
            ],
            "text/plain": [
              "          IQR_metrica\n",
              "Ação                 \n",
              "ALPA4.SA     0.023624\n",
              "ABEV3.SA     0.011517\n",
              "AMER3.SA     0.055376\n",
              "AZUL4.SA     0.039463\n",
              "B3SA3.SA     0.020558"
            ]
          },
          "metadata": {},
          "execution_count": 180
        }
      ]
    },
    {
      "cell_type": "code",
      "metadata": {
        "colab": {
          "base_uri": "https://localhost:8080/"
        },
        "id": "YeMm3V-avTwd",
        "outputId": "b858c338-93c9-4180-b07e-e6a2ad25632f"
      },
      "source": [
        "print(df_pvalor.shape[0], df_iqr.shape[0])"
      ],
      "execution_count": 181,
      "outputs": [
        {
          "output_type": "stream",
          "name": "stdout",
          "text": [
            "87 90\n"
          ]
        }
      ]
    },
    {
      "cell_type": "code",
      "metadata": {
        "colab": {
          "base_uri": "https://localhost:8080/",
          "height": 235
        },
        "id": "Sn1rR_8-0xIm",
        "outputId": "00f19bf1-2aea-4535-e9c3-dcd608d8482a"
      },
      "source": [
        "df_final = pd.concat([df_pvalor, df_iqr], axis=1, join=\"inner\")\n",
        "df_final.head()"
      ],
      "execution_count": 183,
      "outputs": [
        {
          "output_type": "execute_result",
          "data": {
            "text/html": [
              "<div>\n",
              "<style scoped>\n",
              "    .dataframe tbody tr th:only-of-type {\n",
              "        vertical-align: middle;\n",
              "    }\n",
              "\n",
              "    .dataframe tbody tr th {\n",
              "        vertical-align: top;\n",
              "    }\n",
              "\n",
              "    .dataframe thead th {\n",
              "        text-align: right;\n",
              "    }\n",
              "</style>\n",
              "<table border=\"1\" class=\"dataframe\">\n",
              "  <thead>\n",
              "    <tr style=\"text-align: right;\">\n",
              "      <th></th>\n",
              "      <th>p-valor</th>\n",
              "      <th>IQR_metrica</th>\n",
              "    </tr>\n",
              "    <tr>\n",
              "      <th>Ação</th>\n",
              "      <th></th>\n",
              "      <th></th>\n",
              "    </tr>\n",
              "  </thead>\n",
              "  <tbody>\n",
              "    <tr>\n",
              "      <th>ALPA4.SA</th>\n",
              "      <td>0.666042</td>\n",
              "      <td>0.023624</td>\n",
              "    </tr>\n",
              "    <tr>\n",
              "      <th>ABEV3.SA</th>\n",
              "      <td>0.268614</td>\n",
              "      <td>0.011517</td>\n",
              "    </tr>\n",
              "    <tr>\n",
              "      <th>AMER3.SA</th>\n",
              "      <td>0.766190</td>\n",
              "      <td>0.055376</td>\n",
              "    </tr>\n",
              "    <tr>\n",
              "      <th>AZUL4.SA</th>\n",
              "      <td>0.965578</td>\n",
              "      <td>0.039463</td>\n",
              "    </tr>\n",
              "    <tr>\n",
              "      <th>B3SA3.SA</th>\n",
              "      <td>0.418433</td>\n",
              "      <td>0.020558</td>\n",
              "    </tr>\n",
              "  </tbody>\n",
              "</table>\n",
              "</div>"
            ],
            "text/plain": [
              "           p-valor  IQR_metrica\n",
              "Ação                           \n",
              "ALPA4.SA  0.666042     0.023624\n",
              "ABEV3.SA  0.268614     0.011517\n",
              "AMER3.SA  0.766190     0.055376\n",
              "AZUL4.SA  0.965578     0.039463\n",
              "B3SA3.SA  0.418433     0.020558"
            ]
          },
          "metadata": {},
          "execution_count": 183
        }
      ]
    },
    {
      "cell_type": "code",
      "metadata": {
        "colab": {
          "base_uri": "https://localhost:8080/",
          "height": 297
        },
        "id": "lYzwLiLh3nnG",
        "outputId": "4f154b47-c12e-4d3a-9477-d05b25db34bc"
      },
      "source": [
        "import seaborn as sns\n",
        "sns.regplot(data=df_final, x=\"p-valor\", y=\"IQR_metrica\",  x_estimator=np.mean)"
      ],
      "execution_count": 192,
      "outputs": [
        {
          "output_type": "execute_result",
          "data": {
            "text/plain": [
              "<matplotlib.axes._subplots.AxesSubplot at 0x7f20b043b710>"
            ]
          },
          "metadata": {},
          "execution_count": 192
        },
        {
          "output_type": "display_data",
          "data": {
            "image/png": "[encoded data removed]",
            "text/plain": [
              "<Figure size 432x288 with 1 Axes>"
            ]
          },
          "metadata": {
            "needs_background": "light"
          }
        }
      ]
    },
    {
      "cell_type": "code",
      "metadata": {
        "colab": {
          "base_uri": "https://localhost:8080/",
          "height": 565
        },
        "id": "LejOBZGU5H2-",
        "outputId": "3e58ee9f-87b2-4660-a577-ee0beda45897"
      },
      "source": [
        "a4_dims = (11.7, 8.27)\n",
        "fig, ax1 = plt.subplots(figsize=a4_dims)\n",
        "ax1 = sns.distplot(lista_pvalor, bins=50)"
      ],
      "execution_count": 206,
      "outputs": [
        {
          "output_type": "stream",
          "name": "stderr",
          "text": [
            "/usr/local/lib/python3.7/dist-packages/seaborn/distributions.py:2619: FutureWarning:\n",
            "\n",
            "`distplot` is a deprecated function and will be removed in a future version. Please adapt your code to use either `displot` (a figure-level function with similar flexibility) or `histplot` (an axes-level function for histograms).\n",
            "\n"
          ]
        },
        {
          "output_type": "display_data",
          "data": {
            "image/png": "[encoded data removed]",
            "text/plain": [
              "<Figure size 842.4x595.44 with 1 Axes>"
            ]
          },
          "metadata": {
            "needs_background": "light"
          }
        }
      ]
    },
    {
      "cell_type": "code",
      "metadata": {
        "colab": {
          "base_uri": "https://localhost:8080/",
          "height": 565
        },
        "id": "2FDe35Tn5IBE",
        "outputId": "feb92933-847f-451f-e0b3-7f38e202ebcc"
      },
      "source": [
        "a4_dims = (11.7, 8.27)\n",
        "fig, ax2 = plt.subplots(figsize=a4_dims)\n",
        "ax2 = sns.distplot(lista_valores_iqr, bins=50)"
      ],
      "execution_count": 205,
      "outputs": [
        {
          "output_type": "stream",
          "name": "stderr",
          "text": [
            "/usr/local/lib/python3.7/dist-packages/seaborn/distributions.py:2619: FutureWarning:\n",
            "\n",
            "`distplot` is a deprecated function and will be removed in a future version. Please adapt your code to use either `displot` (a figure-level function with similar flexibility) or `histplot` (an axes-level function for histograms).\n",
            "\n"
          ]
        },
        {
          "output_type": "display_data",
          "data": {
            "image/png": "[encoded data removed]",
            "text/plain": [
              "<Figure size 842.4x595.44 with 1 Axes>"
            ]
          },
          "metadata": {
            "needs_background": "light"
          }
        }
      ]
    }
  ]
}