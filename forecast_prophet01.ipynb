{
  "nbformat": 4,
  "nbformat_minor": 0,
  "metadata": {
    "colab": {
      "name": "forecast_prophet01.ipynb",
      "provenance": [],
      "collapsed_sections": [],
      "authorship_tag": "ABX9TyOQo/swBVn8qmJLsQxKM9vc",
      "include_colab_link": true
    },
    "kernelspec": {
      "name": "python3",
      "display_name": "Python 3"
    },
    "language_info": {
      "name": "python"
    },
    "widgets": {
      "application/vnd.jupyter.widget-state+json": {
        "74ad1b2ba5454c10a7ca0fa01a25b40d": {
          "model_module": "@jupyter-widgets/controls",
          "model_name": "HBoxModel",
          "model_module_version": "1.5.0",
          "state": {
            "_view_name": "HBoxView",
            "_dom_classes": [],
            "_model_name": "HBoxModel",
            "_view_module": "@jupyter-widgets/controls",
            "_model_module_version": "1.5.0",
            "_view_count": null,
            "_view_module_version": "1.5.0",
            "box_style": "",
            "layout": "IPY_MODEL_b3ad2904c2734713991de734d3be7846",
            "_model_module": "@jupyter-widgets/controls",
            "children": [
              "IPY_MODEL_f9345548c82d42b2babdf1ed09b1dd33",
              "IPY_MODEL_309edbfc476442c5a8678cc3772a2de5",
              "IPY_MODEL_31c9e532a0b14a9bb2fd238f5f0458f2"
            ]
          }
        },
        "b3ad2904c2734713991de734d3be7846": {
          "model_module": "@jupyter-widgets/base",
          "model_name": "LayoutModel",
          "model_module_version": "1.2.0",
          "state": {
            "_view_name": "LayoutView",
            "grid_template_rows": null,
            "right": null,
            "justify_content": null,
            "_view_module": "@jupyter-widgets/base",
            "overflow": null,
            "_model_module_version": "1.2.0",
            "_view_count": null,
            "flex_flow": null,
            "width": null,
            "min_width": null,
            "border": null,
            "align_items": null,
            "bottom": null,
            "_model_module": "@jupyter-widgets/base",
            "top": null,
            "grid_column": null,
            "overflow_y": null,
            "overflow_x": null,
            "grid_auto_flow": null,
            "grid_area": null,
            "grid_template_columns": null,
            "flex": null,
            "_model_name": "LayoutModel",
            "justify_items": null,
            "grid_row": null,
            "max_height": null,
            "align_content": null,
            "visibility": null,
            "align_self": null,
            "height": null,
            "min_height": null,
            "padding": null,
            "grid_auto_rows": null,
            "grid_gap": null,
            "max_width": null,
            "order": null,
            "_view_module_version": "1.2.0",
            "grid_template_areas": null,
            "object_position": null,
            "object_fit": null,
            "grid_auto_columns": null,
            "margin": null,
            "display": null,
            "left": null
          }
        },
        "f9345548c82d42b2babdf1ed09b1dd33": {
          "model_module": "@jupyter-widgets/controls",
          "model_name": "HTMLModel",
          "model_module_version": "1.5.0",
          "state": {
            "_view_name": "HTMLView",
            "style": "IPY_MODEL_a40c894d2a034b889a3417e4a695bdfb",
            "_dom_classes": [],
            "description": "",
            "_model_name": "HTMLModel",
            "placeholder": "​",
            "_view_module": "@jupyter-widgets/controls",
            "_model_module_version": "1.5.0",
            "value": "100%",
            "_view_count": null,
            "_view_module_version": "1.5.0",
            "description_tooltip": null,
            "_model_module": "@jupyter-widgets/controls",
            "layout": "IPY_MODEL_64876daddefa43cd99d3b2801f511835"
          }
        },
        "309edbfc476442c5a8678cc3772a2de5": {
          "model_module": "@jupyter-widgets/controls",
          "model_name": "FloatProgressModel",
          "model_module_version": "1.5.0",
          "state": {
            "_view_name": "ProgressView",
            "style": "IPY_MODEL_b4cccad1958f494091aee80f6dfbfa06",
            "_dom_classes": [],
            "description": "",
            "_model_name": "FloatProgressModel",
            "bar_style": "success",
            "max": 3,
            "_view_module": "@jupyter-widgets/controls",
            "_model_module_version": "1.5.0",
            "value": 3,
            "_view_count": null,
            "_view_module_version": "1.5.0",
            "orientation": "horizontal",
            "min": 0,
            "description_tooltip": null,
            "_model_module": "@jupyter-widgets/controls",
            "layout": "IPY_MODEL_8c5ba5cb7b7b4b008f45a9e10f59768b"
          }
        },
        "31c9e532a0b14a9bb2fd238f5f0458f2": {
          "model_module": "@jupyter-widgets/controls",
          "model_name": "HTMLModel",
          "model_module_version": "1.5.0",
          "state": {
            "_view_name": "HTMLView",
            "style": "IPY_MODEL_4652a696d44e490dbd617aeefbe02b26",
            "_dom_classes": [],
            "description": "",
            "_model_name": "HTMLModel",
            "placeholder": "​",
            "_view_module": "@jupyter-widgets/controls",
            "_model_module_version": "1.5.0",
            "value": " 3/3 [00:06&lt;00:00,  2.01s/it]",
            "_view_count": null,
            "_view_module_version": "1.5.0",
            "description_tooltip": null,
            "_model_module": "@jupyter-widgets/controls",
            "layout": "IPY_MODEL_46984c1a4d6a4e7d87470fa29d589b0e"
          }
        },
        "a40c894d2a034b889a3417e4a695bdfb": {
          "model_module": "@jupyter-widgets/controls",
          "model_name": "DescriptionStyleModel",
          "model_module_version": "1.5.0",
          "state": {
            "_view_name": "StyleView",
            "_model_name": "DescriptionStyleModel",
            "description_width": "",
            "_view_module": "@jupyter-widgets/base",
            "_model_module_version": "1.5.0",
            "_view_count": null,
            "_view_module_version": "1.2.0",
            "_model_module": "@jupyter-widgets/controls"
          }
        },
        "64876daddefa43cd99d3b2801f511835": {
          "model_module": "@jupyter-widgets/base",
          "model_name": "LayoutModel",
          "model_module_version": "1.2.0",
          "state": {
            "_view_name": "LayoutView",
            "grid_template_rows": null,
            "right": null,
            "justify_content": null,
            "_view_module": "@jupyter-widgets/base",
            "overflow": null,
            "_model_module_version": "1.2.0",
            "_view_count": null,
            "flex_flow": null,
            "width": null,
            "min_width": null,
            "border": null,
            "align_items": null,
            "bottom": null,
            "_model_module": "@jupyter-widgets/base",
            "top": null,
            "grid_column": null,
            "overflow_y": null,
            "overflow_x": null,
            "grid_auto_flow": null,
            "grid_area": null,
            "grid_template_columns": null,
            "flex": null,
            "_model_name": "LayoutModel",
            "justify_items": null,
            "grid_row": null,
            "max_height": null,
            "align_content": null,
            "visibility": null,
            "align_self": null,
            "height": null,
            "min_height": null,
            "padding": null,
            "grid_auto_rows": null,
            "grid_gap": null,
            "max_width": null,
            "order": null,
            "_view_module_version": "1.2.0",
            "grid_template_areas": null,
            "object_position": null,
            "object_fit": null,
            "grid_auto_columns": null,
            "margin": null,
            "display": null,
            "left": null
          }
        },
        "b4cccad1958f494091aee80f6dfbfa06": {
          "model_module": "@jupyter-widgets/controls",
          "model_name": "ProgressStyleModel",
          "model_module_version": "1.5.0",
          "state": {
            "_view_name": "StyleView",
            "_model_name": "ProgressStyleModel",
            "description_width": "",
            "_view_module": "@jupyter-widgets/base",
            "_model_module_version": "1.5.0",
            "_view_count": null,
            "_view_module_version": "1.2.0",
            "bar_color": null,
            "_model_module": "@jupyter-widgets/controls"
          }
        },
        "8c5ba5cb7b7b4b008f45a9e10f59768b": {
          "model_module": "@jupyter-widgets/base",
          "model_name": "LayoutModel",
          "model_module_version": "1.2.0",
          "state": {
            "_view_name": "LayoutView",
            "grid_template_rows": null,
            "right": null,
            "justify_content": null,
            "_view_module": "@jupyter-widgets/base",
            "overflow": null,
            "_model_module_version": "1.2.0",
            "_view_count": null,
            "flex_flow": null,
            "width": null,
            "min_width": null,
            "border": null,
            "align_items": null,
            "bottom": null,
            "_model_module": "@jupyter-widgets/base",
            "top": null,
            "grid_column": null,
            "overflow_y": null,
            "overflow_x": null,
            "grid_auto_flow": null,
            "grid_area": null,
            "grid_template_columns": null,
            "flex": null,
            "_model_name": "LayoutModel",
            "justify_items": null,
            "grid_row": null,
            "max_height": null,
            "align_content": null,
            "visibility": null,
            "align_self": null,
            "height": null,
            "min_height": null,
            "padding": null,
            "grid_auto_rows": null,
            "grid_gap": null,
            "max_width": null,
            "order": null,
            "_view_module_version": "1.2.0",
            "grid_template_areas": null,
            "object_position": null,
            "object_fit": null,
            "grid_auto_columns": null,
            "margin": null,
            "display": null,
            "left": null
          }
        },
        "4652a696d44e490dbd617aeefbe02b26": {
          "model_module": "@jupyter-widgets/controls",
          "model_name": "DescriptionStyleModel",
          "model_module_version": "1.5.0",
          "state": {
            "_view_name": "StyleView",
            "_model_name": "DescriptionStyleModel",
            "description_width": "",
            "_view_module": "@jupyter-widgets/base",
            "_model_module_version": "1.5.0",
            "_view_count": null,
            "_view_module_version": "1.2.0",
            "_model_module": "@jupyter-widgets/controls"
          }
        },
        "46984c1a4d6a4e7d87470fa29d589b0e": {
          "model_module": "@jupyter-widgets/base",
          "model_name": "LayoutModel",
          "model_module_version": "1.2.0",
          "state": {
            "_view_name": "LayoutView",
            "grid_template_rows": null,
            "right": null,
            "justify_content": null,
            "_view_module": "@jupyter-widgets/base",
            "overflow": null,
            "_model_module_version": "1.2.0",
            "_view_count": null,
            "flex_flow": null,
            "width": null,
            "min_width": null,
            "border": null,
            "align_items": null,
            "bottom": null,
            "_model_module": "@jupyter-widgets/base",
            "top": null,
            "grid_column": null,
            "overflow_y": null,
            "overflow_x": null,
            "grid_auto_flow": null,
            "grid_area": null,
            "grid_template_columns": null,
            "flex": null,
            "_model_name": "LayoutModel",
            "justify_items": null,
            "grid_row": null,
            "max_height": null,
            "align_content": null,
            "visibility": null,
            "align_self": null,
            "height": null,
            "min_height": null,
            "padding": null,
            "grid_auto_rows": null,
            "grid_gap": null,
            "max_width": null,
            "order": null,
            "_view_module_version": "1.2.0",
            "grid_template_areas": null,
            "object_position": null,
            "object_fit": null,
            "grid_auto_columns": null,
            "margin": null,
            "display": null,
            "left": null
          }
        }
      }
    }
  },
  "cells": [
    {
      "cell_type": "markdown",
      "metadata": {
        "id": "view-in-github",
        "colab_type": "text"
      },
      "source": [
        "<a href=\"https://colab.research.google.com/github/maiaufrrj/BRtrading/blob/main/forecast_prophet01.ipynb\" target=\"_parent\"><img src=\"https://colab.research.google.com/assets/colab-badge.svg\" alt=\"Open In Colab\"/></a>"
      ]
    },
    {
      "cell_type": "code",
      "metadata": {
        "colab": {
          "base_uri": "https://localhost:8080/"
        },
        "id": "0a1dwEiCEWNw",
        "outputId": "599c28a0-bc41-4dde-d692-62e58b3a781f"
      },
      "source": [
        "!pip install plotly fbprophet pickle5"
      ],
      "execution_count": 8,
      "outputs": [
        {
          "output_type": "stream",
          "name": "stdout",
          "text": [
            "Building wheels for collected packages: pickle5\n",
            "  Building wheel for pickle5 (setup.py) ... \u001b[?25l\u001b[?25hdone\n",
            "  Created wheel for pickle5: filename=pickle5-0.0.11-cp37-cp37m-linux_x86_64.whl size=219321 sha256=a3e3095b2501b440b34bf2a25163051eb7b5a7e96616e44de7498a7fe2f06e25\n",
            "  Stored in directory: /root/.cache/pip/wheels/7e/6a/00/67136a90d6aca437d806d1d3cedf98106e840c97a3e5188198\n",
            "Successfully built pickle5\n",
            "Installing collected packages: pickle5\n",
            "Successfully installed pickle5-0.0.11\n"
          ]
        }
      ]
    },
    {
      "cell_type": "code",
      "metadata": {
        "colab": {
          "base_uri": "https://localhost:8080/"
        },
        "id": "v2JFH8A4EL3S",
        "outputId": "a29e8a36-9296-4aa9-9611-38266de3dd4a"
      },
      "source": [
        "import pandas as pd\n",
        "import plotly.express as px\n",
        "import numpy as np\n",
        "from sklearn.neighbors import KNeighborsClassifier\n",
        "from sklearn.model_selection import train_test_split\n",
        "from sklearn.preprocessing import MinMaxScaler\n",
        "import plotly.io as pio\n",
        "from statsmodels.tsa.stattools import adfuller\n",
        "from sklearn.metrics import mean_absolute_error, mean_squared_error\n",
        "from fbprophet import Prophet\n",
        "import math\n",
        "from fbprophet.plot import plot_plotly, plot_components_plotly\n",
        "from fbprophet.diagnostics import cross_validation, performance_metrics\n",
        "import itertools"
      ],
      "execution_count": 2,
      "outputs": [
        {
          "output_type": "stream",
          "name": "stderr",
          "text": [
            "/usr/local/lib/python3.7/dist-packages/statsmodels/tools/_testing.py:19: FutureWarning:\n",
            "\n",
            "pandas.util.testing is deprecated. Use the functions in the public API at pandas.testing instead.\n",
            "\n"
          ]
        }
      ]
    },
    {
      "cell_type": "markdown",
      "metadata": {
        "id": "rgIXyDyfLr9T"
      },
      "source": [
        "####Setor: Saúde\n",
        "* NotreDame Intermédica (GNDI3);\n",
        "* Raia Drogasil (RADL3);\n",
        "* Hapvida (HAPV3);\n",
        "* Hypera (HYPE3);\n",
        "* SulAmérica (SULA11);\n",
        "* Fleury (FLRY3);\n",
        "* Qualicorp (QUAL3)."
      ]
    },
    {
      "cell_type": "code",
      "metadata": {
        "colab": {
          "base_uri": "https://localhost:8080/",
          "height": 804
        },
        "id": "5xUGFDwvEdS5",
        "outputId": "6d4d1ea9-6c28-44fc-a49e-25a38b96be92"
      },
      "source": [
        "acao = 'ITSA4.SA'\n",
        "import pickle5 as pickle\n",
        "with open('df_teste.pkl', 'rb') as f:\n",
        "    data = pickle.load(f)\n",
        "\n",
        "#df_teste = pd.read_pickle(\"df_teste.pkl\")\n",
        "df_teste = data\n",
        "df = df_teste.dropna(axis='columns', thresh=200)\n",
        "\n",
        "#FORECASTING com ações\n",
        "\n",
        "#Teste de Dickey Fuller Aumentado - Verificando Estacionariedade\n",
        "from statsmodels.tsa.stattools import adfuller\n",
        "X = df[acao].values\n",
        "result = adfuller(X)\n",
        "print('ADF Statistic: %f' % result[0])\n",
        "print('p-value: %f' % result[1])\n",
        "print('Critical Values:')\n",
        "for key, value in result[4].items():\n",
        "\tprint('\\t%s: %.3f' % (key, value))\n",
        "\n",
        "print('Último valor real:' + str(df[acao][-1]))\n",
        "#RESULTADO: SÉRIE NÃO-ESTACIONÁRIA\n",
        "\n",
        "#Dividindo dataset\n",
        "ativo=pd.DataFrame(df[acao]).reset_index()\n",
        "train_size = int(0.90 * len(ativo))\n",
        "test_size = len(ativo) - train_size\n",
        "\n",
        "univariate_df = ativo[['Date', acao]].copy()\n",
        "univariate_df.columns = ['ds', 'y']\n",
        "\n",
        "train = univariate_df.iloc[:train_size, :]\n",
        "\n",
        "x_train, y_train = pd.DataFrame(univariate_df.iloc[:train_size, 0]), pd.DataFrame(univariate_df.iloc[:train_size, 1])\n",
        "x_valid, y_valid = pd.DataFrame(univariate_df.iloc[train_size:, 0]), pd.DataFrame(univariate_df.iloc[train_size:, 1])\n",
        "\n",
        "#instanciando e treinando modelo\n",
        "model = Prophet(changepoint_prior_scale= 0.01, seasonality_prior_scale= 1.0, daily_seasonality=True, weekly_seasonality=True) #hiperparâmetros ajustados\n",
        "model.fit(train)\n",
        "future = model.make_future_dataframe(periods=360, freq='d')\n",
        "\n",
        "# Conjunto de Previsão\n",
        "y_pred = model.predict(future)\n",
        "print('valor previsto:' + str(y_pred.yhat.values[-1]))\n",
        "print('mínimo valor previsto:' + str(y_pred.yhat_lower.values[-1]))\n",
        "print('máximo valor previsto:' + str(y_pred.yhat_upper.values[-1]))\n",
        "\n",
        "from fbprophet.plot import plot_plotly, plot_components_plotly\n",
        "plot_plotly(model, y_pred)\n"
      ],
      "execution_count": 186,
      "outputs": [
        {
          "output_type": "stream",
          "name": "stderr",
          "text": [
            "INFO:fbprophet:Disabling yearly seasonality. Run prophet with yearly_seasonality=True to override this.\n"
          ]
        },
        {
          "output_type": "stream",
          "name": "stdout",
          "text": [
            "ADF Statistic: -2.517598\n",
            "p-value: 0.111251\n",
            "Critical Values:\n",
            "\t1%: -3.458\n",
            "\t5%: -2.874\n",
            "\t10%: -2.573\n",
            "Último valor real:11.319999694824219\n",
            "valor previsto:12.797301095165237\n",
            "mínimo valor previsto:11.973529731264135\n",
            "máximo valor previsto:13.574469640538615\n"
          ]
        },
        {
          "output_type": "display_data",
          "data": {
            "text/html": [
              "<html>\n",
              "<head><meta charset=\"utf-8\" /></head>\n",
              "<body>\n",
              "    <div>\n",
              "            <script src=\"https://cdnjs.cloudflare.com/ajax/libs/mathjax/2.7.5/MathJax.js?config=TeX-AMS-MML_SVG\"></script><script type=\"text/javascript\">if (window.MathJax) {MathJax.Hub.Config({SVG: {font: \"STIX-Web\"}});}</script>\n",
              "                <script type=\"text/javascript\">window.PlotlyConfig = {MathJaxConfig: 'local'};</script>\n",
              "        <script src=\"https://cdn.plot.ly/plotly-latest.min.js\"></script>    \n",
              "            <div id=\"fb24b7c2-0696-4689-9b92-ff5f9c73eb2f\" class=\"plotly-graph-div\" style=\"height:600px; width:900px;\"></div>\n",
              "            <script type=\"text/javascript\">\n",
              "                \n",
              "                    window.PLOTLYENV=window.PLOTLYENV || {};\n",
              "                    \n",
              "                if (document.getElementById(\"fb24b7c2-0696-4689-9b92-ff5f9c73eb2f\")) {\n",
              "                    Plotly.newPlot(\n",
              "                        'fb24b7c2-0696-4689-9b92-ff5f9c73eb2f',\n",
              "                        [{\"marker\": {\"color\": \"black\", \"size\": 4}, \"mode\": \"markers\", \"name\": \"Actual\", \"type\": \"scatter\", \"x\": [\"2020-10-13T00:00:00\", \"2020-10-14T00:00:00\", \"2020-10-15T00:00:00\", \"2020-10-16T00:00:00\", \"2020-10-19T00:00:00\", \"2020-10-20T00:00:00\", \"2020-10-21T00:00:00\", \"2020-10-22T00:00:00\", \"2020-10-23T00:00:00\", \"2020-10-26T00:00:00\", \"2020-10-27T00:00:00\", \"2020-10-28T00:00:00\", \"2020-10-29T00:00:00\", \"2020-10-30T00:00:00\", \"2020-11-03T00:00:00\", \"2020-11-04T00:00:00\", \"2020-11-05T00:00:00\", \"2020-11-06T00:00:00\", \"2020-11-09T00:00:00\", \"2020-11-10T00:00:00\", \"2020-11-11T00:00:00\", \"2020-11-12T00:00:00\", \"2020-11-13T00:00:00\", \"2020-11-16T00:00:00\", \"2020-11-17T00:00:00\", \"2020-11-18T00:00:00\", \"2020-11-19T00:00:00\", \"2020-11-23T00:00:00\", \"2020-11-24T00:00:00\", \"2020-11-25T00:00:00\", \"2020-11-26T00:00:00\", \"2020-11-27T00:00:00\", \"2020-11-30T00:00:00\", \"2020-12-01T00:00:00\", \"2020-12-02T00:00:00\", \"2020-12-03T00:00:00\", \"2020-12-04T00:00:00\", \"2020-12-07T00:00:00\", \"2020-12-08T00:00:00\", \"2020-12-09T00:00:00\", \"2020-12-10T00:00:00\", \"2020-12-11T00:00:00\", \"2020-12-14T00:00:00\", \"2020-12-15T00:00:00\", \"2020-12-16T00:00:00\", \"2020-12-17T00:00:00\", \"2020-12-18T00:00:00\", \"2020-12-21T00:00:00\", \"2020-12-22T00:00:00\", \"2020-12-23T00:00:00\", \"2020-12-28T00:00:00\", \"2020-12-29T00:00:00\", \"2020-12-30T00:00:00\", \"2021-01-04T00:00:00\", \"2021-01-05T00:00:00\", \"2021-01-06T00:00:00\", \"2021-01-07T00:00:00\", \"2021-01-08T00:00:00\", \"2021-01-11T00:00:00\", \"2021-01-12T00:00:00\", \"2021-01-13T00:00:00\", \"2021-01-14T00:00:00\", \"2021-01-15T00:00:00\", \"2021-01-18T00:00:00\", \"2021-01-19T00:00:00\", \"2021-01-20T00:00:00\", \"2021-01-21T00:00:00\", \"2021-01-22T00:00:00\", \"2021-01-26T00:00:00\", \"2021-01-27T00:00:00\", \"2021-01-28T00:00:00\", \"2021-01-29T00:00:00\", \"2021-02-01T00:00:00\", \"2021-02-02T00:00:00\", \"2021-02-03T00:00:00\", \"2021-02-04T00:00:00\", \"2021-02-05T00:00:00\", \"2021-02-08T00:00:00\", \"2021-02-09T00:00:00\", \"2021-02-10T00:00:00\", \"2021-02-11T00:00:00\", \"2021-02-12T00:00:00\", \"2021-02-18T00:00:00\", \"2021-02-19T00:00:00\", \"2021-02-22T00:00:00\", \"2021-02-23T00:00:00\", \"2021-02-24T00:00:00\", \"2021-02-25T00:00:00\", \"2021-02-26T00:00:00\", \"2021-03-01T00:00:00\", \"2021-03-02T00:00:00\", \"2021-03-03T00:00:00\", \"2021-03-04T00:00:00\", \"2021-03-05T00:00:00\", \"2021-03-08T00:00:00\", \"2021-03-09T00:00:00\", \"2021-03-10T00:00:00\", \"2021-03-11T00:00:00\", \"2021-03-12T00:00:00\", \"2021-03-15T00:00:00\", \"2021-03-16T00:00:00\", \"2021-03-17T00:00:00\", \"2021-03-18T00:00:00\", \"2021-03-19T00:00:00\", \"2021-03-22T00:00:00\", \"2021-03-23T00:00:00\", \"2021-03-24T00:00:00\", \"2021-03-25T00:00:00\", \"2021-03-26T00:00:00\", \"2021-03-29T00:00:00\", \"2021-03-30T00:00:00\", \"2021-03-31T00:00:00\", \"2021-04-01T00:00:00\", \"2021-04-05T00:00:00\", \"2021-04-06T00:00:00\", \"2021-04-07T00:00:00\", \"2021-04-08T00:00:00\", \"2021-04-09T00:00:00\", \"2021-04-12T00:00:00\", \"2021-04-13T00:00:00\", \"2021-04-14T00:00:00\", \"2021-04-15T00:00:00\", \"2021-04-16T00:00:00\", \"2021-04-19T00:00:00\", \"2021-04-20T00:00:00\", \"2021-04-22T00:00:00\", \"2021-04-23T00:00:00\", \"2021-04-26T00:00:00\", \"2021-04-27T00:00:00\", \"2021-04-28T00:00:00\", \"2021-04-29T00:00:00\", \"2021-04-30T00:00:00\", \"2021-05-03T00:00:00\", \"2021-05-04T00:00:00\", \"2021-05-05T00:00:00\", \"2021-05-06T00:00:00\", \"2021-05-07T00:00:00\", \"2021-05-10T00:00:00\", \"2021-05-11T00:00:00\", \"2021-05-12T00:00:00\", \"2021-05-13T00:00:00\", \"2021-05-14T00:00:00\", \"2021-05-17T00:00:00\", \"2021-05-18T00:00:00\", \"2021-05-19T00:00:00\", \"2021-05-20T00:00:00\", \"2021-05-21T00:00:00\", \"2021-05-24T00:00:00\", \"2021-05-25T00:00:00\", \"2021-05-26T00:00:00\", \"2021-05-27T00:00:00\", \"2021-05-28T00:00:00\", \"2021-05-31T00:00:00\", \"2021-06-01T00:00:00\", \"2021-06-02T00:00:00\", \"2021-06-04T00:00:00\", \"2021-06-07T00:00:00\", \"2021-06-08T00:00:00\", \"2021-06-09T00:00:00\", \"2021-06-10T00:00:00\", \"2021-06-11T00:00:00\", \"2021-06-14T00:00:00\", \"2021-06-15T00:00:00\", \"2021-06-16T00:00:00\", \"2021-06-17T00:00:00\", \"2021-06-18T00:00:00\", \"2021-06-21T00:00:00\", \"2021-06-22T00:00:00\", \"2021-06-23T00:00:00\", \"2021-06-24T00:00:00\", \"2021-06-25T00:00:00\", \"2021-06-28T00:00:00\", \"2021-06-29T00:00:00\", \"2021-06-30T00:00:00\", \"2021-07-01T00:00:00\", \"2021-07-02T00:00:00\", \"2021-07-05T00:00:00\", \"2021-07-06T00:00:00\", \"2021-07-07T00:00:00\", \"2021-07-08T00:00:00\", \"2021-07-12T00:00:00\", \"2021-07-13T00:00:00\", \"2021-07-14T00:00:00\", \"2021-07-15T00:00:00\", \"2021-07-16T00:00:00\", \"2021-07-19T00:00:00\", \"2021-07-20T00:00:00\", \"2021-07-21T00:00:00\", \"2021-07-22T00:00:00\", \"2021-07-23T00:00:00\", \"2021-07-26T00:00:00\", \"2021-07-27T00:00:00\", \"2021-07-28T00:00:00\", \"2021-07-29T00:00:00\", \"2021-07-30T00:00:00\", \"2021-08-02T00:00:00\", \"2021-08-03T00:00:00\", \"2021-08-04T00:00:00\", \"2021-08-05T00:00:00\", \"2021-08-06T00:00:00\", \"2021-08-09T00:00:00\", \"2021-08-10T00:00:00\", \"2021-08-11T00:00:00\", \"2021-08-12T00:00:00\", \"2021-08-13T00:00:00\", \"2021-08-16T00:00:00\", \"2021-08-17T00:00:00\", \"2021-08-18T00:00:00\", \"2021-08-19T00:00:00\", \"2021-08-20T00:00:00\", \"2021-08-23T00:00:00\", \"2021-08-24T00:00:00\", \"2021-08-25T00:00:00\", \"2021-08-26T00:00:00\", \"2021-08-27T00:00:00\", \"2021-08-30T00:00:00\", \"2021-08-31T00:00:00\", \"2021-09-01T00:00:00\", \"2021-09-02T00:00:00\"], \"y\": [9.021483421325684, 8.992445945739746, 8.953726768493652, 8.77949047088623, 8.924686431884766, 9.195719718933105, 9.2344388961792, 9.582907676696777, 9.524828910827637, 9.5925874710083, 9.32155704498291, 8.885968208312988, 8.934365272521973, 8.798850059509277, 8.885968208312988, 9.089242935180664, 9.466752052307129, 9.515149116516113, 10.095932006835938, 10.425041198730469, 10.26048755645752, 10.134650230407715, 10.30888557434082, 10.531518936157227, 10.56055736541748, 10.357283592224121, 10.3766450881958, 10.366964340209961, 10.589597702026367, 10.444400787353516, 10.366964340209961, 10.52184009552002, 10.241128921508789, 10.706633567810059, 10.69693660736084, 10.852104187011719, 10.871500968933105, 10.919992446899414, 10.871500968933105, 10.929688453674316, 11.152742385864258, 11.164141654968262, 11.036941528320312, 11.252203941345215, 11.408753395080566, 11.418540954589844, 11.31091022491455, 11.13478946685791, 11.154356956481934, 11.418540954589844, 11.545738220214844, 11.614230155944824, 11.47724723815918, 11.301126480102539, 11.213064193725586, 11.438108444213867, 11.897980690002441, 11.86862850189209, 11.594660758972168, 11.682722091674805, 11.565308570861816, 11.819704055786133, 11.359831809997559, 11.379403114318848, 11.203279495239258, 11.027159690856934, 10.802114486694336, 10.645562171936035, 10.411067962646484, 10.342445373535156, 10.754182815551758, 10.401264190673828, 10.577723503112793, 10.597330093383789, 10.607133865356445, 10.607133865356445, 10.54831600189209, 10.391461372375488, 10.479690551757812, 10.411067962646484, 10.430676460266113, 10.391461372375488, 10.146380424499512, 10.048346519470215, 9.587594032287598, 10.31303596496582, 10.215003967285156, 9.911102294921875, 9.754249572753906, 9.449735641479492, 9.724780082702637, 9.813186645507812, 10.02929401397705, 10.186461448669434, 9.783717155456543, 9.872126579284668, 10.143123626708984, 10.113609313964844, 10.03490161895752, 10.06441879272461, 9.916845321655273, 10.202152252197266, 10.300533294677734, 10.271017074584961, 10.349724769592285, 10.09393310546875, 9.887331008911133, 10.09393310546875, 10.211302757263184, 10.171876907348633, 10.319725036621094, 10.171876907348633, 9.955036163330078, 10.083169937133789, 9.984604835510254, 9.974748611450195, 9.945178985595703, 9.895895957946777, 10.063455581665039, 10.043743133544922, 10.112738609313965, 10.112738609313965, 10.152164459228516, 10.053598403930664, 10.073314666748047, 10.073314666748047, 10.171876907348633, 10.122596740722656, 9.905753135681152, 10.272510528564453, 10.035451889038086, 9.957564353942871, 10.0862398147583, 9.818988800048828, 10.106036186218262, 10.096138000488281, 10.234712600708008, 10.343592643737793, 10.343592643737793, 10.1456298828125, 10.323797225952148, 10.531657218933105, 10.541555404663086, 10.511861801147461, 10.630640029907227, 10.670231819152832, 10.729621887207031, 10.749418258666992, 10.688340187072754, 10.787490844726562, 10.648680686950684, 10.82586669921875, 10.786140441894531, 11.214003562927246, 11.582165718078613, 11.840872764587402, 11.990128517150879, 11.880674362182617, 11.920475006103516, 11.860774040222168, 11.671716690063477, 11.731419563293457, 11.761270523071289, 11.87072467803955, 11.761270523071289, 11.65181827545166, 11.68166732788086, 11.771221160888672, 11.66176700592041, 11.701568603515625, 11.422959327697754, 11.303555488586426, 11.243854522705078, 11.094598770141602, 11.114500045776367, 11.174201011657715, 11.024948120117188, 10.985146522521973, 11.174201011657715, 11.114500045776367, 11.323456764221191, 11.283656120300293, 11.303555488586426, 11.214003562927246, 11.054798126220703, 10.965246200561523, 11.094598770141602, 11.164252281188965, 11.03489875793457, 11.024948120117188, 11.12445068359375, 11.19410228729248, 11.492612838745117, 11.383158683776855, 11.114500045776367, 11.333407402038574, 11.472711563110352, 11.214003562927246, 11.243854522705078, 11.452811241149902, 11.5025634765625, 11.413009643554688, 11.582165718078613, 11.383158683776855, 11.452811241149902, 11.35032844543457, 11.200589179992676, 11.230536460876465, 11.140691757202148, 11.16065788269043, 11.210570335388184, 11.450156211853027, 11.470121383666992, 11.180623054504395, 11.380276679992676, 11.3004150390625, 11.540000915527344, 11.65999984741211, 11.270000457763672]}, {\"hoverinfo\": \"skip\", \"line\": {\"width\": 0}, \"mode\": \"lines\", \"type\": \"scatter\", \"x\": [\"2020-10-13T00:00:00\", \"2020-10-14T00:00:00\", \"2020-10-15T00:00:00\", \"2020-10-16T00:00:00\", \"2020-10-19T00:00:00\", \"2020-10-20T00:00:00\", \"2020-10-21T00:00:00\", \"2020-10-22T00:00:00\", \"2020-10-23T00:00:00\", \"2020-10-26T00:00:00\", \"2020-10-27T00:00:00\", \"2020-10-28T00:00:00\", \"2020-10-29T00:00:00\", \"2020-10-30T00:00:00\", \"2020-11-03T00:00:00\", \"2020-11-04T00:00:00\", \"2020-11-05T00:00:00\", \"2020-11-06T00:00:00\", \"2020-11-09T00:00:00\", \"2020-11-10T00:00:00\", \"2020-11-11T00:00:00\", \"2020-11-12T00:00:00\", \"2020-11-13T00:00:00\", \"2020-11-16T00:00:00\", \"2020-11-17T00:00:00\", \"2020-11-18T00:00:00\", \"2020-11-19T00:00:00\", \"2020-11-23T00:00:00\", \"2020-11-24T00:00:00\", \"2020-11-25T00:00:00\", \"2020-11-26T00:00:00\", \"2020-11-27T00:00:00\", \"2020-11-30T00:00:00\", \"2020-12-01T00:00:00\", \"2020-12-02T00:00:00\", \"2020-12-03T00:00:00\", \"2020-12-04T00:00:00\", \"2020-12-07T00:00:00\", \"2020-12-08T00:00:00\", \"2020-12-09T00:00:00\", \"2020-12-10T00:00:00\", \"2020-12-11T00:00:00\", \"2020-12-14T00:00:00\", \"2020-12-15T00:00:00\", \"2020-12-16T00:00:00\", \"2020-12-17T00:00:00\", \"2020-12-18T00:00:00\", \"2020-12-21T00:00:00\", \"2020-12-22T00:00:00\", \"2020-12-23T00:00:00\", \"2020-12-28T00:00:00\", \"2020-12-29T00:00:00\", \"2020-12-30T00:00:00\", \"2021-01-04T00:00:00\", \"2021-01-05T00:00:00\", \"2021-01-06T00:00:00\", \"2021-01-07T00:00:00\", \"2021-01-08T00:00:00\", \"2021-01-11T00:00:00\", \"2021-01-12T00:00:00\", \"2021-01-13T00:00:00\", \"2021-01-14T00:00:00\", \"2021-01-15T00:00:00\", \"2021-01-18T00:00:00\", \"2021-01-19T00:00:00\", \"2021-01-20T00:00:00\", \"2021-01-21T00:00:00\", \"2021-01-22T00:00:00\", \"2021-01-26T00:00:00\", \"2021-01-27T00:00:00\", \"2021-01-28T00:00:00\", \"2021-01-29T00:00:00\", \"2021-02-01T00:00:00\", \"2021-02-02T00:00:00\", \"2021-02-03T00:00:00\", \"2021-02-04T00:00:00\", \"2021-02-05T00:00:00\", \"2021-02-08T00:00:00\", \"2021-02-09T00:00:00\", \"2021-02-10T00:00:00\", \"2021-02-11T00:00:00\", \"2021-02-12T00:00:00\", \"2021-02-18T00:00:00\", \"2021-02-19T00:00:00\", \"2021-02-22T00:00:00\", \"2021-02-23T00:00:00\", \"2021-02-24T00:00:00\", \"2021-02-25T00:00:00\", \"2021-02-26T00:00:00\", \"2021-03-01T00:00:00\", \"2021-03-02T00:00:00\", \"2021-03-03T00:00:00\", \"2021-03-04T00:00:00\", \"2021-03-05T00:00:00\", \"2021-03-08T00:00:00\", \"2021-03-09T00:00:00\", \"2021-03-10T00:00:00\", \"2021-03-11T00:00:00\", \"2021-03-12T00:00:00\", \"2021-03-15T00:00:00\", \"2021-03-16T00:00:00\", \"2021-03-17T00:00:00\", \"2021-03-18T00:00:00\", \"2021-03-19T00:00:00\", \"2021-03-22T00:00:00\", \"2021-03-23T00:00:00\", \"2021-03-24T00:00:00\", \"2021-03-25T00:00:00\", \"2021-03-26T00:00:00\", \"2021-03-29T00:00:00\", \"2021-03-30T00:00:00\", \"2021-03-31T00:00:00\", \"2021-04-01T00:00:00\", \"2021-04-05T00:00:00\", \"2021-04-06T00:00:00\", \"2021-04-07T00:00:00\", \"2021-04-08T00:00:00\", \"2021-04-09T00:00:00\", \"2021-04-12T00:00:00\", \"2021-04-13T00:00:00\", \"2021-04-14T00:00:00\", \"2021-04-15T00:00:00\", \"2021-04-16T00:00:00\", \"2021-04-19T00:00:00\", \"2021-04-20T00:00:00\", \"2021-04-22T00:00:00\", \"2021-04-23T00:00:00\", \"2021-04-26T00:00:00\", \"2021-04-27T00:00:00\", \"2021-04-28T00:00:00\", \"2021-04-29T00:00:00\", \"2021-04-30T00:00:00\", \"2021-05-03T00:00:00\", \"2021-05-04T00:00:00\", \"2021-05-05T00:00:00\", \"2021-05-06T00:00:00\", \"2021-05-07T00:00:00\", \"2021-05-10T00:00:00\", \"2021-05-11T00:00:00\", \"2021-05-12T00:00:00\", \"2021-05-13T00:00:00\", \"2021-05-14T00:00:00\", \"2021-05-17T00:00:00\", \"2021-05-18T00:00:00\", \"2021-05-19T00:00:00\", \"2021-05-20T00:00:00\", \"2021-05-21T00:00:00\", \"2021-05-24T00:00:00\", \"2021-05-25T00:00:00\", \"2021-05-26T00:00:00\", \"2021-05-27T00:00:00\", \"2021-05-28T00:00:00\", \"2021-05-31T00:00:00\", \"2021-06-01T00:00:00\", \"2021-06-02T00:00:00\", \"2021-06-04T00:00:00\", \"2021-06-07T00:00:00\", \"2021-06-08T00:00:00\", \"2021-06-09T00:00:00\", \"2021-06-10T00:00:00\", \"2021-06-11T00:00:00\", \"2021-06-14T00:00:00\", \"2021-06-15T00:00:00\", \"2021-06-16T00:00:00\", \"2021-06-17T00:00:00\", \"2021-06-18T00:00:00\", \"2021-06-21T00:00:00\", \"2021-06-22T00:00:00\", \"2021-06-23T00:00:00\", \"2021-06-24T00:00:00\", \"2021-06-25T00:00:00\", \"2021-06-28T00:00:00\", \"2021-06-29T00:00:00\", \"2021-06-30T00:00:00\", \"2021-07-01T00:00:00\", \"2021-07-02T00:00:00\", \"2021-07-05T00:00:00\", \"2021-07-06T00:00:00\", \"2021-07-07T00:00:00\", \"2021-07-08T00:00:00\", \"2021-07-12T00:00:00\", \"2021-07-13T00:00:00\", \"2021-07-14T00:00:00\", \"2021-07-15T00:00:00\", \"2021-07-16T00:00:00\", \"2021-07-19T00:00:00\", \"2021-07-20T00:00:00\", \"2021-07-21T00:00:00\", \"2021-07-22T00:00:00\", \"2021-07-23T00:00:00\", \"2021-07-26T00:00:00\", \"2021-07-27T00:00:00\", \"2021-07-28T00:00:00\", \"2021-07-29T00:00:00\", \"2021-07-30T00:00:00\", \"2021-08-02T00:00:00\", \"2021-08-03T00:00:00\", \"2021-08-04T00:00:00\", \"2021-08-05T00:00:00\", \"2021-08-06T00:00:00\", \"2021-08-09T00:00:00\", \"2021-08-10T00:00:00\", \"2021-08-11T00:00:00\", \"2021-08-12T00:00:00\", \"2021-08-13T00:00:00\", \"2021-08-16T00:00:00\", \"2021-08-17T00:00:00\", \"2021-08-18T00:00:00\", \"2021-08-19T00:00:00\", \"2021-08-20T00:00:00\", \"2021-08-23T00:00:00\", \"2021-08-24T00:00:00\", \"2021-08-25T00:00:00\", \"2021-08-26T00:00:00\", \"2021-08-27T00:00:00\", \"2021-08-30T00:00:00\", \"2021-08-31T00:00:00\", \"2021-09-01T00:00:00\", \"2021-09-02T00:00:00\", \"2021-09-03T00:00:00\", \"2021-09-04T00:00:00\", \"2021-09-05T00:00:00\", \"2021-09-06T00:00:00\", \"2021-09-07T00:00:00\", \"2021-09-08T00:00:00\", \"2021-09-09T00:00:00\", \"2021-09-10T00:00:00\", \"2021-09-11T00:00:00\", \"2021-09-12T00:00:00\", \"2021-09-13T00:00:00\", \"2021-09-14T00:00:00\", \"2021-09-15T00:00:00\", \"2021-09-16T00:00:00\", \"2021-09-17T00:00:00\", \"2021-09-18T00:00:00\", \"2021-09-19T00:00:00\", \"2021-09-20T00:00:00\", \"2021-09-21T00:00:00\", \"2021-09-22T00:00:00\", \"2021-09-23T00:00:00\", \"2021-09-24T00:00:00\", \"2021-09-25T00:00:00\", \"2021-09-26T00:00:00\", \"2021-09-27T00:00:00\", \"2021-09-28T00:00:00\", \"2021-09-29T00:00:00\", \"2021-09-30T00:00:00\", \"2021-10-01T00:00:00\", \"2021-10-02T00:00:00\", \"2021-10-03T00:00:00\", \"2021-10-04T00:00:00\", \"2021-10-05T00:00:00\", \"2021-10-06T00:00:00\", \"2021-10-07T00:00:00\", \"2021-10-08T00:00:00\", \"2021-10-09T00:00:00\", \"2021-10-10T00:00:00\", \"2021-10-11T00:00:00\", \"2021-10-12T00:00:00\", \"2021-10-13T00:00:00\", \"2021-10-14T00:00:00\", \"2021-10-15T00:00:00\", \"2021-10-16T00:00:00\", \"2021-10-17T00:00:00\", \"2021-10-18T00:00:00\", \"2021-10-19T00:00:00\", \"2021-10-20T00:00:00\", \"2021-10-21T00:00:00\", \"2021-10-22T00:00:00\", \"2021-10-23T00:00:00\", \"2021-10-24T00:00:00\", \"2021-10-25T00:00:00\", \"2021-10-26T00:00:00\", \"2021-10-27T00:00:00\", \"2021-10-28T00:00:00\", \"2021-10-29T00:00:00\", \"2021-10-30T00:00:00\", \"2021-10-31T00:00:00\", \"2021-11-01T00:00:00\", \"2021-11-02T00:00:00\", \"2021-11-03T00:00:00\", \"2021-11-04T00:00:00\", \"2021-11-05T00:00:00\", \"2021-11-06T00:00:00\", \"2021-11-07T00:00:00\", \"2021-11-08T00:00:00\", \"2021-11-09T00:00:00\", \"2021-11-10T00:00:00\", \"2021-11-11T00:00:00\", \"2021-11-12T00:00:00\", \"2021-11-13T00:00:00\", \"2021-11-14T00:00:00\", \"2021-11-15T00:00:00\", \"2021-11-16T00:00:00\", \"2021-11-17T00:00:00\", \"2021-11-18T00:00:00\", \"2021-11-19T00:00:00\", \"2021-11-20T00:00:00\", \"2021-11-21T00:00:00\", \"2021-11-22T00:00:00\", \"2021-11-23T00:00:00\", \"2021-11-24T00:00:00\", \"2021-11-25T00:00:00\", \"2021-11-26T00:00:00\", \"2021-11-27T00:00:00\", \"2021-11-28T00:00:00\", \"2021-11-29T00:00:00\", \"2021-11-30T00:00:00\", \"2021-12-01T00:00:00\", \"2021-12-02T00:00:00\", \"2021-12-03T00:00:00\", \"2021-12-04T00:00:00\", \"2021-12-05T00:00:00\", \"2021-12-06T00:00:00\", \"2021-12-07T00:00:00\", \"2021-12-08T00:00:00\", \"2021-12-09T00:00:00\", \"2021-12-10T00:00:00\", \"2021-12-11T00:00:00\", \"2021-12-12T00:00:00\", \"2021-12-13T00:00:00\", \"2021-12-14T00:00:00\", \"2021-12-15T00:00:00\", \"2021-12-16T00:00:00\", \"2021-12-17T00:00:00\", \"2021-12-18T00:00:00\", \"2021-12-19T00:00:00\", \"2021-12-20T00:00:00\", \"2021-12-21T00:00:00\", \"2021-12-22T00:00:00\", \"2021-12-23T00:00:00\", \"2021-12-24T00:00:00\", \"2021-12-25T00:00:00\", \"2021-12-26T00:00:00\", \"2021-12-27T00:00:00\", \"2021-12-28T00:00:00\", \"2021-12-29T00:00:00\", \"2021-12-30T00:00:00\", \"2021-12-31T00:00:00\", \"2022-01-01T00:00:00\", \"2022-01-02T00:00:00\", \"2022-01-03T00:00:00\", \"2022-01-04T00:00:00\", \"2022-01-05T00:00:00\", \"2022-01-06T00:00:00\", \"2022-01-07T00:00:00\", \"2022-01-08T00:00:00\", \"2022-01-09T00:00:00\", \"2022-01-10T00:00:00\", \"2022-01-11T00:00:00\", \"2022-01-12T00:00:00\", \"2022-01-13T00:00:00\", \"2022-01-14T00:00:00\", \"2022-01-15T00:00:00\", \"2022-01-16T00:00:00\", \"2022-01-17T00:00:00\", \"2022-01-18T00:00:00\", \"2022-01-19T00:00:00\", \"2022-01-20T00:00:00\", \"2022-01-21T00:00:00\", \"2022-01-22T00:00:00\", \"2022-01-23T00:00:00\", \"2022-01-24T00:00:00\", \"2022-01-25T00:00:00\", \"2022-01-26T00:00:00\", \"2022-01-27T00:00:00\", \"2022-01-28T00:00:00\", \"2022-01-29T00:00:00\", \"2022-01-30T00:00:00\", \"2022-01-31T00:00:00\", \"2022-02-01T00:00:00\", \"2022-02-02T00:00:00\", \"2022-02-03T00:00:00\", \"2022-02-04T00:00:00\", \"2022-02-05T00:00:00\", \"2022-02-06T00:00:00\", \"2022-02-07T00:00:00\", \"2022-02-08T00:00:00\", \"2022-02-09T00:00:00\", \"2022-02-10T00:00:00\", \"2022-02-11T00:00:00\", \"2022-02-12T00:00:00\", \"2022-02-13T00:00:00\", \"2022-02-14T00:00:00\", \"2022-02-15T00:00:00\", \"2022-02-16T00:00:00\", \"2022-02-17T00:00:00\", \"2022-02-18T00:00:00\", \"2022-02-19T00:00:00\", \"2022-02-20T00:00:00\", \"2022-02-21T00:00:00\", \"2022-02-22T00:00:00\", \"2022-02-23T00:00:00\", \"2022-02-24T00:00:00\", \"2022-02-25T00:00:00\", \"2022-02-26T00:00:00\", \"2022-02-27T00:00:00\", \"2022-02-28T00:00:00\", \"2022-03-01T00:00:00\", \"2022-03-02T00:00:00\", \"2022-03-03T00:00:00\", \"2022-03-04T00:00:00\", \"2022-03-05T00:00:00\", \"2022-03-06T00:00:00\", \"2022-03-07T00:00:00\", \"2022-03-08T00:00:00\", \"2022-03-09T00:00:00\", \"2022-03-10T00:00:00\", \"2022-03-11T00:00:00\", \"2022-03-12T00:00:00\", \"2022-03-13T00:00:00\", \"2022-03-14T00:00:00\", \"2022-03-15T00:00:00\", \"2022-03-16T00:00:00\", \"2022-03-17T00:00:00\", \"2022-03-18T00:00:00\", \"2022-03-19T00:00:00\", \"2022-03-20T00:00:00\", \"2022-03-21T00:00:00\", \"2022-03-22T00:00:00\", \"2022-03-23T00:00:00\", \"2022-03-24T00:00:00\", \"2022-03-25T00:00:00\", \"2022-03-26T00:00:00\", \"2022-03-27T00:00:00\", \"2022-03-28T00:00:00\", \"2022-03-29T00:00:00\", \"2022-03-30T00:00:00\", \"2022-03-31T00:00:00\", \"2022-04-01T00:00:00\", \"2022-04-02T00:00:00\", \"2022-04-03T00:00:00\", \"2022-04-04T00:00:00\", \"2022-04-05T00:00:00\", \"2022-04-06T00:00:00\", \"2022-04-07T00:00:00\", \"2022-04-08T00:00:00\", \"2022-04-09T00:00:00\", \"2022-04-10T00:00:00\", \"2022-04-11T00:00:00\", \"2022-04-12T00:00:00\", \"2022-04-13T00:00:00\", \"2022-04-14T00:00:00\", \"2022-04-15T00:00:00\", \"2022-04-16T00:00:00\", \"2022-04-17T00:00:00\", \"2022-04-18T00:00:00\", \"2022-04-19T00:00:00\", \"2022-04-20T00:00:00\", \"2022-04-21T00:00:00\", \"2022-04-22T00:00:00\", \"2022-04-23T00:00:00\", \"2022-04-24T00:00:00\", \"2022-04-25T00:00:00\", \"2022-04-26T00:00:00\", \"2022-04-27T00:00:00\", \"2022-04-28T00:00:00\", \"2022-04-29T00:00:00\", \"2022-04-30T00:00:00\", \"2022-05-01T00:00:00\", \"2022-05-02T00:00:00\", \"2022-05-03T00:00:00\", \"2022-05-04T00:00:00\", \"2022-05-05T00:00:00\", \"2022-05-06T00:00:00\", \"2022-05-07T00:00:00\", \"2022-05-08T00:00:00\", \"2022-05-09T00:00:00\", \"2022-05-10T00:00:00\", \"2022-05-11T00:00:00\", \"2022-05-12T00:00:00\", \"2022-05-13T00:00:00\", \"2022-05-14T00:00:00\", \"2022-05-15T00:00:00\", \"2022-05-16T00:00:00\", \"2022-05-17T00:00:00\", \"2022-05-18T00:00:00\", \"2022-05-19T00:00:00\", \"2022-05-20T00:00:00\", \"2022-05-21T00:00:00\", \"2022-05-22T00:00:00\", \"2022-05-23T00:00:00\", \"2022-05-24T00:00:00\", \"2022-05-25T00:00:00\", \"2022-05-26T00:00:00\", \"2022-05-27T00:00:00\", \"2022-05-28T00:00:00\", \"2022-05-29T00:00:00\", \"2022-05-30T00:00:00\", \"2022-05-31T00:00:00\", \"2022-06-01T00:00:00\", \"2022-06-02T00:00:00\", \"2022-06-03T00:00:00\", \"2022-06-04T00:00:00\", \"2022-06-05T00:00:00\", \"2022-06-06T00:00:00\", \"2022-06-07T00:00:00\", \"2022-06-08T00:00:00\", \"2022-06-09T00:00:00\", \"2022-06-10T00:00:00\", \"2022-06-11T00:00:00\", \"2022-06-12T00:00:00\", \"2022-06-13T00:00:00\", \"2022-06-14T00:00:00\", \"2022-06-15T00:00:00\", \"2022-06-16T00:00:00\", \"2022-06-17T00:00:00\", \"2022-06-18T00:00:00\", \"2022-06-19T00:00:00\", \"2022-06-20T00:00:00\", \"2022-06-21T00:00:00\", \"2022-06-22T00:00:00\", \"2022-06-23T00:00:00\", \"2022-06-24T00:00:00\", \"2022-06-25T00:00:00\", \"2022-06-26T00:00:00\", \"2022-06-27T00:00:00\", \"2022-06-28T00:00:00\", \"2022-06-29T00:00:00\", \"2022-06-30T00:00:00\", \"2022-07-01T00:00:00\", \"2022-07-02T00:00:00\", \"2022-07-03T00:00:00\", \"2022-07-04T00:00:00\", \"2022-07-05T00:00:00\", \"2022-07-06T00:00:00\", \"2022-07-07T00:00:00\", \"2022-07-08T00:00:00\", \"2022-07-09T00:00:00\", \"2022-07-10T00:00:00\", \"2022-07-11T00:00:00\", \"2022-07-12T00:00:00\", \"2022-07-13T00:00:00\", \"2022-07-14T00:00:00\", \"2022-07-15T00:00:00\", \"2022-07-16T00:00:00\", \"2022-07-17T00:00:00\", \"2022-07-18T00:00:00\", \"2022-07-19T00:00:00\", \"2022-07-20T00:00:00\", \"2022-07-21T00:00:00\", \"2022-07-22T00:00:00\", \"2022-07-23T00:00:00\", \"2022-07-24T00:00:00\", \"2022-07-25T00:00:00\", \"2022-07-26T00:00:00\", \"2022-07-27T00:00:00\", \"2022-07-28T00:00:00\", \"2022-07-29T00:00:00\", \"2022-07-30T00:00:00\", \"2022-07-31T00:00:00\", \"2022-08-01T00:00:00\", \"2022-08-02T00:00:00\", \"2022-08-03T00:00:00\", \"2022-08-04T00:00:00\", \"2022-08-05T00:00:00\", \"2022-08-06T00:00:00\", \"2022-08-07T00:00:00\", \"2022-08-08T00:00:00\", \"2022-08-09T00:00:00\", \"2022-08-10T00:00:00\", \"2022-08-11T00:00:00\", \"2022-08-12T00:00:00\", \"2022-08-13T00:00:00\", \"2022-08-14T00:00:00\", \"2022-08-15T00:00:00\", \"2022-08-16T00:00:00\", \"2022-08-17T00:00:00\", \"2022-08-18T00:00:00\", \"2022-08-19T00:00:00\", \"2022-08-20T00:00:00\", \"2022-08-21T00:00:00\", \"2022-08-22T00:00:00\", \"2022-08-23T00:00:00\", \"2022-08-24T00:00:00\", \"2022-08-25T00:00:00\", \"2022-08-26T00:00:00\", \"2022-08-27T00:00:00\", \"2022-08-28T00:00:00\"], \"y\": [9.052524593172251, 9.056287081647154, 8.992466827887066, 9.033274155877304, 9.088526219487427, 9.110736321967211, 9.090402020394052, 9.017217323375343, 9.110589719529074, 9.125507553485738, 9.149926613613335, 9.200357182578381, 9.124282124783566, 9.066740773619664, 9.203823889550318, 9.186254648445939, 9.132964624446958, 9.205058711635173, 9.229551651828432, 9.237652417444854, 9.244581539460556, 9.260778659357682, 9.164017146725007, 9.252018166743447, 9.190844478029716, 9.249359883603868, 9.280639270139485, 9.305820474096262, 9.340829154145014, 9.392384475374307, 9.279944843690243, 9.303144578769018, 9.314011210898727, 9.349341711650586, 9.41645386246242, 9.353725745534776, 9.358748740205092, 9.452604571258986, 9.360910934618769, 9.434677127784818, 9.364623143160385, 9.367562372995057, 9.39331548917417, 9.4527820108324, 9.430314539181465, 9.418669737661203, 9.356436228015658, 9.44628522889884, 9.442057199257707, 9.485017853269897, 9.519972936467912, 9.545920918879087, 9.524080376122694, 9.572769779577575, 9.506377989601926, 9.512068499770114, 9.465898043904502, 9.435943998263681, 9.613944989797643, 9.57120096387609, 9.571713171299612, 9.552413580287311, 9.530749688636895, 9.616854143564078, 9.55105068662043, 9.644589329303956, 9.586738713947348, 9.553100726557169, 9.637674788781277, 9.641496895647892, 9.52415648149685, 9.547624615265832, 9.667690035363755, 9.704104040664994, 9.694099585885404, 9.619311668259552, 9.57028098256502, 9.680816113293446, 9.71969685047563, 9.661746498004547, 9.618775272237672, 9.655449273790882, 9.645115367882013, 9.695114597595577, 9.758240278102917, 9.770446747300314, 9.762181894238765, 9.71592660550319, 9.723041713274878, 9.716625430083575, 9.790256259857165, 9.799504405703434, 9.785406105491079, 9.682602048554948, 9.793436489228796, 9.805076048631273, 9.850675771315778, 9.776996890681227, 9.7690663477862, 9.773212623765303, 9.793702903643203, 9.84970453294207, 9.775075951271992, 9.779411467701081, 9.87807497273486, 9.87677982726285, 9.886643146902825, 9.78246185333579, 9.800301382010828, 9.84329819073492, 9.87344551916128, 9.88728550927781, 9.898516199743522, 9.864791785488979, 9.893551495673329, 9.97002517279754, 9.908077463895957, 9.92245557310624, 9.921325564669896, 9.966514110479801, 9.978104805311647, 9.953762041598802, 9.901994264981276, 9.994648545690767, 9.932398790438562, 9.954720156433137, 9.937277085122329, 10.021080607827068, 9.992471352609456, 10.041311948349831, 9.9758255399616, 9.979957907033972, 10.011574724188916, 10.04056793063513, 10.069413472360964, 9.959724399814979, 9.933502929449846, 10.068901490350985, 10.046386874475429, 10.146440893878163, 10.04663811758077, 10.048945944138701, 10.149622444218393, 10.068668023629352, 10.163087421427427, 10.061949192347743, 10.021220718584914, 10.11505140066125, 10.09485636132906, 10.14246395393239, 10.095624036270868, 10.087810562293479, 10.181868119007637, 10.177780450653396, 10.206513373407416, 10.116447503164327, 10.172962839837657, 10.235053110857995, 10.230821191682718, 10.153793076868277, 10.162407240266226, 10.247989768404707, 10.261910555769257, 10.28069212459277, 10.201109746529971, 10.16432523618735, 10.23928896878685, 10.224962054546497, 10.276829962864687, 10.179678355282517, 10.252621201087727, 10.329292632167418, 10.263062894028305, 10.314022177769356, 10.190635011217083, 10.278220482365837, 10.308030811908214, 10.31131339854426, 10.329510651230317, 10.30802697780372, 10.291959612450363, 10.364242366870188, 10.331887695497626, 10.33365188819342, 10.273780934305844, 10.37535477482349, 10.384222649900169, 10.436965087776008, 10.347003990077226, 10.328926826516575, 10.444329607035414, 10.387021938213673, 10.481158732825731, 10.33544960776415, 10.393902133044055, 10.430499748960322, 10.487787801819916, 10.448453687025825, 10.432204435170659, 10.429712105119158, 10.404647589278714, 10.469673853842632, 10.48909109541442, 10.40474335294854, 10.415443970535005, 10.442017866797746, 10.484289804837173, 10.47316465696463, 10.50610806153739, 10.387833391788199, 10.484166956950698, 10.488651567512774, 10.563722006997484, 10.457776656896149, 10.491114279746075, 10.55217863315623, 10.546618647541614, 10.626859202163903, 10.481769387687068, 10.521001099419731, 10.48628341113334, 10.449380195463654, 10.556193807257296, 10.613280527020656, 10.653018579044202, 10.449176821963157, 10.550874454398064, 10.547930445362626, 10.549896201154251, 10.562834602753757, 10.643124090945456, 10.624719096109391, 10.606243207513984, 10.578274934483016, 10.470641083882409, 10.516387619163494, 10.65391623781985, 10.737319124848103, 10.680164916339423, 10.621447564980143, 10.579134691303764, 10.503679025995037, 10.614652221779759, 10.725292448677177, 10.618206965873558, 10.689700536787512, 10.671307198879285, 10.623455385495923, 10.56751990254207, 10.575930008532147, 10.689713881264124, 10.700325239447254, 10.76067653186303, 10.646594389180438, 10.694915876966718, 10.623854450920462, 10.604573897952319, 10.763619721512523, 10.82930115873901, 10.757244887642463, 10.654742730382134, 10.626397208006837, 10.650808346846816, 10.604282942112592, 10.784382605752048, 10.759984006342393, 10.759402906320846, 10.718032680103697, 10.761203823689069, 10.656536282191878, 10.62156841596174, 10.787152612302922, 10.819036336237817, 10.842904323107298, 10.752428874796491, 10.763347761229255, 10.669774442038701, 10.683458096492634, 10.83489664753758, 10.761304647581161, 10.920255358275394, 10.844263799153804, 10.81735167832187, 10.749057917329477, 10.701167293850357, 10.823710899477605, 10.821069564938266, 10.922432044084843, 10.80268571403938, 10.81760192683571, 10.784961376238119, 10.708285181219463, 10.87336057204881, 10.879184720627153, 10.947118171107856, 10.86584669476911, 10.901758799674559, 10.776775475451664, 10.74066359096615, 10.940286731034558, 10.924146685057304, 11.006922515328377, 10.84883590426569, 10.9055817716874, 10.826466029981745, 10.81785210920551, 10.938220516207313, 10.926080276498748, 11.032392836349645, 10.94160260529686, 10.88564188889051, 10.849030405116425, 10.819344055564855, 10.898784093811186, 11.00620671007196, 11.016796891729362, 10.892458155296989, 10.935610242639882, 10.854217553727732, 10.886236759839914, 10.995107922494402, 11.022926298413081, 11.028137916632062, 10.950499043143866, 10.999094489899012, 10.895455409230538, 10.881560165256504, 11.025910303313289, 10.99794843650663, 11.082287958991248, 11.003805553075411, 11.01142799617993, 10.958028720640511, 10.947984817937698, 11.094963089325537, 11.052114119431147, 11.097993358218853, 11.007411120856725, 11.075848210508, 10.910898884307366, 10.98982477249859, 11.130530549946055, 11.075214321191252, 11.144686242210899, 11.020685589826016, 11.065752804056679, 10.983080812694645, 10.966824984352465, 11.176585825447196, 11.13354776240491, 11.168758251055916, 11.027063497221297, 11.104828070743658, 11.100159559978376, 11.064936309913602, 11.190800502739268, 11.183003238859206, 11.144542259519168, 11.154820252006322, 11.137205323627995, 11.103119634525077, 11.085428290961225, 11.158477830791066, 11.24930619979696, 11.224957645288669, 11.117591115286046, 11.095658943336852, 11.088420438354477, 11.050799084259692, 11.204337495787808, 11.166381482638307, 11.269161907336846, 11.171627166215846, 11.230794871835707, 11.124370355777689, 11.13303391410043, 11.262535046546619, 11.219129193837098, 11.28464136155134, 11.187013853509535, 11.21014825590657, 11.207843422751324, 11.124383506619228, 11.226651782205607, 11.258259667131393, 11.291862899858758, 11.233134915824795, 11.295403971331982, 11.198619414698033, 11.205098220324743, 11.329494707749827, 11.304830940726992, 11.375872887227011, 11.215542069548132, 11.295569956524055, 11.230807941533726, 11.208799225308773, 11.408679870167676, 11.280317654642772, 11.387890197396436, 11.304144002836615, 11.312529474753177, 11.26678476391912, 11.21309960188429, 11.355424097175884, 11.349749647223767, 11.436293187744097, 11.28387280626533, 11.39696106743805, 11.240125982493511, 11.249001186830293, 11.435163026125366, 11.426897275273241, 11.461330369231169, 11.32670492706555, 11.364188193625019, 11.256972366597264, 11.215423852615713, 11.40065143879814, 11.414986410889865, 11.436923098741088, 11.35570735721786, 11.430687416952422, 11.333718435105508, 11.325449417844965, 11.428914195190993, 11.41929820408255, 11.512452199062073, 11.431638724492988, 11.409510054835373, 11.350768970280884, 11.305374025062692, 11.490226679148384, 11.493995364231104, 11.564563235882485, 11.419053530334859, 11.471704838627446, 11.340627622746648, 11.395544261402868, 11.53585910536665, 11.523884582039745, 11.549317611503898, 11.549624985713823, 11.497534883393614, 11.409912176582962, 11.373789493000533, 11.591384279123108, 11.521826240855837, 11.569158329361686, 11.53698606947712, 11.519612955768931, 11.454010054574917, 11.445078932728235, 11.573353380129568, 11.58171413982389, 11.647194233267845, 11.507958684104926, 11.557914615406968, 11.434040693715055, 11.48171052700799, 11.557502023186306, 11.663511802598654, 11.756104970053968, 11.599625425519662, 11.636707071016849, 11.516705681717308, 11.493310448345566, 11.705137838411904, 11.64990184365486, 11.614169854053095, 11.636975952387004, 11.64649232292341, 11.543110411032767, 11.479804955009708, 11.695677318479103, 11.66933079039705, 11.72747389050174, 11.596687961639349, 11.567292873376754, 11.50209857025125, 11.596620700826458, 11.643194163421029, 11.726121717542297, 11.75946083319, 11.657064577722606, 11.68813688192402, 11.585911684230371, 11.611037139386537, 11.731424335891813, 11.68540790186608, 11.806986642874557, 11.675470437890525, 11.696775240508359, 11.712519655154626, 11.638511988612775, 11.750475205142692, 11.777726042302053, 11.811044053009043, 11.706615964860484, 11.700326626243257, 11.703650910074733, 11.646293018318207, 11.770888922326154, 11.864501590303895, 11.80864321065488, 11.70386618504377, 11.756434233675105, 11.64160154685534, 11.705819451682903, 11.816937950584906, 11.79337761081109, 11.900013021119864, 11.773027165533726, 11.820955364700296, 11.761887242238915, 11.695410192340116, 11.844516646849627, 11.868487163780808, 11.895319689757223, 11.841308167699351, 11.789203057897554, 11.704432637854453, 11.754972779585861, 11.888661760713905, 11.877052053939122, 11.937522042895473, 11.804515357988382, 11.836401815430024, 11.798387398493777, 11.780844138800598, 11.930164700274977, 11.918481260453447, 11.954657518560873, 11.94492508817083, 11.872184300940532, 11.836098038769109, 11.809943635614085, 11.868868390036848, 11.879514582641502, 11.99258252822232, 11.909460425472952, 11.91570821658021, 11.848824906914325, 11.861302715371394, 11.978647231504688, 12.021108470977467, 12.013161239796396, 11.963956333342031, 11.922656498376329, 11.883524362146922, 11.92207621301689, 12.051328769342174, 11.985916258433464, 12.030599086454707, 11.97913863616138, 12.01264681906187, 11.91942182007588, 11.887969489123833, 12.021318083894041, 12.039449744215117, 12.111094973450841, 11.974921236199089, 11.962710230061512, 11.916190332207755, 11.887474323684684, 12.079424685533558, 12.077805448363868, 12.113847188259001, 12.01621372508852, 12.028751306627415, 11.901075504118891, 11.945744267140766, 12.103436633796541, 12.076617255535636, 12.167682220094797, 11.99708507249878, 12.085256645668988, 12.024838113040982, 11.973529731264135]}, {\"fill\": \"tonexty\", \"fillcolor\": \"rgba(0, 114, 178, 0.2)\", \"line\": {\"color\": \"#0072B2\", \"width\": 2}, \"mode\": \"lines\", \"name\": \"Predicted\", \"type\": \"scatter\", \"x\": [\"2020-10-13T00:00:00\", \"2020-10-14T00:00:00\", \"2020-10-15T00:00:00\", \"2020-10-16T00:00:00\", \"2020-10-19T00:00:00\", \"2020-10-20T00:00:00\", \"2020-10-21T00:00:00\", \"2020-10-22T00:00:00\", \"2020-10-23T00:00:00\", \"2020-10-26T00:00:00\", \"2020-10-27T00:00:00\", \"2020-10-28T00:00:00\", \"2020-10-29T00:00:00\", \"2020-10-30T00:00:00\", \"2020-11-03T00:00:00\", \"2020-11-04T00:00:00\", \"2020-11-05T00:00:00\", \"2020-11-06T00:00:00\", \"2020-11-09T00:00:00\", \"2020-11-10T00:00:00\", \"2020-11-11T00:00:00\", \"2020-11-12T00:00:00\", \"2020-11-13T00:00:00\", \"2020-11-16T00:00:00\", \"2020-11-17T00:00:00\", \"2020-11-18T00:00:00\", \"2020-11-19T00:00:00\", \"2020-11-23T00:00:00\", \"2020-11-24T00:00:00\", \"2020-11-25T00:00:00\", \"2020-11-26T00:00:00\", \"2020-11-27T00:00:00\", \"2020-11-30T00:00:00\", \"2020-12-01T00:00:00\", \"2020-12-02T00:00:00\", \"2020-12-03T00:00:00\", \"2020-12-04T00:00:00\", \"2020-12-07T00:00:00\", \"2020-12-08T00:00:00\", \"2020-12-09T00:00:00\", \"2020-12-10T00:00:00\", \"2020-12-11T00:00:00\", \"2020-12-14T00:00:00\", \"2020-12-15T00:00:00\", \"2020-12-16T00:00:00\", \"2020-12-17T00:00:00\", \"2020-12-18T00:00:00\", \"2020-12-21T00:00:00\", \"2020-12-22T00:00:00\", \"2020-12-23T00:00:00\", \"2020-12-28T00:00:00\", \"2020-12-29T00:00:00\", \"2020-12-30T00:00:00\", \"2021-01-04T00:00:00\", \"2021-01-05T00:00:00\", \"2021-01-06T00:00:00\", \"2021-01-07T00:00:00\", \"2021-01-08T00:00:00\", \"2021-01-11T00:00:00\", \"2021-01-12T00:00:00\", \"2021-01-13T00:00:00\", \"2021-01-14T00:00:00\", \"2021-01-15T00:00:00\", \"2021-01-18T00:00:00\", \"2021-01-19T00:00:00\", \"2021-01-20T00:00:00\", \"2021-01-21T00:00:00\", \"2021-01-22T00:00:00\", \"2021-01-26T00:00:00\", \"2021-01-27T00:00:00\", \"2021-01-28T00:00:00\", \"2021-01-29T00:00:00\", \"2021-02-01T00:00:00\", \"2021-02-02T00:00:00\", \"2021-02-03T00:00:00\", \"2021-02-04T00:00:00\", \"2021-02-05T00:00:00\", \"2021-02-08T00:00:00\", \"2021-02-09T00:00:00\", \"2021-02-10T00:00:00\", \"2021-02-11T00:00:00\", \"2021-02-12T00:00:00\", \"2021-02-18T00:00:00\", \"2021-02-19T00:00:00\", \"2021-02-22T00:00:00\", \"2021-02-23T00:00:00\", \"2021-02-24T00:00:00\", \"2021-02-25T00:00:00\", \"2021-02-26T00:00:00\", \"2021-03-01T00:00:00\", \"2021-03-02T00:00:00\", \"2021-03-03T00:00:00\", \"2021-03-04T00:00:00\", \"2021-03-05T00:00:00\", \"2021-03-08T00:00:00\", \"2021-03-09T00:00:00\", \"2021-03-10T00:00:00\", \"2021-03-11T00:00:00\", \"2021-03-12T00:00:00\", \"2021-03-15T00:00:00\", \"2021-03-16T00:00:00\", \"2021-03-17T00:00:00\", \"2021-03-18T00:00:00\", \"2021-03-19T00:00:00\", \"2021-03-22T00:00:00\", \"2021-03-23T00:00:00\", \"2021-03-24T00:00:00\", \"2021-03-25T00:00:00\", \"2021-03-26T00:00:00\", \"2021-03-29T00:00:00\", \"2021-03-30T00:00:00\", \"2021-03-31T00:00:00\", \"2021-04-01T00:00:00\", \"2021-04-05T00:00:00\", \"2021-04-06T00:00:00\", \"2021-04-07T00:00:00\", \"2021-04-08T00:00:00\", \"2021-04-09T00:00:00\", \"2021-04-12T00:00:00\", \"2021-04-13T00:00:00\", \"2021-04-14T00:00:00\", \"2021-04-15T00:00:00\", \"2021-04-16T00:00:00\", \"2021-04-19T00:00:00\", \"2021-04-20T00:00:00\", \"2021-04-22T00:00:00\", \"2021-04-23T00:00:00\", \"2021-04-26T00:00:00\", \"2021-04-27T00:00:00\", \"2021-04-28T00:00:00\", \"2021-04-29T00:00:00\", \"2021-04-30T00:00:00\", \"2021-05-03T00:00:00\", \"2021-05-04T00:00:00\", \"2021-05-05T00:00:00\", \"2021-05-06T00:00:00\", \"2021-05-07T00:00:00\", \"2021-05-10T00:00:00\", \"2021-05-11T00:00:00\", \"2021-05-12T00:00:00\", \"2021-05-13T00:00:00\", \"2021-05-14T00:00:00\", \"2021-05-17T00:00:00\", \"2021-05-18T00:00:00\", \"2021-05-19T00:00:00\", \"2021-05-20T00:00:00\", \"2021-05-21T00:00:00\", \"2021-05-24T00:00:00\", \"2021-05-25T00:00:00\", \"2021-05-26T00:00:00\", \"2021-05-27T00:00:00\", \"2021-05-28T00:00:00\", \"2021-05-31T00:00:00\", \"2021-06-01T00:00:00\", \"2021-06-02T00:00:00\", \"2021-06-04T00:00:00\", \"2021-06-07T00:00:00\", \"2021-06-08T00:00:00\", \"2021-06-09T00:00:00\", \"2021-06-10T00:00:00\", \"2021-06-11T00:00:00\", \"2021-06-14T00:00:00\", \"2021-06-15T00:00:00\", \"2021-06-16T00:00:00\", \"2021-06-17T00:00:00\", \"2021-06-18T00:00:00\", \"2021-06-21T00:00:00\", \"2021-06-22T00:00:00\", \"2021-06-23T00:00:00\", \"2021-06-24T00:00:00\", \"2021-06-25T00:00:00\", \"2021-06-28T00:00:00\", \"2021-06-29T00:00:00\", \"2021-06-30T00:00:00\", \"2021-07-01T00:00:00\", \"2021-07-02T00:00:00\", \"2021-07-05T00:00:00\", \"2021-07-06T00:00:00\", \"2021-07-07T00:00:00\", \"2021-07-08T00:00:00\", \"2021-07-12T00:00:00\", \"2021-07-13T00:00:00\", \"2021-07-14T00:00:00\", \"2021-07-15T00:00:00\", \"2021-07-16T00:00:00\", \"2021-07-19T00:00:00\", \"2021-07-20T00:00:00\", \"2021-07-21T00:00:00\", \"2021-07-22T00:00:00\", \"2021-07-23T00:00:00\", \"2021-07-26T00:00:00\", \"2021-07-27T00:00:00\", \"2021-07-28T00:00:00\", \"2021-07-29T00:00:00\", \"2021-07-30T00:00:00\", \"2021-08-02T00:00:00\", \"2021-08-03T00:00:00\", \"2021-08-04T00:00:00\", \"2021-08-05T00:00:00\", \"2021-08-06T00:00:00\", \"2021-08-09T00:00:00\", \"2021-08-10T00:00:00\", \"2021-08-11T00:00:00\", \"2021-08-12T00:00:00\", \"2021-08-13T00:00:00\", \"2021-08-16T00:00:00\", \"2021-08-17T00:00:00\", \"2021-08-18T00:00:00\", \"2021-08-19T00:00:00\", \"2021-08-20T00:00:00\", \"2021-08-23T00:00:00\", \"2021-08-24T00:00:00\", \"2021-08-25T00:00:00\", \"2021-08-26T00:00:00\", \"2021-08-27T00:00:00\", \"2021-08-30T00:00:00\", \"2021-08-31T00:00:00\", \"2021-09-01T00:00:00\", \"2021-09-02T00:00:00\", \"2021-09-03T00:00:00\", \"2021-09-04T00:00:00\", \"2021-09-05T00:00:00\", \"2021-09-06T00:00:00\", \"2021-09-07T00:00:00\", \"2021-09-08T00:00:00\", \"2021-09-09T00:00:00\", \"2021-09-10T00:00:00\", \"2021-09-11T00:00:00\", \"2021-09-12T00:00:00\", \"2021-09-13T00:00:00\", \"2021-09-14T00:00:00\", \"2021-09-15T00:00:00\", \"2021-09-16T00:00:00\", \"2021-09-17T00:00:00\", \"2021-09-18T00:00:00\", \"2021-09-19T00:00:00\", \"2021-09-20T00:00:00\", \"2021-09-21T00:00:00\", \"2021-09-22T00:00:00\", \"2021-09-23T00:00:00\", \"2021-09-24T00:00:00\", \"2021-09-25T00:00:00\", \"2021-09-26T00:00:00\", \"2021-09-27T00:00:00\", \"2021-09-28T00:00:00\", \"2021-09-29T00:00:00\", \"2021-09-30T00:00:00\", \"2021-10-01T00:00:00\", \"2021-10-02T00:00:00\", \"2021-10-03T00:00:00\", \"2021-10-04T00:00:00\", \"2021-10-05T00:00:00\", \"2021-10-06T00:00:00\", \"2021-10-07T00:00:00\", \"2021-10-08T00:00:00\", \"2021-10-09T00:00:00\", \"2021-10-10T00:00:00\", \"2021-10-11T00:00:00\", \"2021-10-12T00:00:00\", \"2021-10-13T00:00:00\", \"2021-10-14T00:00:00\", \"2021-10-15T00:00:00\", \"2021-10-16T00:00:00\", \"2021-10-17T00:00:00\", \"2021-10-18T00:00:00\", \"2021-10-19T00:00:00\", \"2021-10-20T00:00:00\", \"2021-10-21T00:00:00\", \"2021-10-22T00:00:00\", \"2021-10-23T00:00:00\", \"2021-10-24T00:00:00\", \"2021-10-25T00:00:00\", \"2021-10-26T00:00:00\", \"2021-10-27T00:00:00\", \"2021-10-28T00:00:00\", \"2021-10-29T00:00:00\", \"2021-10-30T00:00:00\", \"2021-10-31T00:00:00\", \"2021-11-01T00:00:00\", \"2021-11-02T00:00:00\", \"2021-11-03T00:00:00\", \"2021-11-04T00:00:00\", \"2021-11-05T00:00:00\", \"2021-11-06T00:00:00\", \"2021-11-07T00:00:00\", \"2021-11-08T00:00:00\", \"2021-11-09T00:00:00\", \"2021-11-10T00:00:00\", \"2021-11-11T00:00:00\", \"2021-11-12T00:00:00\", \"2021-11-13T00:00:00\", \"2021-11-14T00:00:00\", \"2021-11-15T00:00:00\", \"2021-11-16T00:00:00\", \"2021-11-17T00:00:00\", \"2021-11-18T00:00:00\", \"2021-11-19T00:00:00\", \"2021-11-20T00:00:00\", \"2021-11-21T00:00:00\", \"2021-11-22T00:00:00\", \"2021-11-23T00:00:00\", \"2021-11-24T00:00:00\", \"2021-11-25T00:00:00\", \"2021-11-26T00:00:00\", \"2021-11-27T00:00:00\", \"2021-11-28T00:00:00\", \"2021-11-29T00:00:00\", \"2021-11-30T00:00:00\", \"2021-12-01T00:00:00\", \"2021-12-02T00:00:00\", \"2021-12-03T00:00:00\", \"2021-12-04T00:00:00\", \"2021-12-05T00:00:00\", \"2021-12-06T00:00:00\", \"2021-12-07T00:00:00\", \"2021-12-08T00:00:00\", \"2021-12-09T00:00:00\", \"2021-12-10T00:00:00\", \"2021-12-11T00:00:00\", \"2021-12-12T00:00:00\", \"2021-12-13T00:00:00\", \"2021-12-14T00:00:00\", \"2021-12-15T00:00:00\", \"2021-12-16T00:00:00\", \"2021-12-17T00:00:00\", \"2021-12-18T00:00:00\", \"2021-12-19T00:00:00\", \"2021-12-20T00:00:00\", \"2021-12-21T00:00:00\", \"2021-12-22T00:00:00\", \"2021-12-23T00:00:00\", \"2021-12-24T00:00:00\", \"2021-12-25T00:00:00\", \"2021-12-26T00:00:00\", \"2021-12-27T00:00:00\", \"2021-12-28T00:00:00\", \"2021-12-29T00:00:00\", \"2021-12-30T00:00:00\", \"2021-12-31T00:00:00\", \"2022-01-01T00:00:00\", \"2022-01-02T00:00:00\", \"2022-01-03T00:00:00\", \"2022-01-04T00:00:00\", \"2022-01-05T00:00:00\", \"2022-01-06T00:00:00\", \"2022-01-07T00:00:00\", \"2022-01-08T00:00:00\", \"2022-01-09T00:00:00\", \"2022-01-10T00:00:00\", \"2022-01-11T00:00:00\", \"2022-01-12T00:00:00\", \"2022-01-13T00:00:00\", \"2022-01-14T00:00:00\", \"2022-01-15T00:00:00\", \"2022-01-16T00:00:00\", \"2022-01-17T00:00:00\", \"2022-01-18T00:00:00\", \"2022-01-19T00:00:00\", \"2022-01-20T00:00:00\", \"2022-01-21T00:00:00\", \"2022-01-22T00:00:00\", \"2022-01-23T00:00:00\", \"2022-01-24T00:00:00\", \"2022-01-25T00:00:00\", \"2022-01-26T00:00:00\", \"2022-01-27T00:00:00\", \"2022-01-28T00:00:00\", \"2022-01-29T00:00:00\", \"2022-01-30T00:00:00\", \"2022-01-31T00:00:00\", \"2022-02-01T00:00:00\", \"2022-02-02T00:00:00\", \"2022-02-03T00:00:00\", \"2022-02-04T00:00:00\", \"2022-02-05T00:00:00\", \"2022-02-06T00:00:00\", \"2022-02-07T00:00:00\", \"2022-02-08T00:00:00\", \"2022-02-09T00:00:00\", \"2022-02-10T00:00:00\", \"2022-02-11T00:00:00\", \"2022-02-12T00:00:00\", \"2022-02-13T00:00:00\", \"2022-02-14T00:00:00\", \"2022-02-15T00:00:00\", \"2022-02-16T00:00:00\", \"2022-02-17T00:00:00\", \"2022-02-18T00:00:00\", \"2022-02-19T00:00:00\", \"2022-02-20T00:00:00\", \"2022-02-21T00:00:00\", \"2022-02-22T00:00:00\", \"2022-02-23T00:00:00\", \"2022-02-24T00:00:00\", \"2022-02-25T00:00:00\", \"2022-02-26T00:00:00\", \"2022-02-27T00:00:00\", \"2022-02-28T00:00:00\", \"2022-03-01T00:00:00\", \"2022-03-02T00:00:00\", \"2022-03-03T00:00:00\", \"2022-03-04T00:00:00\", \"2022-03-05T00:00:00\", \"2022-03-06T00:00:00\", \"2022-03-07T00:00:00\", \"2022-03-08T00:00:00\", \"2022-03-09T00:00:00\", \"2022-03-10T00:00:00\", \"2022-03-11T00:00:00\", \"2022-03-12T00:00:00\", \"2022-03-13T00:00:00\", \"2022-03-14T00:00:00\", \"2022-03-15T00:00:00\", \"2022-03-16T00:00:00\", \"2022-03-17T00:00:00\", \"2022-03-18T00:00:00\", \"2022-03-19T00:00:00\", \"2022-03-20T00:00:00\", \"2022-03-21T00:00:00\", \"2022-03-22T00:00:00\", \"2022-03-23T00:00:00\", \"2022-03-24T00:00:00\", \"2022-03-25T00:00:00\", \"2022-03-26T00:00:00\", \"2022-03-27T00:00:00\", \"2022-03-28T00:00:00\", \"2022-03-29T00:00:00\", \"2022-03-30T00:00:00\", \"2022-03-31T00:00:00\", \"2022-04-01T00:00:00\", \"2022-04-02T00:00:00\", \"2022-04-03T00:00:00\", \"2022-04-04T00:00:00\", \"2022-04-05T00:00:00\", \"2022-04-06T00:00:00\", \"2022-04-07T00:00:00\", \"2022-04-08T00:00:00\", \"2022-04-09T00:00:00\", \"2022-04-10T00:00:00\", \"2022-04-11T00:00:00\", \"2022-04-12T00:00:00\", \"2022-04-13T00:00:00\", \"2022-04-14T00:00:00\", \"2022-04-15T00:00:00\", \"2022-04-16T00:00:00\", \"2022-04-17T00:00:00\", \"2022-04-18T00:00:00\", \"2022-04-19T00:00:00\", \"2022-04-20T00:00:00\", \"2022-04-21T00:00:00\", \"2022-04-22T00:00:00\", \"2022-04-23T00:00:00\", \"2022-04-24T00:00:00\", \"2022-04-25T00:00:00\", \"2022-04-26T00:00:00\", \"2022-04-27T00:00:00\", \"2022-04-28T00:00:00\", \"2022-04-29T00:00:00\", \"2022-04-30T00:00:00\", \"2022-05-01T00:00:00\", \"2022-05-02T00:00:00\", \"2022-05-03T00:00:00\", \"2022-05-04T00:00:00\", \"2022-05-05T00:00:00\", \"2022-05-06T00:00:00\", \"2022-05-07T00:00:00\", \"2022-05-08T00:00:00\", \"2022-05-09T00:00:00\", \"2022-05-10T00:00:00\", \"2022-05-11T00:00:00\", \"2022-05-12T00:00:00\", \"2022-05-13T00:00:00\", \"2022-05-14T00:00:00\", \"2022-05-15T00:00:00\", \"2022-05-16T00:00:00\", \"2022-05-17T00:00:00\", \"2022-05-18T00:00:00\", \"2022-05-19T00:00:00\", \"2022-05-20T00:00:00\", \"2022-05-21T00:00:00\", \"2022-05-22T00:00:00\", \"2022-05-23T00:00:00\", \"2022-05-24T00:00:00\", \"2022-05-25T00:00:00\", \"2022-05-26T00:00:00\", \"2022-05-27T00:00:00\", \"2022-05-28T00:00:00\", \"2022-05-29T00:00:00\", \"2022-05-30T00:00:00\", \"2022-05-31T00:00:00\", \"2022-06-01T00:00:00\", \"2022-06-02T00:00:00\", \"2022-06-03T00:00:00\", \"2022-06-04T00:00:00\", \"2022-06-05T00:00:00\", \"2022-06-06T00:00:00\", \"2022-06-07T00:00:00\", \"2022-06-08T00:00:00\", \"2022-06-09T00:00:00\", \"2022-06-10T00:00:00\", \"2022-06-11T00:00:00\", \"2022-06-12T00:00:00\", \"2022-06-13T00:00:00\", \"2022-06-14T00:00:00\", \"2022-06-15T00:00:00\", \"2022-06-16T00:00:00\", \"2022-06-17T00:00:00\", \"2022-06-18T00:00:00\", \"2022-06-19T00:00:00\", \"2022-06-20T00:00:00\", \"2022-06-21T00:00:00\", \"2022-06-22T00:00:00\", \"2022-06-23T00:00:00\", \"2022-06-24T00:00:00\", \"2022-06-25T00:00:00\", \"2022-06-26T00:00:00\", \"2022-06-27T00:00:00\", \"2022-06-28T00:00:00\", \"2022-06-29T00:00:00\", \"2022-06-30T00:00:00\", \"2022-07-01T00:00:00\", \"2022-07-02T00:00:00\", \"2022-07-03T00:00:00\", \"2022-07-04T00:00:00\", \"2022-07-05T00:00:00\", \"2022-07-06T00:00:00\", \"2022-07-07T00:00:00\", \"2022-07-08T00:00:00\", \"2022-07-09T00:00:00\", \"2022-07-10T00:00:00\", \"2022-07-11T00:00:00\", \"2022-07-12T00:00:00\", \"2022-07-13T00:00:00\", \"2022-07-14T00:00:00\", \"2022-07-15T00:00:00\", \"2022-07-16T00:00:00\", \"2022-07-17T00:00:00\", \"2022-07-18T00:00:00\", \"2022-07-19T00:00:00\", \"2022-07-20T00:00:00\", \"2022-07-21T00:00:00\", \"2022-07-22T00:00:00\", \"2022-07-23T00:00:00\", \"2022-07-24T00:00:00\", \"2022-07-25T00:00:00\", \"2022-07-26T00:00:00\", \"2022-07-27T00:00:00\", \"2022-07-28T00:00:00\", \"2022-07-29T00:00:00\", \"2022-07-30T00:00:00\", \"2022-07-31T00:00:00\", \"2022-08-01T00:00:00\", \"2022-08-02T00:00:00\", \"2022-08-03T00:00:00\", \"2022-08-04T00:00:00\", \"2022-08-05T00:00:00\", \"2022-08-06T00:00:00\", \"2022-08-07T00:00:00\", \"2022-08-08T00:00:00\", \"2022-08-09T00:00:00\", \"2022-08-10T00:00:00\", \"2022-08-11T00:00:00\", \"2022-08-12T00:00:00\", \"2022-08-13T00:00:00\", \"2022-08-14T00:00:00\", \"2022-08-15T00:00:00\", \"2022-08-16T00:00:00\", \"2022-08-17T00:00:00\", \"2022-08-18T00:00:00\", \"2022-08-19T00:00:00\", \"2022-08-20T00:00:00\", \"2022-08-21T00:00:00\", \"2022-08-22T00:00:00\", \"2022-08-23T00:00:00\", \"2022-08-24T00:00:00\", \"2022-08-25T00:00:00\", \"2022-08-26T00:00:00\", \"2022-08-27T00:00:00\", \"2022-08-28T00:00:00\"], \"y\": [9.876516740294647, 9.921013691172028, 9.837915314502922, 9.843188301849114, 9.91140498486422, 9.917035065383633, 9.961532016261089, 9.878433639592107, 9.883706620295937, 9.951923283384948, 9.957553357262015, 10.002050301497198, 9.918951918186151, 9.924224898890085, 9.998071635856041, 10.042568578369952, 9.959470193337497, 9.964743172319979, 10.032959830244994, 10.03858990240105, 10.083086844914963, 9.999988459882685, 10.005246714019938, 10.073419197408247, 10.079034544718908, 10.123516762387544, 10.040403652509555, 10.113834390035498, 10.119449737345958, 10.163807814978197, 10.080570565063892, 10.08570467916495, 10.153504742444838, 10.158995949719007, 10.203354027351324, 10.120116777437156, 10.124937759979947, 10.191798428584436, 10.19697650430081, 10.241021450374763, 10.157471068902348, 10.162292051445254, 10.229152720049887, 10.233890807235532, 10.27749576477905, 10.193505394776246, 10.197886388788419, 10.263427091801981, 10.26816517898773, 10.311770136531159, 10.29563244060244, 10.299956723197656, 10.343147876150802, 10.327010180222185, 10.33133446281735, 10.374525615770516, 10.290121441177325, 10.293926294913499, 10.357738577098498, 10.36190052400823, 10.404929341275578, 10.32036283099663, 10.324167684732707, 10.387979966917744, 10.392141912391336, 10.435170728222607, 10.350604216507588, 10.354409068807685, 10.422383292157875, 10.465412107989245, 10.38084559627408, 10.384650448534744, 10.448462726292766, 10.452624671726628, 10.495653487518421, 10.411086975763668, 10.41489182802417, 10.47870410578258, 10.482866051302274, 10.525894867180023, 10.441328355511354, 10.445133207857769, 10.47156973560267, 10.475374587949002, 10.53918686596543, 10.54334881172249, 10.586377627837704, 10.501811116406662, 10.505615968990451, 10.569428247719198, 10.573590193476676, 10.61661900941452, 10.532052497805973, 10.535857350212654, 10.599669628409218, 10.6038315739892, 10.646860389927022, 10.562293878318652, 10.566098730662066, 10.629911008668914, 10.63407295418555, 10.677101770060256, 10.592535258388413, 10.596340110731862, 10.660152388738524, 10.664314334871898, 10.707343151362926, 10.622776640307405, 10.626581493267302, 10.690393773123235, 10.694555719256586, 10.73758453574769, 10.653018024678648, 10.720635157439967, 10.724797103559455, 10.76782592003681, 10.6832594089678, 10.687064261914163, 10.750876541729072, 10.755038490046607, 10.798067308721995, 10.713500799851063, 10.717305654995158, 10.781117941404403, 10.785279889721977, 10.743742199526453, 10.747547058329134, 10.811359355713819, 10.81552130768976, 10.858550130023618, 10.773983624811335, 10.777788483614003, 10.841600780998675, 10.845762741967325, 10.888791573293958, 10.80422507707423, 10.808029944869485, 10.871842269232436, 10.876004230201413, 10.919033061527994, 10.834466565364432, 10.83827143321595, 10.902083757747219, 10.90624571877233, 10.94927455015511, 10.864708053991592, 10.868512921843248, 10.932325246705183, 10.93648720784028, 10.9795160393333, 10.894949543279866, 10.89875441124181, 10.962566736103586, 10.966728697238693, 11.009757528705983, 10.928995900562775, 10.99280822534774, 10.996970186457006, 11.039999017924307, 10.955432521845188, 10.959237389781208, 11.023049714371474, 11.02721167541573, 11.070240506818148, 10.985674010674128, 10.989478878545402, 11.053291203135627, 11.057453164179803, 11.100481995741562, 11.015915499757062, 11.019720367787682, 11.083532692855893, 11.087694654059867, 11.130723485621703, 11.046156989637211, 11.049961857656019, 11.11377418268928, 11.11793614388149, 11.16096497543152, 11.076398479435358, 11.144015672487525, 11.14817763367962, 11.191206465229772, 11.106639969233495, 11.110444837252123, 11.17425716228539, 11.178419123477815, 11.221447955027875, 11.13688145903151, 11.140686327050373, 11.204498652083478, 11.20866061327588, 11.251689444826017, 11.167122948829789, 11.17092781684866, 11.234740141881874, 11.238902103074073, 11.281930934624086, 11.197364438627803, 11.201169306646712, 11.264981631679964, 11.269143592872176, 11.312172424422226, 11.227605928425954, 11.231410796444763, 11.295223121478054, 11.299385082670305, 11.342413914220478, 11.2578474182241, 11.261652286243013, 11.325464611276448, 11.329626572468435, 11.37265540401862, 11.288088908022367, 11.291893776041265, 11.355706101074539, 11.35986806226663, 11.402896893816685, 11.318330397820384, 11.322135265839115, 11.250664902626196, 11.254985115459977, 11.385947590872405, 11.390109552064695, 11.433138383614827, 11.348571887618663, 11.352376755637367, 11.280906392424294, 11.285226605258114, 11.416189080670494, 11.42035104186286, 11.463379873412931, 11.378813377416678, 11.382618245435655, 11.311147882222683, 11.315468095056465, 11.44643057046889, 11.450592531661055, 11.493621363211183, 11.409054867214827, 11.412859735233704, 11.341389372020616, 11.345709584854392, 11.47667206026698, 11.480834021459184, 11.523862853009287, 11.439296357012843, 11.443101225031755, 11.37163086181855, 11.37595107465248, 11.50691355006522, 11.511075511257316, 11.55410434280743, 11.469537846811122, 11.473342714830244, 11.40187235161694, 11.40619256445062, 11.537155039863087, 11.541317001055445, 11.584345832605495, 11.499779336609258, 11.503584204628092, 11.432113841414873, 11.436434054248972, 11.56739652966133, 11.57155849085361, 11.614587322403636, 11.530020826407405, 11.533825694426344, 11.462355331213034, 11.466675544046897, 11.597638019459419, 11.601799980651677, 11.644828812201778, 11.560262316205552, 11.564067184224397, 11.49259682101136, 11.496917033845248, 11.627879509257816, 11.63204147044987, 11.675070301999881, 11.59050380600382, 11.594308674022647, 11.522838310809522, 11.5271585236436, 11.658120999055907, 11.662282960248, 11.705311791798135, 11.620745295801836, 11.624550163820498, 11.553079800607456, 11.557400013441264, 11.688362488853771, 11.69252445004613, 11.73555328159624, 11.650986785600114, 11.65479165361875, 11.583321290405616, 11.587641503239615, 11.718603978651862, 11.722765939844262, 11.76579477139438, 11.681228275398132, 11.685033143417035, 11.613562780203779, 11.617882993037753, 11.748845468450257, 11.753007429642455, 11.796036261192594, 11.711469765196147, 11.715274633215087, 11.643804270001938, 11.648124482835891, 11.779086958248346, 11.783248919440492, 11.826277750990737, 11.741711254994295, 11.74551612301314, 11.674045759800036, 11.678365972633769, 11.809328448046436, 11.813490409238687, 11.85651924078884, 11.771952744792443, 11.775757612811386, 11.704287249598428, 11.708607462432118, 11.83956993784483, 11.843731899036815, 11.886760730586944, 11.80219423459071, 11.80599910260924, 11.73452873939636, 11.738848952230258, 11.86981142764292, 11.873973388834981, 11.917002220385049, 11.832435724388725, 11.836240592407492, 11.764770229194522, 11.769090442028396, 11.900052917440785, 11.904214878633045, 11.947243710183189, 11.862677214187006, 11.86648208220574, 11.795011718992848, 11.799331931826535, 11.930294407239028, 11.93445636843124, 11.977485199981293, 11.89291870398502, 11.89672357200403, 11.825253208791008, 11.829573421624886, 11.960535897037271, 11.964697858229435, 12.007726689779544, 11.923160193783168, 11.926965061802079, 11.855494698588942, 11.859814911422813, 11.990777386834983, 11.9949393480275, 12.037968179577648, 11.953401683581315, 11.95720655160013, 11.885736188386876, 11.890056401220901, 12.021018876633226, 12.025180837825696, 12.068209669375792, 11.983643173379463, 11.987448041398618, 11.915977678185264, 11.92029789101904, 12.051260366431471, 12.055422327623827, 12.098451159173855, 12.013884663177599, 12.017689531196469, 11.946219167983198, 11.95053938081718, 12.081501856229712, 12.085663817421926, 12.128692648971999, 12.044126152975746, 12.047931020994717, 11.976460657781361, 11.980780870615316, 12.111743346027803, 12.115905307220057, 12.15893413877014, 12.074367642773893, 12.078172510792772, 12.006702147579686, 12.011022360413406, 12.141984835826198, 12.146146797018252, 12.189175628568206, 12.104609132572161, 12.108414000590821, 12.036943637377847, 12.041263850211758, 12.172226325624287, 12.17638828681638, 12.219417118366495, 12.134850622370177, 12.13865549038887, 12.067185127175781, 12.071505340009683, 12.202467815422153, 12.20662977661451, 12.2496586081646, 12.165092112168455, 12.168896980187125, 12.09742661697417, 12.101746829808034, 12.232709305220396, 12.236871266412642, 12.279900097962742, 12.195333601966473, 12.19913846998541, 12.127668106772267, 12.131988319606172, 12.262950795018638, 12.267112756210835, 12.310141587760956, 12.22557509176449, 12.22937995978346, 12.15790959657043, 12.16222980940431, 12.293192284816728, 12.297354246008872, 12.340383077559098, 12.255816581562767, 12.259621449581514, 12.18815108636859, 12.19247129920219, 12.323433774614818, 12.327595735807067, 12.3706245673572, 12.286058071360785, 12.289862939379764, 12.218392576166753, 12.22271278900054, 12.353675264413212, 12.357837225605195, 12.400866057155305, 12.316299561159052, 12.32010442917785, 12.248634065964687, 12.252954278798466, 12.383916754211302, 12.388078715403298, 12.43110754695341, 12.346541050957066, 12.350345918976103, 12.278875555762847, 12.283195768596816, 12.414158244009169, 12.418320205201429, 12.46134903675155, 12.376782540755347, 12.380587408774353, 12.309117045561173, 12.313437258394956, 12.444399733807412, 12.448561694999622, 12.491590526549617, 12.407024030553364, 12.410828898572202, 12.339358535359334, 12.343678748193305, 12.474641223605655, 12.478803184797815, 12.521832016347908, 12.43726552035151, 12.441070388370456, 12.369600025157268, 12.373920237991232, 12.504882713403367, 12.509044674595883, 12.55207350614601, 12.467507010149777, 12.471311878168507, 12.399841514955659, 12.40416172778932, 12.535124203201763, 12.539286164394076, 12.582314995944152, 12.497748499947926, 12.501553367966991, 12.430083004753591, 12.434403217587459, 12.565365692999853, 12.569527654192207, 12.61255648574222, 12.52798998974594, 12.531794857764845, 12.460324494551523, 12.464644707385599, 12.595607182798094, 12.599769143990306, 12.64279797554036, 12.55823147954422, 12.562036347563094, 12.490565984349915, 12.494886197183476, 12.625848672596184, 12.630010633788437, 12.67303946533865, 12.588472969342238, 12.592277837361145, 12.520807474148011, 12.525127686981826, 12.65609016239458, 12.66025212358663, 12.703280955136716, 12.618714459140502, 12.622519327159196, 12.55104896394617, 12.555369176779754, 12.686331652192669, 12.690493613384696, 12.733522444934858, 12.64895594893852, 12.652760816957247, 12.581290453744106, 12.585610666578104, 12.716573141990535, 12.720735103182891, 12.763763934732962, 12.679197438736798, 12.683002306755498, 12.611531943542662, 12.615852156376453, 12.746814631788778, 12.750976592980994, 12.794005424531065, 12.709438928534816, 12.713243796553588, 12.641773433340592, 12.646093646174593, 12.777056121587021, 12.781218082779185, 12.824246914329317, 12.739680418332831, 12.743485286351836, 12.672014923138756, 12.676335135972732, 12.80729761138511, 12.811459572577252, 12.854488404127459, 12.76992190813111, 12.773726776149887, 12.702256412936919, 12.706576625770609, 12.837539101183507, 12.841701062375448, 12.884729893925524, 12.800163397929126, 12.803968265948376, 12.732497902735076, 12.73681811556896, 12.867780590981598, 12.871942552173577, 12.914971383723667, 12.830404887727394, 12.834209755746224, 12.762739392533012, 12.767059605366887, 12.898022080779308, 12.902184041971678, 12.945212873521772, 12.86064637752554, 12.864451245544476, 12.792980882331399, 12.797301095165237]}, {\"fill\": \"tonexty\", \"fillcolor\": \"rgba(0, 114, 178, 0.2)\", \"hoverinfo\": \"skip\", \"line\": {\"width\": 0}, \"mode\": \"lines\", \"type\": \"scatter\", \"x\": [\"2020-10-13T00:00:00\", \"2020-10-14T00:00:00\", \"2020-10-15T00:00:00\", \"2020-10-16T00:00:00\", \"2020-10-19T00:00:00\", \"2020-10-20T00:00:00\", \"2020-10-21T00:00:00\", \"2020-10-22T00:00:00\", \"2020-10-23T00:00:00\", \"2020-10-26T00:00:00\", \"2020-10-27T00:00:00\", \"2020-10-28T00:00:00\", \"2020-10-29T00:00:00\", \"2020-10-30T00:00:00\", \"2020-11-03T00:00:00\", \"2020-11-04T00:00:00\", \"2020-11-05T00:00:00\", \"2020-11-06T00:00:00\", \"2020-11-09T00:00:00\", \"2020-11-10T00:00:00\", \"2020-11-11T00:00:00\", \"2020-11-12T00:00:00\", \"2020-11-13T00:00:00\", \"2020-11-16T00:00:00\", \"2020-11-17T00:00:00\", \"2020-11-18T00:00:00\", \"2020-11-19T00:00:00\", \"2020-11-23T00:00:00\", \"2020-11-24T00:00:00\", \"2020-11-25T00:00:00\", \"2020-11-26T00:00:00\", \"2020-11-27T00:00:00\", \"2020-11-30T00:00:00\", \"2020-12-01T00:00:00\", \"2020-12-02T00:00:00\", \"2020-12-03T00:00:00\", \"2020-12-04T00:00:00\", \"2020-12-07T00:00:00\", \"2020-12-08T00:00:00\", \"2020-12-09T00:00:00\", \"2020-12-10T00:00:00\", \"2020-12-11T00:00:00\", \"2020-12-14T00:00:00\", \"2020-12-15T00:00:00\", \"2020-12-16T00:00:00\", \"2020-12-17T00:00:00\", \"2020-12-18T00:00:00\", \"2020-12-21T00:00:00\", \"2020-12-22T00:00:00\", \"2020-12-23T00:00:00\", \"2020-12-28T00:00:00\", \"2020-12-29T00:00:00\", \"2020-12-30T00:00:00\", \"2021-01-04T00:00:00\", \"2021-01-05T00:00:00\", \"2021-01-06T00:00:00\", \"2021-01-07T00:00:00\", \"2021-01-08T00:00:00\", \"2021-01-11T00:00:00\", \"2021-01-12T00:00:00\", \"2021-01-13T00:00:00\", \"2021-01-14T00:00:00\", \"2021-01-15T00:00:00\", \"2021-01-18T00:00:00\", \"2021-01-19T00:00:00\", \"2021-01-20T00:00:00\", \"2021-01-21T00:00:00\", \"2021-01-22T00:00:00\", \"2021-01-26T00:00:00\", \"2021-01-27T00:00:00\", \"2021-01-28T00:00:00\", \"2021-01-29T00:00:00\", \"2021-02-01T00:00:00\", \"2021-02-02T00:00:00\", \"2021-02-03T00:00:00\", \"2021-02-04T00:00:00\", \"2021-02-05T00:00:00\", \"2021-02-08T00:00:00\", \"2021-02-09T00:00:00\", \"2021-02-10T00:00:00\", \"2021-02-11T00:00:00\", \"2021-02-12T00:00:00\", \"2021-02-18T00:00:00\", \"2021-02-19T00:00:00\", \"2021-02-22T00:00:00\", \"2021-02-23T00:00:00\", \"2021-02-24T00:00:00\", \"2021-02-25T00:00:00\", \"2021-02-26T00:00:00\", \"2021-03-01T00:00:00\", \"2021-03-02T00:00:00\", \"2021-03-03T00:00:00\", \"2021-03-04T00:00:00\", \"2021-03-05T00:00:00\", \"2021-03-08T00:00:00\", \"2021-03-09T00:00:00\", \"2021-03-10T00:00:00\", \"2021-03-11T00:00:00\", \"2021-03-12T00:00:00\", \"2021-03-15T00:00:00\", \"2021-03-16T00:00:00\", \"2021-03-17T00:00:00\", \"2021-03-18T00:00:00\", \"2021-03-19T00:00:00\", \"2021-03-22T00:00:00\", \"2021-03-23T00:00:00\", \"2021-03-24T00:00:00\", \"2021-03-25T00:00:00\", \"2021-03-26T00:00:00\", \"2021-03-29T00:00:00\", \"2021-03-30T00:00:00\", \"2021-03-31T00:00:00\", \"2021-04-01T00:00:00\", \"2021-04-05T00:00:00\", \"2021-04-06T00:00:00\", \"2021-04-07T00:00:00\", \"2021-04-08T00:00:00\", \"2021-04-09T00:00:00\", \"2021-04-12T00:00:00\", \"2021-04-13T00:00:00\", \"2021-04-14T00:00:00\", \"2021-04-15T00:00:00\", \"2021-04-16T00:00:00\", \"2021-04-19T00:00:00\", \"2021-04-20T00:00:00\", \"2021-04-22T00:00:00\", \"2021-04-23T00:00:00\", \"2021-04-26T00:00:00\", \"2021-04-27T00:00:00\", \"2021-04-28T00:00:00\", \"2021-04-29T00:00:00\", \"2021-04-30T00:00:00\", \"2021-05-03T00:00:00\", \"2021-05-04T00:00:00\", \"2021-05-05T00:00:00\", \"2021-05-06T00:00:00\", \"2021-05-07T00:00:00\", \"2021-05-10T00:00:00\", \"2021-05-11T00:00:00\", \"2021-05-12T00:00:00\", \"2021-05-13T00:00:00\", \"2021-05-14T00:00:00\", \"2021-05-17T00:00:00\", \"2021-05-18T00:00:00\", \"2021-05-19T00:00:00\", \"2021-05-20T00:00:00\", \"2021-05-21T00:00:00\", \"2021-05-24T00:00:00\", \"2021-05-25T00:00:00\", \"2021-05-26T00:00:00\", \"2021-05-27T00:00:00\", \"2021-05-28T00:00:00\", \"2021-05-31T00:00:00\", \"2021-06-01T00:00:00\", \"2021-06-02T00:00:00\", \"2021-06-04T00:00:00\", \"2021-06-07T00:00:00\", \"2021-06-08T00:00:00\", \"2021-06-09T00:00:00\", \"2021-06-10T00:00:00\", \"2021-06-11T00:00:00\", \"2021-06-14T00:00:00\", \"2021-06-15T00:00:00\", \"2021-06-16T00:00:00\", \"2021-06-17T00:00:00\", \"2021-06-18T00:00:00\", \"2021-06-21T00:00:00\", \"2021-06-22T00:00:00\", \"2021-06-23T00:00:00\", \"2021-06-24T00:00:00\", \"2021-06-25T00:00:00\", \"2021-06-28T00:00:00\", \"2021-06-29T00:00:00\", \"2021-06-30T00:00:00\", \"2021-07-01T00:00:00\", \"2021-07-02T00:00:00\", \"2021-07-05T00:00:00\", \"2021-07-06T00:00:00\", \"2021-07-07T00:00:00\", \"2021-07-08T00:00:00\", \"2021-07-12T00:00:00\", \"2021-07-13T00:00:00\", \"2021-07-14T00:00:00\", \"2021-07-15T00:00:00\", \"2021-07-16T00:00:00\", \"2021-07-19T00:00:00\", \"2021-07-20T00:00:00\", \"2021-07-21T00:00:00\", \"2021-07-22T00:00:00\", \"2021-07-23T00:00:00\", \"2021-07-26T00:00:00\", \"2021-07-27T00:00:00\", \"2021-07-28T00:00:00\", \"2021-07-29T00:00:00\", \"2021-07-30T00:00:00\", \"2021-08-02T00:00:00\", \"2021-08-03T00:00:00\", \"2021-08-04T00:00:00\", \"2021-08-05T00:00:00\", \"2021-08-06T00:00:00\", \"2021-08-09T00:00:00\", \"2021-08-10T00:00:00\", \"2021-08-11T00:00:00\", \"2021-08-12T00:00:00\", \"2021-08-13T00:00:00\", \"2021-08-16T00:00:00\", \"2021-08-17T00:00:00\", \"2021-08-18T00:00:00\", \"2021-08-19T00:00:00\", \"2021-08-20T00:00:00\", \"2021-08-23T00:00:00\", \"2021-08-24T00:00:00\", \"2021-08-25T00:00:00\", \"2021-08-26T00:00:00\", \"2021-08-27T00:00:00\", \"2021-08-30T00:00:00\", \"2021-08-31T00:00:00\", \"2021-09-01T00:00:00\", \"2021-09-02T00:00:00\", \"2021-09-03T00:00:00\", \"2021-09-04T00:00:00\", \"2021-09-05T00:00:00\", \"2021-09-06T00:00:00\", \"2021-09-07T00:00:00\", \"2021-09-08T00:00:00\", \"2021-09-09T00:00:00\", \"2021-09-10T00:00:00\", \"2021-09-11T00:00:00\", \"2021-09-12T00:00:00\", \"2021-09-13T00:00:00\", \"2021-09-14T00:00:00\", \"2021-09-15T00:00:00\", \"2021-09-16T00:00:00\", \"2021-09-17T00:00:00\", \"2021-09-18T00:00:00\", \"2021-09-19T00:00:00\", \"2021-09-20T00:00:00\", \"2021-09-21T00:00:00\", \"2021-09-22T00:00:00\", \"2021-09-23T00:00:00\", \"2021-09-24T00:00:00\", \"2021-09-25T00:00:00\", \"2021-09-26T00:00:00\", \"2021-09-27T00:00:00\", \"2021-09-28T00:00:00\", \"2021-09-29T00:00:00\", \"2021-09-30T00:00:00\", \"2021-10-01T00:00:00\", \"2021-10-02T00:00:00\", \"2021-10-03T00:00:00\", \"2021-10-04T00:00:00\", \"2021-10-05T00:00:00\", \"2021-10-06T00:00:00\", \"2021-10-07T00:00:00\", \"2021-10-08T00:00:00\", \"2021-10-09T00:00:00\", \"2021-10-10T00:00:00\", \"2021-10-11T00:00:00\", \"2021-10-12T00:00:00\", \"2021-10-13T00:00:00\", \"2021-10-14T00:00:00\", \"2021-10-15T00:00:00\", \"2021-10-16T00:00:00\", \"2021-10-17T00:00:00\", \"2021-10-18T00:00:00\", \"2021-10-19T00:00:00\", \"2021-10-20T00:00:00\", \"2021-10-21T00:00:00\", \"2021-10-22T00:00:00\", \"2021-10-23T00:00:00\", \"2021-10-24T00:00:00\", \"2021-10-25T00:00:00\", \"2021-10-26T00:00:00\", \"2021-10-27T00:00:00\", \"2021-10-28T00:00:00\", \"2021-10-29T00:00:00\", \"2021-10-30T00:00:00\", \"2021-10-31T00:00:00\", \"2021-11-01T00:00:00\", \"2021-11-02T00:00:00\", \"2021-11-03T00:00:00\", \"2021-11-04T00:00:00\", \"2021-11-05T00:00:00\", \"2021-11-06T00:00:00\", \"2021-11-07T00:00:00\", \"2021-11-08T00:00:00\", \"2021-11-09T00:00:00\", \"2021-11-10T00:00:00\", \"2021-11-11T00:00:00\", \"2021-11-12T00:00:00\", \"2021-11-13T00:00:00\", \"2021-11-14T00:00:00\", \"2021-11-15T00:00:00\", \"2021-11-16T00:00:00\", \"2021-11-17T00:00:00\", \"2021-11-18T00:00:00\", \"2021-11-19T00:00:00\", \"2021-11-20T00:00:00\", \"2021-11-21T00:00:00\", \"2021-11-22T00:00:00\", \"2021-11-23T00:00:00\", \"2021-11-24T00:00:00\", \"2021-11-25T00:00:00\", \"2021-11-26T00:00:00\", \"2021-11-27T00:00:00\", \"2021-11-28T00:00:00\", \"2021-11-29T00:00:00\", \"2021-11-30T00:00:00\", \"2021-12-01T00:00:00\", \"2021-12-02T00:00:00\", \"2021-12-03T00:00:00\", \"2021-12-04T00:00:00\", \"2021-12-05T00:00:00\", \"2021-12-06T00:00:00\", \"2021-12-07T00:00:00\", \"2021-12-08T00:00:00\", \"2021-12-09T00:00:00\", \"2021-12-10T00:00:00\", \"2021-12-11T00:00:00\", \"2021-12-12T00:00:00\", \"2021-12-13T00:00:00\", \"2021-12-14T00:00:00\", \"2021-12-15T00:00:00\", \"2021-12-16T00:00:00\", \"2021-12-17T00:00:00\", \"2021-12-18T00:00:00\", \"2021-12-19T00:00:00\", \"2021-12-20T00:00:00\", \"2021-12-21T00:00:00\", \"2021-12-22T00:00:00\", \"2021-12-23T00:00:00\", \"2021-12-24T00:00:00\", \"2021-12-25T00:00:00\", \"2021-12-26T00:00:00\", \"2021-12-27T00:00:00\", \"2021-12-28T00:00:00\", \"2021-12-29T00:00:00\", \"2021-12-30T00:00:00\", \"2021-12-31T00:00:00\", \"2022-01-01T00:00:00\", \"2022-01-02T00:00:00\", \"2022-01-03T00:00:00\", \"2022-01-04T00:00:00\", \"2022-01-05T00:00:00\", \"2022-01-06T00:00:00\", \"2022-01-07T00:00:00\", \"2022-01-08T00:00:00\", \"2022-01-09T00:00:00\", \"2022-01-10T00:00:00\", \"2022-01-11T00:00:00\", \"2022-01-12T00:00:00\", \"2022-01-13T00:00:00\", \"2022-01-14T00:00:00\", \"2022-01-15T00:00:00\", \"2022-01-16T00:00:00\", \"2022-01-17T00:00:00\", \"2022-01-18T00:00:00\", \"2022-01-19T00:00:00\", \"2022-01-20T00:00:00\", \"2022-01-21T00:00:00\", \"2022-01-22T00:00:00\", \"2022-01-23T00:00:00\", \"2022-01-24T00:00:00\", \"2022-01-25T00:00:00\", \"2022-01-26T00:00:00\", \"2022-01-27T00:00:00\", \"2022-01-28T00:00:00\", \"2022-01-29T00:00:00\", \"2022-01-30T00:00:00\", \"2022-01-31T00:00:00\", \"2022-02-01T00:00:00\", \"2022-02-02T00:00:00\", \"2022-02-03T00:00:00\", \"2022-02-04T00:00:00\", \"2022-02-05T00:00:00\", \"2022-02-06T00:00:00\", \"2022-02-07T00:00:00\", \"2022-02-08T00:00:00\", \"2022-02-09T00:00:00\", \"2022-02-10T00:00:00\", \"2022-02-11T00:00:00\", \"2022-02-12T00:00:00\", \"2022-02-13T00:00:00\", \"2022-02-14T00:00:00\", \"2022-02-15T00:00:00\", \"2022-02-16T00:00:00\", \"2022-02-17T00:00:00\", \"2022-02-18T00:00:00\", \"2022-02-19T00:00:00\", \"2022-02-20T00:00:00\", \"2022-02-21T00:00:00\", \"2022-02-22T00:00:00\", \"2022-02-23T00:00:00\", \"2022-02-24T00:00:00\", \"2022-02-25T00:00:00\", \"2022-02-26T00:00:00\", \"2022-02-27T00:00:00\", \"2022-02-28T00:00:00\", \"2022-03-01T00:00:00\", \"2022-03-02T00:00:00\", \"2022-03-03T00:00:00\", \"2022-03-04T00:00:00\", \"2022-03-05T00:00:00\", \"2022-03-06T00:00:00\", \"2022-03-07T00:00:00\", \"2022-03-08T00:00:00\", \"2022-03-09T00:00:00\", \"2022-03-10T00:00:00\", \"2022-03-11T00:00:00\", \"2022-03-12T00:00:00\", \"2022-03-13T00:00:00\", \"2022-03-14T00:00:00\", \"2022-03-15T00:00:00\", \"2022-03-16T00:00:00\", \"2022-03-17T00:00:00\", \"2022-03-18T00:00:00\", \"2022-03-19T00:00:00\", \"2022-03-20T00:00:00\", \"2022-03-21T00:00:00\", \"2022-03-22T00:00:00\", \"2022-03-23T00:00:00\", \"2022-03-24T00:00:00\", \"2022-03-25T00:00:00\", \"2022-03-26T00:00:00\", \"2022-03-27T00:00:00\", \"2022-03-28T00:00:00\", \"2022-03-29T00:00:00\", \"2022-03-30T00:00:00\", \"2022-03-31T00:00:00\", \"2022-04-01T00:00:00\", \"2022-04-02T00:00:00\", \"2022-04-03T00:00:00\", \"2022-04-04T00:00:00\", \"2022-04-05T00:00:00\", \"2022-04-06T00:00:00\", \"2022-04-07T00:00:00\", \"2022-04-08T00:00:00\", \"2022-04-09T00:00:00\", \"2022-04-10T00:00:00\", \"2022-04-11T00:00:00\", \"2022-04-12T00:00:00\", \"2022-04-13T00:00:00\", \"2022-04-14T00:00:00\", \"2022-04-15T00:00:00\", \"2022-04-16T00:00:00\", \"2022-04-17T00:00:00\", \"2022-04-18T00:00:00\", \"2022-04-19T00:00:00\", \"2022-04-20T00:00:00\", \"2022-04-21T00:00:00\", \"2022-04-22T00:00:00\", \"2022-04-23T00:00:00\", \"2022-04-24T00:00:00\", \"2022-04-25T00:00:00\", \"2022-04-26T00:00:00\", \"2022-04-27T00:00:00\", \"2022-04-28T00:00:00\", \"2022-04-29T00:00:00\", \"2022-04-30T00:00:00\", \"2022-05-01T00:00:00\", \"2022-05-02T00:00:00\", \"2022-05-03T00:00:00\", \"2022-05-04T00:00:00\", \"2022-05-05T00:00:00\", \"2022-05-06T00:00:00\", \"2022-05-07T00:00:00\", \"2022-05-08T00:00:00\", \"2022-05-09T00:00:00\", \"2022-05-10T00:00:00\", \"2022-05-11T00:00:00\", \"2022-05-12T00:00:00\", \"2022-05-13T00:00:00\", \"2022-05-14T00:00:00\", \"2022-05-15T00:00:00\", \"2022-05-16T00:00:00\", \"2022-05-17T00:00:00\", \"2022-05-18T00:00:00\", \"2022-05-19T00:00:00\", \"2022-05-20T00:00:00\", \"2022-05-21T00:00:00\", \"2022-05-22T00:00:00\", \"2022-05-23T00:00:00\", \"2022-05-24T00:00:00\", \"2022-05-25T00:00:00\", \"2022-05-26T00:00:00\", \"2022-05-27T00:00:00\", \"2022-05-28T00:00:00\", \"2022-05-29T00:00:00\", \"2022-05-30T00:00:00\", \"2022-05-31T00:00:00\", \"2022-06-01T00:00:00\", \"2022-06-02T00:00:00\", \"2022-06-03T00:00:00\", \"2022-06-04T00:00:00\", \"2022-06-05T00:00:00\", \"2022-06-06T00:00:00\", \"2022-06-07T00:00:00\", \"2022-06-08T00:00:00\", \"2022-06-09T00:00:00\", \"2022-06-10T00:00:00\", \"2022-06-11T00:00:00\", \"2022-06-12T00:00:00\", \"2022-06-13T00:00:00\", \"2022-06-14T00:00:00\", \"2022-06-15T00:00:00\", \"2022-06-16T00:00:00\", \"2022-06-17T00:00:00\", \"2022-06-18T00:00:00\", \"2022-06-19T00:00:00\", \"2022-06-20T00:00:00\", \"2022-06-21T00:00:00\", \"2022-06-22T00:00:00\", \"2022-06-23T00:00:00\", \"2022-06-24T00:00:00\", \"2022-06-25T00:00:00\", \"2022-06-26T00:00:00\", \"2022-06-27T00:00:00\", \"2022-06-28T00:00:00\", \"2022-06-29T00:00:00\", \"2022-06-30T00:00:00\", \"2022-07-01T00:00:00\", \"2022-07-02T00:00:00\", \"2022-07-03T00:00:00\", \"2022-07-04T00:00:00\", \"2022-07-05T00:00:00\", \"2022-07-06T00:00:00\", \"2022-07-07T00:00:00\", \"2022-07-08T00:00:00\", \"2022-07-09T00:00:00\", \"2022-07-10T00:00:00\", \"2022-07-11T00:00:00\", \"2022-07-12T00:00:00\", \"2022-07-13T00:00:00\", \"2022-07-14T00:00:00\", \"2022-07-15T00:00:00\", \"2022-07-16T00:00:00\", \"2022-07-17T00:00:00\", \"2022-07-18T00:00:00\", \"2022-07-19T00:00:00\", \"2022-07-20T00:00:00\", \"2022-07-21T00:00:00\", \"2022-07-22T00:00:00\", \"2022-07-23T00:00:00\", \"2022-07-24T00:00:00\", \"2022-07-25T00:00:00\", \"2022-07-26T00:00:00\", \"2022-07-27T00:00:00\", \"2022-07-28T00:00:00\", \"2022-07-29T00:00:00\", \"2022-07-30T00:00:00\", \"2022-07-31T00:00:00\", \"2022-08-01T00:00:00\", \"2022-08-02T00:00:00\", \"2022-08-03T00:00:00\", \"2022-08-04T00:00:00\", \"2022-08-05T00:00:00\", \"2022-08-06T00:00:00\", \"2022-08-07T00:00:00\", \"2022-08-08T00:00:00\", \"2022-08-09T00:00:00\", \"2022-08-10T00:00:00\", \"2022-08-11T00:00:00\", \"2022-08-12T00:00:00\", \"2022-08-13T00:00:00\", \"2022-08-14T00:00:00\", \"2022-08-15T00:00:00\", \"2022-08-16T00:00:00\", \"2022-08-17T00:00:00\", \"2022-08-18T00:00:00\", \"2022-08-19T00:00:00\", \"2022-08-20T00:00:00\", \"2022-08-21T00:00:00\", \"2022-08-22T00:00:00\", \"2022-08-23T00:00:00\", \"2022-08-24T00:00:00\", \"2022-08-25T00:00:00\", \"2022-08-26T00:00:00\", \"2022-08-27T00:00:00\", \"2022-08-28T00:00:00\"], \"y\": [10.671197282250391, 10.758625551342305, 10.646562087710358, 10.617795992048718, 10.710240824403481, 10.774457302480752, 10.82047281486824, 10.687173894189486, 10.662702836599442, 10.744521783776053, 10.719897360852134, 10.848938356686233, 10.744342594877233, 10.697356517506867, 10.823593840420466, 10.82061722548848, 10.798578679556087, 10.731746391156262, 10.856899537628893, 10.875097544151517, 10.880377688266684, 10.804367181363611, 10.844576977581923, 10.823017785203263, 10.902086257438697, 10.90028116707311, 10.873460493496182, 10.947086614325181, 10.926747912323417, 11.056751185432892, 10.822241196630548, 10.926966934153455, 10.909930653443773, 11.008784502565153, 11.031542964638174, 10.94785009342932, 10.917865984783184, 10.99105426599138, 11.020933337252401, 11.091068976205934, 10.948319889288065, 10.952029388042929, 10.969842185956026, 10.984355445113705, 11.032159522519912, 10.987731862022144, 11.04188428559968, 11.054219771451598, 11.09637753709283, 11.168213633310407, 11.126846582115236, 11.076129967994778, 11.161349556676637, 11.131140099931436, 11.133190801527432, 11.164102433190585, 11.159490471317232, 11.055069280188349, 11.132040545264246, 11.195014293147524, 11.210621037181133, 11.187887600298449, 11.106985662714763, 11.15557075956996, 11.2093471466741, 11.24720943401886, 11.154538614783638, 11.13718398924437, 11.19772101291796, 11.208535846474698, 11.14003695561405, 11.188905159438404, 11.265952212135728, 11.245720506076903, 11.24459264349614, 11.24473773381592, 11.187279055351334, 11.294850890478372, 11.297320726973162, 11.361877949402672, 11.238996740263167, 11.256908354863477, 11.276461947375143, 11.236622885683888, 11.402886016993675, 11.409346683449238, 11.345449812140412, 11.31177694585243, 11.331250808365704, 11.369237405174248, 11.43119981688111, 11.39485690951476, 11.360935617363108, 11.278738235388863, 11.375427209233061, 11.41452476769599, 11.409541068697042, 11.38810963339341, 11.344195995226555, 11.392102473374791, 11.43674616319161, 11.41089302844541, 11.359542197792782, 11.339006275577752, 11.524018144565524, 11.436693274722051, 11.527729977033758, 11.433378950739524, 11.45527552588109, 11.421021837430496, 11.496161297447724, 11.556828783330939, 11.40729476625425, 11.60777609006769, 11.571914268593064, 11.617425729516917, 11.507240130282481, 11.521645492142074, 11.514967431402855, 11.509311542879948, 11.589395117601253, 11.504741909769182, 11.495634943470966, 11.660833253247514, 11.58599922707783, 11.565017522568814, 11.574041185412723, 11.648826605566393, 11.597799191230624, 11.689893282198677, 11.554956610386654, 11.580976578003101, 11.644845571801582, 11.647300508530698, 11.70146315658457, 11.644763264440796, 11.63308746646934, 11.664479852288487, 11.681817704801247, 11.736999082721974, 11.635244024672726, 11.669767237705148, 11.71691289289313, 11.741802988465688, 11.738617403041403, 11.67925059180394, 11.64377029956813, 11.785150862218467, 11.746920327781941, 11.786039460739685, 11.673789503893438, 11.686613428216582, 11.769270035136719, 11.804080028517815, 11.824723539412666, 11.748151003613991, 11.779157780957359, 11.84857791491269, 11.855881385182544, 11.70933038679639, 11.765816654578657, 11.791382667048342, 11.798984871957247, 11.87275111803889, 11.777436367457453, 11.778622864907481, 11.915565756890674, 11.830707508464968, 11.874369237745473, 11.808221473916348, 11.862806766829703, 11.893153134075868, 11.94139540509523, 11.928449618843008, 11.820651898582453, 11.846129612619702, 11.913688551851378, 11.94638655918581, 11.985168858199192, 11.86915225122128, 12.00624384400025, 11.990319496949159, 12.029163258690701, 11.920808516501172, 11.890719701149015, 11.990052307807638, 12.028536458955791, 12.007037067180331, 11.922464585536868, 11.903399844722411, 12.024542350190718, 11.949250176591617, 12.025847343677333, 11.969931771228783, 12.031077376443642, 12.09562289223951, 12.069274690429655, 12.044277188068829, 11.954809728432544, 12.003362063878264, 12.089831665726113, 12.013287315344142, 12.153097160715182, 11.98693058864173, 12.04654914470714, 12.073707092497623, 12.089555214871615, 12.117491798189306, 12.062051335195791, 12.078595412963404, 12.082119255874613, 12.127105189206654, 12.197925122162909, 12.174361507205402, 12.050972321889274, 12.139631909741455, 12.171636293113682, 12.19369592724032, 12.116070257179155, 12.136122040705393, 12.065302567996541, 12.089788302402743, 12.268935379737778, 12.168609980450467, 12.250348644890899, 12.163001228268408, 12.142894541674146, 12.096942137028948, 12.12635831369219, 12.187970829046206, 12.19937010028001, 12.272755915323295, 12.219076567036119, 12.148504889703824, 12.05987626348063, 12.107452648718432, 12.277337649453816, 12.253989406335664, 12.258433938739104, 12.215215531337254, 12.230405224789058, 12.1320798855238, 12.114706526178677, 12.286849010320635, 12.301977527484151, 12.289691968738902, 12.225079607476623, 12.249911444489008, 12.162486139465955, 12.198723192406804, 12.286882386092563, 12.284344649301374, 12.323367986247183, 12.30570770782691, 12.281484521847466, 12.212329602069932, 12.247092648707856, 12.305584357937073, 12.397092519962236, 12.393929202747179, 12.351516679410274, 12.298128756842658, 12.193486372714954, 12.269141698540315, 12.353164631980984, 12.416105546021317, 12.369033365737222, 12.327969296998797, 12.360907853074929, 12.291215921252132, 12.313010347612584, 12.408330664829808, 12.414331353613843, 12.478008983678038, 12.335641339205033, 12.37951250590408, 12.295168958287837, 12.268599710973772, 12.439137580525347, 12.51462382781105, 12.492931004538596, 12.40570294817023, 12.389804088975241, 12.31602560289754, 12.379515836708167, 12.507521534241643, 12.44474124316015, 12.462098842573708, 12.465883902984368, 12.401293551161025, 12.402845317167058, 12.305069971126168, 12.535811242534532, 12.480432283204454, 12.514036167691554, 12.439537629328921, 12.529607938742041, 12.335819758181334, 12.368185554718337, 12.536497681815211, 12.53261459075565, 12.56324409938281, 12.48946776497311, 12.44109514151935, 12.415205108992776, 12.362614511370335, 12.577945150297223, 12.581673686415805, 12.559940978707024, 12.502846098010297, 12.527438564167241, 12.4841004615669, 12.512722158972975, 12.55804011591403, 12.62910198920003, 12.581324391956057, 12.490280947588127, 12.588797505521054, 12.428111797200824, 12.48004305008002, 12.60883785159686, 12.68272528848338, 12.62149085794434, 12.523169477607347, 12.521594365574341, 12.53584067607737, 12.567155625047896, 12.633278759877252, 12.656361075062327, 12.715963171352765, 12.602369283892966, 12.604374182761955, 12.568557419704046, 12.54422110257121, 12.71515509754971, 12.683929156969194, 12.722883457669505, 12.587524242591298, 12.67054313739059, 12.558772833594281, 12.597561985493222, 12.743777235636337, 12.661822825426555, 12.775639328470469, 12.637605605915622, 12.685236227176528, 12.602043385177282, 12.579650375259469, 12.718055813887268, 12.788288862287722, 12.821608871678702, 12.6886174014784, 12.683317325838978, 12.628028168333842, 12.668758012090402, 12.700494325557305, 12.77703485989149, 12.829069186185583, 12.699621304001438, 12.772890013785227, 12.713544499627313, 12.674852213680916, 12.76648408122352, 12.784524521297024, 12.79829179782037, 12.767558469619173, 12.739998529866611, 12.780669829453933, 12.747988264883812, 12.831539847168143, 12.790195546571685, 12.832040375799677, 12.810967684360286, 12.77272017248375, 12.763741345683208, 12.782114546382472, 12.880428494432618, 12.816299877707312, 12.957572121580554, 12.778991898296779, 12.79023427269259, 12.73042439387008, 12.76067013134156, 12.901151393035303, 12.885527140063132, 12.889427359275375, 12.858679549660476, 12.957905133354052, 12.786572759199396, 12.754152194872804, 12.841152354255309, 12.897212843564475, 12.98142721854351, 12.865025815850515, 12.930886814775048, 12.802584088872432, 12.769046457574866, 12.965001473964673, 12.98238330165426, 12.953755570281572, 12.862875668820902, 12.879135453095886, 12.865481071293711, 12.850702373404728, 12.989599954417184, 12.969722389404508, 12.985626747892344, 12.903585426087565, 12.932293281282293, 12.85908041544042, 12.86159456947067, 13.037498878903865, 13.056270040984872, 13.101085114247155, 12.945234297636981, 12.911494036927692, 12.906921137798236, 12.890661428073837, 13.072653674082124, 13.082313680907564, 13.159538183081317, 13.010521019505742, 12.944957213977856, 12.879170884159612, 12.909944749490199, 13.078311030434254, 13.06167273323119, 13.119337155736218, 13.085189472052324, 13.076127086574557, 12.940543027926427, 12.998007020701094, 13.065596325824115, 13.09618229572021, 13.166192516377109, 13.137556892546602, 13.090962126410613, 12.999722814783652, 12.983454320435174, 13.160020675674208, 13.166611928322853, 13.221597584720097, 13.08393896591221, 13.154884840312308, 12.989019713141776, 13.026357129796216, 13.189982178764627, 13.108166267255662, 13.246335824808924, 13.107297194337805, 13.140964957647201, 13.030646476013183, 13.018870168637743, 13.250395279760822, 13.17678006647228, 13.288890257900219, 13.185557866534609, 13.153188371874371, 13.10820014884666, 13.05311892205588, 13.201112974189243, 13.25030321324249, 13.290338950559672, 13.188311358868642, 13.222315619019653, 13.091508127240832, 13.152516313027945, 13.215271342476031, 13.313232630176554, 13.313078466970072, 13.166601864080262, 13.252374396312332, 13.196866974583811, 13.206596189731453, 13.27403694466861, 13.292192932264161, 13.35272093330421, 13.313035541931402, 13.277151531384435, 13.183722299827549, 13.192655228673834, 13.314414499551445, 13.393314749105267, 13.347225560030445, 13.24978194171789, 13.216732632743911, 13.203442041830112, 13.250687890955739, 13.304885003217834, 13.356221256339875, 13.465113391514304, 13.32645783187072, 13.36468119199979, 13.265756030015583, 13.250586965199313, 13.436283449468222, 13.324476833970445, 13.399588758406626, 13.316379122602468, 13.338329935224133, 13.264263580676584, 13.297668450940629, 13.409265467567309, 13.411263808416857, 13.462150419923814, 13.392016811766641, 13.363435247130946, 13.263106363625775, 13.283192516367523, 13.437273208929984, 13.411333829784317, 13.508246974339539, 13.438697716294708, 13.430104388772584, 13.332602957437963, 13.317135630862312, 13.511726884240597, 13.45567789522582, 13.532623743974735, 13.506675861783641, 13.427997515084362, 13.326436005397488, 13.325830098360425, 13.478697258897288, 13.509748403053655, 13.561841949321844, 13.418168310392725, 13.495064421392891, 13.421002704170064, 13.386691041862923, 13.506746701997855, 13.52173480127326, 13.583913868622778, 13.470386982337164, 13.462982009372542, 13.457014361957047, 13.484700054755482, 13.500384182914402, 13.505821581631155, 13.700706224645497, 13.548842269002186, 13.546753066150963, 13.429468094199539, 13.465534338627748, 13.627072747797433, 13.622030751488454, 13.650957429067514, 13.586002985867774, 13.56953283099699, 13.50017413719802, 13.55476350652304, 13.640599587362168, 13.576804164240285, 13.6607776290414, 13.553439714342897, 13.604603433172956, 13.471275547052983, 13.523454981116046, 13.673424235185944, 13.643879957237965, 13.718333700496599, 13.638097454306983, 13.605957791921302, 13.544602436548482, 13.53213234269669, 13.671410629824926, 13.677436101179643, 13.747129172995695, 13.654819762558468, 13.631731610218068, 13.594903023823214, 13.599740343176355, 13.793337900690547, 13.713814463240439, 13.749850487609717, 13.703344154503384, 13.721125461537824, 13.638610254863408, 13.574469640538615]}],\n",
              "                        {\"height\": 600, \"showlegend\": false, \"template\": {\"data\": {\"bar\": [{\"error_x\": {\"color\": \"#2a3f5f\"}, \"error_y\": {\"color\": \"#2a3f5f\"}, \"marker\": {\"line\": {\"color\": \"#E5ECF6\", \"width\": 0.5}}, \"type\": \"bar\"}], \"barpolar\": [{\"marker\": {\"line\": {\"color\": \"#E5ECF6\", \"width\": 0.5}}, \"type\": \"barpolar\"}], \"carpet\": [{\"aaxis\": {\"endlinecolor\": \"#2a3f5f\", \"gridcolor\": \"white\", \"linecolor\": \"white\", \"minorgridcolor\": \"white\", \"startlinecolor\": \"#2a3f5f\"}, \"baxis\": {\"endlinecolor\": \"#2a3f5f\", \"gridcolor\": \"white\", \"linecolor\": \"white\", \"minorgridcolor\": \"white\", \"startlinecolor\": \"#2a3f5f\"}, \"type\": \"carpet\"}], \"choropleth\": [{\"colorbar\": {\"outlinewidth\": 0, \"ticks\": \"\"}, \"type\": \"choropleth\"}], \"contour\": [{\"colorbar\": {\"outlinewidth\": 0, \"ticks\": \"\"}, \"colorscale\": [[0.0, \"#0d0887\"], [0.1111111111111111, \"#46039f\"], [0.2222222222222222, \"#7201a8\"], [0.3333333333333333, \"#9c179e\"], [0.4444444444444444, \"#bd3786\"], [0.5555555555555556, \"#d8576b\"], [0.6666666666666666, \"#ed7953\"], [0.7777777777777778, \"#fb9f3a\"], [0.8888888888888888, \"#fdca26\"], [1.0, \"#f0f921\"]], \"type\": \"contour\"}], \"contourcarpet\": [{\"colorbar\": {\"outlinewidth\": 0, \"ticks\": \"\"}, \"type\": \"contourcarpet\"}], \"heatmap\": [{\"colorbar\": {\"outlinewidth\": 0, \"ticks\": \"\"}, \"colorscale\": [[0.0, \"#0d0887\"], [0.1111111111111111, \"#46039f\"], [0.2222222222222222, \"#7201a8\"], [0.3333333333333333, \"#9c179e\"], [0.4444444444444444, \"#bd3786\"], [0.5555555555555556, \"#d8576b\"], [0.6666666666666666, \"#ed7953\"], [0.7777777777777778, \"#fb9f3a\"], [0.8888888888888888, \"#fdca26\"], [1.0, \"#f0f921\"]], \"type\": \"heatmap\"}], \"heatmapgl\": [{\"colorbar\": {\"outlinewidth\": 0, \"ticks\": \"\"}, \"colorscale\": [[0.0, \"#0d0887\"], [0.1111111111111111, \"#46039f\"], [0.2222222222222222, \"#7201a8\"], [0.3333333333333333, \"#9c179e\"], [0.4444444444444444, \"#bd3786\"], [0.5555555555555556, \"#d8576b\"], [0.6666666666666666, \"#ed7953\"], [0.7777777777777778, \"#fb9f3a\"], [0.8888888888888888, \"#fdca26\"], [1.0, \"#f0f921\"]], \"type\": \"heatmapgl\"}], \"histogram\": [{\"marker\": {\"colorbar\": {\"outlinewidth\": 0, \"ticks\": \"\"}}, \"type\": \"histogram\"}], \"histogram2d\": [{\"colorbar\": {\"outlinewidth\": 0, \"ticks\": \"\"}, \"colorscale\": [[0.0, \"#0d0887\"], [0.1111111111111111, \"#46039f\"], [0.2222222222222222, \"#7201a8\"], [0.3333333333333333, \"#9c179e\"], [0.4444444444444444, \"#bd3786\"], [0.5555555555555556, \"#d8576b\"], [0.6666666666666666, \"#ed7953\"], [0.7777777777777778, \"#fb9f3a\"], [0.8888888888888888, \"#fdca26\"], [1.0, \"#f0f921\"]], \"type\": \"histogram2d\"}], \"histogram2dcontour\": [{\"colorbar\": {\"outlinewidth\": 0, \"ticks\": \"\"}, \"colorscale\": [[0.0, \"#0d0887\"], [0.1111111111111111, \"#46039f\"], [0.2222222222222222, \"#7201a8\"], [0.3333333333333333, \"#9c179e\"], [0.4444444444444444, \"#bd3786\"], [0.5555555555555556, \"#d8576b\"], [0.6666666666666666, \"#ed7953\"], [0.7777777777777778, \"#fb9f3a\"], [0.8888888888888888, \"#fdca26\"], [1.0, \"#f0f921\"]], \"type\": \"histogram2dcontour\"}], \"mesh3d\": [{\"colorbar\": {\"outlinewidth\": 0, \"ticks\": \"\"}, \"type\": \"mesh3d\"}], \"parcoords\": [{\"line\": {\"colorbar\": {\"outlinewidth\": 0, \"ticks\": \"\"}}, \"type\": \"parcoords\"}], \"pie\": [{\"automargin\": true, \"type\": \"pie\"}], \"scatter\": [{\"marker\": {\"colorbar\": {\"outlinewidth\": 0, \"ticks\": \"\"}}, \"type\": \"scatter\"}], \"scatter3d\": [{\"line\": {\"colorbar\": {\"outlinewidth\": 0, \"ticks\": \"\"}}, \"marker\": {\"colorbar\": {\"outlinewidth\": 0, \"ticks\": \"\"}}, \"type\": \"scatter3d\"}], \"scattercarpet\": [{\"marker\": {\"colorbar\": {\"outlinewidth\": 0, \"ticks\": \"\"}}, \"type\": \"scattercarpet\"}], \"scattergeo\": [{\"marker\": {\"colorbar\": {\"outlinewidth\": 0, \"ticks\": \"\"}}, \"type\": \"scattergeo\"}], \"scattergl\": [{\"marker\": {\"colorbar\": {\"outlinewidth\": 0, \"ticks\": \"\"}}, \"type\": \"scattergl\"}], \"scattermapbox\": [{\"marker\": {\"colorbar\": {\"outlinewidth\": 0, \"ticks\": \"\"}}, \"type\": \"scattermapbox\"}], \"scatterpolar\": [{\"marker\": {\"colorbar\": {\"outlinewidth\": 0, \"ticks\": \"\"}}, \"type\": \"scatterpolar\"}], \"scatterpolargl\": [{\"marker\": {\"colorbar\": {\"outlinewidth\": 0, \"ticks\": \"\"}}, \"type\": \"scatterpolargl\"}], \"scatterternary\": [{\"marker\": {\"colorbar\": {\"outlinewidth\": 0, \"ticks\": \"\"}}, \"type\": \"scatterternary\"}], \"surface\": [{\"colorbar\": {\"outlinewidth\": 0, \"ticks\": \"\"}, \"colorscale\": [[0.0, \"#0d0887\"], [0.1111111111111111, \"#46039f\"], [0.2222222222222222, \"#7201a8\"], [0.3333333333333333, \"#9c179e\"], [0.4444444444444444, \"#bd3786\"], [0.5555555555555556, \"#d8576b\"], [0.6666666666666666, \"#ed7953\"], [0.7777777777777778, \"#fb9f3a\"], [0.8888888888888888, \"#fdca26\"], [1.0, \"#f0f921\"]], \"type\": \"surface\"}], \"table\": [{\"cells\": {\"fill\": {\"color\": \"#EBF0F8\"}, \"line\": {\"color\": \"white\"}}, \"header\": {\"fill\": {\"color\": \"#C8D4E3\"}, \"line\": {\"color\": \"white\"}}, \"type\": \"table\"}]}, \"layout\": {\"annotationdefaults\": {\"arrowcolor\": \"#2a3f5f\", \"arrowhead\": 0, \"arrowwidth\": 1}, \"coloraxis\": {\"colorbar\": {\"outlinewidth\": 0, \"ticks\": \"\"}}, \"colorscale\": {\"diverging\": [[0, \"#8e0152\"], [0.1, \"#c51b7d\"], [0.2, \"#de77ae\"], [0.3, \"#f1b6da\"], [0.4, \"#fde0ef\"], [0.5, \"#f7f7f7\"], [0.6, \"#e6f5d0\"], [0.7, \"#b8e186\"], [0.8, \"#7fbc41\"], [0.9, \"#4d9221\"], [1, \"#276419\"]], \"sequential\": [[0.0, \"#0d0887\"], [0.1111111111111111, \"#46039f\"], [0.2222222222222222, \"#7201a8\"], [0.3333333333333333, \"#9c179e\"], [0.4444444444444444, \"#bd3786\"], [0.5555555555555556, \"#d8576b\"], [0.6666666666666666, \"#ed7953\"], [0.7777777777777778, \"#fb9f3a\"], [0.8888888888888888, \"#fdca26\"], [1.0, \"#f0f921\"]], \"sequentialminus\": [[0.0, \"#0d0887\"], [0.1111111111111111, \"#46039f\"], [0.2222222222222222, \"#7201a8\"], [0.3333333333333333, \"#9c179e\"], [0.4444444444444444, \"#bd3786\"], [0.5555555555555556, \"#d8576b\"], [0.6666666666666666, \"#ed7953\"], [0.7777777777777778, \"#fb9f3a\"], [0.8888888888888888, \"#fdca26\"], [1.0, \"#f0f921\"]]}, \"colorway\": [\"#636efa\", \"#EF553B\", \"#00cc96\", \"#ab63fa\", \"#FFA15A\", \"#19d3f3\", \"#FF6692\", \"#B6E880\", \"#FF97FF\", \"#FECB52\"], \"font\": {\"color\": \"#2a3f5f\"}, \"geo\": {\"bgcolor\": \"white\", \"lakecolor\": \"white\", \"landcolor\": \"#E5ECF6\", \"showlakes\": true, \"showland\": true, \"subunitcolor\": \"white\"}, \"hoverlabel\": {\"align\": \"left\"}, \"hovermode\": \"closest\", \"mapbox\": {\"style\": \"light\"}, \"paper_bgcolor\": \"white\", \"plot_bgcolor\": \"#E5ECF6\", \"polar\": {\"angularaxis\": {\"gridcolor\": \"white\", \"linecolor\": \"white\", \"ticks\": \"\"}, \"bgcolor\": \"#E5ECF6\", \"radialaxis\": {\"gridcolor\": \"white\", \"linecolor\": \"white\", \"ticks\": \"\"}}, \"scene\": {\"xaxis\": {\"backgroundcolor\": \"#E5ECF6\", \"gridcolor\": \"white\", \"gridwidth\": 2, \"linecolor\": \"white\", \"showbackground\": true, \"ticks\": \"\", \"zerolinecolor\": \"white\"}, \"yaxis\": {\"backgroundcolor\": \"#E5ECF6\", \"gridcolor\": \"white\", \"gridwidth\": 2, \"linecolor\": \"white\", \"showbackground\": true, \"ticks\": \"\", \"zerolinecolor\": \"white\"}, \"zaxis\": {\"backgroundcolor\": \"#E5ECF6\", \"gridcolor\": \"white\", \"gridwidth\": 2, \"linecolor\": \"white\", \"showbackground\": true, \"ticks\": \"\", \"zerolinecolor\": \"white\"}}, \"shapedefaults\": {\"line\": {\"color\": \"#2a3f5f\"}}, \"ternary\": {\"aaxis\": {\"gridcolor\": \"white\", \"linecolor\": \"white\", \"ticks\": \"\"}, \"baxis\": {\"gridcolor\": \"white\", \"linecolor\": \"white\", \"ticks\": \"\"}, \"bgcolor\": \"#E5ECF6\", \"caxis\": {\"gridcolor\": \"white\", \"linecolor\": \"white\", \"ticks\": \"\"}}, \"title\": {\"x\": 0.05}, \"xaxis\": {\"automargin\": true, \"gridcolor\": \"white\", \"linecolor\": \"white\", \"ticks\": \"\", \"title\": {\"standoff\": 15}, \"zerolinecolor\": \"white\", \"zerolinewidth\": 2}, \"yaxis\": {\"automargin\": true, \"gridcolor\": \"white\", \"linecolor\": \"white\", \"ticks\": \"\", \"title\": {\"standoff\": 15}, \"zerolinecolor\": \"white\", \"zerolinewidth\": 2}}}, \"width\": 900, \"xaxis\": {\"rangeselector\": {\"buttons\": [{\"count\": 7, \"label\": \"1w\", \"step\": \"day\", \"stepmode\": \"backward\"}, {\"count\": 1, \"label\": \"1m\", \"step\": \"month\", \"stepmode\": \"backward\"}, {\"count\": 6, \"label\": \"6m\", \"step\": \"month\", \"stepmode\": \"backward\"}, {\"count\": 1, \"label\": \"1y\", \"step\": \"year\", \"stepmode\": \"backward\"}, {\"step\": \"all\"}]}, \"rangeslider\": {\"visible\": true}, \"title\": {\"text\": \"ds\"}, \"type\": \"date\"}, \"yaxis\": {\"title\": {\"text\": \"y\"}}},\n",
              "                        {\"responsive\": true}\n",
              "                    ).then(function(){\n",
              "                            \n",
              "var gd = document.getElementById('fb24b7c2-0696-4689-9b92-ff5f9c73eb2f');\n",
              "var x = new MutationObserver(function (mutations, observer) {{\n",
              "        var display = window.getComputedStyle(gd).display;\n",
              "        if (!display || display === 'none') {{\n",
              "            console.log([gd, 'removed!']);\n",
              "            Plotly.purge(gd);\n",
              "            observer.disconnect();\n",
              "        }}\n",
              "}});\n",
              "\n",
              "// Listen for the removal of the full notebook cells\n",
              "var notebookContainer = gd.closest('#notebook-container');\n",
              "if (notebookContainer) {{\n",
              "    x.observe(notebookContainer, {childList: true});\n",
              "}}\n",
              "\n",
              "// Listen for the clearing of the current output cell\n",
              "var outputEl = gd.closest('.output');\n",
              "if (outputEl) {{\n",
              "    x.observe(outputEl, {childList: true});\n",
              "}}\n",
              "\n",
              "                        })\n",
              "                };\n",
              "                \n",
              "            </script>\n",
              "        </div>\n",
              "</body>\n",
              "</html>"
            ]
          },
          "metadata": {}
        }
      ]
    },
    {
      "cell_type": "code",
      "metadata": {
        "colab": {
          "base_uri": "https://localhost:8080/",
          "height": 657
        },
        "id": "os4j-CMVGB_Z",
        "outputId": "f60c9e09-e782-4b00-8d93-11b582946071"
      },
      "source": [
        "componentes = model.plot_components(y_pred)"
      ],
      "execution_count": 187,
      "outputs": [
        {
          "output_type": "display_data",
          "data": {
            "image/png": "[encoded data removed]",
            "text/plain": [
              "<Figure size 648x648 with 3 Axes>"
            ]
          },
          "metadata": {}
        }
      ]
    },
    {
      "cell_type": "code",
      "metadata": {
        "colab": {
          "base_uri": "https://localhost:8080/",
          "height": 66,
          "referenced_widgets": [
            "74ad1b2ba5454c10a7ca0fa01a25b40d",
            "b3ad2904c2734713991de734d3be7846",
            "f9345548c82d42b2babdf1ed09b1dd33",
            "309edbfc476442c5a8678cc3772a2de5",
            "31c9e532a0b14a9bb2fd238f5f0458f2",
            "a40c894d2a034b889a3417e4a695bdfb",
            "64876daddefa43cd99d3b2801f511835",
            "b4cccad1958f494091aee80f6dfbfa06",
            "8c5ba5cb7b7b4b008f45a9e10f59768b",
            "4652a696d44e490dbd617aeefbe02b26",
            "46984c1a4d6a4e7d87470fa29d589b0e"
          ]
        },
        "id": "84MTcWtJGOWR",
        "outputId": "9f49cf71-c01b-42c9-a208-8b776d72cc78"
      },
      "source": [
        "#validação cruzada\n",
        "#https://facebook.github.io/prophet/docs/diagnostics.html\n",
        "from fbprophet.diagnostics import cross_validation, performance_metrics\n",
        "df_cv = cross_validation(model, initial='200 days', period='45 days', horizon = '15 days')"
      ],
      "execution_count": 188,
      "outputs": [
        {
          "output_type": "stream",
          "name": "stderr",
          "text": [
            "INFO:fbprophet:Making 3 forecasts with cutoffs between 2021-05-20 00:00:00 and 2021-08-18 00:00:00\n"
          ]
        },
        {
          "output_type": "display_data",
          "data": {
            "application/vnd.jupyter.widget-view+json": {
              "model_id": "74ad1b2ba5454c10a7ca0fa01a25b40d",
              "version_minor": 0,
              "version_major": 2
            },
            "text/plain": [
              "  0%|          | 0/3 [00:00<?, ?it/s]"
            ]
          },
          "metadata": {}
        }
      ]
    },
    {
      "cell_type": "code",
      "metadata": {
        "colab": {
          "base_uri": "https://localhost:8080/",
          "height": 514
        },
        "id": "Hxzzn8y-GOgQ",
        "outputId": "50440612-b909-4baf-eb80-7452e346e492"
      },
      "source": [
        "relatorio_cv = performance_metrics(df_cv)\n",
        "relatorio_cv.sort_values(by='mape').head(50)"
      ],
      "execution_count": 189,
      "outputs": [
        {
          "output_type": "execute_result",
          "data": {
            "text/html": [
              "<div>\n",
              "<style scoped>\n",
              "    .dataframe tbody tr th:only-of-type {\n",
              "        vertical-align: middle;\n",
              "    }\n",
              "\n",
              "    .dataframe tbody tr th {\n",
              "        vertical-align: top;\n",
              "    }\n",
              "\n",
              "    .dataframe thead th {\n",
              "        text-align: right;\n",
              "    }\n",
              "</style>\n",
              "<table border=\"1\" class=\"dataframe\">\n",
              "  <thead>\n",
              "    <tr style=\"text-align: right;\">\n",
              "      <th></th>\n",
              "      <th>horizon</th>\n",
              "      <th>mse</th>\n",
              "      <th>rmse</th>\n",
              "      <th>mae</th>\n",
              "      <th>mape</th>\n",
              "      <th>mdape</th>\n",
              "      <th>coverage</th>\n",
              "    </tr>\n",
              "  </thead>\n",
              "  <tbody>\n",
              "    <tr>\n",
              "      <th>2</th>\n",
              "      <td>3 days</td>\n",
              "      <td>0.006858</td>\n",
              "      <td>0.082812</td>\n",
              "      <td>0.081487</td>\n",
              "      <td>0.007328</td>\n",
              "      <td>0.007405</td>\n",
              "      <td>1.000000</td>\n",
              "    </tr>\n",
              "    <tr>\n",
              "      <th>1</th>\n",
              "      <td>2 days</td>\n",
              "      <td>0.039191</td>\n",
              "      <td>0.197966</td>\n",
              "      <td>0.124188</td>\n",
              "      <td>0.011384</td>\n",
              "      <td>0.007405</td>\n",
              "      <td>1.000000</td>\n",
              "    </tr>\n",
              "    <tr>\n",
              "      <th>9</th>\n",
              "      <td>10 days</td>\n",
              "      <td>0.031908</td>\n",
              "      <td>0.178629</td>\n",
              "      <td>0.172619</td>\n",
              "      <td>0.015261</td>\n",
              "      <td>0.017814</td>\n",
              "      <td>1.000000</td>\n",
              "    </tr>\n",
              "    <tr>\n",
              "      <th>8</th>\n",
              "      <td>9 days</td>\n",
              "      <td>0.075813</td>\n",
              "      <td>0.275342</td>\n",
              "      <td>0.218003</td>\n",
              "      <td>0.019571</td>\n",
              "      <td>0.018497</td>\n",
              "      <td>1.000000</td>\n",
              "    </tr>\n",
              "    <tr>\n",
              "      <th>0</th>\n",
              "      <td>1 days</td>\n",
              "      <td>0.106790</td>\n",
              "      <td>0.326787</td>\n",
              "      <td>0.227055</td>\n",
              "      <td>0.021024</td>\n",
              "      <td>0.009435</td>\n",
              "      <td>1.000000</td>\n",
              "    </tr>\n",
              "    <tr>\n",
              "      <th>3</th>\n",
              "      <td>4 days</td>\n",
              "      <td>0.088914</td>\n",
              "      <td>0.298185</td>\n",
              "      <td>0.230574</td>\n",
              "      <td>0.021237</td>\n",
              "      <td>0.008855</td>\n",
              "      <td>1.000000</td>\n",
              "    </tr>\n",
              "    <tr>\n",
              "      <th>4</th>\n",
              "      <td>5 days</td>\n",
              "      <td>0.119631</td>\n",
              "      <td>0.345877</td>\n",
              "      <td>0.288294</td>\n",
              "      <td>0.026728</td>\n",
              "      <td>0.008808</td>\n",
              "      <td>1.000000</td>\n",
              "    </tr>\n",
              "    <tr>\n",
              "      <th>10</th>\n",
              "      <td>11 days</td>\n",
              "      <td>0.123511</td>\n",
              "      <td>0.351442</td>\n",
              "      <td>0.306088</td>\n",
              "      <td>0.027896</td>\n",
              "      <td>0.017814</td>\n",
              "      <td>1.000000</td>\n",
              "    </tr>\n",
              "    <tr>\n",
              "      <th>6</th>\n",
              "      <td>7 days</td>\n",
              "      <td>0.126915</td>\n",
              "      <td>0.356252</td>\n",
              "      <td>0.307346</td>\n",
              "      <td>0.028313</td>\n",
              "      <td>0.012696</td>\n",
              "      <td>1.000000</td>\n",
              "    </tr>\n",
              "    <tr>\n",
              "      <th>5</th>\n",
              "      <td>6 days</td>\n",
              "      <td>0.148950</td>\n",
              "      <td>0.385940</td>\n",
              "      <td>0.328949</td>\n",
              "      <td>0.030243</td>\n",
              "      <td>0.043950</td>\n",
              "      <td>1.000000</td>\n",
              "    </tr>\n",
              "    <tr>\n",
              "      <th>7</th>\n",
              "      <td>8 days</td>\n",
              "      <td>0.172263</td>\n",
              "      <td>0.415046</td>\n",
              "      <td>0.337519</td>\n",
              "      <td>0.030745</td>\n",
              "      <td>0.022194</td>\n",
              "      <td>1.000000</td>\n",
              "    </tr>\n",
              "    <tr>\n",
              "      <th>11</th>\n",
              "      <td>12 days</td>\n",
              "      <td>0.340754</td>\n",
              "      <td>0.583742</td>\n",
              "      <td>0.354220</td>\n",
              "      <td>0.031585</td>\n",
              "      <td>0.003371</td>\n",
              "      <td>0.666667</td>\n",
              "    </tr>\n",
              "    <tr>\n",
              "      <th>14</th>\n",
              "      <td>15 days</td>\n",
              "      <td>0.965984</td>\n",
              "      <td>0.982845</td>\n",
              "      <td>0.621581</td>\n",
              "      <td>0.052844</td>\n",
              "      <td>0.012206</td>\n",
              "      <td>0.666667</td>\n",
              "    </tr>\n",
              "    <tr>\n",
              "      <th>13</th>\n",
              "      <td>14 days</td>\n",
              "      <td>0.663837</td>\n",
              "      <td>0.814762</td>\n",
              "      <td>0.619165</td>\n",
              "      <td>0.053425</td>\n",
              "      <td>0.024419</td>\n",
              "      <td>0.666667</td>\n",
              "    </tr>\n",
              "    <tr>\n",
              "      <th>12</th>\n",
              "      <td>13 days</td>\n",
              "      <td>0.750399</td>\n",
              "      <td>0.866255</td>\n",
              "      <td>0.642329</td>\n",
              "      <td>0.055814</td>\n",
              "      <td>0.017853</td>\n",
              "      <td>0.555556</td>\n",
              "    </tr>\n",
              "  </tbody>\n",
              "</table>\n",
              "</div>"
            ],
            "text/plain": [
              "   horizon       mse      rmse       mae      mape     mdape  coverage\n",
              "2   3 days  0.006858  0.082812  0.081487  0.007328  0.007405  1.000000\n",
              "1   2 days  0.039191  0.197966  0.124188  0.011384  0.007405  1.000000\n",
              "9  10 days  0.031908  0.178629  0.172619  0.015261  0.017814  1.000000\n",
              "8   9 days  0.075813  0.275342  0.218003  0.019571  0.018497  1.000000\n",
              "0   1 days  0.106790  0.326787  0.227055  0.021024  0.009435  1.000000\n",
              "3   4 days  0.088914  0.298185  0.230574  0.021237  0.008855  1.000000\n",
              "4   5 days  0.119631  0.345877  0.288294  0.026728  0.008808  1.000000\n",
              "10 11 days  0.123511  0.351442  0.306088  0.027896  0.017814  1.000000\n",
              "6   7 days  0.126915  0.356252  0.307346  0.028313  0.012696  1.000000\n",
              "5   6 days  0.148950  0.385940  0.328949  0.030243  0.043950  1.000000\n",
              "7   8 days  0.172263  0.415046  0.337519  0.030745  0.022194  1.000000\n",
              "11 12 days  0.340754  0.583742  0.354220  0.031585  0.003371  0.666667\n",
              "14 15 days  0.965984  0.982845  0.621581  0.052844  0.012206  0.666667\n",
              "13 14 days  0.663837  0.814762  0.619165  0.053425  0.024419  0.666667\n",
              "12 13 days  0.750399  0.866255  0.642329  0.055814  0.017853  0.555556"
            ]
          },
          "metadata": {},
          "execution_count": 189
        }
      ]
    },
    {
      "cell_type": "code",
      "metadata": {
        "colab": {
          "base_uri": "https://localhost:8080/"
        },
        "id": "nW54aVc9GOlQ",
        "outputId": "f420e477-281d-4427-bfd2-dd213f0c3006"
      },
      "source": [
        "relatorio_cv['mape'].mean()"
      ],
      "execution_count": 190,
      "outputs": [
        {
          "output_type": "execute_result",
          "data": {
            "text/plain": [
              "0.02889316232840635"
            ]
          },
          "metadata": {},
          "execution_count": 190
        }
      ]
    },
    {
      "cell_type": "code",
      "metadata": {
        "colab": {
          "base_uri": "https://localhost:8080/"
        },
        "id": "q-XwnC3eGOno",
        "outputId": "df194700-509b-4e5a-ac73-db906f4c57ab"
      },
      "source": [
        "#tunando hiperparâmetros do modelo\n",
        "import itertools\n",
        "cutoffs = pd.to_datetime(['2021-02-01', '2021-05-01', '2021-08-01'])\n",
        "\n",
        "param_grid = {  \n",
        "    'changepoint_prior_scale': [0.001, 0.01, 0.1, 0.5],\n",
        "    'seasonality_prior_scale': [0.01, 0.1, 1.0, 10.0],\n",
        "}\n",
        "\n",
        "# Gerando combinação de parâmetros\n",
        "all_params = [dict(zip(param_grid.keys(), v)) for v in itertools.product(*param_grid.values())]\n",
        "mapes = []  # guardar MAPEs para cada parâmetro aqui\n",
        "\n",
        "# Usar validação cruzada para avaliar todos os parâmetros\n",
        "for params in all_params:\n",
        "    m = Prophet(**params).fit(train)  # Fit model with given params\n",
        "    df_cv = cross_validation(m, cutoffs=cutoffs, horizon='30 days', parallel=\"processes\")\n",
        "    df_p = performance_metrics(df_cv, rolling_window=1)\n",
        "    mapes.append(df_p['mape'].values[0])\n",
        "\n",
        "# Encontrar melhores parâmetros\n",
        "tuning_results = pd.DataFrame(all_params)\n",
        "tuning_results['mape'] = mapes\n",
        "print(tuning_results)"
      ],
      "execution_count": 23,
      "outputs": [
        {
          "output_type": "stream",
          "name": "stderr",
          "text": [
            "INFO:fbprophet:Disabling yearly seasonality. Run prophet with yearly_seasonality=True to override this.\n",
            "INFO:fbprophet:Disabling daily seasonality. Run prophet with daily_seasonality=True to override this.\n",
            "INFO:fbprophet:Applying in parallel with <concurrent.futures.process.ProcessPoolExecutor object at 0x7fc9d5904090>\n",
            "INFO:fbprophet:Disabling yearly seasonality. Run prophet with yearly_seasonality=True to override this.\n",
            "INFO:fbprophet:Disabling daily seasonality. Run prophet with daily_seasonality=True to override this.\n",
            "INFO:fbprophet:Applying in parallel with <concurrent.futures.process.ProcessPoolExecutor object at 0x7fc9d5904f10>\n",
            "INFO:fbprophet:Disabling yearly seasonality. Run prophet with yearly_seasonality=True to override this.\n",
            "INFO:fbprophet:Disabling daily seasonality. Run prophet with daily_seasonality=True to override this.\n",
            "INFO:fbprophet:Applying in parallel with <concurrent.futures.process.ProcessPoolExecutor object at 0x7fc9d4980d50>\n",
            "INFO:fbprophet:Disabling yearly seasonality. Run prophet with yearly_seasonality=True to override this.\n",
            "INFO:fbprophet:Disabling daily seasonality. Run prophet with daily_seasonality=True to override this.\n",
            "INFO:fbprophet:Applying in parallel with <concurrent.futures.process.ProcessPoolExecutor object at 0x7fc9d48b6dd0>\n"
          ]
        },
        {
          "output_type": "stream",
          "name": "stdout",
          "text": [
            "    changepoint_prior_scale  seasonality_prior_scale      mape\n",
            "0                     0.001                     0.01  0.086555\n",
            "1                     0.001                     0.10  0.090632\n",
            "2                     0.001                     1.00  0.091541\n",
            "3                     0.001                    10.00  0.091518\n",
            "4                     0.010                     0.01  0.078006\n",
            "5                     0.010                     0.10  0.076759\n",
            "6                     0.010                     1.00  0.076391\n",
            "7                     0.010                    10.00  0.077700\n",
            "8                     0.100                     0.01  0.078201\n",
            "9                     0.100                     0.10  0.079609\n",
            "10                    0.100                     1.00  0.077812\n",
            "11                    0.100                    10.00  0.079388\n",
            "12                    0.500                     0.01  0.096356\n",
            "13                    0.500                     0.10  0.096327\n",
            "14                    0.500                     1.00  0.096357\n",
            "15                    0.500                    10.00  0.096381\n"
          ]
        }
      ]
    },
    {
      "cell_type": "code",
      "metadata": {
        "colab": {
          "base_uri": "https://localhost:8080/",
          "height": 545
        },
        "id": "7BA-8h7WGOqR",
        "outputId": "f71fcbd9-9ab4-4e23-b60f-fccd19011de7"
      },
      "source": [
        "tuning_results"
      ],
      "execution_count": 24,
      "outputs": [
        {
          "output_type": "execute_result",
          "data": {
            "text/html": [
              "<div>\n",
              "<style scoped>\n",
              "    .dataframe tbody tr th:only-of-type {\n",
              "        vertical-align: middle;\n",
              "    }\n",
              "\n",
              "    .dataframe tbody tr th {\n",
              "        vertical-align: top;\n",
              "    }\n",
              "\n",
              "    .dataframe thead th {\n",
              "        text-align: right;\n",
              "    }\n",
              "</style>\n",
              "<table border=\"1\" class=\"dataframe\">\n",
              "  <thead>\n",
              "    <tr style=\"text-align: right;\">\n",
              "      <th></th>\n",
              "      <th>changepoint_prior_scale</th>\n",
              "      <th>seasonality_prior_scale</th>\n",
              "      <th>mape</th>\n",
              "    </tr>\n",
              "  </thead>\n",
              "  <tbody>\n",
              "    <tr>\n",
              "      <th>0</th>\n",
              "      <td>0.001</td>\n",
              "      <td>0.01</td>\n",
              "      <td>0.086555</td>\n",
              "    </tr>\n",
              "    <tr>\n",
              "      <th>1</th>\n",
              "      <td>0.001</td>\n",
              "      <td>0.10</td>\n",
              "      <td>0.090632</td>\n",
              "    </tr>\n",
              "    <tr>\n",
              "      <th>2</th>\n",
              "      <td>0.001</td>\n",
              "      <td>1.00</td>\n",
              "      <td>0.091541</td>\n",
              "    </tr>\n",
              "    <tr>\n",
              "      <th>3</th>\n",
              "      <td>0.001</td>\n",
              "      <td>10.00</td>\n",
              "      <td>0.091518</td>\n",
              "    </tr>\n",
              "    <tr>\n",
              "      <th>4</th>\n",
              "      <td>0.010</td>\n",
              "      <td>0.01</td>\n",
              "      <td>0.078006</td>\n",
              "    </tr>\n",
              "    <tr>\n",
              "      <th>5</th>\n",
              "      <td>0.010</td>\n",
              "      <td>0.10</td>\n",
              "      <td>0.076759</td>\n",
              "    </tr>\n",
              "    <tr>\n",
              "      <th>6</th>\n",
              "      <td>0.010</td>\n",
              "      <td>1.00</td>\n",
              "      <td>0.076391</td>\n",
              "    </tr>\n",
              "    <tr>\n",
              "      <th>7</th>\n",
              "      <td>0.010</td>\n",
              "      <td>10.00</td>\n",
              "      <td>0.077700</td>\n",
              "    </tr>\n",
              "    <tr>\n",
              "      <th>8</th>\n",
              "      <td>0.100</td>\n",
              "      <td>0.01</td>\n",
              "      <td>0.078201</td>\n",
              "    </tr>\n",
              "    <tr>\n",
              "      <th>9</th>\n",
              "      <td>0.100</td>\n",
              "      <td>0.10</td>\n",
              "      <td>0.079609</td>\n",
              "    </tr>\n",
              "    <tr>\n",
              "      <th>10</th>\n",
              "      <td>0.100</td>\n",
              "      <td>1.00</td>\n",
              "      <td>0.077812</td>\n",
              "    </tr>\n",
              "    <tr>\n",
              "      <th>11</th>\n",
              "      <td>0.100</td>\n",
              "      <td>10.00</td>\n",
              "      <td>0.079388</td>\n",
              "    </tr>\n",
              "    <tr>\n",
              "      <th>12</th>\n",
              "      <td>0.500</td>\n",
              "      <td>0.01</td>\n",
              "      <td>0.096356</td>\n",
              "    </tr>\n",
              "    <tr>\n",
              "      <th>13</th>\n",
              "      <td>0.500</td>\n",
              "      <td>0.10</td>\n",
              "      <td>0.096327</td>\n",
              "    </tr>\n",
              "    <tr>\n",
              "      <th>14</th>\n",
              "      <td>0.500</td>\n",
              "      <td>1.00</td>\n",
              "      <td>0.096357</td>\n",
              "    </tr>\n",
              "    <tr>\n",
              "      <th>15</th>\n",
              "      <td>0.500</td>\n",
              "      <td>10.00</td>\n",
              "      <td>0.096381</td>\n",
              "    </tr>\n",
              "  </tbody>\n",
              "</table>\n",
              "</div>"
            ],
            "text/plain": [
              "    changepoint_prior_scale  seasonality_prior_scale      mape\n",
              "0                     0.001                     0.01  0.086555\n",
              "1                     0.001                     0.10  0.090632\n",
              "2                     0.001                     1.00  0.091541\n",
              "3                     0.001                    10.00  0.091518\n",
              "4                     0.010                     0.01  0.078006\n",
              "5                     0.010                     0.10  0.076759\n",
              "6                     0.010                     1.00  0.076391\n",
              "7                     0.010                    10.00  0.077700\n",
              "8                     0.100                     0.01  0.078201\n",
              "9                     0.100                     0.10  0.079609\n",
              "10                    0.100                     1.00  0.077812\n",
              "11                    0.100                    10.00  0.079388\n",
              "12                    0.500                     0.01  0.096356\n",
              "13                    0.500                     0.10  0.096327\n",
              "14                    0.500                     1.00  0.096357\n",
              "15                    0.500                    10.00  0.096381"
            ]
          },
          "metadata": {},
          "execution_count": 24
        }
      ]
    },
    {
      "cell_type": "code",
      "metadata": {
        "colab": {
          "base_uri": "https://localhost:8080/"
        },
        "id": "NlGYB7paGOsZ",
        "outputId": "b917fb8d-6eba-4158-f253-86d8abeaa283"
      },
      "source": [
        "best_params = all_params[np.argmin(mapes)]\n",
        "print(best_params)"
      ],
      "execution_count": 32,
      "outputs": [
        {
          "output_type": "stream",
          "name": "stdout",
          "text": [
            "{'changepoint_prior_scale': 0.01, 'seasonality_prior_scale': 1.0}\n"
          ]
        }
      ]
    },
    {
      "cell_type": "code",
      "metadata": {
        "id": "I4XK-I1pG7m6"
      },
      "source": [
        "data_pred = y_pred.ds\n",
        "pred = y_pred.yhat\n",
        "close = df['VALE3.SA']\n",
        "#vazio=pd.Series(['-','-','-','-'])\n",
        "#vazio=pd.Series([0,0])\n",
        "\n",
        "#close = close.append(vazio)\n",
        "df2= df\n",
        "df2 = df2.reset_index()"
      ],
      "execution_count": 55,
      "outputs": []
    },
    {
      "cell_type": "code",
      "metadata": {
        "colab": {
          "base_uri": "https://localhost:8080/"
        },
        "id": "NBKEZGrYIjga",
        "outputId": "2c1e0a28-fb5c-42aa-9663-0fecb7568e79"
      },
      "source": [
        "data_real = df2.Date\n",
        "#data_real = data_real.append(vazio)\n",
        "df_final = pd.DataFrame(close.values, index=data_real, columns=['VALE3.SA real'])\n",
        "df_final['Previsão'] = pred.values\n",
        "df_final"
      ],
      "execution_count": 60,
      "outputs": [
        {
          "output_type": "execute_result",
          "data": {
            "text/plain": [
              "array([ 52.78379787,  53.29743347,  53.26462896,  53.58519984,\n",
              "        54.41591207,  54.55262156,  55.06625716,  55.03345265,\n",
              "        55.35402354,  56.18473576,  56.32144525,  56.83508086,\n",
              "        56.80227635,  57.12284723,  58.09026895,  58.60390455,\n",
              "        58.57110004,  58.89167092,  59.72238315,  59.85909264,\n",
              "        60.37272824,  60.33992373,  60.66049462,  61.49120684,\n",
              "        61.62791633,  62.14155193,  62.10874742,  63.26003054,\n",
              "        63.39674003,  63.91037563,  63.87757113,  64.19814201,\n",
              "        65.02885424,  65.16556373,  65.67919933,  65.64639481,\n",
              "        65.96696569,  66.79767788,  66.93438736,  67.44802296,\n",
              "        67.41516912,  67.73569067,  68.56625489,  68.70291505,\n",
              "        69.21650132,  69.18364747,  69.50416902,  70.33188149,\n",
              "        70.46759106,  70.98022674,  72.09370573,  72.2294153 ,\n",
              "        72.74205099,  73.78298642,  73.90418727,  74.40231424,\n",
              "        74.3540011 ,  74.65906335,  75.44324967,  75.56445053,\n",
              "        76.03471802,  75.9585454 ,  76.23574817,  76.93635607,\n",
              "        77.02969745,  77.49996494,  77.42379232,  77.68208531,\n",
              "        78.40039546,  78.85175317,  78.75667077,  79.01496376,\n",
              "        79.6588423 ,  79.72632005,  80.17072392,  80.06868766,\n",
              "        80.32002681,  80.94304381,  81.01052156,  81.45492542,\n",
              "        81.35283489,  81.60411976,  82.63665647,  82.88794134,\n",
              "        83.51079552,  83.57821899,  84.02256854,  83.92047798,\n",
              "        84.17176281,  84.79461688,  84.86204032,  85.30638987,\n",
              "        85.20429931,  85.45558404,  86.0784378 ,  86.14586113,\n",
              "        86.59021058,  86.48811992,  86.73940465,  87.36225841,\n",
              "        87.42968175,  87.8740312 ,  87.77194053,  88.02322526,\n",
              "        88.64607903,  88.71350236,  89.15785181,  89.05576114,\n",
              "        89.30704587,  89.92989963,  89.99732296,  90.44167241,\n",
              "        90.33958174,  91.21371904,  91.28114208,  91.72549123,\n",
              "        91.62340026,  91.87468469,  92.49753756,  92.54818926,\n",
              "        92.97576708,  92.85690478,  93.09141788,  93.66395675,\n",
              "        93.71460845,  94.02332397,  94.23591022,  94.74266852,\n",
              "        94.77139337,  95.17704433,  95.03625518,  95.24884142,\n",
              "        95.67558793,  95.67764218,  96.05662255,  95.8891628 ,\n",
              "        96.07507845,  96.50182496,  96.50387922,  96.86025964,\n",
              "        96.67019995,  96.83351565,  97.19246233,  97.17191664,\n",
              "        97.52829706,  97.32979358,  97.48466549,  97.81828079,\n",
              "        97.78929131,  98.13722794,  97.93872445,  98.09359636,\n",
              "        98.42720897,  98.39821858,  98.74615431,  98.70252094,\n",
              "        99.03613355,  99.00714316,  99.35507889,  99.1565745 ,\n",
              "        99.31144551,  99.64505811,  99.61606772,  99.96400345,\n",
              "        99.76549906,  99.92037007, 100.25398268, 100.22499229,\n",
              "       100.57292802, 100.37442364, 100.52929465, 100.86290725,\n",
              "       100.83391687, 101.1818526 , 100.98334822, 101.13821923,\n",
              "       101.47183183, 101.44284144, 101.79077717, 101.59227279,\n",
              "       102.0807564 , 102.05176602, 102.39970175, 102.20119737,\n",
              "       102.35606838, 102.68968098, 102.6606906 , 103.00862632,\n",
              "       102.81012194, 102.96499295, 103.29860555, 103.26961517,\n",
              "       103.6175509 , 103.41904652, 103.57391753, 103.90753013,\n",
              "       103.87853975, 104.22647548, 104.02797109, 104.1828421 ,\n",
              "       104.5164547 , 104.48746432, 104.83540005, 104.63689567,\n",
              "       104.79176668, 105.12537928, 105.0963889 , 105.44432463,\n",
              "       105.24582024, 105.40069125, 105.51314235, 105.60013157,\n",
              "       105.73430386, 105.70531347, 106.0532492 , 105.85474482,\n",
              "       106.00961583, 106.12206692, 106.20905615, 106.34322843,\n",
              "       106.31423805, 106.66217378, 106.46366939, 106.6185404 ,\n",
              "       106.7309915 , 106.81798073, 106.95215301, 106.92316262,\n",
              "       107.27109835, 107.07259397, 107.22746498, 107.33991607,\n",
              "       107.4269053 , 107.56107758, 107.5320872 , 107.88002293,\n",
              "       107.68151854])"
            ]
          },
          "metadata": {},
          "execution_count": 60
        }
      ]
    },
    {
      "cell_type": "code",
      "metadata": {
        "id": "aeGV4iIrG7pY"
      },
      "source": [
        "grafico_final = px.line(df_final, y=['Venda Mensal Real', 'Previsão Mensal'], x=df_final.index)\n",
        "grafico_final.show()"
      ],
      "execution_count": null,
      "outputs": []
    },
    {
      "cell_type": "code",
      "metadata": {
        "id": "s-BbGyrtG7sK"
      },
      "source": [
        "def mean_absolute_percentage_error(y_true, y_pred): \n",
        "    y_true, y_pred = np.array(y_true), np.array(y_pred)\n",
        "    return np.mean(np.abs((y_true - y_pred) / y_true)) * 100\n",
        "mape=mean_absolute_percentage_error(venda_mensal_bruta, pred[:48])\n",
        "mape = \"%0.2f\" % mape\n",
        "print('Ao longo da série temos uma MAPE de: ' + mape + '%')"
      ],
      "execution_count": null,
      "outputs": []
    },
    {
      "cell_type": "code",
      "metadata": {
        "id": "6J7qvxEZG7uo"
      },
      "source": [
        ""
      ],
      "execution_count": null,
      "outputs": []
    },
    {
      "cell_type": "code",
      "metadata": {
        "id": "B8DElklbG7xY"
      },
      "source": [
        ""
      ],
      "execution_count": null,
      "outputs": []
    },
    {
      "cell_type": "code",
      "metadata": {
        "id": "lss3SduHG71x"
      },
      "source": [
        ""
      ],
      "execution_count": null,
      "outputs": []
    },
    {
      "cell_type": "code",
      "metadata": {
        "id": "o3fE-KyPG74a"
      },
      "source": [
        ""
      ],
      "execution_count": null,
      "outputs": []
    },
    {
      "cell_type": "code",
      "metadata": {
        "id": "cHdMoEIKG764"
      },
      "source": [
        ""
      ],
      "execution_count": null,
      "outputs": []
    },
    {
      "cell_type": "code",
      "metadata": {
        "id": "C0b3dcuTG79Y"
      },
      "source": [
        ""
      ],
      "execution_count": null,
      "outputs": []
    },
    {
      "cell_type": "code",
      "metadata": {
        "id": "8PNTI0MaG7_x"
      },
      "source": [
        ""
      ],
      "execution_count": null,
      "outputs": []
    },
    {
      "cell_type": "code",
      "metadata": {
        "id": "Oz3FWnVaG8CJ"
      },
      "source": [
        ""
      ],
      "execution_count": null,
      "outputs": []
    },
    {
      "cell_type": "code",
      "metadata": {
        "id": "pHyL6wOfG8Es"
      },
      "source": [
        ""
      ],
      "execution_count": null,
      "outputs": []
    }
  ]
}