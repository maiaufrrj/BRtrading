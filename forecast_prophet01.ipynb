{
  "nbformat": 4,
  "nbformat_minor": 0,
  "metadata": {
    "colab": {
      "name": "forecast_prophet01.ipynb",
      "provenance": [],
      "collapsed_sections": [],
      "authorship_tag": "ABX9TyNwXFKrBcyAc7nV0JEtZjSb",
      "include_colab_link": true
    },
    "kernelspec": {
      "name": "python3",
      "display_name": "Python 3"
    },
    "language_info": {
      "name": "python"
    },
    "widgets": {
      "application/vnd.jupyter.widget-state+json": {
        "551a187ad34d48bab7400b7aadeeafb8": {
          "model_module": "@jupyter-widgets/controls",
          "model_name": "HBoxModel",
          "model_module_version": "1.5.0",
          "state": {
            "_view_name": "HBoxView",
            "_dom_classes": [],
            "_model_name": "HBoxModel",
            "_view_module": "@jupyter-widgets/controls",
            "_model_module_version": "1.5.0",
            "_view_count": null,
            "_view_module_version": "1.5.0",
            "box_style": "",
            "layout": "IPY_MODEL_0751ebdd595b41dd9a5b1e1b5b77c019",
            "_model_module": "@jupyter-widgets/controls",
            "children": [
              "IPY_MODEL_a5bb4b99795244fa93a913792f885452",
              "IPY_MODEL_3166550d2f5b4616b119ba0ec73fa1bd",
              "IPY_MODEL_772a078a3e494d5fa45893353fd9a09a"
            ]
          }
        },
        "0751ebdd595b41dd9a5b1e1b5b77c019": {
          "model_module": "@jupyter-widgets/base",
          "model_name": "LayoutModel",
          "model_module_version": "1.2.0",
          "state": {
            "_view_name": "LayoutView",
            "grid_template_rows": null,
            "right": null,
            "justify_content": null,
            "_view_module": "@jupyter-widgets/base",
            "overflow": null,
            "_model_module_version": "1.2.0",
            "_view_count": null,
            "flex_flow": null,
            "width": null,
            "min_width": null,
            "border": null,
            "align_items": null,
            "bottom": null,
            "_model_module": "@jupyter-widgets/base",
            "top": null,
            "grid_column": null,
            "overflow_y": null,
            "overflow_x": null,
            "grid_auto_flow": null,
            "grid_area": null,
            "grid_template_columns": null,
            "flex": null,
            "_model_name": "LayoutModel",
            "justify_items": null,
            "grid_row": null,
            "max_height": null,
            "align_content": null,
            "visibility": null,
            "align_self": null,
            "height": null,
            "min_height": null,
            "padding": null,
            "grid_auto_rows": null,
            "grid_gap": null,
            "max_width": null,
            "order": null,
            "_view_module_version": "1.2.0",
            "grid_template_areas": null,
            "object_position": null,
            "object_fit": null,
            "grid_auto_columns": null,
            "margin": null,
            "display": null,
            "left": null
          }
        },
        "a5bb4b99795244fa93a913792f885452": {
          "model_module": "@jupyter-widgets/controls",
          "model_name": "HTMLModel",
          "model_module_version": "1.5.0",
          "state": {
            "_view_name": "HTMLView",
            "style": "IPY_MODEL_ddd90e6d53ca4739ad551b44ec6a0abe",
            "_dom_classes": [],
            "description": "",
            "_model_name": "HTMLModel",
            "placeholder": "​",
            "_view_module": "@jupyter-widgets/controls",
            "_model_module_version": "1.5.0",
            "value": "100%",
            "_view_count": null,
            "_view_module_version": "1.5.0",
            "description_tooltip": null,
            "_model_module": "@jupyter-widgets/controls",
            "layout": "IPY_MODEL_0efb75c6e8594de89a86e7c8923ac411"
          }
        },
        "3166550d2f5b4616b119ba0ec73fa1bd": {
          "model_module": "@jupyter-widgets/controls",
          "model_name": "FloatProgressModel",
          "model_module_version": "1.5.0",
          "state": {
            "_view_name": "ProgressView",
            "style": "IPY_MODEL_b83f1a81a3e8412c814b35c791edcc8d",
            "_dom_classes": [],
            "description": "",
            "_model_name": "FloatProgressModel",
            "bar_style": "success",
            "max": 4,
            "_view_module": "@jupyter-widgets/controls",
            "_model_module_version": "1.5.0",
            "value": 4,
            "_view_count": null,
            "_view_module_version": "1.5.0",
            "orientation": "horizontal",
            "min": 0,
            "description_tooltip": null,
            "_model_module": "@jupyter-widgets/controls",
            "layout": "IPY_MODEL_b1fe82e60a114252a736c447a9586996"
          }
        },
        "772a078a3e494d5fa45893353fd9a09a": {
          "model_module": "@jupyter-widgets/controls",
          "model_name": "HTMLModel",
          "model_module_version": "1.5.0",
          "state": {
            "_view_name": "HTMLView",
            "style": "IPY_MODEL_2495c5de078644fba58a5861308219ac",
            "_dom_classes": [],
            "description": "",
            "_model_name": "HTMLModel",
            "placeholder": "​",
            "_view_module": "@jupyter-widgets/controls",
            "_model_module_version": "1.5.0",
            "value": " 4/4 [00:07&lt;00:00,  1.92s/it]",
            "_view_count": null,
            "_view_module_version": "1.5.0",
            "description_tooltip": null,
            "_model_module": "@jupyter-widgets/controls",
            "layout": "IPY_MODEL_1f460340ef244b609a058535c8a9f55d"
          }
        },
        "ddd90e6d53ca4739ad551b44ec6a0abe": {
          "model_module": "@jupyter-widgets/controls",
          "model_name": "DescriptionStyleModel",
          "model_module_version": "1.5.0",
          "state": {
            "_view_name": "StyleView",
            "_model_name": "DescriptionStyleModel",
            "description_width": "",
            "_view_module": "@jupyter-widgets/base",
            "_model_module_version": "1.5.0",
            "_view_count": null,
            "_view_module_version": "1.2.0",
            "_model_module": "@jupyter-widgets/controls"
          }
        },
        "0efb75c6e8594de89a86e7c8923ac411": {
          "model_module": "@jupyter-widgets/base",
          "model_name": "LayoutModel",
          "model_module_version": "1.2.0",
          "state": {
            "_view_name": "LayoutView",
            "grid_template_rows": null,
            "right": null,
            "justify_content": null,
            "_view_module": "@jupyter-widgets/base",
            "overflow": null,
            "_model_module_version": "1.2.0",
            "_view_count": null,
            "flex_flow": null,
            "width": null,
            "min_width": null,
            "border": null,
            "align_items": null,
            "bottom": null,
            "_model_module": "@jupyter-widgets/base",
            "top": null,
            "grid_column": null,
            "overflow_y": null,
            "overflow_x": null,
            "grid_auto_flow": null,
            "grid_area": null,
            "grid_template_columns": null,
            "flex": null,
            "_model_name": "LayoutModel",
            "justify_items": null,
            "grid_row": null,
            "max_height": null,
            "align_content": null,
            "visibility": null,
            "align_self": null,
            "height": null,
            "min_height": null,
            "padding": null,
            "grid_auto_rows": null,
            "grid_gap": null,
            "max_width": null,
            "order": null,
            "_view_module_version": "1.2.0",
            "grid_template_areas": null,
            "object_position": null,
            "object_fit": null,
            "grid_auto_columns": null,
            "margin": null,
            "display": null,
            "left": null
          }
        },
        "b83f1a81a3e8412c814b35c791edcc8d": {
          "model_module": "@jupyter-widgets/controls",
          "model_name": "ProgressStyleModel",
          "model_module_version": "1.5.0",
          "state": {
            "_view_name": "StyleView",
            "_model_name": "ProgressStyleModel",
            "description_width": "",
            "_view_module": "@jupyter-widgets/base",
            "_model_module_version": "1.5.0",
            "_view_count": null,
            "_view_module_version": "1.2.0",
            "bar_color": null,
            "_model_module": "@jupyter-widgets/controls"
          }
        },
        "b1fe82e60a114252a736c447a9586996": {
          "model_module": "@jupyter-widgets/base",
          "model_name": "LayoutModel",
          "model_module_version": "1.2.0",
          "state": {
            "_view_name": "LayoutView",
            "grid_template_rows": null,
            "right": null,
            "justify_content": null,
            "_view_module": "@jupyter-widgets/base",
            "overflow": null,
            "_model_module_version": "1.2.0",
            "_view_count": null,
            "flex_flow": null,
            "width": null,
            "min_width": null,
            "border": null,
            "align_items": null,
            "bottom": null,
            "_model_module": "@jupyter-widgets/base",
            "top": null,
            "grid_column": null,
            "overflow_y": null,
            "overflow_x": null,
            "grid_auto_flow": null,
            "grid_area": null,
            "grid_template_columns": null,
            "flex": null,
            "_model_name": "LayoutModel",
            "justify_items": null,
            "grid_row": null,
            "max_height": null,
            "align_content": null,
            "visibility": null,
            "align_self": null,
            "height": null,
            "min_height": null,
            "padding": null,
            "grid_auto_rows": null,
            "grid_gap": null,
            "max_width": null,
            "order": null,
            "_view_module_version": "1.2.0",
            "grid_template_areas": null,
            "object_position": null,
            "object_fit": null,
            "grid_auto_columns": null,
            "margin": null,
            "display": null,
            "left": null
          }
        },
        "2495c5de078644fba58a5861308219ac": {
          "model_module": "@jupyter-widgets/controls",
          "model_name": "DescriptionStyleModel",
          "model_module_version": "1.5.0",
          "state": {
            "_view_name": "StyleView",
            "_model_name": "DescriptionStyleModel",
            "description_width": "",
            "_view_module": "@jupyter-widgets/base",
            "_model_module_version": "1.5.0",
            "_view_count": null,
            "_view_module_version": "1.2.0",
            "_model_module": "@jupyter-widgets/controls"
          }
        },
        "1f460340ef244b609a058535c8a9f55d": {
          "model_module": "@jupyter-widgets/base",
          "model_name": "LayoutModel",
          "model_module_version": "1.2.0",
          "state": {
            "_view_name": "LayoutView",
            "grid_template_rows": null,
            "right": null,
            "justify_content": null,
            "_view_module": "@jupyter-widgets/base",
            "overflow": null,
            "_model_module_version": "1.2.0",
            "_view_count": null,
            "flex_flow": null,
            "width": null,
            "min_width": null,
            "border": null,
            "align_items": null,
            "bottom": null,
            "_model_module": "@jupyter-widgets/base",
            "top": null,
            "grid_column": null,
            "overflow_y": null,
            "overflow_x": null,
            "grid_auto_flow": null,
            "grid_area": null,
            "grid_template_columns": null,
            "flex": null,
            "_model_name": "LayoutModel",
            "justify_items": null,
            "grid_row": null,
            "max_height": null,
            "align_content": null,
            "visibility": null,
            "align_self": null,
            "height": null,
            "min_height": null,
            "padding": null,
            "grid_auto_rows": null,
            "grid_gap": null,
            "max_width": null,
            "order": null,
            "_view_module_version": "1.2.0",
            "grid_template_areas": null,
            "object_position": null,
            "object_fit": null,
            "grid_auto_columns": null,
            "margin": null,
            "display": null,
            "left": null
          }
        }
      }
    }
  },
  "cells": [
    {
      "cell_type": "markdown",
      "metadata": {
        "id": "view-in-github",
        "colab_type": "text"
      },
      "source": [
        "<a href=\"https://colab.research.google.com/github/maiaufrrj/BRtrading/blob/main/forecast_prophet01.ipynb\" target=\"_parent\"><img src=\"https://colab.research.google.com/assets/colab-badge.svg\" alt=\"Open In Colab\"/></a>"
      ]
    },
    {
      "cell_type": "code",
      "metadata": {
        "colab": {
          "base_uri": "https://localhost:8080/"
        },
        "id": "0a1dwEiCEWNw",
        "outputId": "599c28a0-bc41-4dde-d692-62e58b3a781f"
      },
      "source": [
        "!pip install plotly fbprophet pickle5"
      ],
      "execution_count": 8,
      "outputs": [
        {
          "output_type": "stream",
          "name": "stdout",
          "text": [
            "Building wheels for collected packages: pickle5\n",
            "  Building wheel for pickle5 (setup.py) ... \u001b[?25l\u001b[?25hdone\n",
            "  Created wheel for pickle5: filename=pickle5-0.0.11-cp37-cp37m-linux_x86_64.whl size=219321 sha256=a3e3095b2501b440b34bf2a25163051eb7b5a7e96616e44de7498a7fe2f06e25\n",
            "  Stored in directory: /root/.cache/pip/wheels/7e/6a/00/67136a90d6aca437d806d1d3cedf98106e840c97a3e5188198\n",
            "Successfully built pickle5\n",
            "Installing collected packages: pickle5\n",
            "Successfully installed pickle5-0.0.11\n"
          ]
        }
      ]
    },
    {
      "cell_type": "code",
      "metadata": {
        "colab": {
          "base_uri": "https://localhost:8080/"
        },
        "id": "v2JFH8A4EL3S",
        "outputId": "a29e8a36-9296-4aa9-9611-38266de3dd4a"
      },
      "source": [
        "import pandas as pd\n",
        "import plotly.express as px\n",
        "import numpy as np\n",
        "from sklearn.neighbors import KNeighborsClassifier\n",
        "from sklearn.model_selection import train_test_split\n",
        "from sklearn.preprocessing import MinMaxScaler\n",
        "import plotly.io as pio\n",
        "from statsmodels.tsa.stattools import adfuller\n",
        "from sklearn.metrics import mean_absolute_error, mean_squared_error\n",
        "from fbprophet import Prophet\n",
        "import math\n",
        "from fbprophet.plot import plot_plotly, plot_components_plotly\n",
        "from fbprophet.diagnostics import cross_validation, performance_metrics\n",
        "import itertools"
      ],
      "execution_count": 2,
      "outputs": [
        {
          "output_type": "stream",
          "name": "stderr",
          "text": [
            "/usr/local/lib/python3.7/dist-packages/statsmodels/tools/_testing.py:19: FutureWarning:\n",
            "\n",
            "pandas.util.testing is deprecated. Use the functions in the public API at pandas.testing instead.\n",
            "\n"
          ]
        }
      ]
    },
    {
      "cell_type": "markdown",
      "metadata": {
        "id": "rgIXyDyfLr9T"
      },
      "source": [
        "####Setor: Saúde\n",
        "* NotreDame Intermédica (GNDI3);\n",
        "* Raia Drogasil (RADL3);\n",
        "* Hapvida (HAPV3);\n",
        "* Hypera (HYPE3);\n",
        "* SulAmérica (SULA11);\n",
        "* Fleury (FLRY3);\n",
        "* Qualicorp (QUAL3)."
      ]
    },
    {
      "cell_type": "code",
      "metadata": {
        "colab": {
          "base_uri": "https://localhost:8080/",
          "height": 804
        },
        "id": "5xUGFDwvEdS5",
        "outputId": "16d0b47c-761d-450a-ded0-0f9fdb7f71c7"
      },
      "source": [
        "acao = 'RADL3.SA'\n",
        "import pickle5 as pickle\n",
        "with open('df_teste.pkl', 'rb') as f:\n",
        "    data = pickle.load(f)\n",
        "\n",
        "#df_teste = pd.read_pickle(\"df_teste.pkl\")\n",
        "df_teste = data\n",
        "df = df_teste.dropna(axis='columns', thresh=200)\n",
        "\n",
        "#FORECASTING com ações da VALE3.SA\n",
        "\n",
        "#Teste de Dickey Fuller Aumentado - Verificando Estacionariedade\n",
        "from statsmodels.tsa.stattools import adfuller\n",
        "X = df[acao].values\n",
        "result = adfuller(X)\n",
        "print('ADF Statistic: %f' % result[0])\n",
        "print('p-value: %f' % result[1])\n",
        "print('Critical Values:')\n",
        "for key, value in result[4].items():\n",
        "\tprint('\\t%s: %.3f' % (key, value))\n",
        "\n",
        "print('Último valor real:' + str(df[acao][-1]))\n",
        "#RESULTADO: SÉRIE NÃO-ESTACIONÁRIA\n",
        "\n",
        "#Dividindo dataset\n",
        "vale=pd.DataFrame(df[acao]).reset_index()\n",
        "train_size = int(0.85 * len(vale))\n",
        "test_size = len(vale) - train_size\n",
        "\n",
        "univariate_df = vale[['Date', acao]].copy()\n",
        "univariate_df.columns = ['ds', 'y']\n",
        "\n",
        "train = univariate_df.iloc[:train_size, :]\n",
        "\n",
        "x_train, y_train = pd.DataFrame(univariate_df.iloc[:train_size, 0]), pd.DataFrame(univariate_df.iloc[:train_size, 1])\n",
        "x_valid, y_valid = pd.DataFrame(univariate_df.iloc[train_size:, 0]), pd.DataFrame(univariate_df.iloc[train_size:, 1])\n",
        "\n",
        "#instanciando e treinando modelo\n",
        "model = Prophet(changepoint_prior_scale= 0.01, seasonality_prior_scale= 1.0, daily_seasonality=True, weekly_seasonality=True) #hiperparâmetros ajustados\n",
        "model.fit(train)\n",
        "future = model.make_future_dataframe(periods=360, freq='d')\n",
        "\n",
        "# Conjunto de Previsão\n",
        "y_pred = model.predict(future)\n",
        "print('valor previsto:' + str(y_pred.yhat.values[-1]))\n",
        "print('mínimo valor previsto:' + str(y_pred.yhat_lower.values[-1]))\n",
        "print('máximo valor previsto:' + str(y_pred.yhat_upper.values[-1]))\n",
        "\n",
        "from fbprophet.plot import plot_plotly, plot_components_plotly\n",
        "plot_plotly(model, y_pred)\n"
      ],
      "execution_count": 150,
      "outputs": [
        {
          "output_type": "stream",
          "name": "stderr",
          "text": [
            "INFO:fbprophet:Disabling yearly seasonality. Run prophet with yearly_seasonality=True to override this.\n"
          ]
        },
        {
          "output_type": "stream",
          "name": "stdout",
          "text": [
            "ADF Statistic: -3.608787\n",
            "p-value: 0.005595\n",
            "Critical Values:\n",
            "\t1%: -3.458\n",
            "\t5%: -2.874\n",
            "\t10%: -2.573\n",
            "Último valor real:23.219999313354492\n",
            "valor previsto:28.49127278102786\n",
            "mínimo valor previsto:27.116352892174582\n",
            "máximo valor previsto:29.808250493054015\n"
          ]
        },
        {
          "output_type": "display_data",
          "data": {
            "text/html": [
              "<html>\n",
              "<head><meta charset=\"utf-8\" /></head>\n",
              "<body>\n",
              "    <div>\n",
              "            <script src=\"https://cdnjs.cloudflare.com/ajax/libs/mathjax/2.7.5/MathJax.js?config=TeX-AMS-MML_SVG\"></script><script type=\"text/javascript\">if (window.MathJax) {MathJax.Hub.Config({SVG: {font: \"STIX-Web\"}});}</script>\n",
              "                <script type=\"text/javascript\">window.PlotlyConfig = {MathJaxConfig: 'local'};</script>\n",
              "        <script src=\"https://cdn.plot.ly/plotly-latest.min.js\"></script>    \n",
              "            <div id=\"973f3363-d5f1-4764-8eba-35831fa651d5\" class=\"plotly-graph-div\" style=\"height:600px; width:900px;\"></div>\n",
              "            <script type=\"text/javascript\">\n",
              "                \n",
              "                    window.PLOTLYENV=window.PLOTLYENV || {};\n",
              "                    \n",
              "                if (document.getElementById(\"973f3363-d5f1-4764-8eba-35831fa651d5\")) {\n",
              "                    Plotly.newPlot(\n",
              "                        '973f3363-d5f1-4764-8eba-35831fa651d5',\n",
              "                        [{\"marker\": {\"color\": \"black\", \"size\": 4}, \"mode\": \"markers\", \"name\": \"Actual\", \"type\": \"scatter\", \"x\": [\"2020-10-13T00:00:00\", \"2020-10-14T00:00:00\", \"2020-10-15T00:00:00\", \"2020-10-16T00:00:00\", \"2020-10-19T00:00:00\", \"2020-10-20T00:00:00\", \"2020-10-21T00:00:00\", \"2020-10-22T00:00:00\", \"2020-10-23T00:00:00\", \"2020-10-26T00:00:00\", \"2020-10-27T00:00:00\", \"2020-10-28T00:00:00\", \"2020-10-29T00:00:00\", \"2020-10-30T00:00:00\", \"2020-11-03T00:00:00\", \"2020-11-04T00:00:00\", \"2020-11-05T00:00:00\", \"2020-11-06T00:00:00\", \"2020-11-09T00:00:00\", \"2020-11-10T00:00:00\", \"2020-11-11T00:00:00\", \"2020-11-12T00:00:00\", \"2020-11-13T00:00:00\", \"2020-11-16T00:00:00\", \"2020-11-17T00:00:00\", \"2020-11-18T00:00:00\", \"2020-11-19T00:00:00\", \"2020-11-23T00:00:00\", \"2020-11-24T00:00:00\", \"2020-11-25T00:00:00\", \"2020-11-26T00:00:00\", \"2020-11-27T00:00:00\", \"2020-11-30T00:00:00\", \"2020-12-01T00:00:00\", \"2020-12-02T00:00:00\", \"2020-12-03T00:00:00\", \"2020-12-04T00:00:00\", \"2020-12-07T00:00:00\", \"2020-12-08T00:00:00\", \"2020-12-09T00:00:00\", \"2020-12-10T00:00:00\", \"2020-12-11T00:00:00\", \"2020-12-14T00:00:00\", \"2020-12-15T00:00:00\", \"2020-12-16T00:00:00\", \"2020-12-17T00:00:00\", \"2020-12-18T00:00:00\", \"2020-12-21T00:00:00\", \"2020-12-22T00:00:00\", \"2020-12-23T00:00:00\", \"2020-12-28T00:00:00\", \"2020-12-29T00:00:00\", \"2020-12-30T00:00:00\", \"2021-01-04T00:00:00\", \"2021-01-05T00:00:00\", \"2021-01-06T00:00:00\", \"2021-01-07T00:00:00\", \"2021-01-08T00:00:00\", \"2021-01-11T00:00:00\", \"2021-01-12T00:00:00\", \"2021-01-13T00:00:00\", \"2021-01-14T00:00:00\", \"2021-01-15T00:00:00\", \"2021-01-18T00:00:00\", \"2021-01-19T00:00:00\", \"2021-01-20T00:00:00\", \"2021-01-21T00:00:00\", \"2021-01-22T00:00:00\", \"2021-01-26T00:00:00\", \"2021-01-27T00:00:00\", \"2021-01-28T00:00:00\", \"2021-01-29T00:00:00\", \"2021-02-01T00:00:00\", \"2021-02-02T00:00:00\", \"2021-02-03T00:00:00\", \"2021-02-04T00:00:00\", \"2021-02-05T00:00:00\", \"2021-02-08T00:00:00\", \"2021-02-09T00:00:00\", \"2021-02-10T00:00:00\", \"2021-02-11T00:00:00\", \"2021-02-12T00:00:00\", \"2021-02-18T00:00:00\", \"2021-02-19T00:00:00\", \"2021-02-22T00:00:00\", \"2021-02-23T00:00:00\", \"2021-02-24T00:00:00\", \"2021-02-25T00:00:00\", \"2021-02-26T00:00:00\", \"2021-03-01T00:00:00\", \"2021-03-02T00:00:00\", \"2021-03-03T00:00:00\", \"2021-03-04T00:00:00\", \"2021-03-05T00:00:00\", \"2021-03-08T00:00:00\", \"2021-03-09T00:00:00\", \"2021-03-10T00:00:00\", \"2021-03-11T00:00:00\", \"2021-03-12T00:00:00\", \"2021-03-15T00:00:00\", \"2021-03-16T00:00:00\", \"2021-03-17T00:00:00\", \"2021-03-18T00:00:00\", \"2021-03-19T00:00:00\", \"2021-03-22T00:00:00\", \"2021-03-23T00:00:00\", \"2021-03-24T00:00:00\", \"2021-03-25T00:00:00\", \"2021-03-26T00:00:00\", \"2021-03-29T00:00:00\", \"2021-03-30T00:00:00\", \"2021-03-31T00:00:00\", \"2021-04-01T00:00:00\", \"2021-04-05T00:00:00\", \"2021-04-06T00:00:00\", \"2021-04-07T00:00:00\", \"2021-04-08T00:00:00\", \"2021-04-09T00:00:00\", \"2021-04-12T00:00:00\", \"2021-04-13T00:00:00\", \"2021-04-14T00:00:00\", \"2021-04-15T00:00:00\", \"2021-04-16T00:00:00\", \"2021-04-19T00:00:00\", \"2021-04-20T00:00:00\", \"2021-04-22T00:00:00\", \"2021-04-23T00:00:00\", \"2021-04-26T00:00:00\", \"2021-04-27T00:00:00\", \"2021-04-28T00:00:00\", \"2021-04-29T00:00:00\", \"2021-04-30T00:00:00\", \"2021-05-03T00:00:00\", \"2021-05-04T00:00:00\", \"2021-05-05T00:00:00\", \"2021-05-06T00:00:00\", \"2021-05-07T00:00:00\", \"2021-05-10T00:00:00\", \"2021-05-11T00:00:00\", \"2021-05-12T00:00:00\", \"2021-05-13T00:00:00\", \"2021-05-14T00:00:00\", \"2021-05-17T00:00:00\", \"2021-05-18T00:00:00\", \"2021-05-19T00:00:00\", \"2021-05-20T00:00:00\", \"2021-05-21T00:00:00\", \"2021-05-24T00:00:00\", \"2021-05-25T00:00:00\", \"2021-05-26T00:00:00\", \"2021-05-27T00:00:00\", \"2021-05-28T00:00:00\", \"2021-05-31T00:00:00\", \"2021-06-01T00:00:00\", \"2021-06-02T00:00:00\", \"2021-06-04T00:00:00\", \"2021-06-07T00:00:00\", \"2021-06-08T00:00:00\", \"2021-06-09T00:00:00\", \"2021-06-10T00:00:00\", \"2021-06-11T00:00:00\", \"2021-06-14T00:00:00\", \"2021-06-15T00:00:00\", \"2021-06-16T00:00:00\", \"2021-06-17T00:00:00\", \"2021-06-18T00:00:00\", \"2021-06-21T00:00:00\", \"2021-06-22T00:00:00\", \"2021-06-23T00:00:00\", \"2021-06-24T00:00:00\", \"2021-06-25T00:00:00\", \"2021-06-28T00:00:00\", \"2021-06-29T00:00:00\", \"2021-06-30T00:00:00\", \"2021-07-01T00:00:00\", \"2021-07-02T00:00:00\", \"2021-07-05T00:00:00\", \"2021-07-06T00:00:00\", \"2021-07-07T00:00:00\", \"2021-07-08T00:00:00\", \"2021-07-12T00:00:00\", \"2021-07-13T00:00:00\", \"2021-07-14T00:00:00\", \"2021-07-15T00:00:00\", \"2021-07-16T00:00:00\", \"2021-07-19T00:00:00\", \"2021-07-20T00:00:00\", \"2021-07-21T00:00:00\", \"2021-07-22T00:00:00\", \"2021-07-23T00:00:00\", \"2021-07-26T00:00:00\", \"2021-07-27T00:00:00\", \"2021-07-28T00:00:00\", \"2021-07-29T00:00:00\", \"2021-07-30T00:00:00\", \"2021-08-02T00:00:00\", \"2021-08-03T00:00:00\", \"2021-08-04T00:00:00\", \"2021-08-05T00:00:00\", \"2021-08-06T00:00:00\", \"2021-08-09T00:00:00\", \"2021-08-10T00:00:00\", \"2021-08-11T00:00:00\", \"2021-08-12T00:00:00\", \"2021-08-13T00:00:00\", \"2021-08-16T00:00:00\", \"2021-08-17T00:00:00\"], \"y\": [25.602161407470703, 26.299766540527344, 25.901134490966797, 25.821407318115234, 25.203529357910156, 26.11041831970215, 26.070552825927734, 25.552330017089844, 25.592195510864258, 25.48257064819336, 25.990827560424805, 24.117258071899414, 24.30660629272461, 23.977733612060547, 23.419649124145508, 24.406261444091797, 25.492538452148438, 25.223461151123047, 25.083938598632812, 25.502504348754883, 25.96092987060547, 25.243391036987305, 26.937578201293945, 26.937578201293945, 26.379491806030273, 25.980859756469727, 25.77157974243164, 26.230005264282227, 25.61212730407715, 25.54236602783203, 25.263324737548828, 25.592195510864258, 25.761613845825195, 24.894588470458984, 24.246809005737305, 24.226879119873047, 24.525854110717773, 24.087356567382812, 24.167083740234375, 24.167083740234375, 24.505922317504883, 24.7152042388916, 25.03411102294922, 25.103870391845703, 25.36298179626465, 25.840373992919922, 25.47122573852539, 24.842676162719727, 25.321569442749023, 24.892560958862305, 25.151962280273438, 25.24175453186035, 24.98235511779785, 24.97237777709961, 24.902536392211914, 24.323871612548828, 24.01458740234375, 24.712976455688477, 24.58327293395996, 25.022262573242188, 25.022262573242188, 25.83039665222168, 25.980052947998047, 26.897932052612305, 26.738300323486328, 26.149660110473633, 25.41136360168457, 24.98235511779785, 25.810443878173828, 25.03223991394043, 25.291641235351562, 24.86263084411621, 24.97237777709961, 25.211824417114258, 25.38143539428711, 24.822721481323242, 25.191869735717773, 25.301618576049805, 25.551042556762695, 25.39141082763672, 25.920190811157227, 25.820419311523438, 24.72295379638672, 24.99233055114746, 24.473527908325195, 24.842676162719727, 24.533390045166016, 23.795093536376953, 23.17652130126953, 22.727558135986328, 22.82732582092285, 23.156564712524414, 23.545669555664062, 23.66539192199707, 22.228710174560547, 22.947050094604492, 24.293943405151367, 24.004608154296875, 24.161087036132812, 24.92017936706543, 25.809114456176758, 25.60935401916504, 25.579389572143555, 25.839078903198242, 26.03883934020996, 25.928970336914062, 25.030046463012695, 25.000083923339844, 24.82029914855957, 25.389616012573242, 25.7092342376709, 25.030046463012695, 24.46072769165039, 24.720417022705078, 24.530643463134766, 24.22101593017578, 24.61054801940918, 24.12113380432129, 24.57059669494629, 24.840274810791016, 24.750381469726562, 24.930166244506836, 24.720417022705078, 24.86025047302246, 24.81031036376953, 24.720417022705078, 24.890214920043945, 24.340871810913086, 24.52065658569336, 25.56940269470215, 25.25977325439453, 26.268564224243164, 26.668087005615234, 26.358457565307617, 26.58818244934082, 26.368444442749023, 26.957740783691406, 27.357261657714844, 26.797931671142578, 25.369640350341797, 25.56940269470215, 25.84906578063965, 26.568206787109375, 26.658100128173828, 26.68806266784668, 27.017667770385742, 26.767967224121094, 28.06641387939453, 27.547035217285156, 27.217430114746094, 27.28734588623047, 27.297332763671875, 28.146318435668945, 28.22622299194336, 28.146318435668945, 27.996498107910156, 28.306127548217773, 27.92658042907715, 27.87664031982422, 27.956544876098633, 26.74799156188965, 27.097572326660156, 27.167490005493164, 27.057621002197266, 26.458337783813477, 25.44954490661621, 25.719223022460938, 25.968923568725586, 25.319700241088867, 25.600000381469727, 24.719999313354492, 25.25, 25.040000915527344, 24.709999084472656, 24.600000381469727, 24.799999237060547, 24.770000457763672, 24.649999618530273, 25.899999618530273, 25.6299991607666, 25.809999465942383, 26.43000030517578, 26.5, 26.700000762939453, 27.09000015258789, 26.59000015258789, 26.299999237060547, 26.639999389648438, 26.84000015258789, 26.549999237060547, 26.1299991607666, 26.06999969482422, 26.3700008392334, 26.0, 25.239999771118164, 25.440000534057617, 25.770000457763672, 25.43000030517578, 25.8799991607666, 26.0, 26.700000762939453, 26.15999984741211, 25.1200008392334, 25.809999465942383, 25.8799991607666, 25.760000228881836, 25.399999618530273]}, {\"hoverinfo\": \"skip\", \"line\": {\"width\": 0}, \"mode\": \"lines\", \"type\": \"scatter\", \"x\": [\"2020-10-13T00:00:00\", \"2020-10-14T00:00:00\", \"2020-10-15T00:00:00\", \"2020-10-16T00:00:00\", \"2020-10-19T00:00:00\", \"2020-10-20T00:00:00\", \"2020-10-21T00:00:00\", \"2020-10-22T00:00:00\", \"2020-10-23T00:00:00\", \"2020-10-26T00:00:00\", \"2020-10-27T00:00:00\", \"2020-10-28T00:00:00\", \"2020-10-29T00:00:00\", \"2020-10-30T00:00:00\", \"2020-11-03T00:00:00\", \"2020-11-04T00:00:00\", \"2020-11-05T00:00:00\", \"2020-11-06T00:00:00\", \"2020-11-09T00:00:00\", \"2020-11-10T00:00:00\", \"2020-11-11T00:00:00\", \"2020-11-12T00:00:00\", \"2020-11-13T00:00:00\", \"2020-11-16T00:00:00\", \"2020-11-17T00:00:00\", \"2020-11-18T00:00:00\", \"2020-11-19T00:00:00\", \"2020-11-23T00:00:00\", \"2020-11-24T00:00:00\", \"2020-11-25T00:00:00\", \"2020-11-26T00:00:00\", \"2020-11-27T00:00:00\", \"2020-11-30T00:00:00\", \"2020-12-01T00:00:00\", \"2020-12-02T00:00:00\", \"2020-12-03T00:00:00\", \"2020-12-04T00:00:00\", \"2020-12-07T00:00:00\", \"2020-12-08T00:00:00\", \"2020-12-09T00:00:00\", \"2020-12-10T00:00:00\", \"2020-12-11T00:00:00\", \"2020-12-14T00:00:00\", \"2020-12-15T00:00:00\", \"2020-12-16T00:00:00\", \"2020-12-17T00:00:00\", \"2020-12-18T00:00:00\", \"2020-12-21T00:00:00\", \"2020-12-22T00:00:00\", \"2020-12-23T00:00:00\", \"2020-12-28T00:00:00\", \"2020-12-29T00:00:00\", \"2020-12-30T00:00:00\", \"2021-01-04T00:00:00\", \"2021-01-05T00:00:00\", \"2021-01-06T00:00:00\", \"2021-01-07T00:00:00\", \"2021-01-08T00:00:00\", \"2021-01-11T00:00:00\", \"2021-01-12T00:00:00\", \"2021-01-13T00:00:00\", \"2021-01-14T00:00:00\", \"2021-01-15T00:00:00\", \"2021-01-18T00:00:00\", \"2021-01-19T00:00:00\", \"2021-01-20T00:00:00\", \"2021-01-21T00:00:00\", \"2021-01-22T00:00:00\", \"2021-01-26T00:00:00\", \"2021-01-27T00:00:00\", \"2021-01-28T00:00:00\", \"2021-01-29T00:00:00\", \"2021-02-01T00:00:00\", \"2021-02-02T00:00:00\", \"2021-02-03T00:00:00\", \"2021-02-04T00:00:00\", \"2021-02-05T00:00:00\", \"2021-02-08T00:00:00\", \"2021-02-09T00:00:00\", \"2021-02-10T00:00:00\", \"2021-02-11T00:00:00\", \"2021-02-12T00:00:00\", \"2021-02-18T00:00:00\", \"2021-02-19T00:00:00\", \"2021-02-22T00:00:00\", \"2021-02-23T00:00:00\", \"2021-02-24T00:00:00\", \"2021-02-25T00:00:00\", \"2021-02-26T00:00:00\", \"2021-03-01T00:00:00\", \"2021-03-02T00:00:00\", \"2021-03-03T00:00:00\", \"2021-03-04T00:00:00\", \"2021-03-05T00:00:00\", \"2021-03-08T00:00:00\", \"2021-03-09T00:00:00\", \"2021-03-10T00:00:00\", \"2021-03-11T00:00:00\", \"2021-03-12T00:00:00\", \"2021-03-15T00:00:00\", \"2021-03-16T00:00:00\", \"2021-03-17T00:00:00\", \"2021-03-18T00:00:00\", \"2021-03-19T00:00:00\", \"2021-03-22T00:00:00\", \"2021-03-23T00:00:00\", \"2021-03-24T00:00:00\", \"2021-03-25T00:00:00\", \"2021-03-26T00:00:00\", \"2021-03-29T00:00:00\", \"2021-03-30T00:00:00\", \"2021-03-31T00:00:00\", \"2021-04-01T00:00:00\", \"2021-04-05T00:00:00\", \"2021-04-06T00:00:00\", \"2021-04-07T00:00:00\", \"2021-04-08T00:00:00\", \"2021-04-09T00:00:00\", \"2021-04-12T00:00:00\", \"2021-04-13T00:00:00\", \"2021-04-14T00:00:00\", \"2021-04-15T00:00:00\", \"2021-04-16T00:00:00\", \"2021-04-19T00:00:00\", \"2021-04-20T00:00:00\", \"2021-04-22T00:00:00\", \"2021-04-23T00:00:00\", \"2021-04-26T00:00:00\", \"2021-04-27T00:00:00\", \"2021-04-28T00:00:00\", \"2021-04-29T00:00:00\", \"2021-04-30T00:00:00\", \"2021-05-03T00:00:00\", \"2021-05-04T00:00:00\", \"2021-05-05T00:00:00\", \"2021-05-06T00:00:00\", \"2021-05-07T00:00:00\", \"2021-05-10T00:00:00\", \"2021-05-11T00:00:00\", \"2021-05-12T00:00:00\", \"2021-05-13T00:00:00\", \"2021-05-14T00:00:00\", \"2021-05-17T00:00:00\", \"2021-05-18T00:00:00\", \"2021-05-19T00:00:00\", \"2021-05-20T00:00:00\", \"2021-05-21T00:00:00\", \"2021-05-24T00:00:00\", \"2021-05-25T00:00:00\", \"2021-05-26T00:00:00\", \"2021-05-27T00:00:00\", \"2021-05-28T00:00:00\", \"2021-05-31T00:00:00\", \"2021-06-01T00:00:00\", \"2021-06-02T00:00:00\", \"2021-06-04T00:00:00\", \"2021-06-07T00:00:00\", \"2021-06-08T00:00:00\", \"2021-06-09T00:00:00\", \"2021-06-10T00:00:00\", \"2021-06-11T00:00:00\", \"2021-06-14T00:00:00\", \"2021-06-15T00:00:00\", \"2021-06-16T00:00:00\", \"2021-06-17T00:00:00\", \"2021-06-18T00:00:00\", \"2021-06-21T00:00:00\", \"2021-06-22T00:00:00\", \"2021-06-23T00:00:00\", \"2021-06-24T00:00:00\", \"2021-06-25T00:00:00\", \"2021-06-28T00:00:00\", \"2021-06-29T00:00:00\", \"2021-06-30T00:00:00\", \"2021-07-01T00:00:00\", \"2021-07-02T00:00:00\", \"2021-07-05T00:00:00\", \"2021-07-06T00:00:00\", \"2021-07-07T00:00:00\", \"2021-07-08T00:00:00\", \"2021-07-12T00:00:00\", \"2021-07-13T00:00:00\", \"2021-07-14T00:00:00\", \"2021-07-15T00:00:00\", \"2021-07-16T00:00:00\", \"2021-07-19T00:00:00\", \"2021-07-20T00:00:00\", \"2021-07-21T00:00:00\", \"2021-07-22T00:00:00\", \"2021-07-23T00:00:00\", \"2021-07-26T00:00:00\", \"2021-07-27T00:00:00\", \"2021-07-28T00:00:00\", \"2021-07-29T00:00:00\", \"2021-07-30T00:00:00\", \"2021-08-02T00:00:00\", \"2021-08-03T00:00:00\", \"2021-08-04T00:00:00\", \"2021-08-05T00:00:00\", \"2021-08-06T00:00:00\", \"2021-08-09T00:00:00\", \"2021-08-10T00:00:00\", \"2021-08-11T00:00:00\", \"2021-08-12T00:00:00\", \"2021-08-13T00:00:00\", \"2021-08-16T00:00:00\", \"2021-08-17T00:00:00\", \"2021-08-18T00:00:00\", \"2021-08-19T00:00:00\", \"2021-08-20T00:00:00\", \"2021-08-21T00:00:00\", \"2021-08-22T00:00:00\", \"2021-08-23T00:00:00\", \"2021-08-24T00:00:00\", \"2021-08-25T00:00:00\", \"2021-08-26T00:00:00\", \"2021-08-27T00:00:00\", \"2021-08-28T00:00:00\", \"2021-08-29T00:00:00\", \"2021-08-30T00:00:00\", \"2021-08-31T00:00:00\", \"2021-09-01T00:00:00\", \"2021-09-02T00:00:00\", \"2021-09-03T00:00:00\", \"2021-09-04T00:00:00\", \"2021-09-05T00:00:00\", \"2021-09-06T00:00:00\", \"2021-09-07T00:00:00\", \"2021-09-08T00:00:00\", \"2021-09-09T00:00:00\", \"2021-09-10T00:00:00\", \"2021-09-11T00:00:00\", \"2021-09-12T00:00:00\", \"2021-09-13T00:00:00\", \"2021-09-14T00:00:00\", \"2021-09-15T00:00:00\", \"2021-09-16T00:00:00\", \"2021-09-17T00:00:00\", \"2021-09-18T00:00:00\", \"2021-09-19T00:00:00\", \"2021-09-20T00:00:00\", \"2021-09-21T00:00:00\", \"2021-09-22T00:00:00\", \"2021-09-23T00:00:00\", \"2021-09-24T00:00:00\", \"2021-09-25T00:00:00\", \"2021-09-26T00:00:00\", \"2021-09-27T00:00:00\", \"2021-09-28T00:00:00\", \"2021-09-29T00:00:00\", \"2021-09-30T00:00:00\", \"2021-10-01T00:00:00\", \"2021-10-02T00:00:00\", \"2021-10-03T00:00:00\", \"2021-10-04T00:00:00\", \"2021-10-05T00:00:00\", \"2021-10-06T00:00:00\", \"2021-10-07T00:00:00\", \"2021-10-08T00:00:00\", \"2021-10-09T00:00:00\", \"2021-10-10T00:00:00\", \"2021-10-11T00:00:00\", \"2021-10-12T00:00:00\", \"2021-10-13T00:00:00\", \"2021-10-14T00:00:00\", \"2021-10-15T00:00:00\", \"2021-10-16T00:00:00\", \"2021-10-17T00:00:00\", \"2021-10-18T00:00:00\", \"2021-10-19T00:00:00\", \"2021-10-20T00:00:00\", \"2021-10-21T00:00:00\", \"2021-10-22T00:00:00\", \"2021-10-23T00:00:00\", \"2021-10-24T00:00:00\", \"2021-10-25T00:00:00\", \"2021-10-26T00:00:00\", \"2021-10-27T00:00:00\", \"2021-10-28T00:00:00\", \"2021-10-29T00:00:00\", \"2021-10-30T00:00:00\", \"2021-10-31T00:00:00\", \"2021-11-01T00:00:00\", \"2021-11-02T00:00:00\", \"2021-11-03T00:00:00\", \"2021-11-04T00:00:00\", \"2021-11-05T00:00:00\", \"2021-11-06T00:00:00\", \"2021-11-07T00:00:00\", \"2021-11-08T00:00:00\", \"2021-11-09T00:00:00\", \"2021-11-10T00:00:00\", \"2021-11-11T00:00:00\", \"2021-11-12T00:00:00\", \"2021-11-13T00:00:00\", \"2021-11-14T00:00:00\", \"2021-11-15T00:00:00\", \"2021-11-16T00:00:00\", \"2021-11-17T00:00:00\", \"2021-11-18T00:00:00\", \"2021-11-19T00:00:00\", \"2021-11-20T00:00:00\", \"2021-11-21T00:00:00\", \"2021-11-22T00:00:00\", \"2021-11-23T00:00:00\", \"2021-11-24T00:00:00\", \"2021-11-25T00:00:00\", \"2021-11-26T00:00:00\", \"2021-11-27T00:00:00\", \"2021-11-28T00:00:00\", \"2021-11-29T00:00:00\", \"2021-11-30T00:00:00\", \"2021-12-01T00:00:00\", \"2021-12-02T00:00:00\", \"2021-12-03T00:00:00\", \"2021-12-04T00:00:00\", \"2021-12-05T00:00:00\", \"2021-12-06T00:00:00\", \"2021-12-07T00:00:00\", \"2021-12-08T00:00:00\", \"2021-12-09T00:00:00\", \"2021-12-10T00:00:00\", \"2021-12-11T00:00:00\", \"2021-12-12T00:00:00\", \"2021-12-13T00:00:00\", \"2021-12-14T00:00:00\", \"2021-12-15T00:00:00\", \"2021-12-16T00:00:00\", \"2021-12-17T00:00:00\", \"2021-12-18T00:00:00\", \"2021-12-19T00:00:00\", \"2021-12-20T00:00:00\", \"2021-12-21T00:00:00\", \"2021-12-22T00:00:00\", \"2021-12-23T00:00:00\", \"2021-12-24T00:00:00\", \"2021-12-25T00:00:00\", \"2021-12-26T00:00:00\", \"2021-12-27T00:00:00\", \"2021-12-28T00:00:00\", \"2021-12-29T00:00:00\", \"2021-12-30T00:00:00\", \"2021-12-31T00:00:00\", \"2022-01-01T00:00:00\", \"2022-01-02T00:00:00\", \"2022-01-03T00:00:00\", \"2022-01-04T00:00:00\", \"2022-01-05T00:00:00\", \"2022-01-06T00:00:00\", \"2022-01-07T00:00:00\", \"2022-01-08T00:00:00\", \"2022-01-09T00:00:00\", \"2022-01-10T00:00:00\", \"2022-01-11T00:00:00\", \"2022-01-12T00:00:00\", \"2022-01-13T00:00:00\", \"2022-01-14T00:00:00\", \"2022-01-15T00:00:00\", \"2022-01-16T00:00:00\", \"2022-01-17T00:00:00\", \"2022-01-18T00:00:00\", \"2022-01-19T00:00:00\", \"2022-01-20T00:00:00\", \"2022-01-21T00:00:00\", \"2022-01-22T00:00:00\", \"2022-01-23T00:00:00\", \"2022-01-24T00:00:00\", \"2022-01-25T00:00:00\", \"2022-01-26T00:00:00\", \"2022-01-27T00:00:00\", \"2022-01-28T00:00:00\", \"2022-01-29T00:00:00\", \"2022-01-30T00:00:00\", \"2022-01-31T00:00:00\", \"2022-02-01T00:00:00\", \"2022-02-02T00:00:00\", \"2022-02-03T00:00:00\", \"2022-02-04T00:00:00\", \"2022-02-05T00:00:00\", \"2022-02-06T00:00:00\", \"2022-02-07T00:00:00\", \"2022-02-08T00:00:00\", \"2022-02-09T00:00:00\", \"2022-02-10T00:00:00\", \"2022-02-11T00:00:00\", \"2022-02-12T00:00:00\", \"2022-02-13T00:00:00\", \"2022-02-14T00:00:00\", \"2022-02-15T00:00:00\", \"2022-02-16T00:00:00\", \"2022-02-17T00:00:00\", \"2022-02-18T00:00:00\", \"2022-02-19T00:00:00\", \"2022-02-20T00:00:00\", \"2022-02-21T00:00:00\", \"2022-02-22T00:00:00\", \"2022-02-23T00:00:00\", \"2022-02-24T00:00:00\", \"2022-02-25T00:00:00\", \"2022-02-26T00:00:00\", \"2022-02-27T00:00:00\", \"2022-02-28T00:00:00\", \"2022-03-01T00:00:00\", \"2022-03-02T00:00:00\", \"2022-03-03T00:00:00\", \"2022-03-04T00:00:00\", \"2022-03-05T00:00:00\", \"2022-03-06T00:00:00\", \"2022-03-07T00:00:00\", \"2022-03-08T00:00:00\", \"2022-03-09T00:00:00\", \"2022-03-10T00:00:00\", \"2022-03-11T00:00:00\", \"2022-03-12T00:00:00\", \"2022-03-13T00:00:00\", \"2022-03-14T00:00:00\", \"2022-03-15T00:00:00\", \"2022-03-16T00:00:00\", \"2022-03-17T00:00:00\", \"2022-03-18T00:00:00\", \"2022-03-19T00:00:00\", \"2022-03-20T00:00:00\", \"2022-03-21T00:00:00\", \"2022-03-22T00:00:00\", \"2022-03-23T00:00:00\", \"2022-03-24T00:00:00\", \"2022-03-25T00:00:00\", \"2022-03-26T00:00:00\", \"2022-03-27T00:00:00\", \"2022-03-28T00:00:00\", \"2022-03-29T00:00:00\", \"2022-03-30T00:00:00\", \"2022-03-31T00:00:00\", \"2022-04-01T00:00:00\", \"2022-04-02T00:00:00\", \"2022-04-03T00:00:00\", \"2022-04-04T00:00:00\", \"2022-04-05T00:00:00\", \"2022-04-06T00:00:00\", \"2022-04-07T00:00:00\", \"2022-04-08T00:00:00\", \"2022-04-09T00:00:00\", \"2022-04-10T00:00:00\", \"2022-04-11T00:00:00\", \"2022-04-12T00:00:00\", \"2022-04-13T00:00:00\", \"2022-04-14T00:00:00\", \"2022-04-15T00:00:00\", \"2022-04-16T00:00:00\", \"2022-04-17T00:00:00\", \"2022-04-18T00:00:00\", \"2022-04-19T00:00:00\", \"2022-04-20T00:00:00\", \"2022-04-21T00:00:00\", \"2022-04-22T00:00:00\", \"2022-04-23T00:00:00\", \"2022-04-24T00:00:00\", \"2022-04-25T00:00:00\", \"2022-04-26T00:00:00\", \"2022-04-27T00:00:00\", \"2022-04-28T00:00:00\", \"2022-04-29T00:00:00\", \"2022-04-30T00:00:00\", \"2022-05-01T00:00:00\", \"2022-05-02T00:00:00\", \"2022-05-03T00:00:00\", \"2022-05-04T00:00:00\", \"2022-05-05T00:00:00\", \"2022-05-06T00:00:00\", \"2022-05-07T00:00:00\", \"2022-05-08T00:00:00\", \"2022-05-09T00:00:00\", \"2022-05-10T00:00:00\", \"2022-05-11T00:00:00\", \"2022-05-12T00:00:00\", \"2022-05-13T00:00:00\", \"2022-05-14T00:00:00\", \"2022-05-15T00:00:00\", \"2022-05-16T00:00:00\", \"2022-05-17T00:00:00\", \"2022-05-18T00:00:00\", \"2022-05-19T00:00:00\", \"2022-05-20T00:00:00\", \"2022-05-21T00:00:00\", \"2022-05-22T00:00:00\", \"2022-05-23T00:00:00\", \"2022-05-24T00:00:00\", \"2022-05-25T00:00:00\", \"2022-05-26T00:00:00\", \"2022-05-27T00:00:00\", \"2022-05-28T00:00:00\", \"2022-05-29T00:00:00\", \"2022-05-30T00:00:00\", \"2022-05-31T00:00:00\", \"2022-06-01T00:00:00\", \"2022-06-02T00:00:00\", \"2022-06-03T00:00:00\", \"2022-06-04T00:00:00\", \"2022-06-05T00:00:00\", \"2022-06-06T00:00:00\", \"2022-06-07T00:00:00\", \"2022-06-08T00:00:00\", \"2022-06-09T00:00:00\", \"2022-06-10T00:00:00\", \"2022-06-11T00:00:00\", \"2022-06-12T00:00:00\", \"2022-06-13T00:00:00\", \"2022-06-14T00:00:00\", \"2022-06-15T00:00:00\", \"2022-06-16T00:00:00\", \"2022-06-17T00:00:00\", \"2022-06-18T00:00:00\", \"2022-06-19T00:00:00\", \"2022-06-20T00:00:00\", \"2022-06-21T00:00:00\", \"2022-06-22T00:00:00\", \"2022-06-23T00:00:00\", \"2022-06-24T00:00:00\", \"2022-06-25T00:00:00\", \"2022-06-26T00:00:00\", \"2022-06-27T00:00:00\", \"2022-06-28T00:00:00\", \"2022-06-29T00:00:00\", \"2022-06-30T00:00:00\", \"2022-07-01T00:00:00\", \"2022-07-02T00:00:00\", \"2022-07-03T00:00:00\", \"2022-07-04T00:00:00\", \"2022-07-05T00:00:00\", \"2022-07-06T00:00:00\", \"2022-07-07T00:00:00\", \"2022-07-08T00:00:00\", \"2022-07-09T00:00:00\", \"2022-07-10T00:00:00\", \"2022-07-11T00:00:00\", \"2022-07-12T00:00:00\", \"2022-07-13T00:00:00\", \"2022-07-14T00:00:00\", \"2022-07-15T00:00:00\", \"2022-07-16T00:00:00\", \"2022-07-17T00:00:00\", \"2022-07-18T00:00:00\", \"2022-07-19T00:00:00\", \"2022-07-20T00:00:00\", \"2022-07-21T00:00:00\", \"2022-07-22T00:00:00\", \"2022-07-23T00:00:00\", \"2022-07-24T00:00:00\", \"2022-07-25T00:00:00\", \"2022-07-26T00:00:00\", \"2022-07-27T00:00:00\", \"2022-07-28T00:00:00\", \"2022-07-29T00:00:00\", \"2022-07-30T00:00:00\", \"2022-07-31T00:00:00\", \"2022-08-01T00:00:00\", \"2022-08-02T00:00:00\", \"2022-08-03T00:00:00\", \"2022-08-04T00:00:00\", \"2022-08-05T00:00:00\", \"2022-08-06T00:00:00\", \"2022-08-07T00:00:00\", \"2022-08-08T00:00:00\", \"2022-08-09T00:00:00\", \"2022-08-10T00:00:00\", \"2022-08-11T00:00:00\", \"2022-08-12T00:00:00\"], \"y\": [23.919214245473768, 23.785201191969094, 23.77294066630381, 23.884543892767496, 23.88964169507365, 23.976468734087817, 23.866206720297598, 23.752531085580543, 23.831093572498872, 23.860849430379698, 23.980536989278068, 23.847651888245878, 23.75626193635833, 23.865143094194465, 23.91329098505054, 23.89968426909839, 23.73917930721718, 23.840510207426917, 23.844057162034424, 23.966855454047526, 23.903791900516715, 23.774995356423613, 23.840452126569105, 23.96222973456425, 23.97444145433135, 23.819927555044647, 23.733661209545566, 23.913966885701587, 23.9319368466721, 23.845209950437223, 23.817676793924385, 23.88129837614701, 23.971016531353758, 23.979367120809783, 23.875695272320392, 23.76992682581828, 23.82530833935978, 23.92742498511561, 23.919366042413728, 23.987184356628266, 23.82899811519459, 23.83828994044076, 23.93453808662307, 23.924939232556206, 23.89002367609897, 23.784149136003062, 23.864922382933962, 23.96061230088207, 23.96899204895548, 23.91839216354112, 23.91429669803284, 24.010578680339123, 23.857533809105252, 24.03428227019444, 24.017300918062194, 23.933073243456736, 23.842693375031615, 23.920061907898656, 23.896337599484525, 23.994873252385155, 23.882586067151138, 23.729847534809664, 23.835662766103248, 23.84841385650386, 24.079552809346524, 23.883182109634625, 23.783839998980753, 23.848067804564323, 24.014571761533926, 23.778214877408608, 23.8414690239884, 23.850220354054013, 23.906106467010684, 23.998605624528015, 23.99858563094419, 23.730873490537473, 23.953773737469554, 23.930120716087647, 23.980347885787275, 23.961263784997648, 23.81025403696269, 23.91013487319898, 23.938029491652276, 24.10704718388239, 23.97109542781774, 24.1091645406664, 23.8461105632744, 23.95652045831889, 23.9331052059986, 24.089453406948124, 24.163414886446844, 23.87310211951814, 23.931637881597492, 23.92209072261619, 23.990625396424434, 24.141037611862973, 24.148415491459378, 23.938618724929626, 24.16154287265972, 24.20253590840649, 24.209942308196943, 23.98931227953571, 23.982019325991054, 24.163292459662586, 24.22682886322232, 24.18903499737371, 24.130984495007397, 24.05331226842576, 24.126934129542295, 24.187982243178574, 24.275068343905083, 24.13373693719151, 24.032922193062333, 24.231200718391115, 24.260047069355963, 24.246161238619845, 24.124421768337523, 24.181242774550896, 24.312194847806488, 24.268241671256217, 24.279314290152023, 24.20480615449322, 24.118234603888418, 24.248749850285932, 24.447800648751965, 24.26713069770252, 24.249014509103787, 24.409610026459323, 24.374893775435545, 24.29489673428864, 24.364374114891987, 24.378098404604568, 24.390050440010278, 24.439296326347986, 24.35662315572335, 24.32879953574296, 24.408477754904325, 24.380269323998856, 24.470226979266926, 24.478752504236542, 24.32329281780451, 24.391586277435646, 24.465712191381154, 24.594675273294055, 24.4422117459951, 24.490920788594163, 24.38343331015178, 24.5220216505157, 24.64274653958855, 24.50083872090375, 24.50000347348214, 24.515440574303955, 24.69137458431446, 24.624388406491324, 24.66882317226458, 24.54000742296619, 24.6243986038783, 24.683184181130777, 24.538457068423323, 24.46534582796053, 24.485222906289536, 24.71012678986188, 24.76452028889573, 24.618339326645643, 24.4885735468268, 24.6439209676538, 24.635991815107438, 24.802760118272335, 24.631338161890255, 24.620302546860295, 24.624747002439598, 24.725509700370317, 24.802857080956517, 24.690363881606153, 24.558678982270024, 24.687681921722913, 24.81316912857621, 24.91882830431718, 24.68788123222358, 24.706223665427412, 24.791451751194913, 24.906544016835092, 24.772728142719032, 24.811133219446884, 24.831254360576047, 24.891704278702626, 25.03502158781765, 24.86104593000385, 24.816888843955464, 24.798583733404662, 24.94697403560802, 25.006509492580808, 24.960151716337514, 24.894098028798744, 24.856270345926788, 25.04188236573133, 24.970466896929047, 25.017436185096305, 24.808873414532666, 24.923563964168054, 25.049930694948635, 25.06388817167937, 25.036320128960305, 24.917079155340662, 25.076699721354213, 25.022519327968723, 25.11791108971683, 25.030734100011184, 24.93063310730182, 25.030831157525007, 25.09778970630976, 25.09334742038316, 25.1964270032905, 25.157921036297626, 25.088494388403927, 24.96408471175689, 25.02639403894478, 25.17640629347058, 25.229108646568665, 25.149689708188085, 25.230752835797833, 25.101625783080678, 25.068822979669342, 25.17108426979358, 25.27679092455828, 25.18387601809192, 25.27401600888367, 25.18865738981797, 25.203464636168192, 25.147366712535593, 25.15955626826307, 25.337976778211214, 25.252251878146215, 25.1902537092194, 25.360228549084336, 25.15766675143223, 25.07343801923932, 25.134578557189045, 25.266106619836616, 25.30026934757628, 25.25769092761012, 25.387111890904595, 25.317650350583527, 25.146702934902272, 25.238371744882897, 25.423336136773354, 25.281936833253596, 25.310384855066765, 25.348712492099295, 25.37413030943381, 25.112472167529912, 25.24338928340591, 25.432893116419777, 25.265078347460083, 25.447671913597382, 25.406649713159403, 25.276369162401494, 25.199223697762495, 25.35334641619642, 25.449568283388736, 25.389691214061827, 25.476969147965445, 25.45894815235557, 25.364942181567265, 25.233482465220806, 25.35490591679575, 25.486447112284207, 25.59138302836588, 25.430268986280673, 25.506020633026093, 25.502969233793454, 25.380446338184743, 25.484871078973036, 25.497465591792142, 25.467530735841237, 25.58592591291036, 25.534901087263883, 25.524110105386814, 25.445611245812568, 25.415985808274037, 25.610558854366968, 25.548861372525995, 25.556112773369552, 25.57020072824803, 25.534856109602472, 25.5270566795079, 25.44626246168524, 25.607930300963684, 25.653651248904403, 25.686107870774187, 25.63580970249219, 25.58008281122048, 25.470242532674305, 25.521263736418277, 25.689102653388886, 25.706238179415994, 25.637514707945545, 25.647187742767578, 25.624600228007495, 25.509413810564965, 25.5977047457034, 25.77074418917875, 25.686316742881143, 25.763390084222344, 25.615554927417552, 25.654688927410398, 25.588960600028045, 25.655745453141805, 25.72931225260753, 25.741594613754323, 25.7423154930915, 25.78204960631327, 25.690575342296086, 25.575701054615667, 25.601447419718298, 25.691998627677112, 25.73097479439654, 25.829679397516667, 25.849929051398828, 25.67661055938668, 25.691772119066975, 25.66289681640415, 25.88454856057551, 25.94922269326307, 25.884065455961565, 25.82784947766583, 25.796420889800068, 25.64400310648478, 25.768544646554535, 25.96508881361001, 25.8014915903412, 25.910959854130578, 25.88264960209052, 25.81090837416751, 25.701750175515766, 25.767799187611505, 25.88920961010178, 25.972805520523842, 25.981306636186357, 25.86496787040356, 25.891892995364614, 25.75326827300842, 25.783502855141148, 25.83545928451692, 25.91724184019023, 25.887156129604385, 26.032145830819026, 25.934243371450957, 25.724503758537345, 25.857589685440864, 26.039128068098798, 25.957729810499718, 25.979236079260712, 25.923364735245023, 25.942470464743863, 25.85781059160466, 25.88173116291432, 26.04475370431032, 26.0286305644556, 26.005255841682427, 26.114925677655382, 26.080575660740706, 25.8417250288364, 26.063723429813642, 26.05478316623527, 26.01388136462137, 26.03423472950068, 26.18847989620128, 25.977073235127246, 25.97479565148521, 26.032335568068685, 26.18153098141527, 26.149341102262895, 26.221809543232666, 26.115700885075622, 26.092500723255323, 25.91400176086859, 26.149202251895822, 26.145838030860315, 26.245150738790745, 26.169214723880607, 26.125384870438577, 26.11911474778825, 25.99875024853001, 26.087463650920675, 26.077910633312115, 26.231093017249343, 26.16681699047847, 26.29253585564641, 26.211048966551775, 26.03338877538113, 26.037686068349124, 26.23960816275438, 26.310072389704715, 26.257745848741372, 26.191641512171852, 26.32680223507237, 26.16136315479615, 26.199073779364536, 26.199098098506468, 26.275125109733082, 26.20563356878675, 26.323060089192964, 26.20132293805831, 26.125215865867258, 26.203313472252947, 26.311537811002527, 26.319790540467544, 26.35972060024283, 26.328954073040904, 26.269358773920565, 26.19687801280723, 26.283806215049974, 26.45859450117656, 26.487743224899987, 26.33026534063742, 26.441949894490826, 26.350320396163582, 26.2439038441316, 26.303991295165634, 26.431804641783597, 26.4388239967111, 26.440068455697045, 26.408014327294296, 26.39107118008014, 26.237912626409738, 26.34023966230287, 26.380658825976894, 26.536885346285196, 26.481685141250686, 26.60465463537175, 26.41820133976952, 26.41891609705755, 26.36619429860784, 26.52598088551135, 26.44809220873303, 26.5090806110068, 26.58556256300432, 26.474526245838014, 26.383895487843866, 26.35276254602073, 26.540183388446984, 26.573843193779346, 26.51806343712178, 26.538827907603295, 26.519151628170228, 26.42865000360314, 26.472023132189882, 26.469071898678507, 26.64573301069548, 26.60485824003518, 26.65766343244287, 26.536607088015327, 26.44703256900328, 26.538657343183612, 26.636283223602714, 26.53071230455218, 26.651559565208533, 26.609332306363125, 26.555467608678732, 26.421133721241215, 26.578989732964537, 26.639333368674407, 26.609464361607145, 26.704982979853163, 26.63386110547623, 26.602652153634267, 26.527138318280052, 26.579787266367347, 26.690818229166464, 26.73007332115183, 26.68106772124986, 26.739378377667606, 26.671564941056154, 26.462990426537257, 26.611388306598286, 26.61435662535368, 26.692969620183945, 26.70826842618051, 26.782240862451907, 26.745738836395653, 26.563252066446427, 26.72994968033851, 26.81377164333001, 26.789982063461043, 26.82558068414873, 26.793835632288705, 26.726649347686923, 26.695486077432406, 26.68229712940817, 26.831757827764633, 26.842513619357184, 26.83167657074187, 26.884021875444002, 26.740541972098434, 26.715091515358008, 26.802484312673634, 26.808048805201558, 26.730211186836492, 26.90882603856096, 26.85133985544357, 26.801807400532173, 26.727436399128706, 26.76399656421612, 26.958196333103892, 26.98528878064625, 27.051016719927375, 26.925992737175047, 26.915754217066542, 26.753908623395997, 26.74141502630422, 26.9266088611098, 26.908189154677196, 26.862085574682535, 27.096474593440654, 26.894733044920894, 26.825205368380388, 26.96047195238644, 27.00423954714138, 27.085002470260356, 26.935507878533738, 27.058149942327216, 26.81723759924911, 26.76225433955524, 26.8923675607937, 27.06441712917538, 26.996213930624922, 26.94745254939764, 27.06376711824394, 26.892122865442854, 26.876556933534882, 26.905462200282575, 27.061620012812874, 27.075018337513978, 27.052455377580806, 26.923635607659232, 26.977321332373478, 27.02077083095308, 27.012069863155983, 27.150098960371487, 27.021145326019404, 27.038487832815594, 27.05749668009674, 27.040437395092216, 27.03257613135735, 26.87892052772305, 27.09975034225404, 27.147856537600333, 27.237610907627104, 27.156213098015797, 27.146725092874714, 27.057749097499126, 27.056757737037774, 27.115226166546854, 27.196779474297617, 27.221567453372398, 27.15903580420287, 27.137303051371997, 27.17692273416988, 27.04038860059149, 27.170415080162666, 27.231759208172637, 27.252758525384298, 27.268197073934747, 27.160345165712304, 27.144334452007303, 27.116352892174582]}, {\"fill\": \"tonexty\", \"fillcolor\": \"rgba(0, 114, 178, 0.2)\", \"line\": {\"color\": \"#0072B2\", \"width\": 2}, \"mode\": \"lines\", \"name\": \"Predicted\", \"type\": \"scatter\", \"x\": [\"2020-10-13T00:00:00\", \"2020-10-14T00:00:00\", \"2020-10-15T00:00:00\", \"2020-10-16T00:00:00\", \"2020-10-19T00:00:00\", \"2020-10-20T00:00:00\", \"2020-10-21T00:00:00\", \"2020-10-22T00:00:00\", \"2020-10-23T00:00:00\", \"2020-10-26T00:00:00\", \"2020-10-27T00:00:00\", \"2020-10-28T00:00:00\", \"2020-10-29T00:00:00\", \"2020-10-30T00:00:00\", \"2020-11-03T00:00:00\", \"2020-11-04T00:00:00\", \"2020-11-05T00:00:00\", \"2020-11-06T00:00:00\", \"2020-11-09T00:00:00\", \"2020-11-10T00:00:00\", \"2020-11-11T00:00:00\", \"2020-11-12T00:00:00\", \"2020-11-13T00:00:00\", \"2020-11-16T00:00:00\", \"2020-11-17T00:00:00\", \"2020-11-18T00:00:00\", \"2020-11-19T00:00:00\", \"2020-11-23T00:00:00\", \"2020-11-24T00:00:00\", \"2020-11-25T00:00:00\", \"2020-11-26T00:00:00\", \"2020-11-27T00:00:00\", \"2020-11-30T00:00:00\", \"2020-12-01T00:00:00\", \"2020-12-02T00:00:00\", \"2020-12-03T00:00:00\", \"2020-12-04T00:00:00\", \"2020-12-07T00:00:00\", \"2020-12-08T00:00:00\", \"2020-12-09T00:00:00\", \"2020-12-10T00:00:00\", \"2020-12-11T00:00:00\", \"2020-12-14T00:00:00\", \"2020-12-15T00:00:00\", \"2020-12-16T00:00:00\", \"2020-12-17T00:00:00\", \"2020-12-18T00:00:00\", \"2020-12-21T00:00:00\", \"2020-12-22T00:00:00\", \"2020-12-23T00:00:00\", \"2020-12-28T00:00:00\", \"2020-12-29T00:00:00\", \"2020-12-30T00:00:00\", \"2021-01-04T00:00:00\", \"2021-01-05T00:00:00\", \"2021-01-06T00:00:00\", \"2021-01-07T00:00:00\", \"2021-01-08T00:00:00\", \"2021-01-11T00:00:00\", \"2021-01-12T00:00:00\", \"2021-01-13T00:00:00\", \"2021-01-14T00:00:00\", \"2021-01-15T00:00:00\", \"2021-01-18T00:00:00\", \"2021-01-19T00:00:00\", \"2021-01-20T00:00:00\", \"2021-01-21T00:00:00\", \"2021-01-22T00:00:00\", \"2021-01-26T00:00:00\", \"2021-01-27T00:00:00\", \"2021-01-28T00:00:00\", \"2021-01-29T00:00:00\", \"2021-02-01T00:00:00\", \"2021-02-02T00:00:00\", \"2021-02-03T00:00:00\", \"2021-02-04T00:00:00\", \"2021-02-05T00:00:00\", \"2021-02-08T00:00:00\", \"2021-02-09T00:00:00\", \"2021-02-10T00:00:00\", \"2021-02-11T00:00:00\", \"2021-02-12T00:00:00\", \"2021-02-18T00:00:00\", \"2021-02-19T00:00:00\", \"2021-02-22T00:00:00\", \"2021-02-23T00:00:00\", \"2021-02-24T00:00:00\", \"2021-02-25T00:00:00\", \"2021-02-26T00:00:00\", \"2021-03-01T00:00:00\", \"2021-03-02T00:00:00\", \"2021-03-03T00:00:00\", \"2021-03-04T00:00:00\", \"2021-03-05T00:00:00\", \"2021-03-08T00:00:00\", \"2021-03-09T00:00:00\", \"2021-03-10T00:00:00\", \"2021-03-11T00:00:00\", \"2021-03-12T00:00:00\", \"2021-03-15T00:00:00\", \"2021-03-16T00:00:00\", \"2021-03-17T00:00:00\", \"2021-03-18T00:00:00\", \"2021-03-19T00:00:00\", \"2021-03-22T00:00:00\", \"2021-03-23T00:00:00\", \"2021-03-24T00:00:00\", \"2021-03-25T00:00:00\", \"2021-03-26T00:00:00\", \"2021-03-29T00:00:00\", \"2021-03-30T00:00:00\", \"2021-03-31T00:00:00\", \"2021-04-01T00:00:00\", \"2021-04-05T00:00:00\", \"2021-04-06T00:00:00\", \"2021-04-07T00:00:00\", \"2021-04-08T00:00:00\", \"2021-04-09T00:00:00\", \"2021-04-12T00:00:00\", \"2021-04-13T00:00:00\", \"2021-04-14T00:00:00\", \"2021-04-15T00:00:00\", \"2021-04-16T00:00:00\", \"2021-04-19T00:00:00\", \"2021-04-20T00:00:00\", \"2021-04-22T00:00:00\", \"2021-04-23T00:00:00\", \"2021-04-26T00:00:00\", \"2021-04-27T00:00:00\", \"2021-04-28T00:00:00\", \"2021-04-29T00:00:00\", \"2021-04-30T00:00:00\", \"2021-05-03T00:00:00\", \"2021-05-04T00:00:00\", \"2021-05-05T00:00:00\", \"2021-05-06T00:00:00\", \"2021-05-07T00:00:00\", \"2021-05-10T00:00:00\", \"2021-05-11T00:00:00\", \"2021-05-12T00:00:00\", \"2021-05-13T00:00:00\", \"2021-05-14T00:00:00\", \"2021-05-17T00:00:00\", \"2021-05-18T00:00:00\", \"2021-05-19T00:00:00\", \"2021-05-20T00:00:00\", \"2021-05-21T00:00:00\", \"2021-05-24T00:00:00\", \"2021-05-25T00:00:00\", \"2021-05-26T00:00:00\", \"2021-05-27T00:00:00\", \"2021-05-28T00:00:00\", \"2021-05-31T00:00:00\", \"2021-06-01T00:00:00\", \"2021-06-02T00:00:00\", \"2021-06-04T00:00:00\", \"2021-06-07T00:00:00\", \"2021-06-08T00:00:00\", \"2021-06-09T00:00:00\", \"2021-06-10T00:00:00\", \"2021-06-11T00:00:00\", \"2021-06-14T00:00:00\", \"2021-06-15T00:00:00\", \"2021-06-16T00:00:00\", \"2021-06-17T00:00:00\", \"2021-06-18T00:00:00\", \"2021-06-21T00:00:00\", \"2021-06-22T00:00:00\", \"2021-06-23T00:00:00\", \"2021-06-24T00:00:00\", \"2021-06-25T00:00:00\", \"2021-06-28T00:00:00\", \"2021-06-29T00:00:00\", \"2021-06-30T00:00:00\", \"2021-07-01T00:00:00\", \"2021-07-02T00:00:00\", \"2021-07-05T00:00:00\", \"2021-07-06T00:00:00\", \"2021-07-07T00:00:00\", \"2021-07-08T00:00:00\", \"2021-07-12T00:00:00\", \"2021-07-13T00:00:00\", \"2021-07-14T00:00:00\", \"2021-07-15T00:00:00\", \"2021-07-16T00:00:00\", \"2021-07-19T00:00:00\", \"2021-07-20T00:00:00\", \"2021-07-21T00:00:00\", \"2021-07-22T00:00:00\", \"2021-07-23T00:00:00\", \"2021-07-26T00:00:00\", \"2021-07-27T00:00:00\", \"2021-07-28T00:00:00\", \"2021-07-29T00:00:00\", \"2021-07-30T00:00:00\", \"2021-08-02T00:00:00\", \"2021-08-03T00:00:00\", \"2021-08-04T00:00:00\", \"2021-08-05T00:00:00\", \"2021-08-06T00:00:00\", \"2021-08-09T00:00:00\", \"2021-08-10T00:00:00\", \"2021-08-11T00:00:00\", \"2021-08-12T00:00:00\", \"2021-08-13T00:00:00\", \"2021-08-16T00:00:00\", \"2021-08-17T00:00:00\", \"2021-08-18T00:00:00\", \"2021-08-19T00:00:00\", \"2021-08-20T00:00:00\", \"2021-08-21T00:00:00\", \"2021-08-22T00:00:00\", \"2021-08-23T00:00:00\", \"2021-08-24T00:00:00\", \"2021-08-25T00:00:00\", \"2021-08-26T00:00:00\", \"2021-08-27T00:00:00\", \"2021-08-28T00:00:00\", \"2021-08-29T00:00:00\", \"2021-08-30T00:00:00\", \"2021-08-31T00:00:00\", \"2021-09-01T00:00:00\", \"2021-09-02T00:00:00\", \"2021-09-03T00:00:00\", \"2021-09-04T00:00:00\", \"2021-09-05T00:00:00\", \"2021-09-06T00:00:00\", \"2021-09-07T00:00:00\", \"2021-09-08T00:00:00\", \"2021-09-09T00:00:00\", \"2021-09-10T00:00:00\", \"2021-09-11T00:00:00\", \"2021-09-12T00:00:00\", \"2021-09-13T00:00:00\", \"2021-09-14T00:00:00\", \"2021-09-15T00:00:00\", \"2021-09-16T00:00:00\", \"2021-09-17T00:00:00\", \"2021-09-18T00:00:00\", \"2021-09-19T00:00:00\", \"2021-09-20T00:00:00\", \"2021-09-21T00:00:00\", \"2021-09-22T00:00:00\", \"2021-09-23T00:00:00\", \"2021-09-24T00:00:00\", \"2021-09-25T00:00:00\", \"2021-09-26T00:00:00\", \"2021-09-27T00:00:00\", \"2021-09-28T00:00:00\", \"2021-09-29T00:00:00\", \"2021-09-30T00:00:00\", \"2021-10-01T00:00:00\", \"2021-10-02T00:00:00\", \"2021-10-03T00:00:00\", \"2021-10-04T00:00:00\", \"2021-10-05T00:00:00\", \"2021-10-06T00:00:00\", \"2021-10-07T00:00:00\", \"2021-10-08T00:00:00\", \"2021-10-09T00:00:00\", \"2021-10-10T00:00:00\", \"2021-10-11T00:00:00\", \"2021-10-12T00:00:00\", \"2021-10-13T00:00:00\", \"2021-10-14T00:00:00\", \"2021-10-15T00:00:00\", \"2021-10-16T00:00:00\", \"2021-10-17T00:00:00\", \"2021-10-18T00:00:00\", \"2021-10-19T00:00:00\", \"2021-10-20T00:00:00\", \"2021-10-21T00:00:00\", \"2021-10-22T00:00:00\", \"2021-10-23T00:00:00\", \"2021-10-24T00:00:00\", \"2021-10-25T00:00:00\", \"2021-10-26T00:00:00\", \"2021-10-27T00:00:00\", \"2021-10-28T00:00:00\", \"2021-10-29T00:00:00\", \"2021-10-30T00:00:00\", \"2021-10-31T00:00:00\", \"2021-11-01T00:00:00\", \"2021-11-02T00:00:00\", \"2021-11-03T00:00:00\", \"2021-11-04T00:00:00\", \"2021-11-05T00:00:00\", \"2021-11-06T00:00:00\", \"2021-11-07T00:00:00\", \"2021-11-08T00:00:00\", \"2021-11-09T00:00:00\", \"2021-11-10T00:00:00\", \"2021-11-11T00:00:00\", \"2021-11-12T00:00:00\", \"2021-11-13T00:00:00\", \"2021-11-14T00:00:00\", \"2021-11-15T00:00:00\", \"2021-11-16T00:00:00\", \"2021-11-17T00:00:00\", \"2021-11-18T00:00:00\", \"2021-11-19T00:00:00\", \"2021-11-20T00:00:00\", \"2021-11-21T00:00:00\", \"2021-11-22T00:00:00\", \"2021-11-23T00:00:00\", \"2021-11-24T00:00:00\", \"2021-11-25T00:00:00\", \"2021-11-26T00:00:00\", \"2021-11-27T00:00:00\", \"2021-11-28T00:00:00\", \"2021-11-29T00:00:00\", \"2021-11-30T00:00:00\", \"2021-12-01T00:00:00\", \"2021-12-02T00:00:00\", \"2021-12-03T00:00:00\", \"2021-12-04T00:00:00\", \"2021-12-05T00:00:00\", \"2021-12-06T00:00:00\", \"2021-12-07T00:00:00\", \"2021-12-08T00:00:00\", \"2021-12-09T00:00:00\", \"2021-12-10T00:00:00\", \"2021-12-11T00:00:00\", \"2021-12-12T00:00:00\", \"2021-12-13T00:00:00\", \"2021-12-14T00:00:00\", \"2021-12-15T00:00:00\", \"2021-12-16T00:00:00\", \"2021-12-17T00:00:00\", \"2021-12-18T00:00:00\", \"2021-12-19T00:00:00\", \"2021-12-20T00:00:00\", \"2021-12-21T00:00:00\", \"2021-12-22T00:00:00\", \"2021-12-23T00:00:00\", \"2021-12-24T00:00:00\", \"2021-12-25T00:00:00\", \"2021-12-26T00:00:00\", \"2021-12-27T00:00:00\", \"2021-12-28T00:00:00\", \"2021-12-29T00:00:00\", \"2021-12-30T00:00:00\", \"2021-12-31T00:00:00\", \"2022-01-01T00:00:00\", \"2022-01-02T00:00:00\", \"2022-01-03T00:00:00\", \"2022-01-04T00:00:00\", \"2022-01-05T00:00:00\", \"2022-01-06T00:00:00\", \"2022-01-07T00:00:00\", \"2022-01-08T00:00:00\", \"2022-01-09T00:00:00\", \"2022-01-10T00:00:00\", \"2022-01-11T00:00:00\", \"2022-01-12T00:00:00\", \"2022-01-13T00:00:00\", \"2022-01-14T00:00:00\", \"2022-01-15T00:00:00\", \"2022-01-16T00:00:00\", \"2022-01-17T00:00:00\", \"2022-01-18T00:00:00\", \"2022-01-19T00:00:00\", \"2022-01-20T00:00:00\", \"2022-01-21T00:00:00\", \"2022-01-22T00:00:00\", \"2022-01-23T00:00:00\", \"2022-01-24T00:00:00\", \"2022-01-25T00:00:00\", \"2022-01-26T00:00:00\", \"2022-01-27T00:00:00\", \"2022-01-28T00:00:00\", \"2022-01-29T00:00:00\", \"2022-01-30T00:00:00\", \"2022-01-31T00:00:00\", \"2022-02-01T00:00:00\", \"2022-02-02T00:00:00\", \"2022-02-03T00:00:00\", \"2022-02-04T00:00:00\", \"2022-02-05T00:00:00\", \"2022-02-06T00:00:00\", \"2022-02-07T00:00:00\", \"2022-02-08T00:00:00\", \"2022-02-09T00:00:00\", \"2022-02-10T00:00:00\", \"2022-02-11T00:00:00\", \"2022-02-12T00:00:00\", \"2022-02-13T00:00:00\", \"2022-02-14T00:00:00\", \"2022-02-15T00:00:00\", \"2022-02-16T00:00:00\", \"2022-02-17T00:00:00\", \"2022-02-18T00:00:00\", \"2022-02-19T00:00:00\", \"2022-02-20T00:00:00\", \"2022-02-21T00:00:00\", \"2022-02-22T00:00:00\", \"2022-02-23T00:00:00\", \"2022-02-24T00:00:00\", \"2022-02-25T00:00:00\", \"2022-02-26T00:00:00\", \"2022-02-27T00:00:00\", \"2022-02-28T00:00:00\", \"2022-03-01T00:00:00\", \"2022-03-02T00:00:00\", \"2022-03-03T00:00:00\", \"2022-03-04T00:00:00\", \"2022-03-05T00:00:00\", \"2022-03-06T00:00:00\", \"2022-03-07T00:00:00\", \"2022-03-08T00:00:00\", \"2022-03-09T00:00:00\", \"2022-03-10T00:00:00\", \"2022-03-11T00:00:00\", \"2022-03-12T00:00:00\", \"2022-03-13T00:00:00\", \"2022-03-14T00:00:00\", \"2022-03-15T00:00:00\", \"2022-03-16T00:00:00\", \"2022-03-17T00:00:00\", \"2022-03-18T00:00:00\", \"2022-03-19T00:00:00\", \"2022-03-20T00:00:00\", \"2022-03-21T00:00:00\", \"2022-03-22T00:00:00\", \"2022-03-23T00:00:00\", \"2022-03-24T00:00:00\", \"2022-03-25T00:00:00\", \"2022-03-26T00:00:00\", \"2022-03-27T00:00:00\", \"2022-03-28T00:00:00\", \"2022-03-29T00:00:00\", \"2022-03-30T00:00:00\", \"2022-03-31T00:00:00\", \"2022-04-01T00:00:00\", \"2022-04-02T00:00:00\", \"2022-04-03T00:00:00\", \"2022-04-04T00:00:00\", \"2022-04-05T00:00:00\", \"2022-04-06T00:00:00\", \"2022-04-07T00:00:00\", \"2022-04-08T00:00:00\", \"2022-04-09T00:00:00\", \"2022-04-10T00:00:00\", \"2022-04-11T00:00:00\", \"2022-04-12T00:00:00\", \"2022-04-13T00:00:00\", \"2022-04-14T00:00:00\", \"2022-04-15T00:00:00\", \"2022-04-16T00:00:00\", \"2022-04-17T00:00:00\", \"2022-04-18T00:00:00\", \"2022-04-19T00:00:00\", \"2022-04-20T00:00:00\", \"2022-04-21T00:00:00\", \"2022-04-22T00:00:00\", \"2022-04-23T00:00:00\", \"2022-04-24T00:00:00\", \"2022-04-25T00:00:00\", \"2022-04-26T00:00:00\", \"2022-04-27T00:00:00\", \"2022-04-28T00:00:00\", \"2022-04-29T00:00:00\", \"2022-04-30T00:00:00\", \"2022-05-01T00:00:00\", \"2022-05-02T00:00:00\", \"2022-05-03T00:00:00\", \"2022-05-04T00:00:00\", \"2022-05-05T00:00:00\", \"2022-05-06T00:00:00\", \"2022-05-07T00:00:00\", \"2022-05-08T00:00:00\", \"2022-05-09T00:00:00\", \"2022-05-10T00:00:00\", \"2022-05-11T00:00:00\", \"2022-05-12T00:00:00\", \"2022-05-13T00:00:00\", \"2022-05-14T00:00:00\", \"2022-05-15T00:00:00\", \"2022-05-16T00:00:00\", \"2022-05-17T00:00:00\", \"2022-05-18T00:00:00\", \"2022-05-19T00:00:00\", \"2022-05-20T00:00:00\", \"2022-05-21T00:00:00\", \"2022-05-22T00:00:00\", \"2022-05-23T00:00:00\", \"2022-05-24T00:00:00\", \"2022-05-25T00:00:00\", \"2022-05-26T00:00:00\", \"2022-05-27T00:00:00\", \"2022-05-28T00:00:00\", \"2022-05-29T00:00:00\", \"2022-05-30T00:00:00\", \"2022-05-31T00:00:00\", \"2022-06-01T00:00:00\", \"2022-06-02T00:00:00\", \"2022-06-03T00:00:00\", \"2022-06-04T00:00:00\", \"2022-06-05T00:00:00\", \"2022-06-06T00:00:00\", \"2022-06-07T00:00:00\", \"2022-06-08T00:00:00\", \"2022-06-09T00:00:00\", \"2022-06-10T00:00:00\", \"2022-06-11T00:00:00\", \"2022-06-12T00:00:00\", \"2022-06-13T00:00:00\", \"2022-06-14T00:00:00\", \"2022-06-15T00:00:00\", \"2022-06-16T00:00:00\", \"2022-06-17T00:00:00\", \"2022-06-18T00:00:00\", \"2022-06-19T00:00:00\", \"2022-06-20T00:00:00\", \"2022-06-21T00:00:00\", \"2022-06-22T00:00:00\", \"2022-06-23T00:00:00\", \"2022-06-24T00:00:00\", \"2022-06-25T00:00:00\", \"2022-06-26T00:00:00\", \"2022-06-27T00:00:00\", \"2022-06-28T00:00:00\", \"2022-06-29T00:00:00\", \"2022-06-30T00:00:00\", \"2022-07-01T00:00:00\", \"2022-07-02T00:00:00\", \"2022-07-03T00:00:00\", \"2022-07-04T00:00:00\", \"2022-07-05T00:00:00\", \"2022-07-06T00:00:00\", \"2022-07-07T00:00:00\", \"2022-07-08T00:00:00\", \"2022-07-09T00:00:00\", \"2022-07-10T00:00:00\", \"2022-07-11T00:00:00\", \"2022-07-12T00:00:00\", \"2022-07-13T00:00:00\", \"2022-07-14T00:00:00\", \"2022-07-15T00:00:00\", \"2022-07-16T00:00:00\", \"2022-07-17T00:00:00\", \"2022-07-18T00:00:00\", \"2022-07-19T00:00:00\", \"2022-07-20T00:00:00\", \"2022-07-21T00:00:00\", \"2022-07-22T00:00:00\", \"2022-07-23T00:00:00\", \"2022-07-24T00:00:00\", \"2022-07-25T00:00:00\", \"2022-07-26T00:00:00\", \"2022-07-27T00:00:00\", \"2022-07-28T00:00:00\", \"2022-07-29T00:00:00\", \"2022-07-30T00:00:00\", \"2022-07-31T00:00:00\", \"2022-08-01T00:00:00\", \"2022-08-02T00:00:00\", \"2022-08-03T00:00:00\", \"2022-08-04T00:00:00\", \"2022-08-05T00:00:00\", \"2022-08-06T00:00:00\", \"2022-08-07T00:00:00\", \"2022-08-08T00:00:00\", \"2022-08-09T00:00:00\", \"2022-08-10T00:00:00\", \"2022-08-11T00:00:00\", \"2022-08-12T00:00:00\"], \"y\": [25.197001276990907, 25.113852845594, 25.02802082160663, 25.08317338037527, 25.180967881368815, 25.20077949107342, 25.11763105967643, 25.031799035689225, 25.086951594587905, 25.18474609597145, 25.204557705806064, 25.121409274539033, 25.035577250681932, 25.09072980958071, 25.208335920443144, 25.125187489087132, 25.0393554651412, 25.094508023951175, 25.192302525067774, 25.212114134813582, 25.128965703457414, 25.04313367906229, 25.098286237422645, 25.196080737191895, 25.215892346488417, 25.132743914683406, 25.046911890287866, 25.19985895007531, 25.219670559786262, 25.136522128395644, 25.05069010441463, 25.105842663189648, 25.20363716420212, 25.22344877391304, 25.140300342462385, 25.054468318421492, 25.109620877136198, 25.207415377969138, 25.22722698762015, 25.14407855616943, 25.058246532388743, 25.11339909136348, 25.21119359297645, 25.23100520288757, 25.14785677169672, 25.06202474791611, 25.117177306890966, 25.214971823982026, 25.234783439052485, 25.151635013020954, 25.218750075625138, 25.23856169069558, 25.155413264663967, 25.223332964485333, 25.243305506999157, 25.16031800841138, 25.074646917233398, 25.12996040881125, 25.228237708232264, 25.248210250746144, 25.165525189133803, 25.080156534931383, 25.13577246348484, 25.23495707383228, 25.255232053321624, 25.172546991709194, 25.087178337506845, 25.143183147906285, 25.26419826512881, 25.181902085363156, 25.096922313006726, 25.15292712340626, 25.253278379293075, 25.27452710298677, 25.19281578557894, 25.10842087558058, 25.165010548338216, 25.267116391298913, 25.28836511499258, 25.20665379758468, 25.12299490275063, 25.180320590672608, 25.141985020906247, 25.199310708828236, 25.30362459728153, 25.32560933613946, 25.245620794211693, 25.162948659694006, 25.221261107932218, 25.32853527733371, 25.35150677650782, 25.271518234579972, 25.18884610006236, 25.248192940783095, 25.35857028763368, 25.38257617929066, 25.303622029845634, 25.221984287810983, 25.281331128531825, 25.39427480664429, 25.419136142055223, 25.341037436364594, 25.26025513808351, 25.320457422558434, 25.43340110067073, 25.45826243608172, 25.38062970326202, 25.300313377852, 25.360981635198012, 25.475323231923216, 25.500650540205164, 25.423017807385378, 25.34270148197542, 25.518340609564113, 25.543825236225402, 25.46634982178491, 25.386190814754485, 25.447016390479497, 25.561829942343124, 25.587314574983058, 25.509839166521, 25.429680165469257, 25.49050574717299, 25.605319316972352, 25.63080394961224, 25.47316954009844, 25.53399512175451, 25.648808691410544, 25.67429332400265, 25.59681791549269, 25.516658914393428, 25.577484496049497, 25.69229806470804, 25.717782696967635, 25.64030728812563, 25.560148286693476, 25.62097386801718, 25.735787436675544, 25.761272068935202, 25.68379665999401, 25.60363765846281, 25.6644632396875, 25.779276808048472, 25.80476144020898, 25.727286031267703, 25.647127030081375, 25.7079526116505, 25.82276618104625, 25.84825081355154, 25.77077540495549, 25.69061640376874, 25.751441985337962, 25.86625555500295, 25.891740187598042, 25.814264779091594, 25.79493135965378, 25.909744929318688, 25.935229561913754, 25.857754152889584, 25.777595151275094, 25.838420732416647, 25.953234300528568, 25.97871893260596, 25.901243523581723, 25.821084521967403, 25.881910104145042, 25.996723675366994, 26.02220830848098, 25.944732900493136, 25.86457389991543, 25.925399482093177, 26.04021305331497, 26.065697686429026, 25.988222278441093, 25.908063277863462, 25.968888860041314, 26.083702431263035, 26.109187064377053, 26.03171165638905, 25.951552655811494, 26.127191809211098, 26.152676442325088, 26.0752010343375, 25.995042033759624, 26.055867615937583, 26.17068118715906, 26.196165820273112, 26.11869041228546, 26.038531411707655, 26.099356993885706, 26.21417056510714, 26.239655198221154, 26.16217979023342, 26.082020789655683, 26.142846371833375, 26.257659943055184, 26.283144576169185, 26.205669168181377, 26.125510167603714, 26.18633574978151, 26.301149321003265, 26.3266339541173, 26.249158546129333, 26.168999545551745, 26.229825127729644, 26.344638698951343, 26.370123332065337, 26.292647924077787, 26.212488923499773, 26.27331450567777, 26.3800485875181, 26.386261355782487, 26.38812807689939, 26.413612710013368, 26.336137302025747, 26.2559783014479, 26.316803883625894, 26.423537965466195, 26.429750733730522, 26.43161745484747, 26.457102087961395, 26.379626679973704, 26.29946767939593, 26.360293261574043, 26.467027343414276, 26.473240111678557, 26.47510683279543, 26.50059146590944, 26.423116057921668, 26.34295705734396, 26.40378263952217, 26.51051672136217, 26.516729489626588, 26.518596210743507, 26.54408084385755, 26.466605435869617, 26.386446435291994, 26.44727201746983, 26.554006099310236, 26.56021886757461, 26.562085588691556, 26.587570221805574, 26.51009481381807, 26.429935813240025, 26.490761395417966, 26.597495477258335, 26.603708245522654, 26.605574966639633, 26.63105959975361, 26.553584191766028, 26.47342519118806, 26.534250773366104, 26.640984855206433, 26.64719762347077, 26.649064344587696, 26.674548977701644, 26.59707356971399, 26.51691456913608, 26.57774015131376, 26.684474233154496, 26.69068700141881, 26.69255372253566, 26.718038355649682, 26.640562947661945, 26.56040394708421, 26.621229529261907, 26.727963611102595, 26.734176379366822, 26.73604310048372, 26.76152773359779, 26.684052325609905, 26.603893325032242, 26.66471890721003, 26.771452989050676, 26.777665757314875, 26.7795324784318, 26.805017111545833, 26.727541703557865, 26.647382702980273, 26.708208285158165, 26.814942366998554, 26.821155135262888, 26.82302185637985, 26.848506489493857, 26.771031081505825, 26.690872080928397, 26.75169766310629, 26.85843174494664, 26.864644513210905, 26.866511234327927, 26.891995867441892, 26.814520459454275, 26.73436145887643, 26.79518704105444, 26.90192112289473, 26.908133891159057, 26.91000061227589, 26.935485245389927, 26.858009837402236, 26.777850836824456, 26.838676419002564, 26.94541050084281, 26.951623269107074, 26.95348999022396, 26.978974623337965, 26.901499215350192, 26.82134021477249, 26.882165796950233, 26.988899878790892, 26.99511264705511, 26.99697936817201, 27.02246400128599, 26.94498859329864, 26.864829592720525, 26.925655174898363, 27.032389256738977, 27.03860202500314, 27.04046874612009, 27.06595337923412, 26.9884779712466, 26.908318970668553, 26.969144552846497, 27.07587863468687, 27.082091402951274, 27.083958124068168, 27.10944275718214, 27.03196734919456, 26.95180834861658, 27.012633930794628, 27.119368012634936, 27.125580780899295, 27.127447502016217, 27.15293213513018, 27.07545672714252, 26.995297726564708, 27.056123308742773, 27.16285739058303, 27.16907015884733, 27.17093687996429, 27.19642151307829, 27.118946105090476, 27.038787104512743, 27.099612686690897, 27.206346768531112, 27.212559536795357, 27.214426257912255, 27.239910891026334, 27.162435483038436, 27.08227648246077, 27.14310206463902, 27.24983614647899, 27.256048914743392, 27.25791563586032, 27.283400268974354, 27.205924860986393, 27.125765860408805, 27.186591442586685, 27.293325524427075, 27.29953829269141, 27.301405013808385, 27.32688964692238, 27.249414238934847, 27.16925523835683, 27.230080820534823, 27.33681490237517, 27.343027670639458, 27.344894391756362, 27.370379024870424, 27.292903616882803, 27.212744616304857, 27.27357019848296, 27.380304280323266, 27.386517048587578, 27.388383769704422, 27.41386840281845, 27.336392994830764, 27.256233994252888, 27.317059576430616, 27.423793658271336, 27.430006426535613, 27.43187314765248, 27.457357780766486, 27.379882372778717, 27.29972337220102, 27.36054895437876, 27.467283036219428, 27.473495804483644, 27.475362525600545, 27.500847158714606, 27.423371750726677, 27.34321275014905, 27.404038332326884, 27.510772414167512, 27.516985182431675, 27.518851903548626, 27.544336536662637, 27.46686112867464, 27.386702128097077, 27.447527710275022, 27.55426179211539, 27.560474560379795, 27.562341281496675, 27.587825914610665, 27.510350506622594, 27.430191506045205, 27.49101708822316, 27.597751170063468, 27.603963938327812, 27.60583065944475, 27.6313152925587, 27.553839884571047, 27.47368088399324, 27.534506466171294, 27.641240548011567, 27.647453316275865, 27.649320037392712, 27.674804670506738, 27.597329262519004, 27.517170261941263, 27.577995844119414, 27.684729925959633, 27.690942694223878, 27.692809415340776, 27.718294048454773, 27.640818640466964, 27.5606596398893, 27.621485222067083, 27.728219303907526, 27.73443207217191, 27.73629879328884, 27.761783426402793, 27.684308018415415, 27.60414901783733, 27.664974600015217, 27.77170868185561, 27.777921450119944, 27.77978817123692, 27.805272804350924, 27.727797396363375, 27.647638395785357, 27.708463977963355, 27.815198059803688, 27.82141082806808, 27.823277549184994, 27.848762182298948, 27.771286774311335, 27.691127773733392, 27.751953355911482, 27.858687437751772, 27.8649002060161, 27.866766927133042, 27.892251560246983, 27.81477615225929, 27.734617151681515, 27.795442733859154, 27.902176815699868, 27.908389583964148, 27.91025630508112, 27.935740938195103, 27.858265530207248, 27.77810652962955, 27.83893211180728, 27.94566619364795, 27.95187896191216, 27.953745683029084, 27.979230316143134, 27.901754908155212, 27.821595907577574, 27.88242148975541, 27.989155571595827, 27.995368339860192, 27.997235060977143, 28.022719694091162, 27.945244286103165, 27.865085285525613, 27.92591086770355, 28.032644949543904, 28.038857717808217, 28.04072443892521, 28.066209072039186, 27.98873366405162, 27.908574663473637, 27.96940024565168, 28.076134327492007, 28.082347095756262, 28.084213816873184, 28.109698449987235, 28.032223041999575, 27.95206404142176, 28.012889623599815, 28.11962370544007, 28.125836473704386, 28.127703194821237, 28.15318782793526, 28.075712419947536, 27.995553419369795, 28.05637900154747, 28.163113083388165, 28.169325851652413, 28.17119257276931, 28.196677205883294, 28.119201797895492, 28.039042797317826, 28.099868379495614, 28.206602461336267, 28.21281522960045, 28.21468195071737, 28.24016658383141, 28.162691175843452, 28.082532175265854, 28.143357757443745, 28.25009183928433, 28.256304607548582, 28.258171328665455, 28.28365596177945, 28.206180553791903, 28.126021553213885, 28.186847135391876, 28.293581217232223, 28.299793985496603, 28.301660706613504, 28.327145339727473, 28.24966993173986, 28.169510931162016, 28.23033651334001, 28.337070595180304, 28.34328336344465, 28.345150084561578, 28.37063471767552, 28.293159309687823, 28.213000309110047, 28.273825891288148, 28.380559973128403, 28.38677274139267, 28.388639462509538, 28.414124095623546, 28.33664868763578, 28.256489687058075, 28.31731526923627, 28.424049351076263, 28.430262119340682, 28.432128840457604, 28.457613473571655, 28.380138065583736, 28.299979065006102, 28.36080464718395, 28.467538729024362, 28.47375149728872, 28.475618218405664, 28.501102851519686, 28.42362744353219, 28.34346844295414, 28.404294025132074, 28.51102810697244, 28.51724087523675, 28.519107596353745, 28.544592229467735, 28.46711682148015, 28.386957820902165, 28.447783403080212, 28.554517484920527, 28.560730253184882, 28.56259697430179, 28.58808160741576, 28.510606199428103, 28.430447198850203, 28.49127278102786]}, {\"fill\": \"tonexty\", \"fillcolor\": \"rgba(0, 114, 178, 0.2)\", \"hoverinfo\": \"skip\", \"line\": {\"width\": 0}, \"mode\": \"lines\", \"type\": \"scatter\", \"x\": [\"2020-10-13T00:00:00\", \"2020-10-14T00:00:00\", \"2020-10-15T00:00:00\", \"2020-10-16T00:00:00\", \"2020-10-19T00:00:00\", \"2020-10-20T00:00:00\", \"2020-10-21T00:00:00\", \"2020-10-22T00:00:00\", \"2020-10-23T00:00:00\", \"2020-10-26T00:00:00\", \"2020-10-27T00:00:00\", \"2020-10-28T00:00:00\", \"2020-10-29T00:00:00\", \"2020-10-30T00:00:00\", \"2020-11-03T00:00:00\", \"2020-11-04T00:00:00\", \"2020-11-05T00:00:00\", \"2020-11-06T00:00:00\", \"2020-11-09T00:00:00\", \"2020-11-10T00:00:00\", \"2020-11-11T00:00:00\", \"2020-11-12T00:00:00\", \"2020-11-13T00:00:00\", \"2020-11-16T00:00:00\", \"2020-11-17T00:00:00\", \"2020-11-18T00:00:00\", \"2020-11-19T00:00:00\", \"2020-11-23T00:00:00\", \"2020-11-24T00:00:00\", \"2020-11-25T00:00:00\", \"2020-11-26T00:00:00\", \"2020-11-27T00:00:00\", \"2020-11-30T00:00:00\", \"2020-12-01T00:00:00\", \"2020-12-02T00:00:00\", \"2020-12-03T00:00:00\", \"2020-12-04T00:00:00\", \"2020-12-07T00:00:00\", \"2020-12-08T00:00:00\", \"2020-12-09T00:00:00\", \"2020-12-10T00:00:00\", \"2020-12-11T00:00:00\", \"2020-12-14T00:00:00\", \"2020-12-15T00:00:00\", \"2020-12-16T00:00:00\", \"2020-12-17T00:00:00\", \"2020-12-18T00:00:00\", \"2020-12-21T00:00:00\", \"2020-12-22T00:00:00\", \"2020-12-23T00:00:00\", \"2020-12-28T00:00:00\", \"2020-12-29T00:00:00\", \"2020-12-30T00:00:00\", \"2021-01-04T00:00:00\", \"2021-01-05T00:00:00\", \"2021-01-06T00:00:00\", \"2021-01-07T00:00:00\", \"2021-01-08T00:00:00\", \"2021-01-11T00:00:00\", \"2021-01-12T00:00:00\", \"2021-01-13T00:00:00\", \"2021-01-14T00:00:00\", \"2021-01-15T00:00:00\", \"2021-01-18T00:00:00\", \"2021-01-19T00:00:00\", \"2021-01-20T00:00:00\", \"2021-01-21T00:00:00\", \"2021-01-22T00:00:00\", \"2021-01-26T00:00:00\", \"2021-01-27T00:00:00\", \"2021-01-28T00:00:00\", \"2021-01-29T00:00:00\", \"2021-02-01T00:00:00\", \"2021-02-02T00:00:00\", \"2021-02-03T00:00:00\", \"2021-02-04T00:00:00\", \"2021-02-05T00:00:00\", \"2021-02-08T00:00:00\", \"2021-02-09T00:00:00\", \"2021-02-10T00:00:00\", \"2021-02-11T00:00:00\", \"2021-02-12T00:00:00\", \"2021-02-18T00:00:00\", \"2021-02-19T00:00:00\", \"2021-02-22T00:00:00\", \"2021-02-23T00:00:00\", \"2021-02-24T00:00:00\", \"2021-02-25T00:00:00\", \"2021-02-26T00:00:00\", \"2021-03-01T00:00:00\", \"2021-03-02T00:00:00\", \"2021-03-03T00:00:00\", \"2021-03-04T00:00:00\", \"2021-03-05T00:00:00\", \"2021-03-08T00:00:00\", \"2021-03-09T00:00:00\", \"2021-03-10T00:00:00\", \"2021-03-11T00:00:00\", \"2021-03-12T00:00:00\", \"2021-03-15T00:00:00\", \"2021-03-16T00:00:00\", \"2021-03-17T00:00:00\", \"2021-03-18T00:00:00\", \"2021-03-19T00:00:00\", \"2021-03-22T00:00:00\", \"2021-03-23T00:00:00\", \"2021-03-24T00:00:00\", \"2021-03-25T00:00:00\", \"2021-03-26T00:00:00\", \"2021-03-29T00:00:00\", \"2021-03-30T00:00:00\", \"2021-03-31T00:00:00\", \"2021-04-01T00:00:00\", \"2021-04-05T00:00:00\", \"2021-04-06T00:00:00\", \"2021-04-07T00:00:00\", \"2021-04-08T00:00:00\", \"2021-04-09T00:00:00\", \"2021-04-12T00:00:00\", \"2021-04-13T00:00:00\", \"2021-04-14T00:00:00\", \"2021-04-15T00:00:00\", \"2021-04-16T00:00:00\", \"2021-04-19T00:00:00\", \"2021-04-20T00:00:00\", \"2021-04-22T00:00:00\", \"2021-04-23T00:00:00\", \"2021-04-26T00:00:00\", \"2021-04-27T00:00:00\", \"2021-04-28T00:00:00\", \"2021-04-29T00:00:00\", \"2021-04-30T00:00:00\", \"2021-05-03T00:00:00\", \"2021-05-04T00:00:00\", \"2021-05-05T00:00:00\", \"2021-05-06T00:00:00\", \"2021-05-07T00:00:00\", \"2021-05-10T00:00:00\", \"2021-05-11T00:00:00\", \"2021-05-12T00:00:00\", \"2021-05-13T00:00:00\", \"2021-05-14T00:00:00\", \"2021-05-17T00:00:00\", \"2021-05-18T00:00:00\", \"2021-05-19T00:00:00\", \"2021-05-20T00:00:00\", \"2021-05-21T00:00:00\", \"2021-05-24T00:00:00\", \"2021-05-25T00:00:00\", \"2021-05-26T00:00:00\", \"2021-05-27T00:00:00\", \"2021-05-28T00:00:00\", \"2021-05-31T00:00:00\", \"2021-06-01T00:00:00\", \"2021-06-02T00:00:00\", \"2021-06-04T00:00:00\", \"2021-06-07T00:00:00\", \"2021-06-08T00:00:00\", \"2021-06-09T00:00:00\", \"2021-06-10T00:00:00\", \"2021-06-11T00:00:00\", \"2021-06-14T00:00:00\", \"2021-06-15T00:00:00\", \"2021-06-16T00:00:00\", \"2021-06-17T00:00:00\", \"2021-06-18T00:00:00\", \"2021-06-21T00:00:00\", \"2021-06-22T00:00:00\", \"2021-06-23T00:00:00\", \"2021-06-24T00:00:00\", \"2021-06-25T00:00:00\", \"2021-06-28T00:00:00\", \"2021-06-29T00:00:00\", \"2021-06-30T00:00:00\", \"2021-07-01T00:00:00\", \"2021-07-02T00:00:00\", \"2021-07-05T00:00:00\", \"2021-07-06T00:00:00\", \"2021-07-07T00:00:00\", \"2021-07-08T00:00:00\", \"2021-07-12T00:00:00\", \"2021-07-13T00:00:00\", \"2021-07-14T00:00:00\", \"2021-07-15T00:00:00\", \"2021-07-16T00:00:00\", \"2021-07-19T00:00:00\", \"2021-07-20T00:00:00\", \"2021-07-21T00:00:00\", \"2021-07-22T00:00:00\", \"2021-07-23T00:00:00\", \"2021-07-26T00:00:00\", \"2021-07-27T00:00:00\", \"2021-07-28T00:00:00\", \"2021-07-29T00:00:00\", \"2021-07-30T00:00:00\", \"2021-08-02T00:00:00\", \"2021-08-03T00:00:00\", \"2021-08-04T00:00:00\", \"2021-08-05T00:00:00\", \"2021-08-06T00:00:00\", \"2021-08-09T00:00:00\", \"2021-08-10T00:00:00\", \"2021-08-11T00:00:00\", \"2021-08-12T00:00:00\", \"2021-08-13T00:00:00\", \"2021-08-16T00:00:00\", \"2021-08-17T00:00:00\", \"2021-08-18T00:00:00\", \"2021-08-19T00:00:00\", \"2021-08-20T00:00:00\", \"2021-08-21T00:00:00\", \"2021-08-22T00:00:00\", \"2021-08-23T00:00:00\", \"2021-08-24T00:00:00\", \"2021-08-25T00:00:00\", \"2021-08-26T00:00:00\", \"2021-08-27T00:00:00\", \"2021-08-28T00:00:00\", \"2021-08-29T00:00:00\", \"2021-08-30T00:00:00\", \"2021-08-31T00:00:00\", \"2021-09-01T00:00:00\", \"2021-09-02T00:00:00\", \"2021-09-03T00:00:00\", \"2021-09-04T00:00:00\", \"2021-09-05T00:00:00\", \"2021-09-06T00:00:00\", \"2021-09-07T00:00:00\", \"2021-09-08T00:00:00\", \"2021-09-09T00:00:00\", \"2021-09-10T00:00:00\", \"2021-09-11T00:00:00\", \"2021-09-12T00:00:00\", \"2021-09-13T00:00:00\", \"2021-09-14T00:00:00\", \"2021-09-15T00:00:00\", \"2021-09-16T00:00:00\", \"2021-09-17T00:00:00\", \"2021-09-18T00:00:00\", \"2021-09-19T00:00:00\", \"2021-09-20T00:00:00\", \"2021-09-21T00:00:00\", \"2021-09-22T00:00:00\", \"2021-09-23T00:00:00\", \"2021-09-24T00:00:00\", \"2021-09-25T00:00:00\", \"2021-09-26T00:00:00\", \"2021-09-27T00:00:00\", \"2021-09-28T00:00:00\", \"2021-09-29T00:00:00\", \"2021-09-30T00:00:00\", \"2021-10-01T00:00:00\", \"2021-10-02T00:00:00\", \"2021-10-03T00:00:00\", \"2021-10-04T00:00:00\", \"2021-10-05T00:00:00\", \"2021-10-06T00:00:00\", \"2021-10-07T00:00:00\", \"2021-10-08T00:00:00\", \"2021-10-09T00:00:00\", \"2021-10-10T00:00:00\", \"2021-10-11T00:00:00\", \"2021-10-12T00:00:00\", \"2021-10-13T00:00:00\", \"2021-10-14T00:00:00\", \"2021-10-15T00:00:00\", \"2021-10-16T00:00:00\", \"2021-10-17T00:00:00\", \"2021-10-18T00:00:00\", \"2021-10-19T00:00:00\", \"2021-10-20T00:00:00\", \"2021-10-21T00:00:00\", \"2021-10-22T00:00:00\", \"2021-10-23T00:00:00\", \"2021-10-24T00:00:00\", \"2021-10-25T00:00:00\", \"2021-10-26T00:00:00\", \"2021-10-27T00:00:00\", \"2021-10-28T00:00:00\", \"2021-10-29T00:00:00\", \"2021-10-30T00:00:00\", \"2021-10-31T00:00:00\", \"2021-11-01T00:00:00\", \"2021-11-02T00:00:00\", \"2021-11-03T00:00:00\", \"2021-11-04T00:00:00\", \"2021-11-05T00:00:00\", \"2021-11-06T00:00:00\", \"2021-11-07T00:00:00\", \"2021-11-08T00:00:00\", \"2021-11-09T00:00:00\", \"2021-11-10T00:00:00\", \"2021-11-11T00:00:00\", \"2021-11-12T00:00:00\", \"2021-11-13T00:00:00\", \"2021-11-14T00:00:00\", \"2021-11-15T00:00:00\", \"2021-11-16T00:00:00\", \"2021-11-17T00:00:00\", \"2021-11-18T00:00:00\", \"2021-11-19T00:00:00\", \"2021-11-20T00:00:00\", \"2021-11-21T00:00:00\", \"2021-11-22T00:00:00\", \"2021-11-23T00:00:00\", \"2021-11-24T00:00:00\", \"2021-11-25T00:00:00\", \"2021-11-26T00:00:00\", \"2021-11-27T00:00:00\", \"2021-11-28T00:00:00\", \"2021-11-29T00:00:00\", \"2021-11-30T00:00:00\", \"2021-12-01T00:00:00\", \"2021-12-02T00:00:00\", \"2021-12-03T00:00:00\", \"2021-12-04T00:00:00\", \"2021-12-05T00:00:00\", \"2021-12-06T00:00:00\", \"2021-12-07T00:00:00\", \"2021-12-08T00:00:00\", \"2021-12-09T00:00:00\", \"2021-12-10T00:00:00\", \"2021-12-11T00:00:00\", \"2021-12-12T00:00:00\", \"2021-12-13T00:00:00\", \"2021-12-14T00:00:00\", \"2021-12-15T00:00:00\", \"2021-12-16T00:00:00\", \"2021-12-17T00:00:00\", \"2021-12-18T00:00:00\", \"2021-12-19T00:00:00\", \"2021-12-20T00:00:00\", \"2021-12-21T00:00:00\", \"2021-12-22T00:00:00\", \"2021-12-23T00:00:00\", \"2021-12-24T00:00:00\", \"2021-12-25T00:00:00\", \"2021-12-26T00:00:00\", \"2021-12-27T00:00:00\", \"2021-12-28T00:00:00\", \"2021-12-29T00:00:00\", \"2021-12-30T00:00:00\", \"2021-12-31T00:00:00\", \"2022-01-01T00:00:00\", \"2022-01-02T00:00:00\", \"2022-01-03T00:00:00\", \"2022-01-04T00:00:00\", \"2022-01-05T00:00:00\", \"2022-01-06T00:00:00\", \"2022-01-07T00:00:00\", \"2022-01-08T00:00:00\", \"2022-01-09T00:00:00\", \"2022-01-10T00:00:00\", \"2022-01-11T00:00:00\", \"2022-01-12T00:00:00\", \"2022-01-13T00:00:00\", \"2022-01-14T00:00:00\", \"2022-01-15T00:00:00\", \"2022-01-16T00:00:00\", \"2022-01-17T00:00:00\", \"2022-01-18T00:00:00\", \"2022-01-19T00:00:00\", \"2022-01-20T00:00:00\", \"2022-01-21T00:00:00\", \"2022-01-22T00:00:00\", \"2022-01-23T00:00:00\", \"2022-01-24T00:00:00\", \"2022-01-25T00:00:00\", \"2022-01-26T00:00:00\", \"2022-01-27T00:00:00\", \"2022-01-28T00:00:00\", \"2022-01-29T00:00:00\", \"2022-01-30T00:00:00\", \"2022-01-31T00:00:00\", \"2022-02-01T00:00:00\", \"2022-02-02T00:00:00\", \"2022-02-03T00:00:00\", \"2022-02-04T00:00:00\", \"2022-02-05T00:00:00\", \"2022-02-06T00:00:00\", \"2022-02-07T00:00:00\", \"2022-02-08T00:00:00\", \"2022-02-09T00:00:00\", \"2022-02-10T00:00:00\", \"2022-02-11T00:00:00\", \"2022-02-12T00:00:00\", \"2022-02-13T00:00:00\", \"2022-02-14T00:00:00\", \"2022-02-15T00:00:00\", \"2022-02-16T00:00:00\", \"2022-02-17T00:00:00\", \"2022-02-18T00:00:00\", \"2022-02-19T00:00:00\", \"2022-02-20T00:00:00\", \"2022-02-21T00:00:00\", \"2022-02-22T00:00:00\", \"2022-02-23T00:00:00\", \"2022-02-24T00:00:00\", \"2022-02-25T00:00:00\", \"2022-02-26T00:00:00\", \"2022-02-27T00:00:00\", \"2022-02-28T00:00:00\", \"2022-03-01T00:00:00\", \"2022-03-02T00:00:00\", \"2022-03-03T00:00:00\", \"2022-03-04T00:00:00\", \"2022-03-05T00:00:00\", \"2022-03-06T00:00:00\", \"2022-03-07T00:00:00\", \"2022-03-08T00:00:00\", \"2022-03-09T00:00:00\", \"2022-03-10T00:00:00\", \"2022-03-11T00:00:00\", \"2022-03-12T00:00:00\", \"2022-03-13T00:00:00\", \"2022-03-14T00:00:00\", \"2022-03-15T00:00:00\", \"2022-03-16T00:00:00\", \"2022-03-17T00:00:00\", \"2022-03-18T00:00:00\", \"2022-03-19T00:00:00\", \"2022-03-20T00:00:00\", \"2022-03-21T00:00:00\", \"2022-03-22T00:00:00\", \"2022-03-23T00:00:00\", \"2022-03-24T00:00:00\", \"2022-03-25T00:00:00\", \"2022-03-26T00:00:00\", \"2022-03-27T00:00:00\", \"2022-03-28T00:00:00\", \"2022-03-29T00:00:00\", \"2022-03-30T00:00:00\", \"2022-03-31T00:00:00\", \"2022-04-01T00:00:00\", \"2022-04-02T00:00:00\", \"2022-04-03T00:00:00\", \"2022-04-04T00:00:00\", \"2022-04-05T00:00:00\", \"2022-04-06T00:00:00\", \"2022-04-07T00:00:00\", \"2022-04-08T00:00:00\", \"2022-04-09T00:00:00\", \"2022-04-10T00:00:00\", \"2022-04-11T00:00:00\", \"2022-04-12T00:00:00\", \"2022-04-13T00:00:00\", \"2022-04-14T00:00:00\", \"2022-04-15T00:00:00\", \"2022-04-16T00:00:00\", \"2022-04-17T00:00:00\", \"2022-04-18T00:00:00\", \"2022-04-19T00:00:00\", \"2022-04-20T00:00:00\", \"2022-04-21T00:00:00\", \"2022-04-22T00:00:00\", \"2022-04-23T00:00:00\", \"2022-04-24T00:00:00\", \"2022-04-25T00:00:00\", \"2022-04-26T00:00:00\", \"2022-04-27T00:00:00\", \"2022-04-28T00:00:00\", \"2022-04-29T00:00:00\", \"2022-04-30T00:00:00\", \"2022-05-01T00:00:00\", \"2022-05-02T00:00:00\", \"2022-05-03T00:00:00\", \"2022-05-04T00:00:00\", \"2022-05-05T00:00:00\", \"2022-05-06T00:00:00\", \"2022-05-07T00:00:00\", \"2022-05-08T00:00:00\", \"2022-05-09T00:00:00\", \"2022-05-10T00:00:00\", \"2022-05-11T00:00:00\", \"2022-05-12T00:00:00\", \"2022-05-13T00:00:00\", \"2022-05-14T00:00:00\", \"2022-05-15T00:00:00\", \"2022-05-16T00:00:00\", \"2022-05-17T00:00:00\", \"2022-05-18T00:00:00\", \"2022-05-19T00:00:00\", \"2022-05-20T00:00:00\", \"2022-05-21T00:00:00\", \"2022-05-22T00:00:00\", \"2022-05-23T00:00:00\", \"2022-05-24T00:00:00\", \"2022-05-25T00:00:00\", \"2022-05-26T00:00:00\", \"2022-05-27T00:00:00\", \"2022-05-28T00:00:00\", \"2022-05-29T00:00:00\", \"2022-05-30T00:00:00\", \"2022-05-31T00:00:00\", \"2022-06-01T00:00:00\", \"2022-06-02T00:00:00\", \"2022-06-03T00:00:00\", \"2022-06-04T00:00:00\", \"2022-06-05T00:00:00\", \"2022-06-06T00:00:00\", \"2022-06-07T00:00:00\", \"2022-06-08T00:00:00\", \"2022-06-09T00:00:00\", \"2022-06-10T00:00:00\", \"2022-06-11T00:00:00\", \"2022-06-12T00:00:00\", \"2022-06-13T00:00:00\", \"2022-06-14T00:00:00\", \"2022-06-15T00:00:00\", \"2022-06-16T00:00:00\", \"2022-06-17T00:00:00\", \"2022-06-18T00:00:00\", \"2022-06-19T00:00:00\", \"2022-06-20T00:00:00\", \"2022-06-21T00:00:00\", \"2022-06-22T00:00:00\", \"2022-06-23T00:00:00\", \"2022-06-24T00:00:00\", \"2022-06-25T00:00:00\", \"2022-06-26T00:00:00\", \"2022-06-27T00:00:00\", \"2022-06-28T00:00:00\", \"2022-06-29T00:00:00\", \"2022-06-30T00:00:00\", \"2022-07-01T00:00:00\", \"2022-07-02T00:00:00\", \"2022-07-03T00:00:00\", \"2022-07-04T00:00:00\", \"2022-07-05T00:00:00\", \"2022-07-06T00:00:00\", \"2022-07-07T00:00:00\", \"2022-07-08T00:00:00\", \"2022-07-09T00:00:00\", \"2022-07-10T00:00:00\", \"2022-07-11T00:00:00\", \"2022-07-12T00:00:00\", \"2022-07-13T00:00:00\", \"2022-07-14T00:00:00\", \"2022-07-15T00:00:00\", \"2022-07-16T00:00:00\", \"2022-07-17T00:00:00\", \"2022-07-18T00:00:00\", \"2022-07-19T00:00:00\", \"2022-07-20T00:00:00\", \"2022-07-21T00:00:00\", \"2022-07-22T00:00:00\", \"2022-07-23T00:00:00\", \"2022-07-24T00:00:00\", \"2022-07-25T00:00:00\", \"2022-07-26T00:00:00\", \"2022-07-27T00:00:00\", \"2022-07-28T00:00:00\", \"2022-07-29T00:00:00\", \"2022-07-30T00:00:00\", \"2022-07-31T00:00:00\", \"2022-08-01T00:00:00\", \"2022-08-02T00:00:00\", \"2022-08-03T00:00:00\", \"2022-08-04T00:00:00\", \"2022-08-05T00:00:00\", \"2022-08-06T00:00:00\", \"2022-08-07T00:00:00\", \"2022-08-08T00:00:00\", \"2022-08-09T00:00:00\", \"2022-08-10T00:00:00\", \"2022-08-11T00:00:00\", \"2022-08-12T00:00:00\"], \"y\": [26.48385750086828, 26.45701380493692, 26.350888800772886, 26.32024730687742, 26.437630850096838, 26.423576207471932, 26.37999618963957, 26.25337028693363, 26.29340070123609, 26.51494501618327, 26.493762621080197, 26.37797827907487, 26.394841701183033, 26.388039995860357, 26.50866344292339, 26.358417611459913, 26.270704180458026, 26.3401613876514, 26.51655730276663, 26.484729321836745, 26.380998653482056, 26.353637310565052, 26.358643537721836, 26.51452327594006, 26.492756936940843, 26.403993745693143, 26.21790004619506, 26.438135918564463, 26.354527945948906, 26.542266249051536, 26.347026435443038, 26.27124175696047, 26.387899476243433, 26.50231356200151, 26.41441079632956, 26.244002054997427, 26.249724182482602, 26.476709442687948, 26.475036854379766, 26.362299810407777, 26.176728995053015, 26.38710458295184, 26.473727839049143, 26.545254083668276, 26.40353496420093, 26.36457973230447, 26.43917411555588, 26.479490264788357, 26.4744184880601, 26.37304238043393, 26.50821913809892, 26.58116698157128, 26.361968675873744, 26.530518861837365, 26.431613041755853, 26.45570352981842, 26.25453884694417, 26.389920764862772, 26.395590355178726, 26.510160039402063, 26.361357998060633, 26.34050852882788, 26.305436482508835, 26.43338654826787, 26.59731047454308, 26.435484669495633, 26.41703535060973, 26.43980394054433, 26.598060370375823, 26.39063684281996, 26.275636856399643, 26.386654492209303, 26.564874852576292, 26.55699320643845, 26.451256291893195, 26.38757454720659, 26.327462131557922, 26.528500097614007, 26.446965057693095, 26.474114744017893, 26.317500584652716, 26.498942612587587, 26.371449083601387, 26.391397409627242, 26.481206184286478, 26.61010504774119, 26.489039680147787, 26.460832638990674, 26.502185201855614, 26.556519356457407, 26.608717159614624, 26.491407671413473, 26.431081052146318, 26.589563434686855, 26.60803739668114, 26.688624154101923, 26.52764792328683, 26.47998684025419, 26.660175274261555, 26.714514740836997, 26.724269858206227, 26.626758852615147, 26.507321464010243, 26.565962640861123, 26.721773384954254, 26.68497486080837, 26.58824219212168, 26.58598658052537, 26.578998599684862, 26.826695885442494, 26.668023441285943, 26.787475786439163, 26.71161783033417, 26.828714007632286, 26.839933082293072, 26.748961951268566, 26.57954389518513, 26.787700888636135, 26.899581109323165, 26.836592522080718, 26.761779846459824, 26.714142163336536, 26.7141255134871, 26.79729953723803, 26.793191976779482, 26.763520280880513, 26.853278168780413, 26.94622303472402, 26.93985790191111, 26.8709473382379, 26.808501286175268, 26.903650772221216, 26.901650410857116, 26.967909175159612, 26.87660996258749, 26.78929643176084, 26.918817543584343, 26.940279804206526, 27.107122391143733, 26.919940890958465, 26.821045374778507, 26.897865217640213, 27.03396322701159, 27.07190272544342, 26.998618672414516, 26.81642982210076, 26.891669509425505, 27.040082191421774, 27.221699523216905, 27.12359303176762, 26.923034718143388, 27.04170877966225, 27.033095733071605, 27.241740522709254, 27.08601774935862, 27.077306134832543, 27.13322408239728, 27.226060193343017, 27.12925826928644, 26.929811374951296, 27.171809800650827, 27.15310615530088, 27.230165460253986, 27.155051714067536, 27.109659525605245, 27.123974247986066, 27.24491127895853, 27.27195714244529, 27.178167979267506, 27.08244043606725, 27.128046031545395, 27.32212549059696, 27.309830771000453, 27.184958169365895, 27.168524244916608, 27.255403993707414, 27.318790336692924, 27.39474463627289, 27.3078311218512, 27.21125841253586, 27.45310301528254, 27.491268868918908, 27.379516421793532, 27.273818183012956, 27.34341303432838, 27.396729387259942, 27.557296760983967, 27.3086853157891, 27.379016072999157, 27.245789044870637, 27.43461508771236, 27.58456518246346, 27.456150837261127, 27.38768434321237, 27.37488210247018, 27.45605032706212, 27.534055765860558, 27.551305683089637, 27.39055044812138, 27.4434688764067, 27.542776649526957, 27.497434505797603, 27.54236563874104, 27.358718951584475, 27.502911841452242, 27.563184462289673, 27.6458194053905, 27.62808119731831, 27.420432567802155, 27.531728165305957, 27.683242455477135, 27.614028816832025, 27.588810138734797, 27.688182194925098, 27.61756788287273, 27.58078524629147, 27.509339351130734, 27.73291475557337, 27.708395789136294, 27.619648241818815, 27.692498647838537, 27.59552379046551, 27.51516198666041, 27.56649886110594, 27.754205273690406, 27.698778787845505, 27.693835640602774, 27.74569608075133, 27.68575361119541, 27.574472231492436, 27.62845090438079, 27.713269499600713, 27.851089599571313, 27.75267474244378, 27.84108769382381, 27.79433964139461, 27.631046611058913, 27.644717838788676, 27.750053374682576, 27.84539334134551, 27.856259989928592, 27.82818632242743, 27.824806370620095, 27.679309099704806, 27.677878999324317, 27.87786743950792, 27.852430781930707, 27.823307973706367, 27.908488511572518, 27.874837817385934, 27.795740710152838, 27.7821526991002, 27.890179921925863, 28.019216217549452, 27.9397392116164, 27.931823877346734, 27.896786264332732, 27.719619909276684, 27.831473577232543, 27.943495678025087, 27.996926003975336, 27.985704924869175, 28.005535968126708, 27.958090764315806, 27.814993718029122, 27.872422037746258, 28.02250259410033, 28.045225073350913, 28.07827354958727, 27.92846910645967, 27.918216249120857, 27.747523947929032, 27.954033054954657, 28.039528995234207, 28.001793856864552, 27.963830550539974, 28.028640431159566, 28.008034264097546, 27.85717977201909, 27.939725704424365, 28.028331880536644, 28.037754682414565, 28.06165149357586, 28.14857178670206, 27.97730728815555, 27.952137306604236, 27.988904201117915, 28.122053648657506, 28.176373028851856, 28.152693238088677, 28.064556660512025, 28.070956909076415, 27.94616717222194, 28.177363187230455, 28.170210748667994, 28.125119629873605, 28.153629080155376, 28.12934401540898, 28.21577477716072, 27.9611380528565, 28.14972634796659, 28.218361916697013, 28.25038893561954, 28.1741038680668, 28.23365765898251, 28.190920001129626, 28.127118462272605, 28.15438317148582, 28.274295587115837, 28.214778008286277, 28.238356908955254, 28.291165891301546, 28.161023686509687, 28.145135320438488, 28.15670013299767, 28.351754408746437, 28.271440182009815, 28.344761894712605, 28.31692926482487, 28.1608860578098, 28.059904407400655, 28.23691216005858, 28.3558566125126, 28.4269730781382, 28.428377592413508, 28.31220307138737, 28.23872277346109, 28.261832228550148, 28.317162390983135, 28.45575626821281, 28.341648515205712, 28.396284917254818, 28.419840415544265, 28.39836975929925, 28.276399356957445, 28.313351800110098, 28.425521928228004, 28.39369884646225, 28.44362456850134, 28.450796911429588, 28.382390848677346, 28.27470497434948, 28.343956292819314, 28.488308930005267, 28.49083254295383, 28.46892824891672, 28.66480572638271, 28.482932821239963, 28.342608389688603, 28.37069309144376, 28.45453358672207, 28.557640224417664, 28.45165891249334, 28.54622218268175, 28.481856351091132, 28.401744206337884, 28.472881943442182, 28.654562879017856, 28.596295394109223, 28.510247584589646, 28.63668425067524, 28.61441495883124, 28.604137964659984, 28.550182330535105, 28.63413044007669, 28.64999171953361, 28.620808331811787, 28.70039086743615, 28.543580098979497, 28.49685062055621, 28.55289918390448, 28.57254176567504, 28.655729284034738, 28.6256944856152, 28.76446297997552, 28.671573414555702, 28.474094898670437, 28.574125230915076, 28.718687886457964, 28.68274750544506, 28.638972439571656, 28.69520558402917, 28.587231753433624, 28.488865894051635, 28.657832985263187, 28.751989651832147, 28.698888271125885, 28.791232778613242, 28.739212404096396, 28.658121641957063, 28.641228391532557, 28.675341149084428, 28.767861430513886, 28.71213922766231, 28.793289057329474, 28.792352514194523, 28.755420043586373, 28.701118693599486, 28.609008340511494, 28.85998796776318, 28.78111044961813, 28.863941350763422, 28.917485712461822, 28.719960524136635, 28.660243579956973, 28.823751212318676, 28.868208970460067, 28.837570088468635, 28.82959238725795, 28.949742422014758, 28.81612486512702, 28.731528401633526, 28.861048487933097, 28.917029809443747, 28.961851578189986, 28.951112707836277, 28.9290167674053, 28.81739667480197, 28.801140257920604, 28.885455619298803, 28.969037945688275, 28.90771104527826, 29.028766044370595, 28.96208441860213, 28.957854290708134, 28.908879920465814, 28.855168796618667, 28.974135266369213, 28.91623572028832, 28.897826509365046, 29.049302137958975, 28.89115344339132, 28.945211103235124, 28.972387291157503, 29.05415725678518, 29.09568942270485, 29.140555012902187, 29.10836349725277, 29.047957802016093, 28.973070851614665, 29.091180401402212, 29.15905125857266, 29.12923078350535, 29.059866807528596, 29.155340963274966, 29.13388298612106, 28.887746070440688, 29.089394753267204, 29.191299399491857, 29.192454483478638, 29.13204649094122, 29.204168255034823, 29.091416782923908, 28.93267607464991, 29.060862541043413, 29.123219822524977, 29.26207692786625, 29.231916165529192, 29.14334581005631, 29.114991322534156, 29.08128990467049, 29.05439063407283, 29.23735275623405, 29.252868372966976, 29.22089289519051, 29.280593367253182, 29.206468200430407, 29.15578864314487, 29.195267900395727, 29.285558267191035, 29.29856294872953, 29.25259681699132, 29.305044674263023, 29.23090665318202, 29.10784483885618, 29.177730648592355, 29.401756104817064, 29.292206110694, 29.305710727093903, 29.290960791604576, 29.321435512847295, 29.294785395221165, 29.164924021069762, 29.36645747646263, 29.32504756077381, 29.421181712131645, 29.350524765818584, 29.29546395315567, 29.276901272148265, 29.22419527787156, 29.422549528069855, 29.42440827341319, 29.30621181018171, 29.47634869320831, 29.354653781073665, 29.24816174739366, 29.364933424366875, 29.391739974855746, 29.525392956163405, 29.526253498855517, 29.52887677398959, 29.456538145370757, 29.29449157146126, 29.360376888944316, 29.51667810372114, 29.449133259340456, 29.56587133500657, 29.504877750953252, 29.447607365595992, 29.37165396398922, 29.375308758691787, 29.561802164474404, 29.618079794337632, 29.581837600111623, 29.68011944792664, 29.49729962250034, 29.355220244345034, 29.46488837562019, 29.547624825116092, 29.663547917507433, 29.651006898841658, 29.720900595370665, 29.630926145378623, 29.525568637882543, 29.552668162922988, 29.69060261124025, 29.714353840348764, 29.64399217303173, 29.76898527401423, 29.61334200845404, 29.58182097107048, 29.641373610787994, 29.77882727775478, 29.725659061509948, 29.65366706901923, 29.71474874146192, 29.64757769740457, 29.498411217130364, 29.735967692937038, 29.787696472600576, 29.643362173680046, 29.756970457273077, 29.895294244246852, 29.677281058322933, 29.641351695256517, 29.563368838058658, 29.777874494318375, 29.688169737259226, 29.801432914729222, 29.892143310586825, 29.63991265307857, 29.65073916206658, 29.771455325396424, 29.74696500686263, 29.915753602536174, 29.86878446281994, 29.87713309267075, 29.800098504782348, 29.782371351179627, 29.78801645828214, 29.888824762968145, 29.960750116776342, 29.897362236508233, 30.112273467197472, 29.962204505090654, 29.780856210588542, 29.808250493054015]}],\n",
              "                        {\"height\": 600, \"showlegend\": false, \"template\": {\"data\": {\"bar\": [{\"error_x\": {\"color\": \"#2a3f5f\"}, \"error_y\": {\"color\": \"#2a3f5f\"}, \"marker\": {\"line\": {\"color\": \"#E5ECF6\", \"width\": 0.5}}, \"type\": \"bar\"}], \"barpolar\": [{\"marker\": {\"line\": {\"color\": \"#E5ECF6\", \"width\": 0.5}}, \"type\": \"barpolar\"}], \"carpet\": [{\"aaxis\": {\"endlinecolor\": \"#2a3f5f\", \"gridcolor\": \"white\", \"linecolor\": \"white\", \"minorgridcolor\": \"white\", \"startlinecolor\": \"#2a3f5f\"}, \"baxis\": {\"endlinecolor\": \"#2a3f5f\", \"gridcolor\": \"white\", \"linecolor\": \"white\", \"minorgridcolor\": \"white\", \"startlinecolor\": \"#2a3f5f\"}, \"type\": \"carpet\"}], \"choropleth\": [{\"colorbar\": {\"outlinewidth\": 0, \"ticks\": \"\"}, \"type\": \"choropleth\"}], \"contour\": [{\"colorbar\": {\"outlinewidth\": 0, \"ticks\": \"\"}, \"colorscale\": [[0.0, \"#0d0887\"], [0.1111111111111111, \"#46039f\"], [0.2222222222222222, \"#7201a8\"], [0.3333333333333333, \"#9c179e\"], [0.4444444444444444, \"#bd3786\"], [0.5555555555555556, \"#d8576b\"], [0.6666666666666666, \"#ed7953\"], [0.7777777777777778, \"#fb9f3a\"], [0.8888888888888888, \"#fdca26\"], [1.0, \"#f0f921\"]], \"type\": \"contour\"}], \"contourcarpet\": [{\"colorbar\": {\"outlinewidth\": 0, \"ticks\": \"\"}, \"type\": \"contourcarpet\"}], \"heatmap\": [{\"colorbar\": {\"outlinewidth\": 0, \"ticks\": \"\"}, \"colorscale\": [[0.0, \"#0d0887\"], [0.1111111111111111, \"#46039f\"], [0.2222222222222222, \"#7201a8\"], [0.3333333333333333, \"#9c179e\"], [0.4444444444444444, \"#bd3786\"], [0.5555555555555556, \"#d8576b\"], [0.6666666666666666, \"#ed7953\"], [0.7777777777777778, \"#fb9f3a\"], [0.8888888888888888, \"#fdca26\"], [1.0, \"#f0f921\"]], \"type\": \"heatmap\"}], \"heatmapgl\": [{\"colorbar\": {\"outlinewidth\": 0, \"ticks\": \"\"}, \"colorscale\": [[0.0, \"#0d0887\"], [0.1111111111111111, \"#46039f\"], [0.2222222222222222, \"#7201a8\"], [0.3333333333333333, \"#9c179e\"], [0.4444444444444444, \"#bd3786\"], [0.5555555555555556, \"#d8576b\"], [0.6666666666666666, \"#ed7953\"], [0.7777777777777778, \"#fb9f3a\"], [0.8888888888888888, \"#fdca26\"], [1.0, \"#f0f921\"]], \"type\": \"heatmapgl\"}], \"histogram\": [{\"marker\": {\"colorbar\": {\"outlinewidth\": 0, \"ticks\": \"\"}}, \"type\": \"histogram\"}], \"histogram2d\": [{\"colorbar\": {\"outlinewidth\": 0, \"ticks\": \"\"}, \"colorscale\": [[0.0, \"#0d0887\"], [0.1111111111111111, \"#46039f\"], [0.2222222222222222, \"#7201a8\"], [0.3333333333333333, \"#9c179e\"], [0.4444444444444444, \"#bd3786\"], [0.5555555555555556, \"#d8576b\"], [0.6666666666666666, \"#ed7953\"], [0.7777777777777778, \"#fb9f3a\"], [0.8888888888888888, \"#fdca26\"], [1.0, \"#f0f921\"]], \"type\": \"histogram2d\"}], \"histogram2dcontour\": [{\"colorbar\": {\"outlinewidth\": 0, \"ticks\": \"\"}, \"colorscale\": [[0.0, \"#0d0887\"], [0.1111111111111111, \"#46039f\"], [0.2222222222222222, \"#7201a8\"], [0.3333333333333333, \"#9c179e\"], [0.4444444444444444, \"#bd3786\"], [0.5555555555555556, \"#d8576b\"], [0.6666666666666666, \"#ed7953\"], [0.7777777777777778, \"#fb9f3a\"], [0.8888888888888888, \"#fdca26\"], [1.0, \"#f0f921\"]], \"type\": \"histogram2dcontour\"}], \"mesh3d\": [{\"colorbar\": {\"outlinewidth\": 0, \"ticks\": \"\"}, \"type\": \"mesh3d\"}], \"parcoords\": [{\"line\": {\"colorbar\": {\"outlinewidth\": 0, \"ticks\": \"\"}}, \"type\": \"parcoords\"}], \"pie\": [{\"automargin\": true, \"type\": \"pie\"}], \"scatter\": [{\"marker\": {\"colorbar\": {\"outlinewidth\": 0, \"ticks\": \"\"}}, \"type\": \"scatter\"}], \"scatter3d\": [{\"line\": {\"colorbar\": {\"outlinewidth\": 0, \"ticks\": \"\"}}, \"marker\": {\"colorbar\": {\"outlinewidth\": 0, \"ticks\": \"\"}}, \"type\": \"scatter3d\"}], \"scattercarpet\": [{\"marker\": {\"colorbar\": {\"outlinewidth\": 0, \"ticks\": \"\"}}, \"type\": \"scattercarpet\"}], \"scattergeo\": [{\"marker\": {\"colorbar\": {\"outlinewidth\": 0, \"ticks\": \"\"}}, \"type\": \"scattergeo\"}], \"scattergl\": [{\"marker\": {\"colorbar\": {\"outlinewidth\": 0, \"ticks\": \"\"}}, \"type\": \"scattergl\"}], \"scattermapbox\": [{\"marker\": {\"colorbar\": {\"outlinewidth\": 0, \"ticks\": \"\"}}, \"type\": \"scattermapbox\"}], \"scatterpolar\": [{\"marker\": {\"colorbar\": {\"outlinewidth\": 0, \"ticks\": \"\"}}, \"type\": \"scatterpolar\"}], \"scatterpolargl\": [{\"marker\": {\"colorbar\": {\"outlinewidth\": 0, \"ticks\": \"\"}}, \"type\": \"scatterpolargl\"}], \"scatterternary\": [{\"marker\": {\"colorbar\": {\"outlinewidth\": 0, \"ticks\": \"\"}}, \"type\": \"scatterternary\"}], \"surface\": [{\"colorbar\": {\"outlinewidth\": 0, \"ticks\": \"\"}, \"colorscale\": [[0.0, \"#0d0887\"], [0.1111111111111111, \"#46039f\"], [0.2222222222222222, \"#7201a8\"], [0.3333333333333333, \"#9c179e\"], [0.4444444444444444, \"#bd3786\"], [0.5555555555555556, \"#d8576b\"], [0.6666666666666666, \"#ed7953\"], [0.7777777777777778, \"#fb9f3a\"], [0.8888888888888888, \"#fdca26\"], [1.0, \"#f0f921\"]], \"type\": \"surface\"}], \"table\": [{\"cells\": {\"fill\": {\"color\": \"#EBF0F8\"}, \"line\": {\"color\": \"white\"}}, \"header\": {\"fill\": {\"color\": \"#C8D4E3\"}, \"line\": {\"color\": \"white\"}}, \"type\": \"table\"}]}, \"layout\": {\"annotationdefaults\": {\"arrowcolor\": \"#2a3f5f\", \"arrowhead\": 0, \"arrowwidth\": 1}, \"coloraxis\": {\"colorbar\": {\"outlinewidth\": 0, \"ticks\": \"\"}}, \"colorscale\": {\"diverging\": [[0, \"#8e0152\"], [0.1, \"#c51b7d\"], [0.2, \"#de77ae\"], [0.3, \"#f1b6da\"], [0.4, \"#fde0ef\"], [0.5, \"#f7f7f7\"], [0.6, \"#e6f5d0\"], [0.7, \"#b8e186\"], [0.8, \"#7fbc41\"], [0.9, \"#4d9221\"], [1, \"#276419\"]], \"sequential\": [[0.0, \"#0d0887\"], [0.1111111111111111, \"#46039f\"], [0.2222222222222222, \"#7201a8\"], [0.3333333333333333, \"#9c179e\"], [0.4444444444444444, \"#bd3786\"], [0.5555555555555556, \"#d8576b\"], [0.6666666666666666, \"#ed7953\"], [0.7777777777777778, \"#fb9f3a\"], [0.8888888888888888, \"#fdca26\"], [1.0, \"#f0f921\"]], \"sequentialminus\": [[0.0, \"#0d0887\"], [0.1111111111111111, \"#46039f\"], [0.2222222222222222, \"#7201a8\"], [0.3333333333333333, \"#9c179e\"], [0.4444444444444444, \"#bd3786\"], [0.5555555555555556, \"#d8576b\"], [0.6666666666666666, \"#ed7953\"], [0.7777777777777778, \"#fb9f3a\"], [0.8888888888888888, \"#fdca26\"], [1.0, \"#f0f921\"]]}, \"colorway\": [\"#636efa\", \"#EF553B\", \"#00cc96\", \"#ab63fa\", \"#FFA15A\", \"#19d3f3\", \"#FF6692\", \"#B6E880\", \"#FF97FF\", \"#FECB52\"], \"font\": {\"color\": \"#2a3f5f\"}, \"geo\": {\"bgcolor\": \"white\", \"lakecolor\": \"white\", \"landcolor\": \"#E5ECF6\", \"showlakes\": true, \"showland\": true, \"subunitcolor\": \"white\"}, \"hoverlabel\": {\"align\": \"left\"}, \"hovermode\": \"closest\", \"mapbox\": {\"style\": \"light\"}, \"paper_bgcolor\": \"white\", \"plot_bgcolor\": \"#E5ECF6\", \"polar\": {\"angularaxis\": {\"gridcolor\": \"white\", \"linecolor\": \"white\", \"ticks\": \"\"}, \"bgcolor\": \"#E5ECF6\", \"radialaxis\": {\"gridcolor\": \"white\", \"linecolor\": \"white\", \"ticks\": \"\"}}, \"scene\": {\"xaxis\": {\"backgroundcolor\": \"#E5ECF6\", \"gridcolor\": \"white\", \"gridwidth\": 2, \"linecolor\": \"white\", \"showbackground\": true, \"ticks\": \"\", \"zerolinecolor\": \"white\"}, \"yaxis\": {\"backgroundcolor\": \"#E5ECF6\", \"gridcolor\": \"white\", \"gridwidth\": 2, \"linecolor\": \"white\", \"showbackground\": true, \"ticks\": \"\", \"zerolinecolor\": \"white\"}, \"zaxis\": {\"backgroundcolor\": \"#E5ECF6\", \"gridcolor\": \"white\", \"gridwidth\": 2, \"linecolor\": \"white\", \"showbackground\": true, \"ticks\": \"\", \"zerolinecolor\": \"white\"}}, \"shapedefaults\": {\"line\": {\"color\": \"#2a3f5f\"}}, \"ternary\": {\"aaxis\": {\"gridcolor\": \"white\", \"linecolor\": \"white\", \"ticks\": \"\"}, \"baxis\": {\"gridcolor\": \"white\", \"linecolor\": \"white\", \"ticks\": \"\"}, \"bgcolor\": \"#E5ECF6\", \"caxis\": {\"gridcolor\": \"white\", \"linecolor\": \"white\", \"ticks\": \"\"}}, \"title\": {\"x\": 0.05}, \"xaxis\": {\"automargin\": true, \"gridcolor\": \"white\", \"linecolor\": \"white\", \"ticks\": \"\", \"title\": {\"standoff\": 15}, \"zerolinecolor\": \"white\", \"zerolinewidth\": 2}, \"yaxis\": {\"automargin\": true, \"gridcolor\": \"white\", \"linecolor\": \"white\", \"ticks\": \"\", \"title\": {\"standoff\": 15}, \"zerolinecolor\": \"white\", \"zerolinewidth\": 2}}}, \"width\": 900, \"xaxis\": {\"rangeselector\": {\"buttons\": [{\"count\": 7, \"label\": \"1w\", \"step\": \"day\", \"stepmode\": \"backward\"}, {\"count\": 1, \"label\": \"1m\", \"step\": \"month\", \"stepmode\": \"backward\"}, {\"count\": 6, \"label\": \"6m\", \"step\": \"month\", \"stepmode\": \"backward\"}, {\"count\": 1, \"label\": \"1y\", \"step\": \"year\", \"stepmode\": \"backward\"}, {\"step\": \"all\"}]}, \"rangeslider\": {\"visible\": true}, \"title\": {\"text\": \"ds\"}, \"type\": \"date\"}, \"yaxis\": {\"title\": {\"text\": \"y\"}}},\n",
              "                        {\"responsive\": true}\n",
              "                    ).then(function(){\n",
              "                            \n",
              "var gd = document.getElementById('973f3363-d5f1-4764-8eba-35831fa651d5');\n",
              "var x = new MutationObserver(function (mutations, observer) {{\n",
              "        var display = window.getComputedStyle(gd).display;\n",
              "        if (!display || display === 'none') {{\n",
              "            console.log([gd, 'removed!']);\n",
              "            Plotly.purge(gd);\n",
              "            observer.disconnect();\n",
              "        }}\n",
              "}});\n",
              "\n",
              "// Listen for the removal of the full notebook cells\n",
              "var notebookContainer = gd.closest('#notebook-container');\n",
              "if (notebookContainer) {{\n",
              "    x.observe(notebookContainer, {childList: true});\n",
              "}}\n",
              "\n",
              "// Listen for the clearing of the current output cell\n",
              "var outputEl = gd.closest('.output');\n",
              "if (outputEl) {{\n",
              "    x.observe(outputEl, {childList: true});\n",
              "}}\n",
              "\n",
              "                        })\n",
              "                };\n",
              "                \n",
              "            </script>\n",
              "        </div>\n",
              "</body>\n",
              "</html>"
            ]
          },
          "metadata": {}
        }
      ]
    },
    {
      "cell_type": "code",
      "metadata": {
        "colab": {
          "base_uri": "https://localhost:8080/",
          "height": 657
        },
        "id": "os4j-CMVGB_Z",
        "outputId": "c659a2d9-ffa2-4b7c-93ca-398077b9cea6"
      },
      "source": [
        "componentes = model.plot_components(y_pred)"
      ],
      "execution_count": 147,
      "outputs": [
        {
          "output_type": "display_data",
          "data": {
            "image/png": "[encoded data removed]",
            "text/plain": [
              "<Figure size 648x648 with 3 Axes>"
            ]
          },
          "metadata": {}
        }
      ]
    },
    {
      "cell_type": "code",
      "metadata": {
        "colab": {
          "base_uri": "https://localhost:8080/",
          "height": 66,
          "referenced_widgets": [
            "551a187ad34d48bab7400b7aadeeafb8",
            "0751ebdd595b41dd9a5b1e1b5b77c019",
            "a5bb4b99795244fa93a913792f885452",
            "3166550d2f5b4616b119ba0ec73fa1bd",
            "772a078a3e494d5fa45893353fd9a09a",
            "ddd90e6d53ca4739ad551b44ec6a0abe",
            "0efb75c6e8594de89a86e7c8923ac411",
            "b83f1a81a3e8412c814b35c791edcc8d",
            "b1fe82e60a114252a736c447a9586996",
            "2495c5de078644fba58a5861308219ac",
            "1f460340ef244b609a058535c8a9f55d"
          ]
        },
        "id": "84MTcWtJGOWR",
        "outputId": "1942237f-8ac9-44da-96f1-01239eeca59c"
      },
      "source": [
        "#validação cruzada\n",
        "#https://facebook.github.io/prophet/docs/diagnostics.html\n",
        "from fbprophet.diagnostics import cross_validation, performance_metrics\n",
        "df_cv = cross_validation(model, initial='200 days', period='30 days', horizon = '15 days')"
      ],
      "execution_count": 130,
      "outputs": [
        {
          "output_type": "stream",
          "name": "stderr",
          "text": [
            "INFO:fbprophet:Making 4 forecasts with cutoffs between 2021-05-04 00:00:00 and 2021-08-02 00:00:00\n"
          ]
        },
        {
          "output_type": "display_data",
          "data": {
            "application/vnd.jupyter.widget-view+json": {
              "model_id": "551a187ad34d48bab7400b7aadeeafb8",
              "version_minor": 0,
              "version_major": 2
            },
            "text/plain": [
              "  0%|          | 0/4 [00:00<?, ?it/s]"
            ]
          },
          "metadata": {}
        }
      ]
    },
    {
      "cell_type": "code",
      "metadata": {
        "colab": {
          "base_uri": "https://localhost:8080/",
          "height": 483
        },
        "id": "Hxzzn8y-GOgQ",
        "outputId": "1c69cf11-dd36-4512-c7ce-c2b1e409d04b"
      },
      "source": [
        "relatorio_cv = performance_metrics(df_cv)\n",
        "relatorio_cv.sort_values(by='mape').head(50)"
      ],
      "execution_count": 131,
      "outputs": [
        {
          "output_type": "execute_result",
          "data": {
            "text/html": [
              "<div>\n",
              "<style scoped>\n",
              "    .dataframe tbody tr th:only-of-type {\n",
              "        vertical-align: middle;\n",
              "    }\n",
              "\n",
              "    .dataframe tbody tr th {\n",
              "        vertical-align: top;\n",
              "    }\n",
              "\n",
              "    .dataframe thead th {\n",
              "        text-align: right;\n",
              "    }\n",
              "</style>\n",
              "<table border=\"1\" class=\"dataframe\">\n",
              "  <thead>\n",
              "    <tr style=\"text-align: right;\">\n",
              "      <th></th>\n",
              "      <th>horizon</th>\n",
              "      <th>mse</th>\n",
              "      <th>rmse</th>\n",
              "      <th>mae</th>\n",
              "      <th>mape</th>\n",
              "      <th>mdape</th>\n",
              "      <th>coverage</th>\n",
              "    </tr>\n",
              "  </thead>\n",
              "  <tbody>\n",
              "    <tr>\n",
              "      <th>10</th>\n",
              "      <td>12 days</td>\n",
              "      <td>0.099953</td>\n",
              "      <td>0.316154</td>\n",
              "      <td>0.277155</td>\n",
              "      <td>0.010416</td>\n",
              "      <td>0.010829</td>\n",
              "      <td>1.000000</td>\n",
              "    </tr>\n",
              "    <tr>\n",
              "      <th>9</th>\n",
              "      <td>11 days</td>\n",
              "      <td>0.224359</td>\n",
              "      <td>0.473665</td>\n",
              "      <td>0.354150</td>\n",
              "      <td>0.013565</td>\n",
              "      <td>0.008601</td>\n",
              "      <td>0.916667</td>\n",
              "    </tr>\n",
              "    <tr>\n",
              "      <th>6</th>\n",
              "      <td>8 days</td>\n",
              "      <td>0.659629</td>\n",
              "      <td>0.812175</td>\n",
              "      <td>0.590509</td>\n",
              "      <td>0.022322</td>\n",
              "      <td>0.021160</td>\n",
              "      <td>0.833333</td>\n",
              "    </tr>\n",
              "    <tr>\n",
              "      <th>8</th>\n",
              "      <td>10 days</td>\n",
              "      <td>0.689054</td>\n",
              "      <td>0.830093</td>\n",
              "      <td>0.726199</td>\n",
              "      <td>0.028222</td>\n",
              "      <td>0.032667</td>\n",
              "      <td>0.666667</td>\n",
              "    </tr>\n",
              "    <tr>\n",
              "      <th>11</th>\n",
              "      <td>13 days</td>\n",
              "      <td>1.004520</td>\n",
              "      <td>1.002258</td>\n",
              "      <td>0.762337</td>\n",
              "      <td>0.028498</td>\n",
              "      <td>0.016718</td>\n",
              "      <td>0.750000</td>\n",
              "    </tr>\n",
              "    <tr>\n",
              "      <th>3</th>\n",
              "      <td>5 days</td>\n",
              "      <td>0.967179</td>\n",
              "      <td>0.983453</td>\n",
              "      <td>0.881233</td>\n",
              "      <td>0.032375</td>\n",
              "      <td>0.034440</td>\n",
              "      <td>0.583333</td>\n",
              "    </tr>\n",
              "    <tr>\n",
              "      <th>7</th>\n",
              "      <td>9 days</td>\n",
              "      <td>0.876220</td>\n",
              "      <td>0.936066</td>\n",
              "      <td>0.861606</td>\n",
              "      <td>0.033841</td>\n",
              "      <td>0.033692</td>\n",
              "      <td>0.750000</td>\n",
              "    </tr>\n",
              "    <tr>\n",
              "      <th>12</th>\n",
              "      <td>14 days</td>\n",
              "      <td>1.356380</td>\n",
              "      <td>1.164637</td>\n",
              "      <td>0.947002</td>\n",
              "      <td>0.035764</td>\n",
              "      <td>0.019468</td>\n",
              "      <td>0.666667</td>\n",
              "    </tr>\n",
              "    <tr>\n",
              "      <th>2</th>\n",
              "      <td>4 days</td>\n",
              "      <td>1.489865</td>\n",
              "      <td>1.220600</td>\n",
              "      <td>1.002903</td>\n",
              "      <td>0.037408</td>\n",
              "      <td>0.038727</td>\n",
              "      <td>0.583333</td>\n",
              "    </tr>\n",
              "    <tr>\n",
              "      <th>5</th>\n",
              "      <td>7 days</td>\n",
              "      <td>2.536779</td>\n",
              "      <td>1.592727</td>\n",
              "      <td>1.386924</td>\n",
              "      <td>0.050752</td>\n",
              "      <td>0.046979</td>\n",
              "      <td>0.250000</td>\n",
              "    </tr>\n",
              "    <tr>\n",
              "      <th>4</th>\n",
              "      <td>6 days</td>\n",
              "      <td>2.566419</td>\n",
              "      <td>1.602005</td>\n",
              "      <td>1.429407</td>\n",
              "      <td>0.052243</td>\n",
              "      <td>0.043116</td>\n",
              "      <td>0.250000</td>\n",
              "    </tr>\n",
              "    <tr>\n",
              "      <th>13</th>\n",
              "      <td>15 days</td>\n",
              "      <td>2.223938</td>\n",
              "      <td>1.491287</td>\n",
              "      <td>1.392046</td>\n",
              "      <td>0.053442</td>\n",
              "      <td>0.062009</td>\n",
              "      <td>0.416667</td>\n",
              "    </tr>\n",
              "    <tr>\n",
              "      <th>0</th>\n",
              "      <td>2 days</td>\n",
              "      <td>2.267288</td>\n",
              "      <td>1.505752</td>\n",
              "      <td>1.450261</td>\n",
              "      <td>0.056134</td>\n",
              "      <td>0.059041</td>\n",
              "      <td>0.333333</td>\n",
              "    </tr>\n",
              "    <tr>\n",
              "      <th>1</th>\n",
              "      <td>3 days</td>\n",
              "      <td>2.785049</td>\n",
              "      <td>1.668847</td>\n",
              "      <td>1.508185</td>\n",
              "      <td>0.058528</td>\n",
              "      <td>0.073650</td>\n",
              "      <td>0.333333</td>\n",
              "    </tr>\n",
              "  </tbody>\n",
              "</table>\n",
              "</div>"
            ],
            "text/plain": [
              "   horizon       mse      rmse       mae      mape     mdape  coverage\n",
              "10 12 days  0.099953  0.316154  0.277155  0.010416  0.010829  1.000000\n",
              "9  11 days  0.224359  0.473665  0.354150  0.013565  0.008601  0.916667\n",
              "6   8 days  0.659629  0.812175  0.590509  0.022322  0.021160  0.833333\n",
              "8  10 days  0.689054  0.830093  0.726199  0.028222  0.032667  0.666667\n",
              "11 13 days  1.004520  1.002258  0.762337  0.028498  0.016718  0.750000\n",
              "3   5 days  0.967179  0.983453  0.881233  0.032375  0.034440  0.583333\n",
              "7   9 days  0.876220  0.936066  0.861606  0.033841  0.033692  0.750000\n",
              "12 14 days  1.356380  1.164637  0.947002  0.035764  0.019468  0.666667\n",
              "2   4 days  1.489865  1.220600  1.002903  0.037408  0.038727  0.583333\n",
              "5   7 days  2.536779  1.592727  1.386924  0.050752  0.046979  0.250000\n",
              "4   6 days  2.566419  1.602005  1.429407  0.052243  0.043116  0.250000\n",
              "13 15 days  2.223938  1.491287  1.392046  0.053442  0.062009  0.416667\n",
              "0   2 days  2.267288  1.505752  1.450261  0.056134  0.059041  0.333333\n",
              "1   3 days  2.785049  1.668847  1.508185  0.058528  0.073650  0.333333"
            ]
          },
          "metadata": {},
          "execution_count": 131
        }
      ]
    },
    {
      "cell_type": "code",
      "metadata": {
        "colab": {
          "base_uri": "https://localhost:8080/"
        },
        "id": "nW54aVc9GOlQ",
        "outputId": "9958ba58-bb94-49be-d4eb-baf648a185c8"
      },
      "source": [
        "relatorio_cv['mape'].mean()"
      ],
      "execution_count": 132,
      "outputs": [
        {
          "output_type": "execute_result",
          "data": {
            "text/plain": [
              "0.036679223076539015"
            ]
          },
          "metadata": {},
          "execution_count": 132
        }
      ]
    },
    {
      "cell_type": "code",
      "metadata": {
        "colab": {
          "base_uri": "https://localhost:8080/"
        },
        "id": "q-XwnC3eGOno",
        "outputId": "df194700-509b-4e5a-ac73-db906f4c57ab"
      },
      "source": [
        "#tunando hiperparâmetros do modelo\n",
        "import itertools\n",
        "cutoffs = pd.to_datetime(['2021-02-01', '2021-05-01', '2021-08-01'])\n",
        "\n",
        "param_grid = {  \n",
        "    'changepoint_prior_scale': [0.001, 0.01, 0.1, 0.5],\n",
        "    'seasonality_prior_scale': [0.01, 0.1, 1.0, 10.0],\n",
        "}\n",
        "\n",
        "# Gerando combinação de parâmetros\n",
        "all_params = [dict(zip(param_grid.keys(), v)) for v in itertools.product(*param_grid.values())]\n",
        "mapes = []  # guardar MAPEs para cada parâmetro aqui\n",
        "\n",
        "# Usar validação cruzada para avaliar todos os parâmetros\n",
        "for params in all_params:\n",
        "    m = Prophet(**params).fit(train)  # Fit model with given params\n",
        "    df_cv = cross_validation(m, cutoffs=cutoffs, horizon='30 days', parallel=\"processes\")\n",
        "    df_p = performance_metrics(df_cv, rolling_window=1)\n",
        "    mapes.append(df_p['mape'].values[0])\n",
        "\n",
        "# Encontrar melhores parâmetros\n",
        "tuning_results = pd.DataFrame(all_params)\n",
        "tuning_results['mape'] = mapes\n",
        "print(tuning_results)"
      ],
      "execution_count": 23,
      "outputs": [
        {
          "output_type": "stream",
          "name": "stderr",
          "text": [
            "INFO:fbprophet:Disabling yearly seasonality. Run prophet with yearly_seasonality=True to override this.\n",
            "INFO:fbprophet:Disabling daily seasonality. Run prophet with daily_seasonality=True to override this.\n",
            "INFO:fbprophet:Applying in parallel with <concurrent.futures.process.ProcessPoolExecutor object at 0x7fc9d5904090>\n",
            "INFO:fbprophet:Disabling yearly seasonality. Run prophet with yearly_seasonality=True to override this.\n",
            "INFO:fbprophet:Disabling daily seasonality. Run prophet with daily_seasonality=True to override this.\n",
            "INFO:fbprophet:Applying in parallel with <concurrent.futures.process.ProcessPoolExecutor object at 0x7fc9d5904f10>\n",
            "INFO:fbprophet:Disabling yearly seasonality. Run prophet with yearly_seasonality=True to override this.\n",
            "INFO:fbprophet:Disabling daily seasonality. Run prophet with daily_seasonality=True to override this.\n",
            "INFO:fbprophet:Applying in parallel with <concurrent.futures.process.ProcessPoolExecutor object at 0x7fc9d4980d50>\n",
            "INFO:fbprophet:Disabling yearly seasonality. Run prophet with yearly_seasonality=True to override this.\n",
            "INFO:fbprophet:Disabling daily seasonality. Run prophet with daily_seasonality=True to override this.\n",
            "INFO:fbprophet:Applying in parallel with <concurrent.futures.process.ProcessPoolExecutor object at 0x7fc9d48b6dd0>\n"
          ]
        },
        {
          "output_type": "stream",
          "name": "stdout",
          "text": [
            "    changepoint_prior_scale  seasonality_prior_scale      mape\n",
            "0                     0.001                     0.01  0.086555\n",
            "1                     0.001                     0.10  0.090632\n",
            "2                     0.001                     1.00  0.091541\n",
            "3                     0.001                    10.00  0.091518\n",
            "4                     0.010                     0.01  0.078006\n",
            "5                     0.010                     0.10  0.076759\n",
            "6                     0.010                     1.00  0.076391\n",
            "7                     0.010                    10.00  0.077700\n",
            "8                     0.100                     0.01  0.078201\n",
            "9                     0.100                     0.10  0.079609\n",
            "10                    0.100                     1.00  0.077812\n",
            "11                    0.100                    10.00  0.079388\n",
            "12                    0.500                     0.01  0.096356\n",
            "13                    0.500                     0.10  0.096327\n",
            "14                    0.500                     1.00  0.096357\n",
            "15                    0.500                    10.00  0.096381\n"
          ]
        }
      ]
    },
    {
      "cell_type": "code",
      "metadata": {
        "colab": {
          "base_uri": "https://localhost:8080/",
          "height": 545
        },
        "id": "7BA-8h7WGOqR",
        "outputId": "f71fcbd9-9ab4-4e23-b60f-fccd19011de7"
      },
      "source": [
        "tuning_results"
      ],
      "execution_count": 24,
      "outputs": [
        {
          "output_type": "execute_result",
          "data": {
            "text/html": [
              "<div>\n",
              "<style scoped>\n",
              "    .dataframe tbody tr th:only-of-type {\n",
              "        vertical-align: middle;\n",
              "    }\n",
              "\n",
              "    .dataframe tbody tr th {\n",
              "        vertical-align: top;\n",
              "    }\n",
              "\n",
              "    .dataframe thead th {\n",
              "        text-align: right;\n",
              "    }\n",
              "</style>\n",
              "<table border=\"1\" class=\"dataframe\">\n",
              "  <thead>\n",
              "    <tr style=\"text-align: right;\">\n",
              "      <th></th>\n",
              "      <th>changepoint_prior_scale</th>\n",
              "      <th>seasonality_prior_scale</th>\n",
              "      <th>mape</th>\n",
              "    </tr>\n",
              "  </thead>\n",
              "  <tbody>\n",
              "    <tr>\n",
              "      <th>0</th>\n",
              "      <td>0.001</td>\n",
              "      <td>0.01</td>\n",
              "      <td>0.086555</td>\n",
              "    </tr>\n",
              "    <tr>\n",
              "      <th>1</th>\n",
              "      <td>0.001</td>\n",
              "      <td>0.10</td>\n",
              "      <td>0.090632</td>\n",
              "    </tr>\n",
              "    <tr>\n",
              "      <th>2</th>\n",
              "      <td>0.001</td>\n",
              "      <td>1.00</td>\n",
              "      <td>0.091541</td>\n",
              "    </tr>\n",
              "    <tr>\n",
              "      <th>3</th>\n",
              "      <td>0.001</td>\n",
              "      <td>10.00</td>\n",
              "      <td>0.091518</td>\n",
              "    </tr>\n",
              "    <tr>\n",
              "      <th>4</th>\n",
              "      <td>0.010</td>\n",
              "      <td>0.01</td>\n",
              "      <td>0.078006</td>\n",
              "    </tr>\n",
              "    <tr>\n",
              "      <th>5</th>\n",
              "      <td>0.010</td>\n",
              "      <td>0.10</td>\n",
              "      <td>0.076759</td>\n",
              "    </tr>\n",
              "    <tr>\n",
              "      <th>6</th>\n",
              "      <td>0.010</td>\n",
              "      <td>1.00</td>\n",
              "      <td>0.076391</td>\n",
              "    </tr>\n",
              "    <tr>\n",
              "      <th>7</th>\n",
              "      <td>0.010</td>\n",
              "      <td>10.00</td>\n",
              "      <td>0.077700</td>\n",
              "    </tr>\n",
              "    <tr>\n",
              "      <th>8</th>\n",
              "      <td>0.100</td>\n",
              "      <td>0.01</td>\n",
              "      <td>0.078201</td>\n",
              "    </tr>\n",
              "    <tr>\n",
              "      <th>9</th>\n",
              "      <td>0.100</td>\n",
              "      <td>0.10</td>\n",
              "      <td>0.079609</td>\n",
              "    </tr>\n",
              "    <tr>\n",
              "      <th>10</th>\n",
              "      <td>0.100</td>\n",
              "      <td>1.00</td>\n",
              "      <td>0.077812</td>\n",
              "    </tr>\n",
              "    <tr>\n",
              "      <th>11</th>\n",
              "      <td>0.100</td>\n",
              "      <td>10.00</td>\n",
              "      <td>0.079388</td>\n",
              "    </tr>\n",
              "    <tr>\n",
              "      <th>12</th>\n",
              "      <td>0.500</td>\n",
              "      <td>0.01</td>\n",
              "      <td>0.096356</td>\n",
              "    </tr>\n",
              "    <tr>\n",
              "      <th>13</th>\n",
              "      <td>0.500</td>\n",
              "      <td>0.10</td>\n",
              "      <td>0.096327</td>\n",
              "    </tr>\n",
              "    <tr>\n",
              "      <th>14</th>\n",
              "      <td>0.500</td>\n",
              "      <td>1.00</td>\n",
              "      <td>0.096357</td>\n",
              "    </tr>\n",
              "    <tr>\n",
              "      <th>15</th>\n",
              "      <td>0.500</td>\n",
              "      <td>10.00</td>\n",
              "      <td>0.096381</td>\n",
              "    </tr>\n",
              "  </tbody>\n",
              "</table>\n",
              "</div>"
            ],
            "text/plain": [
              "    changepoint_prior_scale  seasonality_prior_scale      mape\n",
              "0                     0.001                     0.01  0.086555\n",
              "1                     0.001                     0.10  0.090632\n",
              "2                     0.001                     1.00  0.091541\n",
              "3                     0.001                    10.00  0.091518\n",
              "4                     0.010                     0.01  0.078006\n",
              "5                     0.010                     0.10  0.076759\n",
              "6                     0.010                     1.00  0.076391\n",
              "7                     0.010                    10.00  0.077700\n",
              "8                     0.100                     0.01  0.078201\n",
              "9                     0.100                     0.10  0.079609\n",
              "10                    0.100                     1.00  0.077812\n",
              "11                    0.100                    10.00  0.079388\n",
              "12                    0.500                     0.01  0.096356\n",
              "13                    0.500                     0.10  0.096327\n",
              "14                    0.500                     1.00  0.096357\n",
              "15                    0.500                    10.00  0.096381"
            ]
          },
          "metadata": {},
          "execution_count": 24
        }
      ]
    },
    {
      "cell_type": "code",
      "metadata": {
        "colab": {
          "base_uri": "https://localhost:8080/"
        },
        "id": "NlGYB7paGOsZ",
        "outputId": "b917fb8d-6eba-4158-f253-86d8abeaa283"
      },
      "source": [
        "best_params = all_params[np.argmin(mapes)]\n",
        "print(best_params)"
      ],
      "execution_count": 32,
      "outputs": [
        {
          "output_type": "stream",
          "name": "stdout",
          "text": [
            "{'changepoint_prior_scale': 0.01, 'seasonality_prior_scale': 1.0}\n"
          ]
        }
      ]
    },
    {
      "cell_type": "code",
      "metadata": {
        "id": "I4XK-I1pG7m6"
      },
      "source": [
        "data_pred = y_pred.ds\n",
        "pred = y_pred.yhat\n",
        "close = df['VALE3.SA']\n",
        "#vazio=pd.Series(['-','-','-','-'])\n",
        "#vazio=pd.Series([0,0])\n",
        "\n",
        "#close = close.append(vazio)\n",
        "df2= df\n",
        "df2 = df2.reset_index()"
      ],
      "execution_count": 55,
      "outputs": []
    },
    {
      "cell_type": "code",
      "metadata": {
        "colab": {
          "base_uri": "https://localhost:8080/"
        },
        "id": "NBKEZGrYIjga",
        "outputId": "2c1e0a28-fb5c-42aa-9663-0fecb7568e79"
      },
      "source": [
        "data_real = df2.Date\n",
        "#data_real = data_real.append(vazio)\n",
        "df_final = pd.DataFrame(close.values, index=data_real, columns=['VALE3.SA real'])\n",
        "df_final['Previsão'] = pred.values\n",
        "df_final"
      ],
      "execution_count": 60,
      "outputs": [
        {
          "output_type": "execute_result",
          "data": {
            "text/plain": [
              "array([ 52.78379787,  53.29743347,  53.26462896,  53.58519984,\n",
              "        54.41591207,  54.55262156,  55.06625716,  55.03345265,\n",
              "        55.35402354,  56.18473576,  56.32144525,  56.83508086,\n",
              "        56.80227635,  57.12284723,  58.09026895,  58.60390455,\n",
              "        58.57110004,  58.89167092,  59.72238315,  59.85909264,\n",
              "        60.37272824,  60.33992373,  60.66049462,  61.49120684,\n",
              "        61.62791633,  62.14155193,  62.10874742,  63.26003054,\n",
              "        63.39674003,  63.91037563,  63.87757113,  64.19814201,\n",
              "        65.02885424,  65.16556373,  65.67919933,  65.64639481,\n",
              "        65.96696569,  66.79767788,  66.93438736,  67.44802296,\n",
              "        67.41516912,  67.73569067,  68.56625489,  68.70291505,\n",
              "        69.21650132,  69.18364747,  69.50416902,  70.33188149,\n",
              "        70.46759106,  70.98022674,  72.09370573,  72.2294153 ,\n",
              "        72.74205099,  73.78298642,  73.90418727,  74.40231424,\n",
              "        74.3540011 ,  74.65906335,  75.44324967,  75.56445053,\n",
              "        76.03471802,  75.9585454 ,  76.23574817,  76.93635607,\n",
              "        77.02969745,  77.49996494,  77.42379232,  77.68208531,\n",
              "        78.40039546,  78.85175317,  78.75667077,  79.01496376,\n",
              "        79.6588423 ,  79.72632005,  80.17072392,  80.06868766,\n",
              "        80.32002681,  80.94304381,  81.01052156,  81.45492542,\n",
              "        81.35283489,  81.60411976,  82.63665647,  82.88794134,\n",
              "        83.51079552,  83.57821899,  84.02256854,  83.92047798,\n",
              "        84.17176281,  84.79461688,  84.86204032,  85.30638987,\n",
              "        85.20429931,  85.45558404,  86.0784378 ,  86.14586113,\n",
              "        86.59021058,  86.48811992,  86.73940465,  87.36225841,\n",
              "        87.42968175,  87.8740312 ,  87.77194053,  88.02322526,\n",
              "        88.64607903,  88.71350236,  89.15785181,  89.05576114,\n",
              "        89.30704587,  89.92989963,  89.99732296,  90.44167241,\n",
              "        90.33958174,  91.21371904,  91.28114208,  91.72549123,\n",
              "        91.62340026,  91.87468469,  92.49753756,  92.54818926,\n",
              "        92.97576708,  92.85690478,  93.09141788,  93.66395675,\n",
              "        93.71460845,  94.02332397,  94.23591022,  94.74266852,\n",
              "        94.77139337,  95.17704433,  95.03625518,  95.24884142,\n",
              "        95.67558793,  95.67764218,  96.05662255,  95.8891628 ,\n",
              "        96.07507845,  96.50182496,  96.50387922,  96.86025964,\n",
              "        96.67019995,  96.83351565,  97.19246233,  97.17191664,\n",
              "        97.52829706,  97.32979358,  97.48466549,  97.81828079,\n",
              "        97.78929131,  98.13722794,  97.93872445,  98.09359636,\n",
              "        98.42720897,  98.39821858,  98.74615431,  98.70252094,\n",
              "        99.03613355,  99.00714316,  99.35507889,  99.1565745 ,\n",
              "        99.31144551,  99.64505811,  99.61606772,  99.96400345,\n",
              "        99.76549906,  99.92037007, 100.25398268, 100.22499229,\n",
              "       100.57292802, 100.37442364, 100.52929465, 100.86290725,\n",
              "       100.83391687, 101.1818526 , 100.98334822, 101.13821923,\n",
              "       101.47183183, 101.44284144, 101.79077717, 101.59227279,\n",
              "       102.0807564 , 102.05176602, 102.39970175, 102.20119737,\n",
              "       102.35606838, 102.68968098, 102.6606906 , 103.00862632,\n",
              "       102.81012194, 102.96499295, 103.29860555, 103.26961517,\n",
              "       103.6175509 , 103.41904652, 103.57391753, 103.90753013,\n",
              "       103.87853975, 104.22647548, 104.02797109, 104.1828421 ,\n",
              "       104.5164547 , 104.48746432, 104.83540005, 104.63689567,\n",
              "       104.79176668, 105.12537928, 105.0963889 , 105.44432463,\n",
              "       105.24582024, 105.40069125, 105.51314235, 105.60013157,\n",
              "       105.73430386, 105.70531347, 106.0532492 , 105.85474482,\n",
              "       106.00961583, 106.12206692, 106.20905615, 106.34322843,\n",
              "       106.31423805, 106.66217378, 106.46366939, 106.6185404 ,\n",
              "       106.7309915 , 106.81798073, 106.95215301, 106.92316262,\n",
              "       107.27109835, 107.07259397, 107.22746498, 107.33991607,\n",
              "       107.4269053 , 107.56107758, 107.5320872 , 107.88002293,\n",
              "       107.68151854])"
            ]
          },
          "metadata": {},
          "execution_count": 60
        }
      ]
    },
    {
      "cell_type": "code",
      "metadata": {
        "id": "aeGV4iIrG7pY"
      },
      "source": [
        "grafico_final = px.line(df_final, y=['Venda Mensal Real', 'Previsão Mensal'], x=df_final.index)\n",
        "grafico_final.show()"
      ],
      "execution_count": null,
      "outputs": []
    },
    {
      "cell_type": "code",
      "metadata": {
        "id": "s-BbGyrtG7sK"
      },
      "source": [
        "def mean_absolute_percentage_error(y_true, y_pred): \n",
        "    y_true, y_pred = np.array(y_true), np.array(y_pred)\n",
        "    return np.mean(np.abs((y_true - y_pred) / y_true)) * 100\n",
        "mape=mean_absolute_percentage_error(venda_mensal_bruta, pred[:48])\n",
        "mape = \"%0.2f\" % mape\n",
        "print('Ao longo da série temos uma MAPE de: ' + mape + '%')"
      ],
      "execution_count": null,
      "outputs": []
    },
    {
      "cell_type": "code",
      "metadata": {
        "id": "6J7qvxEZG7uo"
      },
      "source": [
        ""
      ],
      "execution_count": null,
      "outputs": []
    },
    {
      "cell_type": "code",
      "metadata": {
        "id": "B8DElklbG7xY"
      },
      "source": [
        ""
      ],
      "execution_count": null,
      "outputs": []
    },
    {
      "cell_type": "code",
      "metadata": {
        "id": "lss3SduHG71x"
      },
      "source": [
        ""
      ],
      "execution_count": null,
      "outputs": []
    },
    {
      "cell_type": "code",
      "metadata": {
        "id": "o3fE-KyPG74a"
      },
      "source": [
        ""
      ],
      "execution_count": null,
      "outputs": []
    },
    {
      "cell_type": "code",
      "metadata": {
        "id": "cHdMoEIKG764"
      },
      "source": [
        ""
      ],
      "execution_count": null,
      "outputs": []
    },
    {
      "cell_type": "code",
      "metadata": {
        "id": "C0b3dcuTG79Y"
      },
      "source": [
        ""
      ],
      "execution_count": null,
      "outputs": []
    },
    {
      "cell_type": "code",
      "metadata": {
        "id": "8PNTI0MaG7_x"
      },
      "source": [
        ""
      ],
      "execution_count": null,
      "outputs": []
    },
    {
      "cell_type": "code",
      "metadata": {
        "id": "Oz3FWnVaG8CJ"
      },
      "source": [
        ""
      ],
      "execution_count": null,
      "outputs": []
    },
    {
      "cell_type": "code",
      "metadata": {
        "id": "pHyL6wOfG8Es"
      },
      "source": [
        ""
      ],
      "execution_count": null,
      "outputs": []
    }
  ]
}