{
  "nbformat": 4,
  "nbformat_minor": 0,
  "metadata": {
    "colab": {
      "name": "forecasting_multivariate_LSTM.ipynb",
      "provenance": [],
      "collapsed_sections": [],
      "authorship_tag": "ABX9TyNpjOt3DIyVN+MtnP7kFwCw",
      "include_colab_link": true
    },
    "kernelspec": {
      "name": "python3",
      "display_name": "Python 3"
    },
    "language_info": {
      "name": "python"
    }
  },
  "cells": [
    {
      "cell_type": "markdown",
      "metadata": {
        "id": "view-in-github",
        "colab_type": "text"
      },
      "source": [
        "<a href=\"https://colab.research.google.com/github/maiaufrrj/BRtrading/blob/main/forecasting_multivariate_LSTM.ipynb\" target=\"_parent\"><img src=\"https://colab.research.google.com/assets/colab-badge.svg\" alt=\"Open In Colab\"/></a>"
      ]
    },
    {
      "cell_type": "markdown",
      "metadata": {
        "id": "1oeGlpRH53xA"
      },
      "source": [
        "referência: https://github.com/vb100/multivariate-lstm/blob/master/LSTM_model_stocks.ipynb"
      ]
    },
    {
      "cell_type": "markdown",
      "metadata": {
        "id": "4HN7ueeV4z6U"
      },
      "source": [
        "PART 1. Data Pre-processing\n",
        "Step #0. Fire the system"
      ]
    },
    {
      "cell_type": "code",
      "metadata": {
        "id": "as46NC1o4zBP"
      },
      "source": [
        "# Import modules and packages\n",
        "import numpy as np\n",
        "import pandas as pd\n",
        "import matplotlib.pyplot as plt\n",
        "import datetime as dt\n",
        "from datetime import datetime\n",
        "from keras.callbacks import EarlyStopping, ReduceLROnPlateau, ModelCheckpoint, TensorBoard\n",
        "%matplotlib inline"
      ],
      "execution_count": null,
      "outputs": []
    },
    {
      "cell_type": "markdown",
      "metadata": {
        "id": "t4qkitZ_46Ta"
      },
      "source": [
        "\n",
        "Step #1. Read data"
      ]
    },
    {
      "cell_type": "code",
      "metadata": {
        "id": "Ajs9yaK64017"
      },
      "source": [
        "# Importing Training Set\n",
        "dataset_train = pd.read_csv('GOOG.csv')\n",
        "\n",
        "# Select features (columns) to be involved intro training and predictions\n",
        "cols = list(dataset_train)[1:6]\n",
        "\n",
        "# Extract dates (will be used in visualization)\n",
        "datelist_train = list(dataset_train['Date'])\n",
        "datelist_train = [dt.datetime.strptime(date, '%Y-%m-%d').date() for date in datelist_train]\n",
        "\n",
        "print('Training set shape == {}'.format(dataset_train.shape))\n",
        "print('All timestamps == {}'.format(len(datelist_train)))\n",
        "print('Featured selected: {}'.format(cols))"
      ],
      "execution_count": null,
      "outputs": []
    },
    {
      "cell_type": "markdown",
      "metadata": {
        "id": "5wjq4whF5A-i"
      },
      "source": [
        "Step #2. Data pre-processing\n",
        "Removing all commas and convert data to matrix shape format."
      ]
    },
    {
      "cell_type": "code",
      "metadata": {
        "id": "A3eZwG5O404p"
      },
      "source": [
        "dataset_train = dataset_train[cols].astype(str)\n",
        "for i in cols:\n",
        "    for j in range(0, len(dataset_train)):\n",
        "        dataset_train[i][j] = dataset_train[i][j].replace(',', '')\n",
        "\n",
        "dataset_train = dataset_train.astype(float)\n",
        "\n",
        "# Using multiple features (predictors)\n",
        "training_set = dataset_train.as_matrix()\n",
        "\n",
        "print('Shape of training set == {}.'.format(training_set.shape))\n",
        "training_set"
      ],
      "execution_count": null,
      "outputs": []
    },
    {
      "cell_type": "code",
      "metadata": {
        "id": "Cxybh-ZS4063"
      },
      "source": [
        "# Feature Scaling\n",
        "from sklearn.preprocessing import StandardScaler\n",
        "\n",
        "sc = StandardScaler()\n",
        "training_set_scaled = sc.fit_transform(training_set)\n",
        "\n",
        "sc_predict = StandardScaler()\n",
        "sc_predict.fit_transform(training_set[:, 0:1])"
      ],
      "execution_count": null,
      "outputs": []
    },
    {
      "cell_type": "code",
      "metadata": {
        "id": "gsq0Yw49409F"
      },
      "source": [
        "# Creating a data structure with 90 timestamps and 1 output\n",
        "X_train = []\n",
        "y_train = []\n",
        "\n",
        "n_future = 60   # Number of days we want top predict into the future\n",
        "n_past = 90     # Number of past days we want to use to predict the future\n",
        "\n",
        "for i in range(n_past, len(training_set_scaled) - n_future +1):\n",
        "    X_train.append(training_set_scaled[i - n_past:i, 0:dataset_train.shape[1] - 1])\n",
        "    y_train.append(training_set_scaled[i + n_future - 1:i + n_future, 0])\n",
        "\n",
        "X_train, y_train = np.array(X_train), np.array(y_train)\n",
        "\n",
        "print('X_train shape == {}.'.format(X_train.shape))\n",
        "print('y_train shape == {}.'.format(y_train.shape))"
      ],
      "execution_count": null,
      "outputs": []
    },
    {
      "cell_type": "markdown",
      "metadata": {
        "id": "Lqtnh94t5OFp"
      },
      "source": [
        "PART 2. Create a model. Training\n",
        "Step #3. Building the LSTM based Neural Network"
      ]
    },
    {
      "cell_type": "code",
      "metadata": {
        "id": "HaUH3gCi40-7"
      },
      "source": [
        "# Import Libraries and packages from Keras\n",
        "from keras.models import Sequential\n",
        "from keras.layers import Dense\n",
        "from keras.layers import LSTM\n",
        "from keras.layers import Dropout\n",
        "from keras.optimizers import Adam"
      ],
      "execution_count": null,
      "outputs": []
    },
    {
      "cell_type": "code",
      "metadata": {
        "id": "q_0ESZV25PYB"
      },
      "source": [
        "# Initializing the Neural Network based on LSTM\n",
        "model = Sequential()\n",
        "\n",
        "# Adding 1st LSTM layer\n",
        "model.add(LSTM(units=64, return_sequences=True, input_shape=(n_past, dataset_train.shape[1]-1)))\n",
        "\n",
        "# Adding 2nd LSTM layer\n",
        "model.add(LSTM(units=10, return_sequences=False))\n",
        "\n",
        "# Adding Dropout\n",
        "model.add(Dropout(0.25))\n",
        "\n",
        "# Output layer\n",
        "model.add(Dense(units=1, activation='linear'))\n",
        "\n",
        "# Compiling the Neural Network\n",
        "model.compile(optimizer = Adam(learning_rate=0.01), loss='mean_squared_error')"
      ],
      "execution_count": null,
      "outputs": []
    },
    {
      "cell_type": "markdown",
      "metadata": {
        "id": "T5idsP5J5Y5J"
      },
      "source": [
        "Step #4. Start training"
      ]
    },
    {
      "cell_type": "code",
      "metadata": {
        "id": "nzacA8_r5PbQ"
      },
      "source": [
        "%%time\n",
        "es = EarlyStopping(monitor='val_loss', min_delta=1e-10, patience=10, verbose=1)\n",
        "rlr = ReduceLROnPlateau(monitor='val_loss', factor=0.5, patience=10, verbose=1)\n",
        "mcp = ModelCheckpoint(filepath='weights.h5', monitor='val_loss', verbose=1, save_best_only=True, save_weights_only=True)\n",
        "\n",
        "tb = TensorBoard('logs')\n",
        "\n",
        "history = model.fit(X_train, y_train, shuffle=True, epochs=30, callbacks=[es, rlr, mcp, tb], validation_split=0.2, verbose=1, batch_size=256)"
      ],
      "execution_count": null,
      "outputs": []
    },
    {
      "cell_type": "markdown",
      "metadata": {
        "id": "Jm9Q6Jdy5ggq"
      },
      "source": [
        "Notes:\n",
        "EarlyStopping - Stop training when a monitored metric has stopped improving.\n",
        "monitor - quantity to be monitored.\n",
        "min_delta - minimum change in the monitored quantity to qualify as an improvement, i.e. an absolute change of less than min_delta, will count as no improvement.\n",
        "patience - number of epochs with no improvement after which training will be stopped.\n",
        "ReduceLROnPlateau - Reduce learning rate when a metric has stopped improving.\n",
        "factor - factor by which the learning rate will be reduced. new_lr = lr * factor."
      ]
    },
    {
      "cell_type": "markdown",
      "metadata": {
        "id": "2BDzJZo55iGj"
      },
      "source": [
        "The last date for our training set is 30-Dec-2016.\n",
        "We will perform predictions for the next 20 days, since 2017-01-01 to 2017-01-20.\n",
        "\n",
        "PART 3. Make future predictions"
      ]
    },
    {
      "cell_type": "code",
      "metadata": {
        "id": "kDB8S_2m5W6J"
      },
      "source": [
        "# Generate list of sequence of days for predictions\n",
        "datelist_future = pd.date_range(datelist_train[-1], periods=n_future, freq='1d').tolist()\n",
        "\n",
        "'''\n",
        "Remeber, we have datelist_train from begining.\n",
        "'''\n",
        "\n",
        "# Convert Pandas Timestamp to Datetime object (for transformation) --> FUTURE\n",
        "datelist_future_ = []\n",
        "for this_timestamp in datelist_future:\n",
        "    datelist_future_.append(this_timestamp.date())"
      ],
      "execution_count": null,
      "outputs": []
    },
    {
      "cell_type": "markdown",
      "metadata": {
        "id": "x4DTEPFb5q6Z"
      },
      "source": [
        "Step #5. Make predictions for future dates"
      ]
    },
    {
      "cell_type": "code",
      "metadata": {
        "id": "w8OWrUNf5W9B"
      },
      "source": [
        "# Perform predictions\n",
        "predictions_future = model.predict(X_train[-n_future:])\n",
        "\n",
        "predictions_train = model.predict(X_train[n_past:])"
      ],
      "execution_count": null,
      "outputs": []
    },
    {
      "cell_type": "code",
      "metadata": {
        "id": "DJbAX02l5W__"
      },
      "source": [
        "# Inverse the predictions to original measurements\n",
        "\n",
        "# ---> Special function: convert <datetime.date> to <Timestamp>\n",
        "def datetime_to_timestamp(x):\n",
        "    '''\n",
        "        x : a given datetime value (datetime.date)\n",
        "    '''\n",
        "    return datetime.strptime(x.strftime('%Y%m%d'), '%Y%m%d')\n",
        "\n",
        "\n",
        "y_pred_future = sc_predict.inverse_transform(predictions_future)\n",
        "y_pred_train = sc_predict.inverse_transform(predictions_train)\n",
        "\n",
        "PREDICTIONS_FUTURE = pd.DataFrame(y_pred_future, columns=['Open']).set_index(pd.Series(datelist_future))\n",
        "PREDICTION_TRAIN = pd.DataFrame(y_pred_train, columns=['Open']).set_index(pd.Series(datelist_train[2 * n_past + n_future -1:]))\n",
        "\n",
        "# Convert <datetime.date> to <Timestamp> for PREDCITION_TRAIN\n",
        "PREDICTION_TRAIN.index = PREDICTION_TRAIN.index.to_series().apply(datetime_to_timestamp)\n",
        "\n",
        "PREDICTION_TRAIN.head(3)"
      ],
      "execution_count": null,
      "outputs": []
    },
    {
      "cell_type": "markdown",
      "metadata": {
        "id": "i4UwJ7qa5vo5"
      },
      "source": [
        "Step #6. Visualize the Predictions"
      ]
    },
    {
      "cell_type": "code",
      "metadata": {
        "id": "pI_X1w5J5XB5"
      },
      "source": [
        "# Set plot size \n",
        "from pylab import rcParams\n",
        "rcParams['figure.figsize'] = 14, 5\n",
        "\n",
        "# Plot parameters\n",
        "START_DATE_FOR_PLOTTING = '2012-06-01'\n",
        "\n",
        "plt.plot(PREDICTIONS_FUTURE.index, PREDICTIONS_FUTURE['Open'], color='r', label='Predicted Stock Price')\n",
        "plt.plot(PREDICTION_TRAIN.loc[START_DATE_FOR_PLOTTING:].index, PREDICTION_TRAIN.loc[START_DATE_FOR_PLOTTING:]['Open'], color='orange', label='Training predictions')\n",
        "plt.plot(dataset_train.loc[START_DATE_FOR_PLOTTING:].index, dataset_train.loc[START_DATE_FOR_PLOTTING:]['Open'], color='b', label='Actual Stock Price')\n",
        "\n",
        "plt.axvline(x = min(PREDICTIONS_FUTURE.index), color='green', linewidth=2, linestyle='--')\n",
        "\n",
        "plt.grid(which='major', color='#cccccc', alpha=0.5)\n",
        "\n",
        "plt.legend(shadow=True)\n",
        "plt.title('Predcitions and Acutal Stock Prices', family='Arial', fontsize=12)\n",
        "plt.xlabel('Timeline', family='Arial', fontsize=10)\n",
        "plt.ylabel('Stock Price Value', family='Arial', fontsize=10)\n",
        "plt.xticks(rotation=45, fontsize=8)\n",
        "plt.show()"
      ],
      "execution_count": null,
      "outputs": []
    },
    {
      "cell_type": "code",
      "metadata": {
        "id": "Q3DGeFEt5XGO"
      },
      "source": [
        "# Parse training set timestamp for better visualization\n",
        "dataset_train = pd.DataFrame(dataset_train, columns=cols)\n",
        "dataset_train.index = datelist_train\n",
        "dataset_train.index = pd.to_datetime(dataset_train.index)"
      ],
      "execution_count": null,
      "outputs": []
    }
  ]
}