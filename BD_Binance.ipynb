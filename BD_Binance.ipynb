{
  "nbformat": 4,
  "nbformat_minor": 5,
  "metadata": {
    "kernelspec": {
      "display_name": "Python 3 (ipykernel)",
      "language": "python",
      "name": "python3"
    },
    "language_info": {
      "codemirror_mode": {
        "name": "ipython",
        "version": 3
      },
      "file_extension": ".py",
      "mimetype": "text/x-python",
      "name": "python",
      "nbconvert_exporter": "python",
      "pygments_lexer": "ipython3",
      "version": "3.8.12"
    },
    "colab": {
      "name": "BD_Binance.ipynb",
      "provenance": [],
      "collapsed_sections": [],
      "include_colab_link": true
    }
  },
  "cells": [
    {
      "cell_type": "markdown",
      "metadata": {
        "id": "view-in-github",
        "colab_type": "text"
      },
      "source": [
        "<a href=\"https://colab.research.google.com/github/maiaufrrj/BRtrading/blob/main/BD_Binance.ipynb\" target=\"_parent\"><img src=\"https://colab.research.google.com/assets/colab-badge.svg\" alt=\"Open In Colab\"/></a>"
      ]
    },
    {
      "cell_type": "markdown",
      "metadata": {
        "id": "6b91300e-a040-4850-8ee0-8fbbe75a8b7d"
      },
      "source": [
        "referência binance\n",
        "https://www.youtube.com/watch?v=rc_Y6rdBqXM&t=79s"
      ],
      "id": "6b91300e-a040-4850-8ee0-8fbbe75a8b7d"
    },
    {
      "cell_type": "markdown",
      "metadata": {
        "id": "ita6Lrv9e8hh"
      },
      "source": [
        "conectar google colab com sqlite3: https://www.youtube.com/watch?v=3696yt6JWHM"
      ],
      "id": "ita6Lrv9e8hh"
    },
    {
      "cell_type": "code",
      "metadata": {
        "id": "tV4WtNRDLuX7"
      },
      "source": [
        "#! pip install python-binance"
      ],
      "id": "tV4WtNRDLuX7",
      "execution_count": null,
      "outputs": []
    },
    {
      "cell_type": "code",
      "metadata": {
        "id": "04a30600-6462-4cb4-b680-3442ae704e2b"
      },
      "source": [
        "import pandas as pd\n",
        "import sqlalchemy\n",
        "from binance.client import Client\n",
        "from binance import BinanceSocketManager"
      ],
      "id": "04a30600-6462-4cb4-b680-3442ae704e2b",
      "execution_count": null,
      "outputs": []
    },
    {
      "cell_type": "code",
      "metadata": {
        "id": "Tj--aD1VLm78",
        "colab": {
          "base_uri": "https://localhost:8080/"
        },
        "outputId": "9d89de48-153d-4e52-dc26-b5708bdaf60a"
      },
      "source": [
        "from google.colab import drive\n",
        "import warnings\n",
        "warnings.filterwarnings(\"ignore\")\n",
        "drive.mount('/content/drive')"
      ],
      "id": "Tj--aD1VLm78",
      "execution_count": null,
      "outputs": [
        {
          "output_type": "stream",
          "name": "stdout",
          "text": [
            "Drive already mounted at /content/drive; to attempt to forcibly remount, call drive.mount(\"/content/drive\", force_remount=True).\n"
          ]
        }
      ]
    },
    {
      "cell_type": "code",
      "metadata": {
        "id": "6ec3cb83-5726-4c35-a848-635763577616"
      },
      "source": [
        "api_key = 'XXXXXXXXXXXXXXXXXXXXXXXX'\n",
        "api_secret = 'XXXXXXXXXXXXXXXXXXXXXXXX'"
      ],
      "id": "6ec3cb83-5726-4c35-a848-635763577616",
      "execution_count": null,
      "outputs": []
    },
    {
      "cell_type": "code",
      "metadata": {
        "id": "7ce19f0a-f381-4ac0-9c49-0f42a95aef04"
      },
      "source": [
        "client = Client(api_key, api_secret)"
      ],
      "id": "7ce19f0a-f381-4ac0-9c49-0f42a95aef04",
      "execution_count": null,
      "outputs": []
    },
    {
      "cell_type": "code",
      "metadata": {
        "id": "d6409e13-06f8-4eb6-82e9-aea2883407b9"
      },
      "source": [
        "bsm = BinanceSocketManager(client)"
      ],
      "id": "d6409e13-06f8-4eb6-82e9-aea2883407b9",
      "execution_count": null,
      "outputs": []
    },
    {
      "cell_type": "code",
      "metadata": {
        "id": "0975c6da-0f06-4a88-bcf9-5088f87b7ece"
      },
      "source": [
        "socket = bsm.trade_socket('BTCUSDT')"
      ],
      "id": "0975c6da-0f06-4a88-bcf9-5088f87b7ece",
      "execution_count": null,
      "outputs": []
    },
    {
      "cell_type": "code",
      "metadata": {
        "id": "LX2B_eY-M-K8"
      },
      "source": [
        "engine = sqlalchemy.create_engine('sqlite:////content/drive/MyDrive/Colab Notebooks/BTCUSDTstream.db')"
      ],
      "id": "LX2B_eY-M-K8",
      "execution_count": null,
      "outputs": []
    },
    {
      "cell_type": "code",
      "metadata": {
        "id": "2f9980fa-6586-45f7-9ccb-6d1423447c13"
      },
      "source": [
        "def createframe(msg):\n",
        "  df = pd.DataFrame([msg])\n",
        "  df = df.loc[:,['s','E','p']]\n",
        "  df.columns = ['symbol','Time','Price']\n",
        "  df.Price = df.Price.astype(float)\n",
        "  df.Time = pd.to_datetime(df.Time, unit='ms')\n",
        "  return df"
      ],
      "id": "2f9980fa-6586-45f7-9ccb-6d1423447c13",
      "execution_count": null,
      "outputs": []
    },
    {
      "cell_type": "code",
      "metadata": {
        "colab": {
          "base_uri": "https://localhost:8080/"
        },
        "id": "s-YtpUlgnQbP",
        "outputId": "db38bc73-bff2-4cd6-e25b-c0764c78ebf2"
      },
      "source": [
        "msg"
      ],
      "id": "s-YtpUlgnQbP",
      "execution_count": null,
      "outputs": [
        {
          "output_type": "execute_result",
          "data": {
            "text/plain": [
              "<coroutine object ReconnectingWebsocket.recv at 0x7ff06daf84d0>"
            ]
          },
          "metadata": {},
          "execution_count": 49
        }
      ]
    },
    {
      "cell_type": "code",
      "metadata": {
        "id": "3646bd76-24ef-4203-ae9b-82d390b49741"
      },
      "source": [
        "while True:\n",
        "  await socket.__aenter__()\n",
        "  msg = await socket.recv()\n",
        "  frame = createframe(msg)\n",
        "  frame.to_sql('BTCUSDT', engine, if_exists='append', index=False)\n",
        "  print(frame)"
      ],
      "id": "3646bd76-24ef-4203-ae9b-82d390b49741",
      "execution_count": null,
      "outputs": []
    },
    {
      "cell_type": "code",
      "metadata": {
        "id": "d-z86_i8l5IY"
      },
      "source": [
        "#import time\n",
        "#from datetime import datetime\n",
        "\n",
        "#while True:\n",
        "#  time.sleep(1) # Sleep for 1 seconds  \n",
        "#  now = datetime.now()\n",
        "#  print(now)"
      ],
      "id": "d-z86_i8l5IY",
      "execution_count": null,
      "outputs": []
    },
    {
      "cell_type": "code",
      "metadata": {
        "id": "1223aa97-9a3b-47e6-af69-8237f76b86fd"
      },
      "source": [
        "df = pd.read_sql('BTCUSDT', engine)"
      ],
      "id": "1223aa97-9a3b-47e6-af69-8237f76b86fd",
      "execution_count": null,
      "outputs": []
    },
    {
      "cell_type": "code",
      "metadata": {
        "colab": {
          "base_uri": "https://localhost:8080/",
          "height": 206
        },
        "id": "EFRGB2tDergq",
        "outputId": "00d623c2-5f50-49ff-8019-3c4ee1452394"
      },
      "source": [
        "df.head()"
      ],
      "id": "EFRGB2tDergq",
      "execution_count": null,
      "outputs": [
        {
          "output_type": "execute_result",
          "data": {
            "text/html": [
              "<div>\n",
              "<style scoped>\n",
              "    .dataframe tbody tr th:only-of-type {\n",
              "        vertical-align: middle;\n",
              "    }\n",
              "\n",
              "    .dataframe tbody tr th {\n",
              "        vertical-align: top;\n",
              "    }\n",
              "\n",
              "    .dataframe thead th {\n",
              "        text-align: right;\n",
              "    }\n",
              "</style>\n",
              "<table border=\"1\" class=\"dataframe\">\n",
              "  <thead>\n",
              "    <tr style=\"text-align: right;\">\n",
              "      <th></th>\n",
              "      <th>symbol</th>\n",
              "      <th>Time</th>\n",
              "      <th>Price</th>\n",
              "    </tr>\n",
              "  </thead>\n",
              "  <tbody>\n",
              "    <tr>\n",
              "      <th>0</th>\n",
              "      <td>BTCUSDT</td>\n",
              "      <td>2021-11-03 00:35:45.876</td>\n",
              "      <td>63037.42</td>\n",
              "    </tr>\n",
              "    <tr>\n",
              "      <th>1</th>\n",
              "      <td>BTCUSDT</td>\n",
              "      <td>2021-11-03 00:35:45.876</td>\n",
              "      <td>63037.42</td>\n",
              "    </tr>\n",
              "    <tr>\n",
              "      <th>2</th>\n",
              "      <td>BTCUSDT</td>\n",
              "      <td>2021-11-03 00:35:45.919</td>\n",
              "      <td>63037.42</td>\n",
              "    </tr>\n",
              "    <tr>\n",
              "      <th>3</th>\n",
              "      <td>BTCUSDT</td>\n",
              "      <td>2021-11-03 00:35:45.999</td>\n",
              "      <td>63037.42</td>\n",
              "    </tr>\n",
              "    <tr>\n",
              "      <th>4</th>\n",
              "      <td>BTCUSDT</td>\n",
              "      <td>2021-11-03 00:35:46.006</td>\n",
              "      <td>63037.42</td>\n",
              "    </tr>\n",
              "  </tbody>\n",
              "</table>\n",
              "</div>"
            ],
            "text/plain": [
              "    symbol                    Time     Price\n",
              "0  BTCUSDT 2021-11-03 00:35:45.876  63037.42\n",
              "1  BTCUSDT 2021-11-03 00:35:45.876  63037.42\n",
              "2  BTCUSDT 2021-11-03 00:35:45.919  63037.42\n",
              "3  BTCUSDT 2021-11-03 00:35:45.999  63037.42\n",
              "4  BTCUSDT 2021-11-03 00:35:46.006  63037.42"
            ]
          },
          "metadata": {},
          "execution_count": 10
        }
      ]
    },
    {
      "cell_type": "code",
      "metadata": {
        "colab": {
          "base_uri": "https://localhost:8080/",
          "height": 542
        },
        "id": "Q3m9bGmaewih",
        "outputId": "c1791985-e9d1-4686-a603-66f25f3bcffe"
      },
      "source": [
        "import plotly.express as px\n",
        "fig = px.line(df, x=df.Time, y='Price')\n",
        "fig.show()"
      ],
      "id": "Q3m9bGmaewih",
      "execution_count": null,
      "outputs": [
        {
          "output_type": "display_data",
          "data": {
            "text/html": [
              "<html>\n",
              "<head><meta charset=\"utf-8\" /></head>\n",
              "<body>\n",
              "    <div>\n",
              "            <script src=\"https://cdnjs.cloudflare.com/ajax/libs/mathjax/2.7.5/MathJax.js?config=TeX-AMS-MML_SVG\"></script><script type=\"text/javascript\">if (window.MathJax) {MathJax.Hub.Config({SVG: {font: \"STIX-Web\"}});}</script>\n",
              "                <script type=\"text/javascript\">window.PlotlyConfig = {MathJaxConfig: 'local'};</script>\n",
              "        <script src=\"https://cdn.plot.ly/plotly-latest.min.js\"></script>    \n",
              "            <div id=\"5d9b085f-de8b-4be8-8a6c-67977cbfb74a\" class=\"plotly-graph-div\" style=\"height:525px; width:100%;\"></div>\n",
              "            <script type=\"text/javascript\">\n",
              "                \n",
              "                    window.PLOTLYENV=window.PLOTLYENV || {};\n",
              "                    \n",
              "                if (document.getElementById(\"5d9b085f-de8b-4be8-8a6c-67977cbfb74a\")) {\n",
              "                    Plotly.newPlot(\n",
              "                        '5d9b085f-de8b-4be8-8a6c-67977cbfb74a',\n",
              "                        [{\"hoverlabel\": {\"namelength\": 0}, \"hovertemplate\": \"Time=%{x}<br>Price=%{y}\", \"legendgroup\": \"\", \"line\": {\"color\": \"#636efa\", \"dash\": \"solid\"}, \"mode\": \"lines\", \"name\": \"\", \"showlegend\": false, \"type\": \"scatter\", \"x\": [\"2021-11-03T00:35:45.876000\", \"2021-11-03T00:35:45.876000\", \"2021-11-03T00:35:45.919000\", \"2021-11-03T00:35:45.999000\", \"2021-11-03T00:35:46.006000\", \"2021-11-03T00:35:46.007000\", \"2021-11-03T00:35:46.224000\", \"2021-11-03T00:35:46.275000\", \"2021-11-03T00:35:46.278000\", \"2021-11-03T00:35:46.278000\", \"2021-11-03T00:35:46.278000\", \"2021-11-03T00:35:46.278000\", \"2021-11-03T00:35:46.278000\", \"2021-11-03T00:35:46.278000\", \"2021-11-03T00:35:46.278000\", \"2021-11-03T00:35:46.278000\", \"2021-11-03T00:35:46.278000\", \"2021-11-03T00:35:46.278000\", \"2021-11-03T00:35:46.278000\", \"2021-11-03T00:35:46.283000\", \"2021-11-03T00:35:46.283000\", \"2021-11-03T00:35:46.283000\", \"2021-11-03T00:35:46.283000\", \"2021-11-03T00:35:46.283000\", \"2021-11-03T00:35:46.301000\", \"2021-11-03T00:35:46.330000\", \"2021-11-03T00:35:46.386000\", \"2021-11-03T00:35:46.386000\", \"2021-11-03T00:35:46.387000\", \"2021-11-03T00:35:46.439000\", \"2021-11-03T00:35:46.500000\", \"2021-11-03T00:35:46.538000\", \"2021-11-03T00:35:46.549000\", \"2021-11-03T00:35:46.601000\", \"2021-11-03T00:35:46.654000\", \"2021-11-03T00:35:46.708000\", \"2021-11-03T00:35:46.724000\", \"2021-11-03T00:35:46.827000\", \"2021-11-03T00:35:47.037000\", \"2021-11-03T00:35:47.457000\", \"2021-11-03T00:35:47.539000\", \"2021-11-03T00:35:47.539000\", \"2021-11-03T00:35:47.539000\", \"2021-11-03T00:35:47.665000\", \"2021-11-03T00:35:47.705000\", \"2021-11-03T00:35:47.830000\", \"2021-11-03T00:35:47.940000\", \"2021-11-03T00:35:47.940000\", \"2021-11-03T00:35:47.940000\", \"2021-11-03T00:35:47.940000\", \"2021-11-03T00:35:47.940000\", \"2021-11-03T00:35:47.940000\", \"2021-11-03T00:35:47.940000\", \"2021-11-03T00:35:47.940000\", \"2021-11-03T00:35:48.485000\", \"2021-11-03T00:35:48.746000\", \"2021-11-03T00:35:48.901000\", \"2021-11-03T00:35:48.931000\", \"2021-11-03T00:35:48.984000\", \"2021-11-03T00:35:49.034000\", \"2021-11-03T00:35:49.034000\", \"2021-11-03T00:35:49.240000\", \"2021-11-03T00:35:49.240000\", \"2021-11-03T00:35:49.243000\", \"2021-11-03T00:35:49.296000\", \"2021-11-03T00:35:49.383000\"], \"xaxis\": \"x\", \"y\": [63037.42, 63037.42, 63037.42, 63037.42, 63037.42, 63037.42, 63037.43, 63037.43, 63041.26, 63041.28, 63041.29, 63042.65, 63043.52, 63046.55, 63046.56, 63046.56, 63047.57, 63048.0, 63048.04, 63048.04, 63048.04, 63048.05, 63049.6, 63050.04, 63044.92, 63044.92, 63044.93, 63044.93, 63044.92, 63044.92, 63044.92, 63044.93, 63044.92, 63044.92, 63044.93, 63044.92, 63044.92, 63044.93, 63044.93, 63044.92, 63044.92, 63044.92, 63044.92, 63044.92, 63044.93, 63044.93, 63044.92, 63044.92, 63044.92, 63044.92, 63044.92, 63044.92, 63044.9, 63044.88, 63040.0, 63040.01, 63040.0, 63040.0, 63040.01, 63040.0, 63040.0, 63040.0, 63040.0, 63040.0, 63040.01, 63040.0], \"yaxis\": \"y\"}],\n",
              "                        {\"legend\": {\"tracegroupgap\": 0}, \"margin\": {\"t\": 60}, \"template\": {\"data\": {\"bar\": [{\"error_x\": {\"color\": \"#2a3f5f\"}, \"error_y\": {\"color\": \"#2a3f5f\"}, \"marker\": {\"line\": {\"color\": \"#E5ECF6\", \"width\": 0.5}}, \"type\": \"bar\"}], \"barpolar\": [{\"marker\": {\"line\": {\"color\": \"#E5ECF6\", \"width\": 0.5}}, \"type\": \"barpolar\"}], \"carpet\": [{\"aaxis\": {\"endlinecolor\": \"#2a3f5f\", \"gridcolor\": \"white\", \"linecolor\": \"white\", \"minorgridcolor\": \"white\", \"startlinecolor\": \"#2a3f5f\"}, \"baxis\": {\"endlinecolor\": \"#2a3f5f\", \"gridcolor\": \"white\", \"linecolor\": \"white\", \"minorgridcolor\": \"white\", \"startlinecolor\": \"#2a3f5f\"}, \"type\": \"carpet\"}], \"choropleth\": [{\"colorbar\": {\"outlinewidth\": 0, \"ticks\": \"\"}, \"type\": \"choropleth\"}], \"contour\": [{\"colorbar\": {\"outlinewidth\": 0, \"ticks\": \"\"}, \"colorscale\": [[0.0, \"#0d0887\"], [0.1111111111111111, \"#46039f\"], [0.2222222222222222, \"#7201a8\"], [0.3333333333333333, \"#9c179e\"], [0.4444444444444444, \"#bd3786\"], [0.5555555555555556, \"#d8576b\"], [0.6666666666666666, \"#ed7953\"], [0.7777777777777778, \"#fb9f3a\"], [0.8888888888888888, \"#fdca26\"], [1.0, \"#f0f921\"]], \"type\": \"contour\"}], \"contourcarpet\": [{\"colorbar\": {\"outlinewidth\": 0, \"ticks\": \"\"}, \"type\": \"contourcarpet\"}], \"heatmap\": [{\"colorbar\": {\"outlinewidth\": 0, \"ticks\": \"\"}, \"colorscale\": [[0.0, \"#0d0887\"], [0.1111111111111111, \"#46039f\"], [0.2222222222222222, \"#7201a8\"], [0.3333333333333333, \"#9c179e\"], [0.4444444444444444, \"#bd3786\"], [0.5555555555555556, \"#d8576b\"], [0.6666666666666666, \"#ed7953\"], [0.7777777777777778, \"#fb9f3a\"], [0.8888888888888888, \"#fdca26\"], [1.0, \"#f0f921\"]], \"type\": \"heatmap\"}], \"heatmapgl\": [{\"colorbar\": {\"outlinewidth\": 0, \"ticks\": \"\"}, \"colorscale\": [[0.0, \"#0d0887\"], [0.1111111111111111, \"#46039f\"], [0.2222222222222222, \"#7201a8\"], [0.3333333333333333, \"#9c179e\"], [0.4444444444444444, \"#bd3786\"], [0.5555555555555556, \"#d8576b\"], [0.6666666666666666, \"#ed7953\"], [0.7777777777777778, \"#fb9f3a\"], [0.8888888888888888, \"#fdca26\"], [1.0, \"#f0f921\"]], \"type\": \"heatmapgl\"}], \"histogram\": [{\"marker\": {\"colorbar\": {\"outlinewidth\": 0, \"ticks\": \"\"}}, \"type\": \"histogram\"}], \"histogram2d\": [{\"colorbar\": {\"outlinewidth\": 0, \"ticks\": \"\"}, \"colorscale\": [[0.0, \"#0d0887\"], [0.1111111111111111, \"#46039f\"], [0.2222222222222222, \"#7201a8\"], [0.3333333333333333, \"#9c179e\"], [0.4444444444444444, \"#bd3786\"], [0.5555555555555556, \"#d8576b\"], [0.6666666666666666, \"#ed7953\"], [0.7777777777777778, \"#fb9f3a\"], [0.8888888888888888, \"#fdca26\"], [1.0, \"#f0f921\"]], \"type\": \"histogram2d\"}], \"histogram2dcontour\": [{\"colorbar\": {\"outlinewidth\": 0, \"ticks\": \"\"}, \"colorscale\": [[0.0, \"#0d0887\"], [0.1111111111111111, \"#46039f\"], [0.2222222222222222, \"#7201a8\"], [0.3333333333333333, \"#9c179e\"], [0.4444444444444444, \"#bd3786\"], [0.5555555555555556, \"#d8576b\"], [0.6666666666666666, \"#ed7953\"], [0.7777777777777778, \"#fb9f3a\"], [0.8888888888888888, \"#fdca26\"], [1.0, \"#f0f921\"]], \"type\": \"histogram2dcontour\"}], \"mesh3d\": [{\"colorbar\": {\"outlinewidth\": 0, \"ticks\": \"\"}, \"type\": \"mesh3d\"}], \"parcoords\": [{\"line\": {\"colorbar\": {\"outlinewidth\": 0, \"ticks\": \"\"}}, \"type\": \"parcoords\"}], \"pie\": [{\"automargin\": true, \"type\": \"pie\"}], \"scatter\": [{\"marker\": {\"colorbar\": {\"outlinewidth\": 0, \"ticks\": \"\"}}, \"type\": \"scatter\"}], \"scatter3d\": [{\"line\": {\"colorbar\": {\"outlinewidth\": 0, \"ticks\": \"\"}}, \"marker\": {\"colorbar\": {\"outlinewidth\": 0, \"ticks\": \"\"}}, \"type\": \"scatter3d\"}], \"scattercarpet\": [{\"marker\": {\"colorbar\": {\"outlinewidth\": 0, \"ticks\": \"\"}}, \"type\": \"scattercarpet\"}], \"scattergeo\": [{\"marker\": {\"colorbar\": {\"outlinewidth\": 0, \"ticks\": \"\"}}, \"type\": \"scattergeo\"}], \"scattergl\": [{\"marker\": {\"colorbar\": {\"outlinewidth\": 0, \"ticks\": \"\"}}, \"type\": \"scattergl\"}], \"scattermapbox\": [{\"marker\": {\"colorbar\": {\"outlinewidth\": 0, \"ticks\": \"\"}}, \"type\": \"scattermapbox\"}], \"scatterpolar\": [{\"marker\": {\"colorbar\": {\"outlinewidth\": 0, \"ticks\": \"\"}}, \"type\": \"scatterpolar\"}], \"scatterpolargl\": [{\"marker\": {\"colorbar\": {\"outlinewidth\": 0, \"ticks\": \"\"}}, \"type\": \"scatterpolargl\"}], \"scatterternary\": [{\"marker\": {\"colorbar\": {\"outlinewidth\": 0, \"ticks\": \"\"}}, \"type\": \"scatterternary\"}], \"surface\": [{\"colorbar\": {\"outlinewidth\": 0, \"ticks\": \"\"}, \"colorscale\": [[0.0, \"#0d0887\"], [0.1111111111111111, \"#46039f\"], [0.2222222222222222, \"#7201a8\"], [0.3333333333333333, \"#9c179e\"], [0.4444444444444444, \"#bd3786\"], [0.5555555555555556, \"#d8576b\"], [0.6666666666666666, \"#ed7953\"], [0.7777777777777778, \"#fb9f3a\"], [0.8888888888888888, \"#fdca26\"], [1.0, \"#f0f921\"]], \"type\": \"surface\"}], \"table\": [{\"cells\": {\"fill\": {\"color\": \"#EBF0F8\"}, \"line\": {\"color\": \"white\"}}, \"header\": {\"fill\": {\"color\": \"#C8D4E3\"}, \"line\": {\"color\": \"white\"}}, \"type\": \"table\"}]}, \"layout\": {\"annotationdefaults\": {\"arrowcolor\": \"#2a3f5f\", \"arrowhead\": 0, \"arrowwidth\": 1}, \"coloraxis\": {\"colorbar\": {\"outlinewidth\": 0, \"ticks\": \"\"}}, \"colorscale\": {\"diverging\": [[0, \"#8e0152\"], [0.1, \"#c51b7d\"], [0.2, \"#de77ae\"], [0.3, \"#f1b6da\"], [0.4, \"#fde0ef\"], [0.5, \"#f7f7f7\"], [0.6, \"#e6f5d0\"], [0.7, \"#b8e186\"], [0.8, \"#7fbc41\"], [0.9, \"#4d9221\"], [1, \"#276419\"]], \"sequential\": [[0.0, \"#0d0887\"], [0.1111111111111111, \"#46039f\"], [0.2222222222222222, \"#7201a8\"], [0.3333333333333333, \"#9c179e\"], [0.4444444444444444, \"#bd3786\"], [0.5555555555555556, \"#d8576b\"], [0.6666666666666666, \"#ed7953\"], [0.7777777777777778, \"#fb9f3a\"], [0.8888888888888888, \"#fdca26\"], [1.0, \"#f0f921\"]], \"sequentialminus\": [[0.0, \"#0d0887\"], [0.1111111111111111, \"#46039f\"], [0.2222222222222222, \"#7201a8\"], [0.3333333333333333, \"#9c179e\"], [0.4444444444444444, \"#bd3786\"], [0.5555555555555556, \"#d8576b\"], [0.6666666666666666, \"#ed7953\"], [0.7777777777777778, \"#fb9f3a\"], [0.8888888888888888, \"#fdca26\"], [1.0, \"#f0f921\"]]}, \"colorway\": [\"#636efa\", \"#EF553B\", \"#00cc96\", \"#ab63fa\", \"#FFA15A\", \"#19d3f3\", \"#FF6692\", \"#B6E880\", \"#FF97FF\", \"#FECB52\"], \"font\": {\"color\": \"#2a3f5f\"}, \"geo\": {\"bgcolor\": \"white\", \"lakecolor\": \"white\", \"landcolor\": \"#E5ECF6\", \"showlakes\": true, \"showland\": true, \"subunitcolor\": \"white\"}, \"hoverlabel\": {\"align\": \"left\"}, \"hovermode\": \"closest\", \"mapbox\": {\"style\": \"light\"}, \"paper_bgcolor\": \"white\", \"plot_bgcolor\": \"#E5ECF6\", \"polar\": {\"angularaxis\": {\"gridcolor\": \"white\", \"linecolor\": \"white\", \"ticks\": \"\"}, \"bgcolor\": \"#E5ECF6\", \"radialaxis\": {\"gridcolor\": \"white\", \"linecolor\": \"white\", \"ticks\": \"\"}}, \"scene\": {\"xaxis\": {\"backgroundcolor\": \"#E5ECF6\", \"gridcolor\": \"white\", \"gridwidth\": 2, \"linecolor\": \"white\", \"showbackground\": true, \"ticks\": \"\", \"zerolinecolor\": \"white\"}, \"yaxis\": {\"backgroundcolor\": \"#E5ECF6\", \"gridcolor\": \"white\", \"gridwidth\": 2, \"linecolor\": \"white\", \"showbackground\": true, \"ticks\": \"\", \"zerolinecolor\": \"white\"}, \"zaxis\": {\"backgroundcolor\": \"#E5ECF6\", \"gridcolor\": \"white\", \"gridwidth\": 2, \"linecolor\": \"white\", \"showbackground\": true, \"ticks\": \"\", \"zerolinecolor\": \"white\"}}, \"shapedefaults\": {\"line\": {\"color\": \"#2a3f5f\"}}, \"ternary\": {\"aaxis\": {\"gridcolor\": \"white\", \"linecolor\": \"white\", \"ticks\": \"\"}, \"baxis\": {\"gridcolor\": \"white\", \"linecolor\": \"white\", \"ticks\": \"\"}, \"bgcolor\": \"#E5ECF6\", \"caxis\": {\"gridcolor\": \"white\", \"linecolor\": \"white\", \"ticks\": \"\"}}, \"title\": {\"x\": 0.05}, \"xaxis\": {\"automargin\": true, \"gridcolor\": \"white\", \"linecolor\": \"white\", \"ticks\": \"\", \"title\": {\"standoff\": 15}, \"zerolinecolor\": \"white\", \"zerolinewidth\": 2}, \"yaxis\": {\"automargin\": true, \"gridcolor\": \"white\", \"linecolor\": \"white\", \"ticks\": \"\", \"title\": {\"standoff\": 15}, \"zerolinecolor\": \"white\", \"zerolinewidth\": 2}}}, \"xaxis\": {\"anchor\": \"y\", \"domain\": [0.0, 1.0], \"title\": {\"text\": \"Time\"}}, \"yaxis\": {\"anchor\": \"x\", \"domain\": [0.0, 1.0], \"title\": {\"text\": \"Price\"}}},\n",
              "                        {\"responsive\": true}\n",
              "                    ).then(function(){\n",
              "                            \n",
              "var gd = document.getElementById('5d9b085f-de8b-4be8-8a6c-67977cbfb74a');\n",
              "var x = new MutationObserver(function (mutations, observer) {{\n",
              "        var display = window.getComputedStyle(gd).display;\n",
              "        if (!display || display === 'none') {{\n",
              "            console.log([gd, 'removed!']);\n",
              "            Plotly.purge(gd);\n",
              "            observer.disconnect();\n",
              "        }}\n",
              "}});\n",
              "\n",
              "// Listen for the removal of the full notebook cells\n",
              "var notebookContainer = gd.closest('#notebook-container');\n",
              "if (notebookContainer) {{\n",
              "    x.observe(notebookContainer, {childList: true});\n",
              "}}\n",
              "\n",
              "// Listen for the clearing of the current output cell\n",
              "var outputEl = gd.closest('.output');\n",
              "if (outputEl) {{\n",
              "    x.observe(outputEl, {childList: true});\n",
              "}}\n",
              "\n",
              "                        })\n",
              "                };\n",
              "                \n",
              "            </script>\n",
              "        </div>\n",
              "</body>\n",
              "</html>"
            ]
          },
          "metadata": {}
        }
      ]
    },
    {
      "cell_type": "code",
      "metadata": {
        "id": "p_SB7Dd8ewlx"
      },
      "source": [
        "#seguidor de tendência\n",
        "#se o ticker subir x% ==> comprar\n",
        "#sair se o lucro estiver acima de 0.15% ou se a perda for de -0.15%"
      ],
      "id": "p_SB7Dd8ewlx",
      "execution_count": null,
      "outputs": []
    },
    {
      "cell_type": "code",
      "metadata": {
        "id": "J1UK-l4vewow"
      },
      "source": [
        "def estrategia1(entrada, lookback, qty, open_position=False, stop_position):\n",
        "  while True:\n",
        "    df = pd.read_sql('BTCUSDT', engine)\n",
        "    lookbackperiod = df.iloc[-lookback:]\n",
        "    retorno_acumulado = (lookbackperiod.Price.pct_change()+1).cumprod()-1\n",
        "    if not open_position:\n",
        "      if retorno_acumulado[retorno_acumulado.last_valid_index()] > entrada:\n",
        "        order=client.create_order(symbol='BTCUSDT',\n",
        "                                  side='BUY',\n",
        "                                  type='MARKET',\n",
        "                                  quantity=qty)\n",
        "        print(order)\n",
        "        open_position = True\n",
        "        break\n",
        "  if open_position:\n",
        "    while True:\n",
        "      df = pd.read_sql('BTCUSDT', engine)\n",
        "      sincebuy = df.loc[df.Time > pd.to_datetime(order['transactTime', unit='ms'])]\n",
        "      if len(sincebuy) > 1:\n",
        "        sincebuyret = sincebuy.Price.pct-change()+1).cumprod()-1\n",
        "        last_entry = sincebuyret[sincebuyret.last_valid_index()]\n",
        "        if sincebuyret> stop_position or last_entry < -stop_position:\n",
        "          order=client.create_order(symbol='BTCUSDT',\n",
        "                                  side='SELL',\n",
        "                                  type='MARKET',\n",
        "                                  quantity=qty)\n",
        "          \n",
        "          print(order)\n",
        "          break"
      ],
      "id": "J1UK-l4vewow",
      "execution_count": null,
      "outputs": []
    },
    {
      "cell_type": "code",
      "metadata": {
        "id": "FyVop43GhGJC"
      },
      "source": [
        "estrategia1(entrada=0.001,lookback=60, qty=0.001, stop_position=0.0015)"
      ],
      "id": "FyVop43GhGJC",
      "execution_count": null,
      "outputs": []
    },
    {
      "cell_type": "code",
      "metadata": {
        "id": "z7gSPdfbhGL4"
      },
      "source": [
        ""
      ],
      "id": "z7gSPdfbhGL4",
      "execution_count": null,
      "outputs": []
    },
    {
      "cell_type": "code",
      "metadata": {
        "id": "sEtKbPKohGOo"
      },
      "source": [
        ""
      ],
      "id": "sEtKbPKohGOo",
      "execution_count": null,
      "outputs": []
    }
  ]
}